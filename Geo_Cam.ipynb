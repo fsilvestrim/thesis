{
  "nbformat": 4,
  "nbformat_minor": 0,
  "metadata": {
    "colab": {
      "name": "Geo-Cam.ipynb",
      "provenance": [],
      "collapsed_sections": [],
      "toc_visible": true,
      "authorship_tag": "ABX9TyOKBmLQU1fsHOgbrdVb6B5a",
      "include_colab_link": true
    },
    "kernelspec": {
      "name": "python3",
      "display_name": "Python 3"
    },
    "accelerator": "GPU"
  },
  "cells": [
    {
      "cell_type": "markdown",
      "metadata": {
        "id": "view-in-github",
        "colab_type": "text"
      },
      "source": [
        "<a href=\"https://colab.research.google.com/github/fsilvestrim/thesis/blob/master/Geo_Cam.ipynb\" target=\"_parent\"><img src=\"https://colab.research.google.com/assets/colab-badge.svg\" alt=\"Open In Colab\"/></a>"
      ]
    },
    {
      "cell_type": "markdown",
      "metadata": {
        "id": "cB_AS_K_X5J0"
      },
      "source": [
        "# Utils"
      ]
    },
    {
      "cell_type": "code",
      "metadata": {
        "id": "W2x-VCBnFz5h"
      },
      "source": [
        "import random\n",
        "import numpy as np\n",
        "import scipy as sp\n",
        "import pickle\n",
        "import cv2\n",
        "\n",
        "from matplotlib import cm\n",
        "import matplotlib.pyplot as plt\n",
        "import matplotlib.image as mpimg\n",
        "import matplotlib.pyplot as plt\n",
        "\n",
        "%matplotlib inline"
      ],
      "execution_count": null,
      "outputs": []
    },
    {
      "cell_type": "code",
      "metadata": {
        "colab": {
          "base_uri": "https://localhost:8080/"
        },
        "id": "BvhCa24vLZ--",
        "outputId": "898800af-2b5b-4954-b37a-5666f0d501a3"
      },
      "source": [
        "%tensorflow_version 2.x\n",
        "\n",
        "import tensorflow as tf\n",
        "\n",
        "from tensorflow import keras\n",
        "from keras import backend as K\n",
        "from tensorflow.keras import layers\n",
        "from tensorflow.keras.models import Model\n",
        "from tensorflow.python.framework.ops import disable_eager_execution\n",
        "from tensorflow.python.framework.ops import enable_eager_execution\n",
        "\n",
        "#disable_eager_execution()\n",
        "enable_eager_execution()\n",
        "print('Eager mode: %s' % tf.executing_eagerly())\n",
        "\n",
        "device_name = tf.test.gpu_device_name()\n",
        "\n",
        "if device_name != '/device:GPU:0':\n",
        "  raise SystemError('GPU device not found')\n",
        "\n",
        "print('Found GPU at: {}'.format(device_name))"
      ],
      "execution_count": null,
      "outputs": [
        {
          "output_type": "stream",
          "text": [
            "Eager mode: True\n",
            "Found GPU at: /device:GPU:0\n"
          ],
          "name": "stdout"
        }
      ]
    },
    {
      "cell_type": "code",
      "metadata": {
        "id": "TrovwQHTWrlB"
      },
      "source": [
        "def show_prediction(image, label, prediction):\n",
        "  plt.figure(facecolor='white')\n",
        "  ax = plt.gca()\n",
        "  ax.set_xticklabels([])\n",
        "  ax.set_yticklabels([])\n",
        "  plt.imshow(image.reshape(28, 28), cmap='Greys')\n",
        "  plt.title(\"Prediction: %s / Truth: %s\" % (np.argmax(prediction), label))\n",
        "  plt.show()"
      ],
      "execution_count": null,
      "outputs": []
    },
    {
      "cell_type": "code",
      "metadata": {
        "id": "LNQAoOL5jlVC"
      },
      "source": [
        "def get_heatmap(cam, size, resize=True):\n",
        "  heatmap = cam / np.max(cam)\n",
        " \n",
        "  if resize:\n",
        "    height_zoom = size[1] / cam.shape[0]\n",
        "    width_zoom = size[0] / cam.shape[1]\n",
        "    heatmap = sp.ndimage.zoom(cam, (height_zoom, width_zoom), order=2)\n",
        " \n",
        "  return heatmap"
      ],
      "execution_count": null,
      "outputs": []
    },
    {
      "cell_type": "code",
      "metadata": {
        "id": "Ya25j5pbZoq2"
      },
      "source": [
        "def show_heatmap(img, cam, size, resize=True, title=None):\n",
        "  img = img.reshape(size[0], size[1])\n",
        "  heatmap = get_heatmap(cam, size, resize)\n",
        "\n",
        "  # plot\n",
        "  plt.figure(facecolor='white')\n",
        "  ax = plt.gca()\n",
        "  ax.set_xticklabels([])\n",
        "  ax.set_yticklabels([])\n",
        "  plt.imshow(img, alpha=0.5, cmap='Greys')\n",
        "  plt.imshow(heatmap, cmap='jet', alpha=0.5)\n",
        "  \n",
        "  if title is not None:\n",
        "    plt.title(title)\n",
        "  \n",
        "  plt.show()  "
      ],
      "execution_count": null,
      "outputs": []
    },
    {
      "cell_type": "code",
      "metadata": {
        "id": "LF2nobFe76jK"
      },
      "source": [
        "def plot_model_score(score, history):\n",
        "  plt.figure(facecolor='white')\n",
        "  plt.plot(history['loss'])\n",
        "  plt.plot(history['val_loss'])\n",
        "  plt.ylabel('Loss')\n",
        "  plt.xlabel('Epoch')\n",
        "  plt.legend(['Train', 'Validation'], loc='upper left')\n",
        "  plt.title(\"Loss: %.5f vs. Accuracy: %.5f\" % (score[0], score[1]))\n",
        "  plt.show() "
      ],
      "execution_count": null,
      "outputs": []
    },
    {
      "cell_type": "code",
      "metadata": {
        "id": "PARsNtG47nUc"
      },
      "source": [
        "def load_model(name):\n",
        "  model = keras.models.load_model(\"saved_model_%s\" % name)\n",
        "  history = pickle.load(open('saved_model_%s/history' % name, \"rb\"))\n",
        "\n",
        "  return model, history"
      ],
      "execution_count": null,
      "outputs": []
    },
    {
      "cell_type": "code",
      "metadata": {
        "id": "eQiN2YfH66oZ"
      },
      "source": [
        "def save_model(model, history, name):\n",
        "  model.save(\"saved_model_%s\" % name)\n",
        "\n",
        "  with open('saved_model_%s/history' % name, 'wb') as file_pi:\n",
        "    pickle.dump(history.history, file_pi)"
      ],
      "execution_count": null,
      "outputs": []
    },
    {
      "cell_type": "code",
      "metadata": {
        "id": "9y0SKay9zUyh"
      },
      "source": [
        "def get_cam_layers(model):\n",
        "  last_conv_layer = None\n",
        "  last_layers = []\n",
        "  conv_layers = []\n",
        "  for layer in reversed(model.layers):\n",
        "      # check to see if the layer has a 4D output\n",
        "      if len(layer.output_shape) == 4 and last_conv_layer is None:\n",
        "        last_conv_layer = layer\n",
        "        # print(\"Last Conv Layer: %s, filters %s\" % (layer.name, layer.filters))\n",
        "\n",
        "      if last_conv_layer is not None:\n",
        "        conv_layers.insert(0, layer)\n",
        "      else:\n",
        "        last_layers.insert(0, layer)\n",
        "\n",
        "  return conv_layers, last_layers"
      ],
      "execution_count": null,
      "outputs": []
    },
    {
      "cell_type": "code",
      "metadata": {
        "id": "CfQxjWHqzuoI"
      },
      "source": [
        "def get_prediction(model, test, idx=-1):\n",
        "  if idx < 0:\n",
        "    idx = random.randint(0, len(test[0]))\n",
        "\n",
        "  image = test[0][idx]\n",
        "  label = np.argmax(test[1][idx])\n",
        "  prediction = model.predict(np.expand_dims(image, 0))\n",
        "\n",
        "  return image, label, prediction, idx"
      ],
      "execution_count": null,
      "outputs": []
    },
    {
      "cell_type": "code",
      "metadata": {
        "id": "wIXXoT0p0I3M"
      },
      "source": [
        "def format_dataset(num_classes, train, test):\n",
        "  (x_train, y_train), (x_test, y_test) = train, test\n",
        "\n",
        "  print(x_train[0].shape)\n",
        "  print(y_train[0])\n",
        "\n",
        "  # Scale images to the [0, 1] range\n",
        "  x_train = x_train.astype(\"float32\") / 255\n",
        "  x_test = x_test.astype(\"float32\") / 255\n",
        "\n",
        "  # Make sure images have shape (28, 28, 1)\n",
        "  x_train = np.expand_dims(x_train, -1)\n",
        "  x_test = np.expand_dims(x_test, -1)\n",
        "\n",
        "  print(\"x_train shape:\", x_train.shape)\n",
        "  print(x_train.shape[0], \"train samples\")\n",
        "  print(x_test.shape[0], \"test samples\")\n",
        "\n",
        "  # convert class vectors to binary class matrices\n",
        "  y_train = keras.utils.to_categorical(y_train, num_classes)\n",
        "  y_test = keras.utils.to_categorical(y_test, num_classes)\n",
        "\n",
        "  return (x_train, y_train), (x_test, y_test)"
      ],
      "execution_count": null,
      "outputs": []
    },
    {
      "cell_type": "markdown",
      "metadata": {
        "id": "Okm2rbgeJNSD"
      },
      "source": [
        "#MNIST"
      ]
    },
    {
      "cell_type": "code",
      "metadata": {
        "id": "rTNjOPRWJRz1",
        "colab": {
          "base_uri": "https://localhost:8080/"
        },
        "outputId": "f6a68c6f-e72b-4d36-cd98-e1d78c466c25"
      },
      "source": [
        "mnist_train, mnist_test = keras.datasets.mnist.load_data()\n",
        "mnist_train, mnist_test = format_dataset(10, mnist_train, mnist_test)\n",
        "\n",
        "def create_mnist_model(name, input_shape, num_classes, train=None):\n",
        "  model = keras.Sequential(\n",
        "      [\n",
        "          keras.Input(shape=input_shape),\n",
        "      \n",
        "          layers.Conv2D(filters=32, kernel_size=(3, 3), activation=\"relu\"),\n",
        "          layers.MaxPooling2D(pool_size=(2, 2), strides=(2,2)),\n",
        "      \n",
        "          layers.Conv2D(filters=64, kernel_size=(3, 3), activation=\"relu\"),\n",
        "          layers.MaxPooling2D(pool_size=(2, 2), strides=(2,2)),\n",
        "          layers.Dropout(0.5),\n",
        "      \n",
        "          layers.Conv2D(filters=128, kernel_size=(3, 3), activation=\"relu\"),\n",
        "          layers.GlobalAveragePooling2D(),\n",
        "          \n",
        "          layers.Dense(num_classes, activation=\"softmax\"),\n",
        "      ]\n",
        "  )\n",
        "\n",
        "  model.compile(loss=\"categorical_crossentropy\", optimizer=\"adam\", metrics=[\"accuracy\"])\n",
        "\n",
        "  return model"
      ],
      "execution_count": null,
      "outputs": [
        {
          "output_type": "stream",
          "text": [
            "Downloading data from https://storage.googleapis.com/tensorflow/tf-keras-datasets/mnist.npz\n",
            "11493376/11490434 [==============================] - 0s 0us/step\n",
            "(28, 28)\n",
            "5\n",
            "x_train shape: (60000, 28, 28, 1)\n",
            "60000 train samples\n",
            "10000 test samples\n"
          ],
          "name": "stdout"
        }
      ]
    },
    {
      "cell_type": "code",
      "metadata": {
        "colab": {
          "base_uri": "https://localhost:8080/",
          "height": 1000
        },
        "id": "_UUVTSfOKsh2",
        "outputId": "777118fe-6146-4f9f-e881-1f535cf71df5"
      },
      "source": [
        "model_mnist = create_mnist_model(\"gap_shallow\", (28, 28, 1), 10, mnist_train)\n",
        "\n",
        "# model_mnist, history_mnist = load_model(\"gap_shallow\")\n",
        "history_mnist = model_mnist.fit(mnist_train[0], mnist_train[1], batch_size=128, epochs=15, validation_split=0.1)\n",
        "# save_model(model_mnist, history_mnist, \"gap_shallow\")\n",
        "\n",
        "model_mnist.summary()\n",
        "score_mnist = model_mnist.evaluate(mnist_test[0], mnist_test[1], verbose=0)\n",
        "\n",
        "plot_model_score(score_mnist, history_mnist.history)"
      ],
      "execution_count": null,
      "outputs": [
        {
          "output_type": "stream",
          "text": [
            "Epoch 1/15\n",
            "422/422 [==============================] - 9s 6ms/step - loss: 1.0055 - accuracy: 0.6708 - val_loss: 0.1288 - val_accuracy: 0.9628\n",
            "Epoch 2/15\n",
            "422/422 [==============================] - 2s 5ms/step - loss: 0.1792 - accuracy: 0.9454 - val_loss: 0.0793 - val_accuracy: 0.9767\n",
            "Epoch 3/15\n",
            "422/422 [==============================] - 2s 5ms/step - loss: 0.1286 - accuracy: 0.9592 - val_loss: 0.0733 - val_accuracy: 0.9803\n",
            "Epoch 4/15\n",
            "422/422 [==============================] - 2s 5ms/step - loss: 0.0996 - accuracy: 0.9692 - val_loss: 0.0546 - val_accuracy: 0.9847\n",
            "Epoch 5/15\n",
            "422/422 [==============================] - 2s 5ms/step - loss: 0.0826 - accuracy: 0.9750 - val_loss: 0.0450 - val_accuracy: 0.9877\n",
            "Epoch 6/15\n",
            "422/422 [==============================] - 2s 5ms/step - loss: 0.0699 - accuracy: 0.9784 - val_loss: 0.0373 - val_accuracy: 0.9895\n",
            "Epoch 7/15\n",
            "422/422 [==============================] - 2s 5ms/step - loss: 0.0629 - accuracy: 0.9801 - val_loss: 0.0454 - val_accuracy: 0.9857\n",
            "Epoch 8/15\n",
            "422/422 [==============================] - 2s 5ms/step - loss: 0.0555 - accuracy: 0.9831 - val_loss: 0.0374 - val_accuracy: 0.9873\n",
            "Epoch 9/15\n",
            "422/422 [==============================] - 2s 5ms/step - loss: 0.0504 - accuracy: 0.9838 - val_loss: 0.0329 - val_accuracy: 0.9913\n",
            "Epoch 10/15\n",
            "422/422 [==============================] - 2s 5ms/step - loss: 0.0482 - accuracy: 0.9841 - val_loss: 0.0354 - val_accuracy: 0.9883\n",
            "Epoch 11/15\n",
            "422/422 [==============================] - 2s 5ms/step - loss: 0.0430 - accuracy: 0.9862 - val_loss: 0.0327 - val_accuracy: 0.9913\n",
            "Epoch 12/15\n",
            "422/422 [==============================] - 2s 5ms/step - loss: 0.0394 - accuracy: 0.9871 - val_loss: 0.0324 - val_accuracy: 0.9890\n",
            "Epoch 13/15\n",
            "422/422 [==============================] - 2s 5ms/step - loss: 0.0382 - accuracy: 0.9879 - val_loss: 0.0299 - val_accuracy: 0.9907\n",
            "Epoch 14/15\n",
            "422/422 [==============================] - 2s 5ms/step - loss: 0.0374 - accuracy: 0.9876 - val_loss: 0.0324 - val_accuracy: 0.9905\n",
            "Epoch 15/15\n",
            "422/422 [==============================] - 2s 5ms/step - loss: 0.0331 - accuracy: 0.9890 - val_loss: 0.0253 - val_accuracy: 0.9933\n",
            "Model: \"sequential\"\n",
            "_________________________________________________________________\n",
            "Layer (type)                 Output Shape              Param #   \n",
            "=================================================================\n",
            "conv2d (Conv2D)              (None, 26, 26, 32)        320       \n",
            "_________________________________________________________________\n",
            "max_pooling2d (MaxPooling2D) (None, 13, 13, 32)        0         \n",
            "_________________________________________________________________\n",
            "conv2d_1 (Conv2D)            (None, 11, 11, 64)        18496     \n",
            "_________________________________________________________________\n",
            "max_pooling2d_1 (MaxPooling2 (None, 5, 5, 64)          0         \n",
            "_________________________________________________________________\n",
            "dropout (Dropout)            (None, 5, 5, 64)          0         \n",
            "_________________________________________________________________\n",
            "conv2d_2 (Conv2D)            (None, 3, 3, 128)         73856     \n",
            "_________________________________________________________________\n",
            "global_average_pooling2d (Gl (None, 128)               0         \n",
            "_________________________________________________________________\n",
            "dense (Dense)                (None, 10)                1290      \n",
            "=================================================================\n",
            "Total params: 93,962\n",
            "Trainable params: 93,962\n",
            "Non-trainable params: 0\n",
            "_________________________________________________________________\n"
          ],
          "name": "stdout"
        },
        {
          "output_type": "display_data",
          "data": {
            "image/png": "[encoded data removed]",
            "text/plain": [
              "<Figure size 432x288 with 1 Axes>"
            ]
          },
          "metadata": {
            "tags": []
          }
        }
      ]
    },
    {
      "cell_type": "code",
      "metadata": {
        "colab": {
          "base_uri": "https://localhost:8080/",
          "height": 268
        },
        "id": "--_Cb0cwMTsl",
        "outputId": "b1d0f480-2872-4009-c7bb-a1560cc655ee"
      },
      "source": [
        "image, label, prediction, _ = get_prediction(model_mnist, mnist_test)\n",
        "show_prediction(image, label, prediction)"
      ],
      "execution_count": null,
      "outputs": [
        {
          "output_type": "display_data",
          "data": {
            "image/png": "[encoded data removed]",
            "text/plain": [
              "<Figure size 432x288 with 1 Axes>"
            ]
          },
          "metadata": {
            "tags": []
          }
        }
      ]
    },
    {
      "cell_type": "markdown",
      "metadata": {
        "id": "ZAVIlq5GvHoU"
      },
      "source": [
        "#GEO"
      ]
    },
    {
      "cell_type": "code",
      "metadata": {
        "id": "fknmrIpWvKQJ"
      },
      "source": [
        "def get_geo_dataset():\n",
        "  path = tf.keras.utils.get_file(\"geocam2\", \"https://geo-cam.s3-eu-west-1.amazonaws.com/geocam.npz\")\n",
        "  with np.load(path, allow_pickle=True) as f:\n",
        "    x_train, y_train = f['x_train'], f['y_train']\n",
        "    x_test, y_test = f['x_test'], f['y_test']\n",
        "\n",
        "    return (x_train, y_train), (x_test, y_test)"
      ],
      "execution_count": null,
      "outputs": []
    },
    {
      "cell_type": "code",
      "metadata": {
        "colab": {
          "base_uri": "https://localhost:8080/"
        },
        "id": "IAZ-zvCO7eQO",
        "outputId": "bada1064-69bd-403e-dbfd-7edc32377666"
      },
      "source": [
        "geo_train, geo_test = get_geo_dataset()\n",
        "geo_train, geo_test = format_dataset(3, geo_train, geo_test)\n",
        "\n",
        "def create_geo_model(name, input_shape, num_classes):\n",
        "  model = keras.Sequential(\n",
        "      [\n",
        "          keras.Input(shape=input_shape),\n",
        "      \n",
        "          layers.Conv2D(filters=32, kernel_size=(3, 3), padding=\"same\", activation=\"relu\"),\n",
        "          # layers.MaxPooling2D(pool_size=(2, 2), strides=(2,2)),\n",
        "      \n",
        "          layers.Conv2D(filters=64, kernel_size=(3, 3), padding=\"same\", activation=\"relu\"),\n",
        "       \n",
        "          # layers.MaxPooling2D(pool_size=(2, 2), strides=(2,2)),\n",
        "          layers.Dropout(0.3),\n",
        "      \n",
        "          layers.Conv2D(filters=128, kernel_size=(3, 3), padding=\"same\", activation=\"relu\"),\n",
        "          layers.GlobalAveragePooling2D(),\n",
        "          \n",
        "          layers.Dense(num_classes, activation=\"softmax\"),\n",
        "      ]\n",
        "  )\n",
        "\n",
        "  model.compile(loss=\"categorical_crossentropy\", optimizer=\"adam\", metrics=[\"accuracy\"])\n",
        "\n",
        "  return model"
      ],
      "execution_count": null,
      "outputs": [
        {
          "output_type": "stream",
          "text": [
            "(28, 28)\n",
            "2\n",
            "x_train shape: (2100, 28, 28, 1)\n",
            "2100 train samples\n",
            "900 test samples\n"
          ],
          "name": "stdout"
        }
      ]
    },
    {
      "cell_type": "code",
      "metadata": {
        "colab": {
          "base_uri": "https://localhost:8080/",
          "height": 1000
        },
        "id": "fi-GBD6n70bH",
        "outputId": "aff8f377-df89-4d67-edbd-f3c3576a676e"
      },
      "source": [
        "model_geo = create_geo_model(\"geocam\", (28, 28, 1), 3)\n",
        "# model_geo, history_geo = load_model(\"geo\")\n",
        "\n",
        "history_geo = model_geo.fit(geo_train[0], geo_train[1], batch_size=128, epochs=15, validation_split=0.1)\n",
        "# save_model(model_geo, history_geo, \"geo\")\n",
        "\n",
        "model_geo.summary()\n",
        "score_geo = model_geo.evaluate(geo_test[0], geo_test[1], verbose=0)\n",
        "\n",
        "plot_model_score(score_geo, history_geo.history)"
      ],
      "execution_count": null,
      "outputs": [
        {
          "output_type": "stream",
          "text": [
            "Epoch 1/15\n",
            "15/15 [==============================] - 1s 34ms/step - loss: 1.0771 - accuracy: 0.3296 - val_loss: 1.0033 - val_accuracy: 0.3095\n",
            "Epoch 2/15\n",
            "15/15 [==============================] - 0s 14ms/step - loss: 0.9775 - accuracy: 0.3896 - val_loss: 0.7555 - val_accuracy: 0.8524\n",
            "Epoch 3/15\n",
            "15/15 [==============================] - 0s 14ms/step - loss: 0.6386 - accuracy: 0.9272 - val_loss: 0.2501 - val_accuracy: 0.9524\n",
            "Epoch 4/15\n",
            "15/15 [==============================] - 0s 14ms/step - loss: 0.2003 - accuracy: 0.9568 - val_loss: 0.1186 - val_accuracy: 0.9810\n",
            "Epoch 5/15\n",
            "15/15 [==============================] - 0s 15ms/step - loss: 0.0873 - accuracy: 0.9887 - val_loss: 0.0622 - val_accuracy: 0.9810\n",
            "Epoch 6/15\n",
            "15/15 [==============================] - 0s 14ms/step - loss: 0.0497 - accuracy: 0.9917 - val_loss: 0.0357 - val_accuracy: 0.9952\n",
            "Epoch 7/15\n",
            "15/15 [==============================] - 0s 14ms/step - loss: 0.0320 - accuracy: 0.9945 - val_loss: 0.0311 - val_accuracy: 0.9952\n",
            "Epoch 8/15\n",
            "15/15 [==============================] - 0s 14ms/step - loss: 0.0201 - accuracy: 0.9982 - val_loss: 0.0208 - val_accuracy: 0.9952\n",
            "Epoch 9/15\n",
            "15/15 [==============================] - 0s 15ms/step - loss: 0.0204 - accuracy: 0.9959 - val_loss: 0.0182 - val_accuracy: 0.9952\n",
            "Epoch 10/15\n",
            "15/15 [==============================] - 0s 15ms/step - loss: 0.0144 - accuracy: 0.9984 - val_loss: 0.0153 - val_accuracy: 0.9952\n",
            "Epoch 11/15\n",
            "15/15 [==============================] - 0s 14ms/step - loss: 0.0147 - accuracy: 0.9973 - val_loss: 0.0136 - val_accuracy: 0.9952\n",
            "Epoch 12/15\n",
            "15/15 [==============================] - 0s 14ms/step - loss: 0.0102 - accuracy: 0.9991 - val_loss: 0.0107 - val_accuracy: 0.9952\n",
            "Epoch 13/15\n",
            "15/15 [==============================] - 0s 14ms/step - loss: 0.0116 - accuracy: 0.9979 - val_loss: 0.0096 - val_accuracy: 1.0000\n",
            "Epoch 14/15\n",
            "15/15 [==============================] - 0s 14ms/step - loss: 0.0081 - accuracy: 0.9992 - val_loss: 0.0091 - val_accuracy: 1.0000\n",
            "Epoch 15/15\n",
            "15/15 [==============================] - 0s 14ms/step - loss: 0.0075 - accuracy: 0.9988 - val_loss: 0.0082 - val_accuracy: 0.9952\n",
            "Model: \"sequential_5\"\n",
            "_________________________________________________________________\n",
            "Layer (type)                 Output Shape              Param #   \n",
            "=================================================================\n",
            "conv2d_9 (Conv2D)            (None, 28, 28, 32)        320       \n",
            "_________________________________________________________________\n",
            "conv2d_10 (Conv2D)           (None, 28, 28, 64)        18496     \n",
            "_________________________________________________________________\n",
            "dropout_3 (Dropout)          (None, 28, 28, 64)        0         \n",
            "_________________________________________________________________\n",
            "conv2d_11 (Conv2D)           (None, 28, 28, 128)       73856     \n",
            "_________________________________________________________________\n",
            "global_average_pooling2d_3 ( (None, 128)               0         \n",
            "_________________________________________________________________\n",
            "dense_3 (Dense)              (None, 3)                 387       \n",
            "=================================================================\n",
            "Total params: 93,059\n",
            "Trainable params: 93,059\n",
            "Non-trainable params: 0\n",
            "_________________________________________________________________\n"
          ],
          "name": "stdout"
        },
        {
          "output_type": "display_data",
          "data": {
            "image/png": "[encoded data removed]",
            "text/plain": [
              "<Figure size 432x288 with 1 Axes>"
            ]
          },
          "metadata": {
            "tags": []
          }
        }
      ]
    },
    {
      "cell_type": "code",
      "metadata": {
        "colab": {
          "base_uri": "https://localhost:8080/",
          "height": 268
        },
        "id": "Io6EtCTU-Gwn",
        "outputId": "c90c4cb7-3814-44c8-8f41-79d680b57c17"
      },
      "source": [
        "image, label, prediction, _ = get_prediction(model_geo, geo_test)\n",
        "show_prediction(image, label, prediction)"
      ],
      "execution_count": null,
      "outputs": [
        {
          "output_type": "display_data",
          "data": {
            "image/png": "[encoded data removed]",
            "text/plain": [
              "<Figure size 432x288 with 1 Axes>"
            ]
          },
          "metadata": {
            "tags": []
          }
        }
      ]
    },
    {
      "cell_type": "markdown",
      "metadata": {
        "id": "2qfZh1ixKzXR"
      },
      "source": [
        "#Prototype\n"
      ]
    },
    {
      "cell_type": "markdown",
      "metadata": {
        "id": "uiNBarmhHqai"
      },
      "source": [
        "## GCM"
      ]
    },
    {
      "cell_type": "code",
      "metadata": {
        "colab": {
          "base_uri": "https://localhost:8080/",
          "height": 1000
        },
        "id": "IPmhUSmV4Gox",
        "outputId": "ec010057-8c97-4073-8ffe-de1483072f10"
      },
      "source": [
        "geo_layers = get_cam_layers(keras.models.clone_model(model_geo))\n",
        "mnist_layers = get_cam_layers(keras.models.clone_model(model_mnist))\n",
        "\n",
        "model_gcm = keras.Sequential()\n",
        "\n",
        "for layer in geo_layers[0]:\n",
        "  layer.trainable = False\n",
        "  model_gcm.add(layer)\n",
        "\n",
        "model_gcm.add(layers.Dropout(0.3))\n",
        "model_gcm.add(layers.Conv2D(filters=128, kernel_size=(3, 3), padding=\"same\", activation=\"relu\"))\n",
        "model_gcm.add(layers.GlobalAveragePooling2D())\n",
        "model_gcm.add(layers.Dense(10, activation=\"softmax\"))\n",
        "\n",
        "# for layer in mnist_layers[1]:\n",
        "  # model_gcm.add(layer)\n",
        "\n",
        "opt = keras.optimizers.Adam(learning_rate=0.002)\n",
        "model_gcm.compile(loss=\"categorical_crossentropy\", optimizer=opt, metrics=[\"accuracy\"])\n",
        "\n",
        "history_geocam = model_gcm.fit(mnist_train[0], mnist_train[1], batch_size=128, epochs=20, validation_split=0.2)\n",
        "score_gcm = model_gcm.evaluate(mnist_test[0], mnist_test[1], verbose=0)\n",
        "model_gcm.summary()\n",
        "plot_model_score(score_gcm, history_geocam.history)"
      ],
      "execution_count": null,
      "outputs": [
        {
          "output_type": "stream",
          "text": [
            "Epoch 1/20\n",
            "375/375 [==============================] - 5s 13ms/step - loss: 2.1750 - accuracy: 0.1861 - val_loss: 1.9609 - val_accuracy: 0.2410\n",
            "Epoch 2/20\n",
            "375/375 [==============================] - 5s 12ms/step - loss: 1.7052 - accuracy: 0.3750 - val_loss: 2.0571 - val_accuracy: 0.2638\n",
            "Epoch 3/20\n",
            "375/375 [==============================] - 4s 12ms/step - loss: 1.5162 - accuracy: 0.4859 - val_loss: 1.9359 - val_accuracy: 0.2724\n",
            "Epoch 4/20\n",
            "375/375 [==============================] - 5s 12ms/step - loss: 1.3762 - accuracy: 0.5519 - val_loss: 1.8206 - val_accuracy: 0.3019\n",
            "Epoch 5/20\n",
            "375/375 [==============================] - 4s 12ms/step - loss: 1.2520 - accuracy: 0.6163 - val_loss: 1.8889 - val_accuracy: 0.3039\n",
            "Epoch 6/20\n",
            "375/375 [==============================] - 4s 12ms/step - loss: 1.1527 - accuracy: 0.6580 - val_loss: 1.6292 - val_accuracy: 0.3887\n",
            "Epoch 7/20\n",
            "375/375 [==============================] - 4s 12ms/step - loss: 1.0730 - accuracy: 0.6873 - val_loss: 1.7745 - val_accuracy: 0.3318\n",
            "Epoch 8/20\n",
            "375/375 [==============================] - 4s 12ms/step - loss: 1.0129 - accuracy: 0.7021 - val_loss: 1.5082 - val_accuracy: 0.4327\n",
            "Epoch 9/20\n",
            "375/375 [==============================] - 5s 12ms/step - loss: 0.9471 - accuracy: 0.7185 - val_loss: 1.5851 - val_accuracy: 0.4047\n",
            "Epoch 10/20\n",
            "375/375 [==============================] - 5s 12ms/step - loss: 0.9044 - accuracy: 0.7311 - val_loss: 1.4129 - val_accuracy: 0.4640\n",
            "Epoch 11/20\n",
            "375/375 [==============================] - 4s 12ms/step - loss: 0.8637 - accuracy: 0.7449 - val_loss: 1.5471 - val_accuracy: 0.4223\n",
            "Epoch 12/20\n",
            "375/375 [==============================] - 5s 12ms/step - loss: 0.8260 - accuracy: 0.7522 - val_loss: 1.7096 - val_accuracy: 0.3783\n",
            "Epoch 13/20\n",
            "375/375 [==============================] - 4s 12ms/step - loss: 0.7929 - accuracy: 0.7688 - val_loss: 1.5205 - val_accuracy: 0.4363\n",
            "Epoch 14/20\n",
            "375/375 [==============================] - 5s 12ms/step - loss: 0.7553 - accuracy: 0.7733 - val_loss: 1.5655 - val_accuracy: 0.4429\n",
            "Epoch 15/20\n",
            "375/375 [==============================] - 4s 12ms/step - loss: 0.7305 - accuracy: 0.7863 - val_loss: 1.4750 - val_accuracy: 0.4692\n",
            "Epoch 16/20\n",
            "375/375 [==============================] - 5s 12ms/step - loss: 0.7135 - accuracy: 0.7918 - val_loss: 1.2933 - val_accuracy: 0.5297\n",
            "Epoch 17/20\n",
            "375/375 [==============================] - 5s 12ms/step - loss: 0.6847 - accuracy: 0.7967 - val_loss: 1.2257 - val_accuracy: 0.5569\n",
            "Epoch 18/20\n",
            "375/375 [==============================] - 5s 12ms/step - loss: 0.6609 - accuracy: 0.8096 - val_loss: 1.2660 - val_accuracy: 0.5602\n",
            "Epoch 19/20\n",
            "375/375 [==============================] - 4s 12ms/step - loss: 0.6439 - accuracy: 0.8101 - val_loss: 1.2934 - val_accuracy: 0.5501\n",
            "Epoch 20/20\n",
            "375/375 [==============================] - 5s 12ms/step - loss: 0.6307 - accuracy: 0.8159 - val_loss: 1.3294 - val_accuracy: 0.5348\n",
            "Model: \"sequential_22\"\n",
            "_________________________________________________________________\n",
            "Layer (type)                 Output Shape              Param #   \n",
            "=================================================================\n",
            "conv2d_9 (Conv2D)            (None, 28, 28, 32)        320       \n",
            "_________________________________________________________________\n",
            "conv2d_10 (Conv2D)           (None, 28, 28, 64)        18496     \n",
            "_________________________________________________________________\n",
            "dropout_3 (Dropout)          (None, 28, 28, 64)        0         \n",
            "_________________________________________________________________\n",
            "conv2d_11 (Conv2D)           (None, 28, 28, 128)       73856     \n",
            "_________________________________________________________________\n",
            "dropout_6 (Dropout)          (None, 28, 28, 128)       0         \n",
            "_________________________________________________________________\n",
            "conv2d_27 (Conv2D)           (None, 28, 28, 128)       147584    \n",
            "_________________________________________________________________\n",
            "global_average_pooling2d_17  (None, 128)               0         \n",
            "_________________________________________________________________\n",
            "dense_17 (Dense)             (None, 10)                1290      \n",
            "=================================================================\n",
            "Total params: 241,546\n",
            "Trainable params: 148,874\n",
            "Non-trainable params: 92,672\n",
            "_________________________________________________________________\n"
          ],
          "name": "stdout"
        },
        {
          "output_type": "display_data",
          "data": {
            "image/png": "[encoded data removed]",
            "text/plain": [
              "<Figure size 432x288 with 1 Axes>"
            ]
          },
          "metadata": {
            "tags": []
          }
        }
      ]
    },
    {
      "cell_type": "markdown",
      "metadata": {
        "id": "DCz5iiaJH5r2"
      },
      "source": [
        "##GEO-CAM"
      ]
    },
    {
      "cell_type": "code",
      "metadata": {
        "id": "w48VD7M3J2_g"
      },
      "source": [
        "# geo_layers = get_cam_layers(keras.models.clone_model(model_geo))\n",
        "gcm_layers = get_cam_layers(keras.models.clone_model(model_gcm))\n",
        "\n",
        "model_gcg = keras.Sequential()\n",
        "\n",
        "for layer in geo_layers[1]:\n",
        "  layer.trainable = False\n",
        "  model_gcg.add(layer)\n",
        "\n",
        "# model_gcg = Model([gcm_gap_layer.input], [gcm_gap_layer.output, model_gcm.output])"
      ],
      "execution_count": null,
      "outputs": []
    },
    {
      "cell_type": "code",
      "metadata": {
        "id": "3IKNZaIoWJWg"
      },
      "source": [
        "def grad_cam_pp(image, model, prediction_idx=-1):\n",
        "  cam_layers = get_cam_layers(model)\n",
        "  heatmap_model = Model([model.inputs], [cam_layers[0][-1].get_output_at(0), model.output])\n",
        "\n",
        "  with tf.GradientTape() as tape1:\n",
        "      with tf.GradientTape() as tape2:\n",
        "          with tf.GradientTape() as tape3:\n",
        "              conv_output, predictions = heatmap_model(np.expand_dims(image, 0))\n",
        "              prediction_idx = np.argmax(predictions) if prediction_idx < 0 else prediction_idx\n",
        "              output = predictions[:, prediction_idx]\n",
        "              conv_first_grad = tape3.gradient(output, conv_output)\n",
        "          conv_second_grad = tape2.gradient(conv_first_grad, conv_output)\n",
        "      conv_third_grad = tape1.gradient(conv_second_grad, conv_output)\n",
        "\n",
        "  global_sum = np.sum(conv_output, axis=(0, 1, 2))\n",
        "\n",
        "  alpha_num = conv_second_grad[0]\n",
        "  alpha_denom = conv_second_grad[0]*2.0 + conv_third_grad[0]*global_sum\n",
        "  alpha_denom = np.where(alpha_denom != 0.0, alpha_denom, 1e-10)\n",
        "\n",
        "  alphas = alpha_num/alpha_denom\n",
        "  alpha_normalization_constant = np.sum(alphas, axis=(0,1))\n",
        "  alphas /= alpha_normalization_constant\n",
        "\n",
        "  weights = np.maximum(conv_first_grad[0], 0.0)\n",
        "\n",
        "  deep_linearization_weights = np.sum(weights*alphas, axis=(0,1))\n",
        "  cam = np.sum(deep_linearization_weights*conv_output[0], axis=2)\n",
        "\n",
        "  return cam, conv_output, (conv_first_grad, conv_second_grad, conv_third_grad)"
      ],
      "execution_count": null,
      "outputs": []
    },
    {
      "cell_type": "code",
      "metadata": {
        "id": "y_iMKQkCUdG-"
      },
      "source": [
        "def cam_1(model, conv_outputs, prediction_idx):\n",
        "  cam_layers = get_cam_layers(model)\n",
        "  class_weights = cam_layers[1][-1].get_weights()[0]\n",
        "  conv_outputs = conv_outputs[0, :, :, :]\n",
        "  cam = np.zeros(dtype=np.float32, shape=conv_outputs.shape[0:2])\n",
        "  for index, weight in enumerate(class_weights[:, prediction_idx]):\n",
        "    cam += weight * conv_outputs[:, :, index]\n",
        "\n",
        "  return cam"
      ],
      "execution_count": null,
      "outputs": []
    },
    {
      "cell_type": "code",
      "metadata": {
        "colab": {
          "base_uri": "https://localhost:8080/",
          "height": 268
        },
        "id": "Olk8UDOBSIWy",
        "outputId": "8ba98fae-2df8-47cb-fea9-539ffc584b9b"
      },
      "source": [
        "# 1 - 3455\n",
        "# 4 - 6195\n",
        "# 0 - 3710\n",
        "# 6 - 6187\n",
        "# 7 - 6606\n",
        "# 5 - 6148\n",
        "# 9 - 5622\n",
        "test_img_idx = 6187\n",
        "\n",
        "# GCM\n",
        "gcm_mnist_image, _, prediction, test_img_idx = get_prediction(model_gcm, mnist_test, test_img_idx)\n",
        "gcm_prediction_idx = np.argmax(prediction)\n",
        "gcm_mnist_cam, gcm_conv_output, gcm_grads = grad_cam_pp(gcm_mnist_image, model_gcm, gcm_prediction_idx)\n",
        "\n",
        "# GCG\n",
        "gcg_prediction_idx = 2#np.argmax(model_gcg(gcm_conv_output))\n",
        "gcg_mnist_cam = cam_1(model_geo, gcm_conv_output, gcg_prediction_idx)\n",
        "gcg_mnist_cam_max = np.max(gcg_mnist_cam)\n",
        "\n",
        "geo_labels = [\"vertical\", \"diagonal\", \"ellipse\"]\n",
        "title = \"P/T=%i/%i | GEO-CAM=%s/%.2f\" % (gcm_prediction_idx, np.argmax(mnist_test[1][test_img_idx]), geo_labels[gcg_prediction_idx], gcg_mnist_cam_max)\n",
        "show_heatmap(gcm_mnist_image, gcg_mnist_cam, (28, 28, 1), True, title)"
      ],
      "execution_count": null,
      "outputs": [
        {
          "output_type": "display_data",
          "data": {
            "image/png": "[encoded data removed]",
            "text/plain": [
              "<Figure size 432x288 with 1 Axes>"
            ]
          },
          "metadata": {
            "tags": []
          }
        }
      ]
    }
  ]
}