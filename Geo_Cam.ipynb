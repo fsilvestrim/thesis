{
  "nbformat": 4,
  "nbformat_minor": 0,
  "metadata": {
    "colab": {
      "name": "Geo-Cam.ipynb",
      "provenance": [],
      "collapsed_sections": [],
      "toc_visible": true,
      "authorship_tag": "ABX9TyNAum7MFJ9irNU4R+J/CB6k",
      "include_colab_link": true
    },
    "kernelspec": {
      "name": "python3",
      "display_name": "Python 3"
    },
    "accelerator": "GPU"
  },
  "cells": [
    {
      "cell_type": "markdown",
      "metadata": {
        "id": "view-in-github",
        "colab_type": "text"
      },
      "source": [
        "<a href=\"https://colab.research.google.com/github/fsilvestrim/thesis/blob/master/Geo_Cam.ipynb\" target=\"_parent\"><img src=\"https://colab.research.google.com/assets/colab-badge.svg\" alt=\"Open In Colab\"/></a>"
      ]
    },
    {
      "cell_type": "markdown",
      "metadata": {
        "id": "cB_AS_K_X5J0"
      },
      "source": [
        "# Utils"
      ]
    },
    {
      "cell_type": "code",
      "metadata": {
        "id": "W2x-VCBnFz5h"
      },
      "source": [
        "import re\n",
        "import time\n",
        "import random\n",
        "import numpy as np\n",
        "import scipy as sp\n",
        "import pickle\n",
        "import cv2\n",
        "import hashlib\n",
        "\n",
        "from matplotlib import cm\n",
        "import matplotlib.pyplot as plt\n",
        "import matplotlib.image as mpimg\n",
        "import matplotlib.pyplot as plt\n",
        "\n",
        "%matplotlib inline"
      ],
      "execution_count": 2,
      "outputs": []
    },
    {
      "cell_type": "code",
      "metadata": {
        "colab": {
          "base_uri": "https://localhost:8080/"
        },
        "id": "BvhCa24vLZ--",
        "outputId": "f75c3efd-87c6-4efa-a262-e653e634cc8b"
      },
      "source": [
        "#%tensorflow_version 2.x\n",
        "\n",
        "import tensorflow as tf\n",
        "print(tf.__version__)\n",
        "from tensorflow import keras\n",
        "from keras import backend as K\n",
        "from tensorflow.keras import layers\n",
        "from tensorflow.keras.models import Model\n",
        "from tensorflow.python.framework.ops import disable_eager_execution\n",
        "from tensorflow.python.framework.ops import enable_eager_execution\n",
        "\n",
        "#disable_eager_execution()\n",
        "enable_eager_execution()\n",
        "print('Eager mode: %s' % tf.executing_eagerly())\n",
        "\n",
        "device_name = tf.test.gpu_device_name()\n",
        "\n",
        "if device_name != '/device:GPU:0':\n",
        "  raise SystemError('GPU device not found')\n",
        "\n",
        "print('Found GPU at: {}'.format(device_name))"
      ],
      "execution_count": 3,
      "outputs": [
        {
          "output_type": "stream",
          "text": [
            "2.4.1\n",
            "Eager mode: True\n",
            "Found GPU at: /device:GPU:0\n"
          ],
          "name": "stdout"
        }
      ]
    },
    {
      "cell_type": "code",
      "metadata": {
        "id": "DfU8rMxdffJD"
      },
      "source": [
        "def show_image(image, title=None):\n",
        "  plt.figure(facecolor='white')\n",
        "  ax = plt.gca()\n",
        "  ax.set_xticklabels([])\n",
        "  ax.set_yticklabels([])\n",
        "  plt.imshow(image.reshape(28, 28), cmap='Greys')\n",
        "  if title is not None:\n",
        "    plt.title(title)\n",
        "  plt.show()"
      ],
      "execution_count": 4,
      "outputs": []
    },
    {
      "cell_type": "code",
      "metadata": {
        "id": "TrovwQHTWrlB"
      },
      "source": [
        "def show_prediction(image, label, prediction):\n",
        "  title = \"Prediction: %s / Truth: %s\" % (np.argmax(prediction), label)\n",
        "  show_image(image, title)"
      ],
      "execution_count": 5,
      "outputs": []
    },
    {
      "cell_type": "code",
      "metadata": {
        "id": "LNQAoOL5jlVC"
      },
      "source": [
        "def get_heatmap(cam, size, resize=True):\n",
        "  heatmap = cam / np.max(cam)\n",
        " \n",
        "  if resize:\n",
        "    height_zoom = size[1] / cam.shape[0]\n",
        "    width_zoom = size[0] / cam.shape[1]\n",
        "    heatmap = sp.ndimage.zoom(cam, (height_zoom, width_zoom), order=2)\n",
        " \n",
        "  return heatmap"
      ],
      "execution_count": 6,
      "outputs": []
    },
    {
      "cell_type": "code",
      "metadata": {
        "id": "Ya25j5pbZoq2"
      },
      "source": [
        "def show_heatmap(img, cam, size, resize=True, title=None):\n",
        "  img = img.reshape(size[0], size[1])\n",
        "  heatmap = get_heatmap(cam, size, resize)\n",
        "\n",
        "  # plot\n",
        "  plt.figure(facecolor='white')\n",
        "  ax = plt.gca()\n",
        "  ax.set_xticklabels([])\n",
        "  ax.set_yticklabels([])\n",
        "  plt.imshow(img, alpha=0.5, cmap='Greys')\n",
        "  plt.imshow(heatmap, cmap='jet', alpha=0.5)\n",
        "  \n",
        "  if title is not None:\n",
        "    plt.title(title)\n",
        "  \n",
        "  plt.show()  "
      ],
      "execution_count": 7,
      "outputs": []
    },
    {
      "cell_type": "code",
      "metadata": {
        "id": "LF2nobFe76jK"
      },
      "source": [
        "def plot_model_score(score, history):\n",
        "  plt.figure(facecolor='white')\n",
        "  plt.plot(history['loss'])\n",
        "  plt.plot(history['val_loss'])\n",
        "  plt.ylabel('Loss')\n",
        "  plt.xlabel('Epoch')\n",
        "  plt.legend(['Train', 'Validation'], loc='upper left')\n",
        "  plt.title(\"Loss: %.5f vs. Accuracy: %.5f\" % (score[0], score[1]))\n",
        "  plt.show() "
      ],
      "execution_count": 8,
      "outputs": []
    },
    {
      "cell_type": "code",
      "metadata": {
        "id": "PARsNtG47nUc"
      },
      "source": [
        "def load_model(name):\n",
        "  model = keras.models.load_model(\"saved_model_%s\" % name)\n",
        "  history = pickle.load(open('saved_model_%s/history' % name, \"rb\"))\n",
        "\n",
        "  return model, history"
      ],
      "execution_count": 9,
      "outputs": []
    },
    {
      "cell_type": "code",
      "metadata": {
        "id": "eQiN2YfH66oZ"
      },
      "source": [
        "def save_model(model, history, name):\n",
        "  model.save(\"saved_model_%s\" % name)\n",
        "\n",
        "  with open('saved_model_%s/history' % name, 'wb') as file_pi:\n",
        "    pickle.dump(history.history, file_pi)"
      ],
      "execution_count": 10,
      "outputs": []
    },
    {
      "cell_type": "code",
      "metadata": {
        "id": "9y0SKay9zUyh"
      },
      "source": [
        "def get_cam_layers(model):\n",
        "  last_conv_layer = None\n",
        "  last_layers = []\n",
        "  conv_layers = []\n",
        "  for layer in reversed(model.layers):\n",
        "      # check to see if the layer has a 4D output\n",
        "      if len(layer.output_shape) == 4 and last_conv_layer is None:\n",
        "        last_conv_layer = layer\n",
        "        # print(\"Last Conv Layer: %s, filters %s\" % (layer.name, layer.filters))\n",
        "\n",
        "      if last_conv_layer is not None:\n",
        "        conv_layers.insert(0, layer)\n",
        "      else:\n",
        "        last_layers.insert(0, layer)\n",
        "\n",
        "  return conv_layers, last_layers"
      ],
      "execution_count": 11,
      "outputs": []
    },
    {
      "cell_type": "code",
      "metadata": {
        "id": "JBpsHZ8HJ9ZP"
      },
      "source": [
        "def get_sample(test_set, idx=-1):\n",
        "  idx = random.randint(0, len(test_set[0])) if idx < 0 else idx\n",
        "  test_image = test_set[0][idx]\n",
        "  test_label = np.argmax(test_set[1][idx])\n",
        "\n",
        "  return test_image, test_label"
      ],
      "execution_count": 118,
      "outputs": []
    },
    {
      "cell_type": "code",
      "metadata": {
        "id": "DLP3omNp6B1z"
      },
      "source": [
        "def predict(model, image):\n",
        "  return model.predict(np.expand_dims(image, 0))"
      ],
      "execution_count": 12,
      "outputs": []
    },
    {
      "cell_type": "code",
      "metadata": {
        "id": "CfQxjWHqzuoI"
      },
      "source": [
        "def get_prediction(model, test_set, idx=-1):\n",
        "  image, label = get_sample(test_set, idx)\n",
        "  prediction = predict(model, image)\n",
        "\n",
        "  return image, label, prediction, idx"
      ],
      "execution_count": 119,
      "outputs": []
    },
    {
      "cell_type": "code",
      "metadata": {
        "id": "wIXXoT0p0I3M"
      },
      "source": [
        "def format_dataset(num_classes, train, test):\n",
        "  (x_train, y_train), (x_test, y_test) = train, test\n",
        "\n",
        "  print(x_train[0].shape)\n",
        "  print(y_train[0])\n",
        "\n",
        "  # Scale images to the [0, 1] range\n",
        "  x_train = x_train.astype(\"float32\") / 255\n",
        "  x_test = x_test.astype(\"float32\") / 255\n",
        "\n",
        "  # Make sure images have shape (28, 28, 1)\n",
        "  x_train = np.expand_dims(x_train, -1)\n",
        "  x_test = np.expand_dims(x_test, -1)\n",
        "\n",
        "  print(\"x_train shape:\", x_train.shape)\n",
        "  print(x_train.shape[0], \"train samples\")\n",
        "  print(x_test.shape[0], \"test samples\")\n",
        "\n",
        "  # convert class vectors to binary class matrices\n",
        "  y_train = keras.utils.to_categorical(y_train, num_classes)\n",
        "  y_test = keras.utils.to_categorical(y_test, num_classes)\n",
        "\n",
        "  return (x_train, y_train), (x_test, y_test)"
      ],
      "execution_count": 14,
      "outputs": []
    },
    {
      "cell_type": "markdown",
      "metadata": {
        "id": "Okm2rbgeJNSD"
      },
      "source": [
        "#MNIST"
      ]
    },
    {
      "cell_type": "code",
      "metadata": {
        "id": "rTNjOPRWJRz1",
        "colab": {
          "base_uri": "https://localhost:8080/"
        },
        "outputId": "535b1419-3fc0-4783-a40c-ecdc72efc4dd"
      },
      "source": [
        "mnist_num_classes = 10\n",
        "mnist_train, mnist_test = keras.datasets.mnist.load_data()\n",
        "mnist_train, mnist_test = format_dataset(mnist_num_classes, mnist_train, mnist_test)\n",
        "\n",
        "def create_mnist_model(name, input_shape, num_classes, train=None):\n",
        "  model = keras.Sequential(\n",
        "      [\n",
        "          keras.Input(shape=input_shape),\n",
        "      \n",
        "          layers.Conv2D(filters=32, kernel_size=(3, 3), activation=\"relu\"),\n",
        "          layers.MaxPooling2D(pool_size=(2, 2), strides=(2,2)),\n",
        "      \n",
        "          layers.Conv2D(filters=64, kernel_size=(3, 3), activation=\"relu\"),\n",
        "          layers.MaxPooling2D(pool_size=(2, 2), strides=(2,2)),\n",
        "          layers.Dropout(0.5),\n",
        "      \n",
        "          layers.Conv2D(filters=128, kernel_size=(3, 3), activation=\"relu\"),\n",
        "          layers.GlobalAveragePooling2D(),\n",
        "          \n",
        "          layers.Dense(num_classes, activation=\"softmax\"),\n",
        "      ]\n",
        "  )\n",
        "\n",
        "  model.compile(loss=\"categorical_crossentropy\", optimizer=\"adam\", metrics=[\"accuracy\"])\n",
        "\n",
        "  return model"
      ],
      "execution_count": 15,
      "outputs": [
        {
          "output_type": "stream",
          "text": [
            "Downloading data from https://storage.googleapis.com/tensorflow/tf-keras-datasets/mnist.npz\n",
            "11493376/11490434 [==============================] - 0s 0us/step\n",
            "(28, 28)\n",
            "5\n",
            "x_train shape: (60000, 28, 28, 1)\n",
            "60000 train samples\n",
            "10000 test samples\n"
          ],
          "name": "stdout"
        }
      ]
    },
    {
      "cell_type": "code",
      "metadata": {
        "colab": {
          "base_uri": "https://localhost:8080/",
          "height": 1000
        },
        "id": "_UUVTSfOKsh2",
        "outputId": "f10306c3-db60-44e2-e367-0c2e1c3774f9"
      },
      "source": [
        "model_mnist = create_mnist_model(\"gap_shallow\", (28, 28, 1), mnist_num_classes, mnist_train)\n",
        "\n",
        "# model_mnist, history_mnist = load_model(\"gap_shallow\")\n",
        "start_time = time.clock()\n",
        "history_mnist = model_mnist.fit(mnist_train[0], mnist_train[1], batch_size=128, epochs=15, validation_split=0.1)\n",
        "print(\"Training took: %.2f seconds\" % (time.clock() - start_time))\n",
        "# save_model(model_mnist, history_mnist, \"gap_shallow\")\n",
        "\n",
        "model_mnist.summary()\n",
        "score_mnist = model_mnist.evaluate(mnist_test[0], mnist_test[1], verbose=0)\n",
        "\n",
        "plot_model_score(score_mnist, history_mnist.history)"
      ],
      "execution_count": 16,
      "outputs": [
        {
          "output_type": "stream",
          "text": [
            "/usr/local/lib/python3.7/dist-packages/ipykernel_launcher.py:4: DeprecationWarning: time.clock has been deprecated in Python 3.3 and will be removed from Python 3.8: use time.perf_counter or time.process_time instead\n",
            "  after removing the cwd from sys.path.\n"
          ],
          "name": "stderr"
        },
        {
          "output_type": "stream",
          "text": [
            "Epoch 1/15\n",
            "422/422 [==============================] - 35s 12ms/step - loss: 0.9645 - accuracy: 0.6865 - val_loss: 0.1308 - val_accuracy: 0.9622\n",
            "Epoch 2/15\n",
            "422/422 [==============================] - 4s 11ms/step - loss: 0.1933 - accuracy: 0.9405 - val_loss: 0.0842 - val_accuracy: 0.9747\n",
            "Epoch 3/15\n",
            "422/422 [==============================] - 4s 10ms/step - loss: 0.1347 - accuracy: 0.9585 - val_loss: 0.0719 - val_accuracy: 0.9780\n",
            "Epoch 4/15\n",
            "422/422 [==============================] - 4s 10ms/step - loss: 0.1106 - accuracy: 0.9655 - val_loss: 0.0552 - val_accuracy: 0.9842\n",
            "Epoch 5/15\n",
            "422/422 [==============================] - 4s 10ms/step - loss: 0.0874 - accuracy: 0.9738 - val_loss: 0.0506 - val_accuracy: 0.9858\n",
            "Epoch 6/15\n",
            "422/422 [==============================] - 4s 10ms/step - loss: 0.0749 - accuracy: 0.9764 - val_loss: 0.0429 - val_accuracy: 0.9880\n",
            "Epoch 7/15\n",
            "422/422 [==============================] - 4s 10ms/step - loss: 0.0691 - accuracy: 0.9780 - val_loss: 0.0418 - val_accuracy: 0.9872\n",
            "Epoch 8/15\n",
            "422/422 [==============================] - 4s 10ms/step - loss: 0.0627 - accuracy: 0.9800 - val_loss: 0.0416 - val_accuracy: 0.9873\n",
            "Epoch 9/15\n",
            "422/422 [==============================] - 4s 10ms/step - loss: 0.0565 - accuracy: 0.9821 - val_loss: 0.0289 - val_accuracy: 0.9915\n",
            "Epoch 10/15\n",
            "422/422 [==============================] - 4s 10ms/step - loss: 0.0534 - accuracy: 0.9836 - val_loss: 0.0307 - val_accuracy: 0.9912\n",
            "Epoch 11/15\n",
            "422/422 [==============================] - 4s 10ms/step - loss: 0.0469 - accuracy: 0.9856 - val_loss: 0.0323 - val_accuracy: 0.9905\n",
            "Epoch 12/15\n",
            "422/422 [==============================] - 4s 10ms/step - loss: 0.0470 - accuracy: 0.9854 - val_loss: 0.0275 - val_accuracy: 0.9918\n",
            "Epoch 13/15\n",
            "422/422 [==============================] - 4s 10ms/step - loss: 0.0402 - accuracy: 0.9861 - val_loss: 0.0285 - val_accuracy: 0.9918\n",
            "Epoch 14/15\n",
            "422/422 [==============================] - 4s 10ms/step - loss: 0.0395 - accuracy: 0.9874 - val_loss: 0.0278 - val_accuracy: 0.9920\n",
            "Epoch 15/15\n",
            "422/422 [==============================] - 4s 10ms/step - loss: 0.0351 - accuracy: 0.9890 - val_loss: 0.0273 - val_accuracy: 0.9912\n",
            "Training took: 70.40 seconds\n",
            "Model: \"sequential\"\n",
            "_________________________________________________________________\n",
            "Layer (type)                 Output Shape              Param #   \n",
            "=================================================================\n",
            "conv2d (Conv2D)              (None, 26, 26, 32)        320       \n",
            "_________________________________________________________________\n",
            "max_pooling2d (MaxPooling2D) (None, 13, 13, 32)        0         \n",
            "_________________________________________________________________\n",
            "conv2d_1 (Conv2D)            (None, 11, 11, 64)        18496     \n",
            "_________________________________________________________________\n",
            "max_pooling2d_1 (MaxPooling2 (None, 5, 5, 64)          0         \n",
            "_________________________________________________________________\n",
            "dropout (Dropout)            (None, 5, 5, 64)          0         \n",
            "_________________________________________________________________\n",
            "conv2d_2 (Conv2D)            (None, 3, 3, 128)         73856     \n",
            "_________________________________________________________________\n",
            "global_average_pooling2d (Gl (None, 128)               0         \n",
            "_________________________________________________________________\n",
            "dense (Dense)                (None, 10)                1290      \n",
            "=================================================================\n",
            "Total params: 93,962\n",
            "Trainable params: 93,962\n",
            "Non-trainable params: 0\n",
            "_________________________________________________________________\n"
          ],
          "name": "stdout"
        },
        {
          "output_type": "stream",
          "text": [
            "/usr/local/lib/python3.7/dist-packages/ipykernel_launcher.py:6: DeprecationWarning: time.clock has been deprecated in Python 3.3 and will be removed from Python 3.8: use time.perf_counter or time.process_time instead\n",
            "  \n"
          ],
          "name": "stderr"
        },
        {
          "output_type": "display_data",
          "data": {
            "image/png": "[encoded data removed]",
            "text/plain": [
              "<Figure size 432x288 with 1 Axes>"
            ]
          },
          "metadata": {
            "tags": []
          }
        }
      ]
    },
    {
      "cell_type": "code",
      "metadata": {
        "colab": {
          "base_uri": "https://localhost:8080/",
          "height": 268
        },
        "id": "--_Cb0cwMTsl",
        "outputId": "65568048-7d13-480c-ad01-113388d5ab42"
      },
      "source": [
        "image, label, prediction, _ = get_prediction(model_mnist, mnist_test)\n",
        "show_prediction(image, label, prediction)"
      ],
      "execution_count": 17,
      "outputs": [
        {
          "output_type": "display_data",
          "data": {
            "image/png": "[encoded data removed]",
            "text/plain": [
              "<Figure size 432x288 with 1 Axes>"
            ]
          },
          "metadata": {
            "tags": []
          }
        }
      ]
    },
    {
      "cell_type": "markdown",
      "metadata": {
        "id": "ZAVIlq5GvHoU"
      },
      "source": [
        "#GEO"
      ]
    },
    {
      "cell_type": "code",
      "metadata": {
        "id": "fknmrIpWvKQJ"
      },
      "source": [
        "geo_dataset_proto = (\"proto\", \"https://geo-cam.s3-eu-west-1.amazonaws.com/geocam.npz\", [\"vertical\", \"diagonal\", \"ellipse\"])\n",
        "geo_dataset_simple = (\"simple\", \"https://geo-cam.s3-eu-west-1.amazonaws.com/simpledataset_dataset.npz\", [\"vertical\", \"horizontal\", \"diagonal\", \"ellipse\", \"greather_than\", \"lower_than\"])\n",
        "geo_dataset_round = (\"round\", \"https://geo-cam.s3-eu-west-1.amazonaws.com/rounddataset_dataset.npz\", [\"vertical\", \"horizontal\", \"diagonal\", \"ellipse\", \"greather_than\", \"lower_than\"])\n",
        "geo_dataset_threesixty = (\"threesixty\", \"https://geo-cam.s3-eu-west-1.amazonaws.com/threesixtydataset_dataset.npz\", [\"10\", \"20\", \"30\", \"40\", \"50\", \"60\", \"70\", \"80\", \"90\", \"100\", \"110\", \"120\", \"130\", \"140\", \"150\", \"160\", \"170\", \"180\"])\n",
        "\n",
        "def get_geo_dataset(name, filepath):\n",
        "  path = tf.keras.utils.get_file(name, filepath)\n",
        "  with np.load(path, allow_pickle=True) as f:\n",
        "    x_train, y_train = f['x_train'], f['y_train']\n",
        "    x_test, y_test = f['x_test'], f['y_test']\n",
        "\n",
        "    return (x_train, y_train), (x_test, y_test)"
      ],
      "execution_count": 18,
      "outputs": []
    },
    {
      "cell_type": "code",
      "metadata": {
        "id": "IAZ-zvCO7eQO"
      },
      "source": [
        "def create_geo_model(name, input_shape, num_classes):\n",
        "  model = keras.Sequential(\n",
        "      [\n",
        "          keras.Input(shape=input_shape),\n",
        "      \n",
        "          layers.Conv2D(filters=32, kernel_size=(3, 3), padding=\"same\", activation=\"relu\"),\n",
        "          # layers.MaxPooling2D(pool_size=(2, 2), strides=(2,2)),\n",
        "      \n",
        "          layers.Conv2D(filters=64, kernel_size=(3, 3), padding=\"same\", activation=\"relu\"),\n",
        "       \n",
        "          # layers.MaxPooling2D(pool_size=(2, 2), strides=(2,2)),\n",
        "          layers.Dropout(0.3),\n",
        "      \n",
        "          layers.Conv2D(filters=128, kernel_size=(3, 3), padding=\"same\", activation=\"relu\"),\n",
        "          layers.GlobalAveragePooling2D(),\n",
        "          \n",
        "          layers.Dense(num_classes, activation=\"softmax\"),\n",
        "      ]\n",
        "  )\n",
        "\n",
        "  model.compile(loss=\"categorical_crossentropy\", optimizer=\"adam\", metrics=[\"accuracy\"])\n",
        "\n",
        "  return model"
      ],
      "execution_count": 19,
      "outputs": []
    },
    {
      "cell_type": "code",
      "metadata": {
        "colab": {
          "base_uri": "https://localhost:8080/",
          "height": 1000
        },
        "id": "fi-GBD6n70bH",
        "outputId": "c20f76a5-9106-4f34-95ba-46016329ecda"
      },
      "source": [
        "dataset = geo_dataset_simple\n",
        "geo_train, geo_test = get_geo_dataset(dataset[0], dataset[1])\n",
        "geo_train, geo_test = format_dataset(len(dataset[2]), geo_train, geo_test)\n",
        "model_geo = create_geo_model(\"geocam\", (28, 28, 1), len(dataset[2]))\n",
        "# model_geo, history_geo = load_model(\"geo\")\n",
        "\n",
        "start_time = time.clock()\n",
        "history_geo = model_geo.fit(geo_train[0], geo_train[1], batch_size=128, epochs=15, validation_split=0.1)\n",
        "print(\"Training took: %.2f seconds\" % (time.clock() - start_time))\n",
        "# save_model(model_geo, history_geo, \"geo\")\n",
        "\n",
        "model_geo.summary()\n",
        "score_geo = model_geo.evaluate(geo_test[0], geo_test[1], verbose=0)\n",
        "\n",
        "plot_model_score(score_geo, history_geo.history)"
      ],
      "execution_count": 20,
      "outputs": [
        {
          "output_type": "stream",
          "text": [
            "Downloading data from https://geo-cam.s3-eu-west-1.amazonaws.com/simpledataset_dataset.npz\n",
            "18841600/18841002 [==============================] - 0s 0us/step\n",
            "(28, 28)\n",
            "1\n",
            "x_train shape: (4200, 28, 28, 1)\n",
            "4200 train samples\n",
            "1800 test samples\n",
            "Epoch 1/15\n"
          ],
          "name": "stdout"
        },
        {
          "output_type": "stream",
          "text": [
            "/usr/local/lib/python3.7/dist-packages/ipykernel_launcher.py:7: DeprecationWarning: time.clock has been deprecated in Python 3.3 and will be removed from Python 3.8: use time.perf_counter or time.process_time instead\n",
            "  import sys\n"
          ],
          "name": "stderr"
        },
        {
          "output_type": "stream",
          "text": [
            "30/30 [==============================] - 3s 56ms/step - loss: 1.7719 - accuracy: 0.1629 - val_loss: 1.7017 - val_accuracy: 0.1405\n",
            "Epoch 2/15\n",
            "30/30 [==============================] - 1s 37ms/step - loss: 1.5914 - accuracy: 0.2922 - val_loss: 1.0913 - val_accuracy: 0.7333\n",
            "Epoch 3/15\n",
            "30/30 [==============================] - 1s 37ms/step - loss: 0.9560 - accuracy: 0.7276 - val_loss: 0.6591 - val_accuracy: 0.8071\n",
            "Epoch 4/15\n",
            "30/30 [==============================] - 1s 36ms/step - loss: 0.6665 - accuracy: 0.7599 - val_loss: 0.5057 - val_accuracy: 0.8571\n",
            "Epoch 5/15\n",
            "30/30 [==============================] - 1s 36ms/step - loss: 0.5238 - accuracy: 0.8200 - val_loss: 0.4229 - val_accuracy: 0.8905\n",
            "Epoch 6/15\n",
            "30/30 [==============================] - 1s 36ms/step - loss: 0.4475 - accuracy: 0.8724 - val_loss: 0.3459 - val_accuracy: 0.9333\n",
            "Epoch 7/15\n",
            "30/30 [==============================] - 1s 36ms/step - loss: 0.3752 - accuracy: 0.9069 - val_loss: 0.2916 - val_accuracy: 0.9333\n",
            "Epoch 8/15\n",
            "30/30 [==============================] - 1s 36ms/step - loss: 0.3132 - accuracy: 0.9230 - val_loss: 0.2441 - val_accuracy: 0.9381\n",
            "Epoch 9/15\n",
            "30/30 [==============================] - 1s 36ms/step - loss: 0.2976 - accuracy: 0.9123 - val_loss: 0.2307 - val_accuracy: 0.9381\n",
            "Epoch 10/15\n",
            "30/30 [==============================] - 1s 36ms/step - loss: 0.2494 - accuracy: 0.9242 - val_loss: 0.1753 - val_accuracy: 0.9524\n",
            "Epoch 11/15\n",
            "30/30 [==============================] - 1s 36ms/step - loss: 0.2023 - accuracy: 0.9421 - val_loss: 0.1540 - val_accuracy: 0.9500\n",
            "Epoch 12/15\n",
            "30/30 [==============================] - 1s 36ms/step - loss: 0.1756 - accuracy: 0.9477 - val_loss: 0.1520 - val_accuracy: 0.9595\n",
            "Epoch 13/15\n",
            "30/30 [==============================] - 1s 37ms/step - loss: 0.1571 - accuracy: 0.9532 - val_loss: 0.1337 - val_accuracy: 0.9500\n",
            "Epoch 14/15\n",
            "30/30 [==============================] - 1s 36ms/step - loss: 0.1482 - accuracy: 0.9520 - val_loss: 0.1170 - val_accuracy: 0.9548\n",
            "Epoch 15/15\n",
            "30/30 [==============================] - 1s 36ms/step - loss: 0.1371 - accuracy: 0.9548 - val_loss: 0.1078 - val_accuracy: 0.9595\n",
            "Training took: 15.44 seconds\n",
            "Model: \"sequential_1\"\n",
            "_________________________________________________________________\n",
            "Layer (type)                 Output Shape              Param #   \n",
            "=================================================================\n",
            "conv2d_3 (Conv2D)            (None, 28, 28, 32)        320       \n",
            "_________________________________________________________________\n",
            "conv2d_4 (Conv2D)            (None, 28, 28, 64)        18496     \n",
            "_________________________________________________________________\n",
            "dropout_1 (Dropout)          (None, 28, 28, 64)        0         \n",
            "_________________________________________________________________\n",
            "conv2d_5 (Conv2D)            (None, 28, 28, 128)       73856     \n",
            "_________________________________________________________________\n",
            "global_average_pooling2d_1 ( (None, 128)               0         \n",
            "_________________________________________________________________\n",
            "dense_1 (Dense)              (None, 6)                 774       \n",
            "=================================================================\n",
            "Total params: 93,446\n",
            "Trainable params: 93,446\n",
            "Non-trainable params: 0\n",
            "_________________________________________________________________\n"
          ],
          "name": "stdout"
        },
        {
          "output_type": "stream",
          "text": [
            "/usr/local/lib/python3.7/dist-packages/ipykernel_launcher.py:9: DeprecationWarning: time.clock has been deprecated in Python 3.3 and will be removed from Python 3.8: use time.perf_counter or time.process_time instead\n",
            "  if __name__ == '__main__':\n"
          ],
          "name": "stderr"
        },
        {
          "output_type": "display_data",
          "data": {
            "image/png": "[encoded data removed]",
            "text/plain": [
              "<Figure size 432x288 with 1 Axes>"
            ]
          },
          "metadata": {
            "tags": []
          }
        }
      ]
    },
    {
      "cell_type": "code",
      "metadata": {
        "colab": {
          "base_uri": "https://localhost:8080/",
          "height": 268
        },
        "id": "Io6EtCTU-Gwn",
        "outputId": "862bd19e-8371-4154-f1dc-b73b6d170f6c"
      },
      "source": [
        "image, label, prediction, _ = get_prediction(model_geo, geo_test)\n",
        "show_prediction(image, label, prediction)"
      ],
      "execution_count": 21,
      "outputs": [
        {
          "output_type": "display_data",
          "data": {
            "image/png": "[encoded data removed]",
            "text/plain": [
              "<Figure size 432x288 with 1 Axes>"
            ]
          },
          "metadata": {
            "tags": []
          }
        }
      ]
    },
    {
      "cell_type": "markdown",
      "metadata": {
        "id": "2qfZh1ixKzXR"
      },
      "source": [
        "# Transfer-learning\n"
      ]
    },
    {
      "cell_type": "code",
      "metadata": {
        "colab": {
          "base_uri": "https://localhost:8080/",
          "height": 1000
        },
        "id": "IPmhUSmV4Gox",
        "outputId": "7d9ae361-52eb-4b67-880b-42ec6ed9ea9c"
      },
      "source": [
        "geo_layers = get_cam_layers(keras.models.clone_model(model_geo))\n",
        "mnist_layers = get_cam_layers(keras.models.clone_model(model_mnist))\n",
        "\n",
        "model_gcm = keras.Sequential()\n",
        "\n",
        "for layer in geo_layers[0]:\n",
        "  layer.trainable = False\n",
        "  model_gcm.add(layer)\n",
        "\n",
        "model_gcm.add(layers.Conv2D(filters=128, kernel_size=(3, 3), padding=\"same\", activation=\"relu\"))\n",
        "model_gcm.add(layers.Dropout(0.4))\n",
        "# model_gcm.add(layers.Conv2D(filters=512, kernel_size=(3, 3), padding=\"same\", activation=\"relu\"))\n",
        "model_gcm.add(layers.Conv2D(filters=128, kernel_size=(3, 3), padding=\"same\", activation=\"relu\"))\n",
        "model_gcm.add(layers.GlobalAveragePooling2D())\n",
        "model_gcm.add(layers.Dense(mnist_num_classes, activation=\"softmax\"))\n",
        "\n",
        "# for layer in mnist_layers[1]:\n",
        "  # model_gcm.add(layer)\n",
        "\n",
        "opt = keras.optimizers.Adam(learning_rate=0.002)\n",
        "model_gcm.compile(loss=\"categorical_crossentropy\", optimizer=opt, metrics=[\"accuracy\"])\n",
        "\n",
        "start_time = time.clock()\n",
        "history_geocam = model_gcm.fit(mnist_train[0], mnist_train[1], batch_size=128, epochs=20, validation_split=0.1)\n",
        "print(\"Training took: %.2f seconds\" % (time.clock() - start_time))\n",
        "\n",
        "score_gcm = model_gcm.evaluate(mnist_test[0], mnist_test[1], verbose=0)\n",
        "model_gcm.summary()\n",
        "plot_model_score(score_gcm, history_geocam.history)"
      ],
      "execution_count": 22,
      "outputs": [
        {
          "output_type": "stream",
          "text": [
            "/usr/local/lib/python3.7/dist-packages/ipykernel_launcher.py:23: DeprecationWarning: time.clock has been deprecated in Python 3.3 and will be removed from Python 3.8: use time.perf_counter or time.process_time instead\n"
          ],
          "name": "stderr"
        },
        {
          "output_type": "stream",
          "text": [
            "Epoch 1/20\n",
            "422/422 [==============================] - 30s 69ms/step - loss: 1.8104 - accuracy: 0.3355 - val_loss: 1.0065 - val_accuracy: 0.6300\n",
            "Epoch 2/20\n",
            "422/422 [==============================] - 28s 66ms/step - loss: 0.8225 - accuracy: 0.7472 - val_loss: 0.5971 - val_accuracy: 0.8038\n",
            "Epoch 3/20\n",
            "422/422 [==============================] - 28s 66ms/step - loss: 0.5661 - accuracy: 0.8280 - val_loss: 0.6224 - val_accuracy: 0.7713\n",
            "Epoch 4/20\n",
            "422/422 [==============================] - 28s 67ms/step - loss: 0.4708 - accuracy: 0.8574 - val_loss: 0.6362 - val_accuracy: 0.7610\n",
            "Epoch 5/20\n",
            "422/422 [==============================] - 28s 66ms/step - loss: 0.4095 - accuracy: 0.8750 - val_loss: 0.5593 - val_accuracy: 0.7942\n",
            "Epoch 6/20\n",
            "422/422 [==============================] - 28s 66ms/step - loss: 0.3698 - accuracy: 0.8860 - val_loss: 0.3855 - val_accuracy: 0.8708\n",
            "Epoch 7/20\n",
            "422/422 [==============================] - 28s 66ms/step - loss: 0.3443 - accuracy: 0.8958 - val_loss: 0.3135 - val_accuracy: 0.9085\n",
            "Epoch 8/20\n",
            "422/422 [==============================] - 28s 67ms/step - loss: 0.3122 - accuracy: 0.9049 - val_loss: 0.4358 - val_accuracy: 0.8558\n",
            "Epoch 9/20\n",
            "422/422 [==============================] - 28s 66ms/step - loss: 0.2816 - accuracy: 0.9152 - val_loss: 0.3249 - val_accuracy: 0.9035\n",
            "Epoch 10/20\n",
            "422/422 [==============================] - 28s 66ms/step - loss: 0.2502 - accuracy: 0.9257 - val_loss: 0.3648 - val_accuracy: 0.8848\n",
            "Epoch 11/20\n",
            "422/422 [==============================] - 28s 67ms/step - loss: 0.2310 - accuracy: 0.9319 - val_loss: 0.2992 - val_accuracy: 0.9085\n",
            "Epoch 12/20\n",
            "422/422 [==============================] - 28s 67ms/step - loss: 0.2152 - accuracy: 0.9376 - val_loss: 0.2845 - val_accuracy: 0.9135\n",
            "Epoch 13/20\n",
            "422/422 [==============================] - 28s 66ms/step - loss: 0.2063 - accuracy: 0.9394 - val_loss: 0.2252 - val_accuracy: 0.9317\n",
            "Epoch 14/20\n",
            "422/422 [==============================] - 28s 66ms/step - loss: 0.1942 - accuracy: 0.9430 - val_loss: 0.2895 - val_accuracy: 0.9045\n",
            "Epoch 15/20\n",
            "422/422 [==============================] - 28s 67ms/step - loss: 0.1927 - accuracy: 0.9441 - val_loss: 0.2180 - val_accuracy: 0.9365\n",
            "Epoch 16/20\n",
            "422/422 [==============================] - 28s 67ms/step - loss: 0.1878 - accuracy: 0.9455 - val_loss: 0.2212 - val_accuracy: 0.9317\n",
            "Epoch 17/20\n",
            "422/422 [==============================] - 28s 66ms/step - loss: 0.1682 - accuracy: 0.9492 - val_loss: 0.2848 - val_accuracy: 0.9052\n",
            "Epoch 18/20\n",
            "422/422 [==============================] - 28s 67ms/step - loss: 0.1609 - accuracy: 0.9529 - val_loss: 0.2591 - val_accuracy: 0.9183\n",
            "Epoch 19/20\n",
            "422/422 [==============================] - 28s 67ms/step - loss: 0.1547 - accuracy: 0.9551 - val_loss: 0.2854 - val_accuracy: 0.9102\n",
            "Epoch 20/20\n",
            "422/422 [==============================] - 28s 67ms/step - loss: 0.1476 - accuracy: 0.9562 - val_loss: 0.2092 - val_accuracy: 0.9360\n",
            "Training took: 388.59 seconds\n"
          ],
          "name": "stdout"
        },
        {
          "output_type": "stream",
          "text": [
            "/usr/local/lib/python3.7/dist-packages/ipykernel_launcher.py:25: DeprecationWarning: time.clock has been deprecated in Python 3.3 and will be removed from Python 3.8: use time.perf_counter or time.process_time instead\n"
          ],
          "name": "stderr"
        },
        {
          "output_type": "stream",
          "text": [
            "Model: \"sequential_2\"\n",
            "_________________________________________________________________\n",
            "Layer (type)                 Output Shape              Param #   \n",
            "=================================================================\n",
            "conv2d_3 (Conv2D)            (None, 28, 28, 32)        320       \n",
            "_________________________________________________________________\n",
            "conv2d_4 (Conv2D)            (None, 28, 28, 64)        18496     \n",
            "_________________________________________________________________\n",
            "dropout_1 (Dropout)          (None, 28, 28, 64)        0         \n",
            "_________________________________________________________________\n",
            "conv2d_5 (Conv2D)            (None, 28, 28, 128)       73856     \n",
            "_________________________________________________________________\n",
            "conv2d_6 (Conv2D)            (None, 28, 28, 128)       147584    \n",
            "_________________________________________________________________\n",
            "dropout_2 (Dropout)          (None, 28, 28, 128)       0         \n",
            "_________________________________________________________________\n",
            "conv2d_7 (Conv2D)            (None, 28, 28, 128)       147584    \n",
            "_________________________________________________________________\n",
            "global_average_pooling2d_2 ( (None, 128)               0         \n",
            "_________________________________________________________________\n",
            "dense_2 (Dense)              (None, 10)                1290      \n",
            "=================================================================\n",
            "Total params: 389,130\n",
            "Trainable params: 296,458\n",
            "Non-trainable params: 92,672\n",
            "_________________________________________________________________\n"
          ],
          "name": "stdout"
        },
        {
          "output_type": "display_data",
          "data": {
            "image/png": "[encoded data removed]",
            "text/plain": [
              "<Figure size 432x288 with 1 Axes>"
            ]
          },
          "metadata": {
            "tags": []
          }
        }
      ]
    },
    {
      "cell_type": "code",
      "metadata": {
        "colab": {
          "base_uri": "https://localhost:8080/",
          "height": 268
        },
        "id": "Jy79YFHxXRNN",
        "outputId": "ea374a7f-dd0a-4b0d-e2ff-27b4ced5a38b"
      },
      "source": [
        "image, label, prediction, _ = get_prediction(model_gcm, mnist_test)\n",
        "show_prediction(image, label, prediction)"
      ],
      "execution_count": 23,
      "outputs": [
        {
          "output_type": "display_data",
          "data": {
            "image/png": "[encoded data removed]",
            "text/plain": [
              "<Figure size 432x288 with 1 Axes>"
            ]
          },
          "metadata": {
            "tags": []
          }
        }
      ]
    },
    {
      "cell_type": "markdown",
      "metadata": {
        "id": "DCz5iiaJH5r2"
      },
      "source": [
        "# CAMs"
      ]
    },
    {
      "cell_type": "code",
      "metadata": {
        "id": "3IKNZaIoWJWg"
      },
      "source": [
        "def grad_cam_pp(image, model, con_layer_idx=-1, prediction_idx=-1):\n",
        "  cam_layers = get_cam_layers(model)\n",
        "  heatmap_model = Model([model.inputs], [cam_layers[0][con_layer_idx].get_output_at(0), model.output])\n",
        "\n",
        "  with tf.GradientTape() as tape1:\n",
        "      with tf.GradientTape() as tape2:\n",
        "          with tf.GradientTape() as tape3:\n",
        "              conv_output, predictions = heatmap_model(np.expand_dims(image, 0))\n",
        "              prediction_idx = np.argmax(predictions) if prediction_idx < 0 else prediction_idx\n",
        "              output = predictions[:, prediction_idx]\n",
        "              conv_first_grad = tape3.gradient(output, conv_output)\n",
        "          conv_second_grad = tape2.gradient(conv_first_grad, conv_output)\n",
        "      conv_third_grad = tape1.gradient(conv_second_grad, conv_output)\n",
        "\n",
        "  global_sum = np.sum(conv_output, axis=(0, 1, 2))\n",
        "\n",
        "  alpha_num = conv_second_grad[0]\n",
        "  alpha_denom = conv_second_grad[0]*2.0 + conv_third_grad[0]*global_sum\n",
        "  alpha_denom = np.where(alpha_denom != 0.0, alpha_denom, 1e-10)\n",
        "\n",
        "  alphas = alpha_num/alpha_denom\n",
        "  alpha_normalization_constant = np.sum(alphas, axis=(0,1))\n",
        "  alphas /= alpha_normalization_constant\n",
        "\n",
        "  weights = np.maximum(conv_first_grad[0], 0.0)\n",
        "\n",
        "  deep_linearization_weights = np.sum(weights*alphas, axis=(0,1))\n",
        "  cam = np.sum(deep_linearization_weights*conv_output[0], axis=2)\n",
        "\n",
        "  return cam, conv_output, prediction_idx, (conv_first_grad, conv_second_grad, conv_third_grad)"
      ],
      "execution_count": 24,
      "outputs": []
    },
    {
      "cell_type": "code",
      "metadata": {
        "id": "y_iMKQkCUdG-"
      },
      "source": [
        "def cam_1(model, conv_outputs, prediction_idx):\n",
        "  cam_layers = get_cam_layers(model)\n",
        "  class_weights = cam_layers[1][-1].get_weights()[0]\n",
        "  conv_outputs = conv_outputs[0, :, :, :]\n",
        "  cam = np.zeros(dtype=np.float32, shape=conv_outputs.shape[0:2])\n",
        "  for index, weight in enumerate(class_weights[:, prediction_idx]):\n",
        "    cam += weight * conv_outputs[:, :, index]\n",
        "\n",
        "  return cam"
      ],
      "execution_count": 25,
      "outputs": []
    },
    {
      "cell_type": "markdown",
      "metadata": {
        "id": "p3GGM8ykJbxL"
      },
      "source": [
        "# Experiments"
      ]
    },
    {
      "cell_type": "code",
      "metadata": {
        "colab": {
          "base_uri": "https://localhost:8080/",
          "height": 285
        },
        "id": "Olk8UDOBSIWy",
        "outputId": "c6528c03-82f5-433e-af62-6e7a4b22d63a"
      },
      "source": [
        "# debugging cams and values\n",
        "test_ids = {\n",
        "        \"1\": 3455,\n",
        "        \"4\": 6195,\n",
        "        \"0\": 3710,\n",
        "        \"6\": 6187,\n",
        "        \"7\": 6606,\n",
        "        \"5\": 6148,\n",
        "        \"9\": 5622,\n",
        "    }\n",
        "\n",
        "test_idx = 6\n",
        "test_mnist_idx = test_ids[f\"{test_idx}\"]\n",
        "test_mnist_image = mnist_test[0][test_mnist_idx]\n",
        "# show_image(test_mnist_image)\n",
        "\n",
        "# GCM (Transfer learned network - init geo, end mnist)\n",
        "# gcm_mnist_image, _, prediction, test_img_idx = get_prediction(model_gcm, mnist_test, test_idx)\n",
        "# gcm_prediction_idx = np.argmax(prediction)\n",
        "gcm_mnist_cam, gcm_conv_output, gcm_mnist_prediction, _ = grad_cam_pp(test_mnist_image, model_gcm, -3)\n",
        "conv_output_hash = hashlib.sha256(gcm_conv_output.numpy()).hexdigest().upper()\n",
        "\n",
        "print(f\"conv output hash: {conv_output_hash}\")\n",
        "title = f\"MNIST prediction: {gcm_mnist_prediction} (truth: {test_idx})\"\n",
        "show_heatmap(test_mnist_image, gcm_mnist_cam, (28, 28, 1), True, title)\n",
        "\n",
        "assert test_idx == gcm_mnist_prediction, \"Missmatched ids. Wanted %d, received %d\" % (test_idx, gcm_mnist_prediction)"
      ],
      "execution_count": 26,
      "outputs": [
        {
          "output_type": "stream",
          "text": [
            "conv output hash: B652990F1F101BBCBBFCEA9DF4AA3C7A180061FC46EE2AB35DAFB8822A4886F7\n"
          ],
          "name": "stdout"
        },
        {
          "output_type": "display_data",
          "data": {
            "image/png": "[encoded data removed]",
            "text/plain": [
              "<Figure size 432x288 with 1 Axes>"
            ]
          },
          "metadata": {
            "tags": []
          }
        }
      ]
    },
    {
      "cell_type": "code",
      "metadata": {
        "colab": {
          "base_uri": "https://localhost:8080/",
          "height": 303
        },
        "id": "08Eub8uu5kre",
        "outputId": "27af26c8-6b1e-4414-d0bc-b6b3e696fec0"
      },
      "source": [
        "# prediction based on cam heatmap (not promissing)\n",
        "\n",
        "test_image, test_label = get_sample(mnist_test)\n",
        "gcm_mnist_cam, gcm_conv_output, gcm_mnist_prediction, _ = grad_cam_pp(test_image, model_gcm)\n",
        "heatmap = get_heatmap(gcm_mnist_cam, (28, 28)).reshape(28, 28, 1) * 255\n",
        "prediction = predict(model_geo, heatmap)\n",
        "\n",
        "labels = dataset[2]\n",
        "sorted_indexes = np.flip(np.argsort(prediction[0]))\n",
        "percentages = prediction[0] / prediction[0][sorted_indexes[0]]\n",
        "\n",
        "print(f\"1st : {labels[sorted_indexes[0]]} ({percentages[sorted_indexes[0]] * 100:.2f}%)\")\n",
        "print(f\"2nd : {labels[sorted_indexes[1]]} ({percentages[sorted_indexes[1]] * 100:.2f}%)\")\n",
        "print(f\"3rd : {labels[sorted_indexes[2]]} ({percentages[sorted_indexes[2]] * 100:.2f}%)\")\n",
        "\n",
        "plt.figure(facecolor='white')\n",
        "ax = plt.gca()\n",
        "ax.set_xticklabels([])\n",
        "ax.set_yticklabels([])\n",
        "plt.imshow(test_image.reshape(28, 28), alpha=0.5, cmap='Greys')\n",
        "plt.imshow(heatmap.reshape(28, 28), cmap='jet', alpha=0.5)\n",
        "plt.show()  "
      ],
      "execution_count": 116,
      "outputs": [
        {
          "output_type": "stream",
          "text": [
            "1st : vertical (100.00%)\n",
            "2nd : lower_than (11.97%)\n",
            "3rd : greather_than (4.13%)\n"
          ],
          "name": "stdout"
        },
        {
          "output_type": "display_data",
          "data": {
            "image/png": "[encoded data removed]",
            "text/plain": [
              "<Figure size 432x288 with 1 Axes>"
            ]
          },
          "metadata": {
            "tags": []
          }
        }
      ]
    },
    {
      "cell_type": "code",
      "metadata": {
        "colab": {
          "base_uri": "https://localhost:8080/",
          "height": 303
        },
        "id": "TJmpP2R3apuX",
        "outputId": "751752dd-edbb-4d42-8048-790d3bae9b9c"
      },
      "source": [
        "# prediction based on conv output\n",
        "test_image, test_label = get_sample(mnist_test)\n",
        "gcm_mnist_cam, gcm_conv_output, gcm_mnist_prediction, _ = grad_cam_pp(test_image, model_gcm)\n",
        "assert test_label == gcm_mnist_prediction, \"Missmatched ids. Wanted %d, received %d\" % (test_idx, test_label)\n",
        "\n",
        "# CAM for GEO NN (Knowledge Domain Network)\n",
        "geo_layers = get_cam_layers(keras.models.clone_model(model_geo))\n",
        "model_gcg = keras.Sequential()\n",
        "for layer in geo_layers[1]:\n",
        "  model_gcg.add(layer)\n",
        "\n",
        "# Prediction\n",
        "labels = dataset[2]\n",
        "gcg_predictions = model_gcg(gcm_conv_output)\n",
        "sorted_indexes = np.flip(np.argsort(gcg_predictions[0]))\n",
        "percentages = gcg_predictions[0] / gcg_predictions[0][sorted_indexes[0]]\n",
        "\n",
        "print(f\"1st : {labels[sorted_indexes[0]]} ({percentages[sorted_indexes[0]] * 100:.2f}%)\")\n",
        "print(f\"2nd : {labels[sorted_indexes[1]]} ({percentages[sorted_indexes[1]] * 100:.2f}%)\")\n",
        "print(f\"3rd : {labels[sorted_indexes[2]]} ({percentages[sorted_indexes[2]] * 100:.2f}%)\")\n",
        "\n",
        "# Debug (CAM projection)\n",
        "gcg_mnist_cam = cam_1(model_geo, gcm_conv_output, gcg_prediction_idx)\n",
        "show_heatmap(test_image, gcg_mnist_cam, (28, 28, 1), True)"
      ],
      "execution_count": 135,
      "outputs": [
        {
          "output_type": "stream",
          "text": [
            "1st : ellipse (100.00%)\n",
            "2nd : lower_than (14.56%)\n",
            "3rd : horizontal (12.43%)\n"
          ],
          "name": "stdout"
        },
        {
          "output_type": "display_data",
          "data": {
            "image/png": "[encoded data removed]",
            "text/plain": [
              "<Figure size 432x288 with 1 Axes>"
            ]
          },
          "metadata": {
            "tags": []
          }
        }
      ]
    },
    {
      "cell_type": "markdown",
      "metadata": {
        "id": "dYdBJYcHpEir"
      },
      "source": [
        "# Metrics"
      ]
    },
    {
      "cell_type": "code",
      "metadata": {
        "colab": {
          "base_uri": "https://localhost:8080/",
          "height": 944
        },
        "id": "0QSGfUG-pCI2",
        "outputId": "c7dbf4ec-cd32-4a0e-854a-d6d0460f3d91"
      },
      "source": [
        "from sklearn.metrics import precision_recall_curve\n",
        "from sklearn.metrics import accuracy_score\n",
        "from sklearn.metrics import precision_score\n",
        "from sklearn.metrics import recall_score\n",
        "from sklearn.metrics import f1_score\n",
        "\n",
        "digit_decomposition_categories = [\"vertical\", \"horizontal\", \"diagonal\", \"ellipse\", \"greather_than\", \"lower_than\"]\n",
        "digits_descriptions = [\n",
        "  [\"ellipse\"], #0\n",
        "  [\"vertical\", \"diagonal\"], #1\n",
        "  [\"horizontal\", \"diagonal\"], #2\n",
        "  [\"lower_than\", \"horizontal\"], #3\n",
        "  [\"vertical\", \"horizontal\"], #4\n",
        "  [\"greather_than\", \"vertical\", \"horizontal\"], #5\n",
        "  [\"diagonal\", \"ellipse\"], #6\n",
        "  [\"diagonal\", \"horizontal\"], #7\n",
        "  [\"ellipse\"], #8\n",
        "  [\"ellipse\", \"diagonal\"], #9\n",
        "]\n",
        "\n",
        "validation_amount = 50\n",
        "validation_idxs = np.random.choice(validation_amount, len(mnist_test[0]))\n",
        "\n",
        "y_true, y_score = [], []\n",
        "precision, recall = dict(), dict()\n",
        "for i in range(validation_amount):\n",
        "  validation_idx = validation_idxs[i]\n",
        "  \n",
        "  # true\n",
        "  true_mnist_label = np.argmax(mnist_test[1][validation_idx])\n",
        "  true_digit_decomposition_label = digits_descriptions[true_mnist_label][0]\n",
        "  true_digit_decomposition_idx = digit_decomposition_categories.index(true_digit_decomposition_label)\n",
        "  y_true.append(true_digit_decomposition_idx)\n",
        "\n",
        "  # prediction\n",
        "  test_mnist_image = mnist_test[0][validation_idx]\n",
        "  gcm_mnist_cam, gcm_conv_output, _, _ = grad_cam_pp(test_mnist_image, model_gcm)\n",
        "  \n",
        "  #image = get_heatmap(gcm_mnist_cam, (28, 28)).reshape(28, 28, 1) * 255\n",
        "  #prediction = predict(model_geo, image)\n",
        "\n",
        "  prediction = model_gcg(gcm_conv_output)\n",
        "  score_digit_decomposition_idx = digit_decomposition_categories.index(dataset[2][np.argmax(prediction)])\n",
        "  y_score.append(score_digit_decomposition_idx)\n",
        "\n",
        "y_true, y_score = np.array(y_true), np.array(y_score)\n",
        "\n",
        "print(f\"MAIN Accuracy: {accuracy_score(y_true, y_score)}\")\n",
        "\n",
        "# plot\n",
        "plt.figure()\n",
        "\n",
        "for i in range(len(digit_decomposition_categories)):\n",
        "  a, b = np.int0(y_true == i), np.int0(y_score == i)\n",
        "  \n",
        "  print(f\"[{i}] Accuracy: {accuracy_score(a, b)}\")\n",
        "  print(f\"[{i}] Precision: {precision_score(a, b, average='weighted')}\")\n",
        "  print(f\"[{i}] Recall: {recall_score(a, b, average='weighted')}\")\n",
        "  print(f\"[{i}] F1 score: {f1_score(a, b, average='weighted')}\")\n",
        "\n",
        "  precision[i], recall[i], _ = precision_recall_curve(a, b)\n",
        "  plt.plot(recall[i], precision[i])\n",
        "\n",
        "plt.xlabel(\"recall\")\n",
        "plt.ylabel(\"precision\")\n",
        "plt.title(\"precision vs. recall curve\")\n",
        "plt.show()"
      ],
      "execution_count": 148,
      "outputs": [
        {
          "output_type": "stream",
          "text": [
            "MAIN Accuracy: 0.14\n",
            "[0] Accuracy: 0.56\n",
            "[0] Precision: 0.31360000000000005\n",
            "[0] Recall: 0.56\n",
            "[0] F1 score: 0.40205128205128204\n",
            "[1] Accuracy: 0.88\n",
            "[1] Precision: 0.7744\n",
            "[1] Recall: 0.88\n",
            "[1] F1 score: 0.8238297872340425\n",
            "[2] Accuracy: 0.82\n",
            "[2] Precision: 0.6724\n",
            "[2] Recall: 0.82\n",
            "[2] F1 score: 0.738901098901099\n",
            "[3] Accuracy: 0.14\n",
            "[3] Precision: 0.019600000000000003\n",
            "[3] Recall: 0.14\n",
            "[3] F1 score: 0.0343859649122807\n",
            "[4] Accuracy: 1.0\n",
            "[4] Precision: 1.0\n",
            "[4] Recall: 1.0\n",
            "[4] F1 score: 1.0\n",
            "[5] Accuracy: 0.88\n",
            "[5] Precision: 0.7744\n",
            "[5] Recall: 0.88\n",
            "[5] F1 score: 0.8238297872340425\n"
          ],
          "name": "stdout"
        },
        {
          "output_type": "stream",
          "text": [
            "/usr/local/lib/python3.7/dist-packages/sklearn/metrics/_classification.py:1272: UndefinedMetricWarning: Precision is ill-defined and being set to 0.0 in labels with no predicted samples. Use `zero_division` parameter to control this behavior.\n",
            "  _warn_prf(average, modifier, msg_start, len(result))\n",
            "/usr/local/lib/python3.7/dist-packages/sklearn/metrics/_classification.py:1272: UndefinedMetricWarning: Precision is ill-defined and being set to 0.0 in labels with no predicted samples. Use `zero_division` parameter to control this behavior.\n",
            "  _warn_prf(average, modifier, msg_start, len(result))\n",
            "/usr/local/lib/python3.7/dist-packages/sklearn/metrics/_classification.py:1272: UndefinedMetricWarning: Precision is ill-defined and being set to 0.0 in labels with no predicted samples. Use `zero_division` parameter to control this behavior.\n",
            "  _warn_prf(average, modifier, msg_start, len(result))\n",
            "/usr/local/lib/python3.7/dist-packages/sklearn/metrics/_classification.py:1272: UndefinedMetricWarning: Precision is ill-defined and being set to 0.0 in labels with no predicted samples. Use `zero_division` parameter to control this behavior.\n",
            "  _warn_prf(average, modifier, msg_start, len(result))\n",
            "/usr/local/lib/python3.7/dist-packages/sklearn/metrics/_ranking.py:677: RuntimeWarning: invalid value encountered in true_divide\n",
            "  recall = tps / tps[-1]\n",
            "/usr/local/lib/python3.7/dist-packages/sklearn/metrics/_classification.py:1272: UndefinedMetricWarning: Precision is ill-defined and being set to 0.0 in labels with no predicted samples. Use `zero_division` parameter to control this behavior.\n",
            "  _warn_prf(average, modifier, msg_start, len(result))\n"
          ],
          "name": "stderr"
        },
        {
          "output_type": "display_data",
          "data": {
            "image/png": "[encoded data removed]",
            "text/plain": [
              "<Figure size 432x288 with 1 Axes>"
            ]
          },
          "metadata": {
            "tags": [],
            "needs_background": "light"
          }
        }
      ]
    }
  ]
}