{
  "nbformat": 4,
  "nbformat_minor": 0,
  "metadata": {
    "accelerator": "GPU",
    "colab": {
      "name": "Geo-Cam.ipynb",
      "provenance": [],
      "collapsed_sections": [
        "cB_AS_K_X5J0",
        "dh0s3r14hr-I"
      ],
      "authorship_tag": "ABX9TyPpdVfrEVrZyzEP1hGebYgS",
      "include_colab_link": true
    },
    "kernelspec": {
      "display_name": "Python 3",
      "name": "python3"
    }
  },
  "cells": [
    {
      "cell_type": "markdown",
      "metadata": {
        "id": "view-in-github",
        "colab_type": "text"
      },
      "source": [
        "<a href=\"https://colab.research.google.com/github/fsilvestrim/thesis/blob/master/Geo_Cam.ipynb\" target=\"_parent\"><img src=\"https://colab.research.google.com/assets/colab-badge.svg\" alt=\"Open In Colab\"/></a>"
      ]
    },
    {
      "cell_type": "markdown",
      "metadata": {
        "id": "cB_AS_K_X5J0"
      },
      "source": [
        "# Utils"
      ]
    },
    {
      "cell_type": "code",
      "metadata": {
        "id": "W2x-VCBnFz5h"
      },
      "source": [
        "import re\n",
        "import time\n",
        "import random\n",
        "import numpy as np\n",
        "import scipy as sp\n",
        "import pickle\n",
        "import hashlib\n",
        "import math\n",
        "import shutil\n",
        "import PIL\n",
        "import cv2\n",
        "import pandas as pd\n",
        "import warnings\n",
        "\n",
        "from tqdm import tqdm \n",
        "\n",
        "from sklearn.metrics import precision_recall_curve\n",
        "from sklearn.metrics import accuracy_score\n",
        "from sklearn.metrics import precision_score\n",
        "from sklearn.metrics import recall_score\n",
        "from sklearn.metrics import f1_score\n",
        "\n",
        "from mpl_toolkits.axes_grid1 import ImageGrid\n",
        "\n",
        "from matplotlib import cm\n",
        "import matplotlib.pyplot as plt\n",
        "import matplotlib.image as mpimg\n",
        "\n",
        "from IPython.display import Image, display\n",
        "\n",
        "np.seterr(divide='ignore', invalid='ignore')\n",
        "\n",
        "%matplotlib inline"
      ],
      "execution_count": 1,
      "outputs": []
    },
    {
      "cell_type": "code",
      "metadata": {
        "colab": {
          "base_uri": "https://localhost:8080/"
        },
        "id": "BvhCa24vLZ--",
        "outputId": "6f0b72bc-45fe-49b1-a365-b484e0416b93"
      },
      "source": [
        "#%tensorflow_version 2.x\n",
        "\n",
        "import tensorflow as tf\n",
        "print(tf.__version__)\n",
        "from tensorflow import keras\n",
        "from keras import backend as K\n",
        "from tensorflow.keras import layers\n",
        "from tensorflow.keras.models import Model\n",
        "from tensorflow.python.framework.ops import disable_eager_execution\n",
        "from tensorflow.python.framework.ops import enable_eager_execution\n",
        "\n",
        "#disable_eager_execution()\n",
        "enable_eager_execution()\n",
        "print('Eager mode: %s' % tf.executing_eagerly())\n",
        "\n",
        "device_name = tf.test.gpu_device_name()\n",
        "\n",
        "if device_name != '/device:GPU:0':\n",
        "  raise SystemError('GPU device not found')\n",
        "\n",
        "print('Found GPU at: {}'.format(device_name))"
      ],
      "execution_count": 2,
      "outputs": [
        {
          "output_type": "stream",
          "text": [
            "2.5.0\n",
            "Eager mode: True\n",
            "Found GPU at: /device:GPU:0\n"
          ],
          "name": "stdout"
        }
      ]
    },
    {
      "cell_type": "code",
      "metadata": {
        "id": "uje-TvzHnKie"
      },
      "source": [
        "def safe_divide(a, b, abs=True):\n",
        "  val = 0 if type(a) is not np.ndarray else np.zeros(a.shape)\n",
        "\n",
        "  if b != 0 and not math.isnan(b):\n",
        "    val = np.divide(a, b)\n",
        "\n",
        "  return np.int0(val) if abs else val"
      ],
      "execution_count": 3,
      "outputs": []
    },
    {
      "cell_type": "code",
      "metadata": {
        "id": "MgrqqJiFxkjC"
      },
      "source": [
        "def resize_image(image, size):\n",
        "  if len(image.shape) > 2:\n",
        "    image = image.reshape(size[0], size[1])\n",
        "\n",
        "  if image.shape[0] != size[0] or image.shape[1] != size[1]:\n",
        "    width_zoom = size[0] / image.shape[0]\n",
        "    height_zoom = size[1] / image.shape[1]\n",
        "    image = sp.ndimage.zoom(image, (height_zoom, width_zoom), order=2)\n",
        "\n",
        "  return image"
      ],
      "execution_count": 4,
      "outputs": []
    },
    {
      "cell_type": "code",
      "metadata": {
        "id": "DfU8rMxdffJD"
      },
      "source": [
        "def show_image(img, size=None, title=None, ax=None, alpha=1, cmap='Greys', rotation=0, stacked_imgs=[]):\n",
        "  if size is not None:\n",
        "    img = resize_image(img, size)\n",
        "    # img.reshape(size[0], size[1])\n",
        "\n",
        "  # plot\n",
        "  subplot = ax is not None\n",
        "\n",
        "  if not subplot:\n",
        "    plt.figure(facecolor='white')\n",
        "    ax = plt.gca()\n",
        "\n",
        "  ax.set_xticklabels([])\n",
        "  ax.set_yticklabels([])\n",
        "\n",
        "  if rotation != 0:\n",
        "    img = scipy.ndimage.rotate(img, rotation)\n",
        "  \n",
        "  if not subplot:\n",
        "    plt.imshow(img, cmap=cmap, alpha=alpha)\n",
        "    for s_image in stacked_imgs:\n",
        "      s_img = s_image.get('img').reshape(size[0], size[1])\n",
        "      if rotation != 0:\n",
        "        s_img = scipy.ndimage.rotate(s_img, rotation)\n",
        "      plt.imshow(s_img, cmap=s_image.get('cmap') or 'Greys', alpha=s_image.get('alpha') or 0.5)\n",
        "\n",
        "    plt.axis('off')\n",
        "\n",
        "    if title is not None:\n",
        "      plt.title(title)\n",
        "    \n",
        "    plt.show()\n",
        "  \n",
        "  else:\n",
        "    if title is not None:\n",
        "      ax.set_title(title, fontdict=None, loc='center', color = \"k\")\n",
        "\n",
        "    ax.imshow(img, cmap=cmap, alpha=alpha)\n",
        "    for s_image in stacked_imgs:\n",
        "        s_img = s_image.get('img').reshape(size[0], size[1])\n",
        "        if rotation != 0:\n",
        "          s_img = scipy.ndimage.rotate(s_img, rotation)\n",
        "        ax.imshow(s_img, cmap=s_image.get('cmap') or 'Greys', alpha=s_image.get('alpha') or 0.5)"
      ],
      "execution_count": 5,
      "outputs": []
    },
    {
      "cell_type": "code",
      "metadata": {
        "id": "Ya25j5pbZoq2"
      },
      "source": [
        "def show_heatmap(img, cam, size, resize=True, title=None, ax=None):\n",
        "  heatmap = get_heatmap(cam, size, resize)\n",
        "  show_image(img, size, title=title, ax=ax, alpha=0.3, stacked_imgs=[{'img':heatmap, 'cmap':'jet'}])"
      ],
      "execution_count": 6,
      "outputs": []
    },
    {
      "cell_type": "code",
      "metadata": {
        "id": "LNQAoOL5jlVC"
      },
      "source": [
        "def get_heatmap(cam, size, resize=True):\n",
        "  heatmap = cam / np.max(cam)\n",
        " \n",
        "  if resize:\n",
        "    heatmap = resize_image(heatmap, size)\n",
        " \n",
        "  return heatmap"
      ],
      "execution_count": 7,
      "outputs": []
    },
    {
      "cell_type": "code",
      "metadata": {
        "id": "TrovwQHTWrlB"
      },
      "source": [
        "def show_prediction(image, truth, prediction, label_descriptions=None, size=(28,28)):\n",
        "  prediction = np.argmax(prediction)\n",
        "  prediction = prediction if label_descriptions is None else label_descriptions[prediction]\n",
        "  truth = truth if label_descriptions is None else label_descriptions[truth]\n",
        "  title = f\"Prediction: {prediction} / Truth: {truth}\"\n",
        "  show_image(image, size, title)"
      ],
      "execution_count": 8,
      "outputs": []
    },
    {
      "cell_type": "code",
      "metadata": {
        "id": "LF2nobFe76jK"
      },
      "source": [
        "def plot_model_score(score, history):\n",
        "  plt.figure(facecolor='white')\n",
        "  plt.plot(history['loss'])\n",
        "  plt.plot(history['val_loss'])\n",
        "  plt.ylabel('Loss')\n",
        "  plt.xlabel('Epoch')\n",
        "  plt.legend(['Train', 'Validation'], loc='upper left')\n",
        "  plt.title(\"Loss: %.5f vs. Accuracy: %.5f\" % (score[0], score[1]))\n",
        "  plt.show() "
      ],
      "execution_count": 9,
      "outputs": []
    },
    {
      "cell_type": "code",
      "metadata": {
        "id": "PARsNtG47nUc"
      },
      "source": [
        "def load_model(name):\n",
        "  model = keras.models.load_model(\"saved_model_%s\" % name)\n",
        "  history = pickle.load(open('saved_model_%s/history' % name, \"rb\"))\n",
        "\n",
        "  return model, history"
      ],
      "execution_count": 10,
      "outputs": []
    },
    {
      "cell_type": "code",
      "metadata": {
        "id": "eQiN2YfH66oZ"
      },
      "source": [
        "def save_model(model, history, name):\n",
        "  model.save(\"saved_model_%s\" % name)\n",
        "\n",
        "  with open('saved_model_%s/history' % name, 'wb') as file_pi:\n",
        "    pickle.dump(history.history, file_pi)"
      ],
      "execution_count": 11,
      "outputs": []
    },
    {
      "cell_type": "code",
      "metadata": {
        "id": "9y0SKay9zUyh"
      },
      "source": [
        "def get_cam_layers(model):\n",
        "  last_conv_layer = None\n",
        "  last_layers = []\n",
        "  conv_layers = []\n",
        "  for layer in reversed(model.layers):\n",
        "      # check to see if the layer has a 4D output\n",
        "      if len(layer.output_shape) == 4 and last_conv_layer is None:\n",
        "        last_conv_layer = layer\n",
        "        # print(\"Last Conv Layer: %s, filters %s\" % (layer.name, layer.filters))\n",
        "\n",
        "      if last_conv_layer is not None:\n",
        "        conv_layers.insert(0, layer)\n",
        "      else:\n",
        "        last_layers.insert(0, layer)\n",
        "\n",
        "  return conv_layers, last_layers"
      ],
      "execution_count": 12,
      "outputs": []
    },
    {
      "cell_type": "code",
      "metadata": {
        "id": "Ea6P7fJtpgeL"
      },
      "source": [
        "def get_layer(model, layer_name):\n",
        "  for layer in model.layers:\n",
        "    if layer.name == layer_name:\n",
        "      return layer\n",
        "\n",
        "  return None"
      ],
      "execution_count": 13,
      "outputs": []
    },
    {
      "cell_type": "code",
      "metadata": {
        "id": "JBpsHZ8HJ9ZP"
      },
      "source": [
        "def get_sample(test_set, idx=-1):\n",
        "  test_idx = random.randint(0, len(test_set[0])) if idx < 0 else idx\n",
        "  test_image = test_set[0][test_idx]\n",
        "  test_label = np.argmax(test_set[1][test_idx])\n",
        "\n",
        "  return test_image, test_label, test_idx"
      ],
      "execution_count": 14,
      "outputs": []
    },
    {
      "cell_type": "code",
      "metadata": {
        "id": "DLP3omNp6B1z"
      },
      "source": [
        "def predict(model, image):\n",
        "  return model.predict(np.expand_dims(image, 0))"
      ],
      "execution_count": 15,
      "outputs": []
    },
    {
      "cell_type": "code",
      "metadata": {
        "id": "CfQxjWHqzuoI"
      },
      "source": [
        "def get_prediction(model, test_set, idx=-1):\n",
        "  x, y, idx = get_sample(test_set, idx)\n",
        "  prediction = predict(model, x)\n",
        "\n",
        "  return x, y, prediction, idx"
      ],
      "execution_count": 16,
      "outputs": []
    },
    {
      "cell_type": "code",
      "metadata": {
        "id": "wIXXoT0p0I3M"
      },
      "source": [
        "def format_dataset(num_classes, train, test):\n",
        "  (x_train, y_train), (x_test, y_test) = train, test\n",
        "\n",
        "  print(x_train[0].shape)\n",
        "  print(y_train[0])\n",
        "\n",
        "  # Scale images to the [0, 1] range\n",
        "  x_train = x_train.astype(\"float32\") / 255\n",
        "  x_test = x_test.astype(\"float32\") / 255\n",
        "\n",
        "  # Make sure images have shape (28, 28, 1)\n",
        "  x_train = np.expand_dims(x_train, -1)\n",
        "  x_test = np.expand_dims(x_test, -1)\n",
        "\n",
        "  print(\"x_train shape:\", x_train.shape)\n",
        "  print(x_train.shape[0], \"train samples\")\n",
        "  print(x_test.shape[0], \"test samples\")\n",
        "\n",
        "  # convert class vectors to binary class matrices\n",
        "  y_train = keras.utils.to_categorical(y_train, num_classes)\n",
        "  y_test = keras.utils.to_categorical(y_test, num_classes)\n",
        "\n",
        "  return (x_train, y_train), (x_test, y_test)"
      ],
      "execution_count": 17,
      "outputs": []
    },
    {
      "cell_type": "code",
      "metadata": {
        "id": "zX6zWUrLQQJ0"
      },
      "source": [
        "def copy_model(original_model, trainable=False):\n",
        "  new_model = keras.models.clone_model(original_model)\n",
        "  new_model.set_weights(original_model.get_weights())\n",
        "  new_model.trainable = trainable\n",
        "  return new_model"
      ],
      "execution_count": 18,
      "outputs": []
    },
    {
      "cell_type": "code",
      "metadata": {
        "id": "UdUreeoWImv4"
      },
      "source": [
        "def get_boundingbox(image):\n",
        "  img = np.ones(3, dtype=int)[None, None, :] * (1-image)\n",
        "  imgray = cv2.cvtColor(img.astype('uint8') * 255, cv2.COLOR_BGR2GRAY)\n",
        "  ret, thresh = cv2.threshold(imgray, 127, 255, 0)\n",
        "  contours, hierarchy = cv2.findContours(thresh, cv2.RETR_TREE, cv2.CHAIN_APPROX_SIMPLE)\n",
        "  return cv2.boundingRect(contours[-1])"
      ],
      "execution_count": 19,
      "outputs": []
    },
    {
      "cell_type": "code",
      "metadata": {
        "id": "5H4RJaw77TBL"
      },
      "source": [
        "def get_grid_position(position, size, boundingbox=None, divisions=(3,3)):\n",
        "  min_x = 0 if boundingbox is None else boundingbox[0]\n",
        "  min_y = 0 if boundingbox is None else boundingbox[1]\n",
        "  max_x = size[0] if boundingbox is None else boundingbox[0] + boundingbox[2]\n",
        "  max_y = size[1] if boundingbox is None else boundingbox[1] + boundingbox[3]\n",
        "  x = np.clip(position[0], min_x, max_x) - min_x\n",
        "  y = np.clip(position[1], min_y, max_y) - min_y\n",
        "\n",
        "  horizontal_idx =  np.minimum(x / (max_x / divisions[0]), divisions[0]-1)\n",
        "  vertical_idx =  np.minimum(y / (max_y / divisions[1]), divisions[1]-1)\n",
        "\n",
        "  # print(f\"{vertical_idx}, {horizontal_idx} => {position} - {x}, {y} [{boundingbox}]\")\n",
        "  return np.int0(vertical_idx), np.int0(horizontal_idx)"
      ],
      "execution_count": 20,
      "outputs": []
    },
    {
      "cell_type": "code",
      "metadata": {
        "id": "PEaXQZSA6zkt"
      },
      "source": [
        "def get_verbose_grid_position(vertical_idx, horizontal_idx):\n",
        "  horizontal_labels = ['left', 'mid', 'right']\n",
        "  vertical_labels = ['top', 'mid', 'bottom']\n",
        "  \n",
        "  vertical_idx = np.clip(vertical_idx, 0, len(horizontal_labels)-1)\n",
        "  horizontal_idx = np.clip(horizontal_idx, 0, len(vertical_labels)-1)\n",
        "\n",
        "  return vertical_labels[vertical_idx], horizontal_labels[horizontal_idx]"
      ],
      "execution_count": 21,
      "outputs": []
    },
    {
      "cell_type": "code",
      "metadata": {
        "id": "m6n4JRHWdqr-"
      },
      "source": [
        "def download_file(name, filepath):\n",
        "  return tf.keras.utils.get_file(name, filepath)"
      ],
      "execution_count": 22,
      "outputs": []
    },
    {
      "cell_type": "code",
      "metadata": {
        "id": "K1jYhQdad3dy"
      },
      "source": [
        "def load_npz_dataset(path):\n",
        "  with np.load(path, allow_pickle=True) as f:\n",
        "    x_train, y_train = f['x_train'], f['y_train']\n",
        "    x_test, y_test = f['x_test'], f['y_test']\n",
        "\n",
        "    return (x_train, y_train), (x_test, y_test)"
      ],
      "execution_count": 23,
      "outputs": []
    },
    {
      "cell_type": "code",
      "metadata": {
        "id": "WAgIckpJwg2Y"
      },
      "source": [
        "def normalize_cam(cam):\n",
        "  max = np.max(cam)\n",
        "  min = np.min(cam)\n",
        "  norm = safe_divide(cam - min, max - min, abs=False)\n",
        "\n",
        "  return min, max, norm"
      ],
      "execution_count": 24,
      "outputs": []
    },
    {
      "cell_type": "code",
      "metadata": {
        "id": "IXd9lwI2S5DN"
      },
      "source": [
        "def show_image_in_grid(image_2d_np_array, image_size, figsize=(16, 16), padding=0.3):\n",
        "  image_idx = 0\n",
        "  fig = plt.figure(figsize=figsize)\n",
        "  grid = ImageGrid(fig, 111, nrows_ncols=image_2d_np_array.shape[:2], axes_pad=padding, label_mode=\"1\")\n",
        "\n",
        "  for row in image_2d_np_array:\n",
        "    for image in row:\n",
        "      grid[image_idx].axis('off')\n",
        "      grid[image_idx].get_yaxis().set_ticks([])\n",
        "      grid[image_idx].get_xaxis().set_ticks([])\n",
        "      if isinstance(image, dict):\n",
        "        show_image(image['img'], image_size, ax=grid[image_idx], cmap=image['cmap'], title=image['title'] if 'title' in image else None)\n",
        "      else:\n",
        "        show_image(image, image_size, ax=grid[image_idx])\n",
        "      image_idx += 1\n",
        "\n",
        "  plt.axis('off')\n",
        "  plt.show()"
      ],
      "execution_count": 25,
      "outputs": []
    },
    {
      "cell_type": "markdown",
      "metadata": {
        "id": "DCz5iiaJH5r2"
      },
      "source": [
        "# CAMs"
      ]
    },
    {
      "cell_type": "code",
      "metadata": {
        "id": "y_iMKQkCUdG-"
      },
      "source": [
        "def cam(model, conv_outputs, prediction_idx):\n",
        "  cam_layers = get_cam_layers(model)\n",
        "  class_weights = cam_layers[0][-1].get_weights()[0]\n",
        "  conv_outputs = conv_outputs[0, :, :, :]\n",
        "  cam = np.zeros(dtype=np.float32, shape=conv_outputs.shape[0:2])\n",
        "  for index, weight in enumerate(class_weights[:, prediction_idx]):\n",
        "    cam += weight * conv_outputs[:, :, index]\n",
        "\n",
        "  return cam"
      ],
      "execution_count": 26,
      "outputs": []
    },
    {
      "cell_type": "code",
      "metadata": {
        "id": "sSFN06vaJwKH"
      },
      "source": [
        "def grad_cam_m(image, cam_model, prediction_idx=-1, prediction_output=0):\n",
        "  with tf.GradientTape() as tape:\n",
        "    func_return = cam_model(np.expand_dims(image, 0))\n",
        "    conv_output, predictions = func_return[prediction_output] if len(func_return[0]) > 1 else func_return\n",
        "    predictions = predictions[prediction_output] if len(predictions) > 1 else predictions\n",
        "    prediction_idx = np.argmax(predictions) if prediction_idx < 0 else prediction_idx\n",
        "    output = predictions[:, prediction_idx]\n",
        "\n",
        "  grads = tape.gradient(output, conv_output)\n",
        "  # print(f\"{prediction_idx} -> {hashlib.sha256(grads).hexdigest().upper()}\")\n",
        "  pooled_grads = tf.reduce_mean(grads, axis=(0, 1, 2))\n",
        "\n",
        "  conv_output = conv_output.numpy()[0]\n",
        "  pooled_grads = pooled_grads.numpy()\n",
        "\n",
        "  for i in range(pooled_grads.shape[-1]):\n",
        "    conv_output[:, :, i] *= pooled_grads[i]\n",
        "\n",
        "  cam = np.mean(conv_output, axis=-1)\n",
        "\n",
        "  return cam, conv_output, predictions, pooled_grads\n",
        "\n",
        "def grad_cam(image, model, con_layer_idx=-1, prediction_idx=-1):\n",
        "  cam_layers = get_cam_layers(model)\n",
        "  conv_layer = cam_layers[0][con_layer_idx]\n",
        "  cam_model = Model([model.inputs], [conv_layer.get_output_at(0), model.output])\n",
        "\n",
        "  return grad_cam_m(image, cam_model, prediction_idx)"
      ],
      "execution_count": 27,
      "outputs": []
    },
    {
      "cell_type": "code",
      "metadata": {
        "id": "3IKNZaIoWJWg"
      },
      "source": [
        "def grad_cam_pp_m(image, cam_model, prediction_idx=-1, prediction_output=0):\n",
        "  with tf.GradientTape() as tape1:\n",
        "      with tf.GradientTape() as tape2:\n",
        "          with tf.GradientTape() as tape3:\n",
        "            func_return = cam_model(np.expand_dims(image, 0))\n",
        "            conv_output, predictions = func_return[prediction_output] if len(func_return[0]) > 1 else func_return\n",
        "            predictions = predictions[prediction_output] if len(predictions) > 1 else predictions\n",
        "            prediction_idx = np.argmax(predictions) if prediction_idx < 0 else prediction_idx\n",
        "            output = predictions[:, prediction_idx]\n",
        "            conv_first_grad = tape3.gradient(output, conv_output)\n",
        "          conv_second_grad = tape2.gradient(conv_first_grad, conv_output)\n",
        "      conv_third_grad = tape1.gradient(conv_second_grad, conv_output)\n",
        "\n",
        "  global_sum = np.sum(conv_output, axis=(0, 1, 2))\n",
        "\n",
        "  alpha_num = conv_second_grad[0]\n",
        "  alpha_denom = conv_second_grad[0]*2.0 + conv_third_grad[0]*global_sum\n",
        "  alpha_denom = np.where(alpha_denom != 0.0, alpha_denom, 1e-10)\n",
        "\n",
        "  alphas = alpha_num/alpha_denom\n",
        "  alpha_normalization_constant = np.sum(alphas, axis=(0,1))\n",
        "  alphas /= alpha_normalization_constant\n",
        "\n",
        "  weights = np.maximum(conv_first_grad[0], 0.0)\n",
        "\n",
        "  deep_linearization_weights = np.sum(weights*alphas, axis=(0,1))\n",
        "  cam = np.sum(deep_linearization_weights*conv_output[0], axis=2)\n",
        "\n",
        "  return cam, conv_output, predictions, (conv_first_grad, conv_second_grad, conv_third_grad)\n",
        "\n",
        "def grad_cam_pp(image, model, con_layer_idx=-1, prediction_idx=-1):\n",
        "  cam_layers = get_cam_layers(model)\n",
        "  conv_layer = cam_layers[0][con_layer_idx]\n",
        "  cam_model = Model([model.inputs], [conv_layer.get_output_at(0), model.output])\n",
        "\n",
        "  return grad_cam_pp_m(image, cam_model, prediction_idx)"
      ],
      "execution_count": 28,
      "outputs": []
    },
    {
      "cell_type": "markdown",
      "metadata": {
        "id": "Okm2rbgeJNSD"
      },
      "source": [
        "#MNIST"
      ]
    },
    {
      "cell_type": "code",
      "metadata": {
        "colab": {
          "base_uri": "https://localhost:8080/"
        },
        "id": "rTNjOPRWJRz1",
        "outputId": "9951150f-3da7-410b-c993-a5570c788865"
      },
      "source": [
        "mnist_num_classes = 10\n",
        "mnist_shape = (28, 28)\n",
        "mnist_train, mnist_test = keras.datasets.mnist.load_data()\n",
        "mnist_train, mnist_test = format_dataset(mnist_num_classes, mnist_train, mnist_test)\n",
        "\n",
        "def create_mnist_model(name, input_shape, num_classes, train=None):\n",
        "  model = keras.Sequential(\n",
        "      [\n",
        "          keras.Input(shape=input_shape),\n",
        "      \n",
        "          # V1\n",
        "          # layers.Conv2D(filters=32, kernel_size=(3, 3), activation=\"relu\", name=\"mnist_first_conv\"),\n",
        "          # layers.MaxPooling2D(pool_size=(2, 2), strides=(2,2)),\n",
        "          # layers.Conv2D(filters=64, kernel_size=(3, 3), activation=\"relu\"),\n",
        "          # layers.MaxPooling2D(pool_size=(2, 2), strides=(2,2)),\n",
        "          # layers.Dropout(0.5),\n",
        "          # layers.Conv2D(filters=128, kernel_size=(3, 3), activation=\"relu\", name=\"mnist_last_conv\"),\n",
        "       \n",
        "          # V3\n",
        "          # layers.Conv2D(filters=32, kernel_size=(3, 3), padding=\"same\", activation=\"relu\", name=\"mnist_first_conv\"),\n",
        "          # layers.Conv2D(filters=64, kernel_size=(3, 3), padding=\"same\", activation=\"relu\"),\n",
        "          # layers.MaxPooling2D(pool_size=(2, 2), strides=(2,2)),\n",
        "          # layers.Dropout(0.4),\n",
        "       \n",
        "          # V2\n",
        "          layers.Conv2D(filters=128, kernel_size=(3, 3), padding=\"same\", activation=\"relu\"),\n",
        "          layers.Conv2D(filters=64, kernel_size=(3, 3), padding=\"same\", activation=\"relu\"),\n",
        "          layers.Conv2D(filters=32, kernel_size=(3, 3), padding=\"same\", activation=\"relu\", name=\"mnist_last_conv\"),\n",
        "       \n",
        "          # second part\n",
        "          layers.Flatten(),\n",
        "          layers.Dense(num_classes, activation=\"softmax\", name=\"mnist_output\"),\n",
        "      ]\n",
        "  )\n",
        "\n",
        "  model.compile(loss=\"categorical_crossentropy\", optimizer=\"adam\", metrics=[\"accuracy\"])\n",
        "\n",
        "  return model"
      ],
      "execution_count": 29,
      "outputs": [
        {
          "output_type": "stream",
          "text": [
            "Downloading data from https://storage.googleapis.com/tensorflow/tf-keras-datasets/mnist.npz\n",
            "11493376/11490434 [==============================] - 0s 0us/step\n",
            "(28, 28)\n",
            "5\n",
            "x_train shape: (60000, 28, 28, 1)\n",
            "60000 train samples\n",
            "10000 test samples\n"
          ],
          "name": "stdout"
        }
      ]
    },
    {
      "cell_type": "code",
      "metadata": {
        "colab": {
          "base_uri": "https://localhost:8080/",
          "height": 299
        },
        "id": "7n6L9f7_koKb",
        "outputId": "242ed29a-0cce-4d32-d8f4-50d5f74780e5"
      },
      "source": [
        "img_list = []\n",
        "for i in range(4):\n",
        "  img_list.append([])\n",
        "  for j in range(mnist_num_classes):\n",
        "    decomposed_category = np.zeros(shape=(mnist_num_classes))\n",
        "    decomposed_category[j] = 1\n",
        "    idx = random.choice(np.argwhere(np.equal(mnist_test[1], decomposed_category).all(1)))\n",
        "    x, y, idx = get_sample(mnist_test, idx)\n",
        "    img_list[i].append(x)\n",
        "\n",
        "show_image_in_grid(np.asarray(img_list), mnist_shape, figsize=(12, 12), padding=0)"
      ],
      "execution_count": 30,
      "outputs": [
        {
          "output_type": "display_data",
          "data": {
            "image/png": "[encoded data removed]",
            "text/plain": [
              "<Figure size 864x864 with 80 Axes>"
            ]
          },
          "metadata": {
            "tags": [],
            "needs_background": "light"
          }
        }
      ]
    },
    {
      "cell_type": "code",
      "metadata": {
        "colab": {
          "base_uri": "https://localhost:8080/",
          "height": 969
        },
        "id": "_UUVTSfOKsh2",
        "outputId": "b98aeb50-12e5-42a8-b09e-7f5661f36397"
      },
      "source": [
        "model_mnist = create_mnist_model(\"gap_shallow\", (*mnist_shape, 1), mnist_num_classes, mnist_train)\n",
        "# model_mnist, history_mnist = load_model(\"gap_shallow\")\n",
        "\n",
        "display(keras.utils.plot_model(model_mnist, show_shapes=True, dpi=72))\n",
        "\n",
        "# train\n",
        "start_time = time.perf_counter()\n",
        "history_mnist = model_mnist.fit(mnist_train[0], mnist_train[1], batch_size=128, epochs=5, validation_split=0.2)\n",
        "print(\"Training took: %.2f seconds\" % (time.perf_counter() - start_time))\n",
        "# save_model(model_mnist, history_mnist, \"gap_shallow\")\n",
        "\n",
        "# evaluate\n",
        "score_mnist = model_mnist.evaluate(mnist_test[0], mnist_test[1], verbose=0)\n",
        "plot_model_score(score_mnist, history_mnist.history)"
      ],
      "execution_count": 31,
      "outputs": [
        {
          "output_type": "stream",
          "text": [
            "WARNING:tensorflow:Please add `keras.layers.InputLayer` instead of `keras.Input` to Sequential model. `keras.Input` is intended to be used by Functional model.\n"
          ],
          "name": "stdout"
        },
        {
          "output_type": "display_data",
          "data": {
            "image/png": "[encoded data removed]",
            "text/plain": [
              "<IPython.core.display.Image object>"
            ]
          },
          "metadata": {
            "tags": []
          }
        },
        {
          "output_type": "stream",
          "text": [
            "Epoch 1/5\n",
            "375/375 [==============================] - 39s 20ms/step - loss: 0.1771 - accuracy: 0.9471 - val_loss: 0.0618 - val_accuracy: 0.9824\n",
            "Epoch 2/5\n",
            "375/375 [==============================] - 7s 19ms/step - loss: 0.0542 - accuracy: 0.9831 - val_loss: 0.0519 - val_accuracy: 0.9842\n",
            "Epoch 3/5\n",
            "375/375 [==============================] - 7s 19ms/step - loss: 0.0333 - accuracy: 0.9894 - val_loss: 0.0526 - val_accuracy: 0.9860\n",
            "Epoch 4/5\n",
            "375/375 [==============================] - 7s 19ms/step - loss: 0.0250 - accuracy: 0.9918 - val_loss: 0.0547 - val_accuracy: 0.9855\n",
            "Epoch 5/5\n",
            "375/375 [==============================] - 7s 19ms/step - loss: 0.0176 - accuracy: 0.9947 - val_loss: 0.0646 - val_accuracy: 0.9841\n",
            "Training took: 68.18 seconds\n"
          ],
          "name": "stdout"
        },
        {
          "output_type": "display_data",
          "data": {
            "image/png": "[encoded data removed]",
            "text/plain": [
              "<Figure size 432x288 with 1 Axes>"
            ]
          },
          "metadata": {
            "tags": []
          }
        }
      ]
    },
    {
      "cell_type": "code",
      "metadata": {
        "colab": {
          "base_uri": "https://localhost:8080/",
          "height": 479
        },
        "id": "uNupnRzBWTU9",
        "outputId": "8210af47-4204-48b1-b858-d1bbcd4e4500"
      },
      "source": [
        "image, truth, prediction, _ = get_prediction(model_mnist, mnist_test)\n",
        "cam, _, _, _ = grad_cam(image, model_mnist)\n",
        "\n",
        "show_image(image, mnist_shape)\n",
        "show_heatmap(image, cam, mnist_shape)"
      ],
      "execution_count": 32,
      "outputs": [
        {
          "output_type": "display_data",
          "data": {
            "image/png": "[encoded data removed]",
            "text/plain": [
              "<Figure size 432x288 with 1 Axes>"
            ]
          },
          "metadata": {
            "tags": []
          }
        },
        {
          "output_type": "display_data",
          "data": {
            "image/png": "[encoded data removed]",
            "text/plain": [
              "<Figure size 432x288 with 1 Axes>"
            ]
          },
          "metadata": {
            "tags": []
          }
        }
      ]
    },
    {
      "cell_type": "markdown",
      "metadata": {
        "id": "dh0s3r14hr-I"
      },
      "source": [
        "#FACE"
      ]
    },
    {
      "cell_type": "code",
      "metadata": {
        "id": "ER8VrQVChq-8"
      },
      "source": [
        "# https://storage.googleapis.com/public_release/FEC_dataset.zip\n",
        "\n",
        "fer_dataset = (\"fer2013.tar.gz\", \"https://geo-cam.s3-eu-west-1.amazonaws.com/fer2013.tar.gz\", ['Angry', 'Disgust', 'Fear', 'Happy', 'Sad', 'Surprise', 'Neutral'])\n",
        "# fer_dataset_path = download_file(fer_dataset[0], fer_dataset[1])\n",
        "# fer_dataset_explodede_root = f\"{fer_dataset[0]}_exploded\"\n",
        "# fer_dataset_explodede_path = f\"{fer_dataset_explodede_root}/fer2013/fer2013.csv\"\n",
        "\n",
        "# shutil.unpack_archive(fer_dataset_path, fer_dataset_explodede_root)"
      ],
      "execution_count": 33,
      "outputs": []
    },
    {
      "cell_type": "code",
      "metadata": {
        "id": "O3ylog06fYRZ"
      },
      "source": [
        "# df = pd.read_csv(fer_dataset_explodede_path)\n",
        "# print(df.shape) "
      ],
      "execution_count": 34,
      "outputs": []
    },
    {
      "cell_type": "markdown",
      "metadata": {
        "id": "ZAVIlq5GvHoU"
      },
      "source": [
        "#GEO"
      ]
    },
    {
      "cell_type": "code",
      "metadata": {
        "colab": {
          "base_uri": "https://localhost:8080/"
        },
        "id": "fknmrIpWvKQJ",
        "outputId": "fd8da649-4aa1-4adf-c494-a5c22fa260dc"
      },
      "source": [
        "geo_dataset_proto = (\"proto\", \"https://geo-cam.s3-eu-west-1.amazonaws.com/geocam.npz\", [\"vertical line\", \"45° oriented line\", \"ellipse\"])\n",
        "geo_dataset_simple = (\"simple\", \"https://geo-cam.s3-eu-west-1.amazonaws.com/simpledataset2_dataset.npz\", [\"vertical line\", \"horizontal line\", \"45° oriented line\", \"ellipse\", \"greater-than sign\", \"lower-than sign\"])\n",
        "geo_dataset_simple3 = (\"simple\", \"https://geo-cam.s3-eu-west-1.amazonaws.com/simpledataset3_dataset.npz\", [\"vertical line\", \"horizontal line\", \"45° oriented line\", \"135° oriented line\", \"ellipse\", \"greater-than sign\", \"lower-than sign\", \"arrow-up sign\", \"arrow-down sign\"])\n",
        "geo_dataset_round = (\"round\", \"https://geo-cam.s3-eu-west-1.amazonaws.com/rounddataset_dataset.npz\", [\"vertical line\", \"horizontal line\", \"45° oriented line\", \"ellipse\", \"greater-than sign\", \"lower-than sign\"])\n",
        "geo_dataset_threesixty = (\"threesixty\", \"https://geo-cam.s3-eu-west-1.amazonaws.com/threesixtydataset_dataset.npz\", [\"10\", \"20\", \"30\", \"40\", \"50\", \"60\", \"70\", \"80\", \"90\", \"100\", \"110\", \"120\", \"130\", \"140\", \"150\", \"160\", \"170\", \"180\"])\n",
        "\n",
        "# dataset\n",
        "dataset = geo_dataset_simple3\n",
        "dataset_labels = dataset[2]\n",
        "dataset_path = download_file(dataset[0], dataset[1])\n",
        "geo_train, geo_test = load_npz_dataset(dataset_path)\n",
        "geo_train, geo_test = format_dataset(len(dataset_labels), geo_train, geo_test)"
      ],
      "execution_count": 35,
      "outputs": [
        {
          "output_type": "stream",
          "text": [
            "Downloading data from https://geo-cam.s3-eu-west-1.amazonaws.com/simpledataset3_dataset.npz\n",
            "28262400/28261002 [==============================] - 2s 0us/step\n",
            "(28, 28)\n",
            "2\n",
            "x_train shape: (6300, 28, 28, 1)\n",
            "6300 train samples\n",
            "2700 test samples\n"
          ],
          "name": "stdout"
        }
      ]
    },
    {
      "cell_type": "code",
      "metadata": {
        "id": "IAZ-zvCO7eQO"
      },
      "source": [
        "def create_geo_model(name, input_shape, num_classes):\n",
        "  model = keras.Sequential(\n",
        "      [\n",
        "          keras.Input(shape=input_shape),\n",
        "      \n",
        "          layers.Conv2D(filters=32, kernel_size=(3, 3), padding=\"same\", activation=\"relu\", name=\"geo_first_conv\"),\n",
        "          layers.MaxPooling2D(pool_size=(2, 2), strides=(2,2)),\n",
        "          layers.Dropout(0.4),\n",
        "          layers.Conv2D(filters=64, kernel_size=(3, 3), padding=\"same\", activation=\"relu\"),\n",
        "          # layers.MaxPooling2D(pool_size=(2, 2), strides=(2,2)),\n",
        "          \n",
        "          layers.Conv2D(filters=128, kernel_size=(3, 3), padding=\"same\", activation=\"relu\", name=\"geo_last_conv\"),\n",
        "          # layers.GlobalAveragePooling2D(),\n",
        "          layers.Flatten(),\n",
        "          layers.Dense(num_classes, activation=\"softmax\", name=\"geo_output\"),\n",
        "      ]\n",
        "  )\n",
        "\n",
        "  opt = keras.optimizers.Adam(learning_rate=0.001)\n",
        "  model.compile(loss=\"categorical_crossentropy\", optimizer=opt, metrics=[\"accuracy\"])\n",
        "\n",
        "  return model"
      ],
      "execution_count": 36,
      "outputs": []
    },
    {
      "cell_type": "code",
      "metadata": {
        "colab": {
          "base_uri": "https://localhost:8080/",
          "height": 1000
        },
        "id": "fi-GBD6n70bH",
        "outputId": "2621cc45-b68d-4b2d-d8a6-b40d17ed51bc"
      },
      "source": [
        "# model\n",
        "model_geo = create_geo_model(\"geocam\", (*mnist_shape, 1), len(dataset_labels))\n",
        "# model_geo, history_geo = load_model(\"geo\")\n",
        "\n",
        "display(keras.utils.plot_model(model_geo, show_shapes=True, dpi=72))\n",
        "\n",
        "start_time = time.perf_counter()\n",
        "history_geo = model_geo.fit(geo_train[0], geo_train[1], batch_size=128, epochs=5, validation_split=0.25)\n",
        "print(\"Training took: %.2f seconds\" % (time.perf_counter() - start_time))\n",
        "# save_model(model_geo, history_geo, \"geo\")\n",
        "\n",
        "score_geo = model_geo.evaluate(geo_test[0], geo_test[1], verbose=0)\n",
        "plot_model_score(score_geo, history_geo.history)"
      ],
      "execution_count": 37,
      "outputs": [
        {
          "output_type": "stream",
          "text": [
            "WARNING:tensorflow:Please add `keras.layers.InputLayer` instead of `keras.Input` to Sequential model. `keras.Input` is intended to be used by Functional model.\n"
          ],
          "name": "stdout"
        },
        {
          "output_type": "display_data",
          "data": {
            "image/png": "[encoded data removed]",
            "text/plain": [
              "<IPython.core.display.Image object>"
            ]
          },
          "metadata": {
            "tags": []
          }
        },
        {
          "output_type": "stream",
          "text": [
            "Epoch 1/5\n",
            "37/37 [==============================] - 1s 18ms/step - loss: 1.6022 - accuracy: 0.4546 - val_loss: 0.9128 - val_accuracy: 0.6889\n",
            "Epoch 2/5\n",
            "37/37 [==============================] - 0s 9ms/step - loss: 0.4188 - accuracy: 0.8747 - val_loss: 0.1844 - val_accuracy: 0.9473\n",
            "Epoch 3/5\n",
            "37/37 [==============================] - 0s 10ms/step - loss: 0.0920 - accuracy: 0.9757 - val_loss: 0.1000 - val_accuracy: 0.9708\n",
            "Epoch 4/5\n",
            "37/37 [==============================] - 0s 10ms/step - loss: 0.0392 - accuracy: 0.9884 - val_loss: 0.0567 - val_accuracy: 0.9829\n",
            "Epoch 5/5\n",
            "37/37 [==============================] - 0s 10ms/step - loss: 0.0235 - accuracy: 0.9937 - val_loss: 0.0466 - val_accuracy: 0.9867\n",
            "Training took: 2.98 seconds\n"
          ],
          "name": "stdout"
        },
        {
          "output_type": "display_data",
          "data": {
            "image/png": "[encoded data removed]",
            "text/plain": [
              "<Figure size 432x288 with 1 Axes>"
            ]
          },
          "metadata": {
            "tags": []
          }
        }
      ]
    },
    {
      "cell_type": "code",
      "metadata": {
        "colab": {
          "base_uri": "https://localhost:8080/",
          "height": 264
        },
        "id": "Io6EtCTU-Gwn",
        "outputId": "ea022699-03e9-4a85-ec1f-176b39037529"
      },
      "source": [
        "image, truth, prediction, _ = get_prediction(model_geo, geo_test)\n",
        "show_prediction(image, truth, prediction, dataset_labels)"
      ],
      "execution_count": 38,
      "outputs": [
        {
          "output_type": "display_data",
          "data": {
            "image/png": "[encoded data removed]",
            "text/plain": [
              "<Figure size 432x288 with 1 Axes>"
            ]
          },
          "metadata": {
            "tags": []
          }
        }
      ]
    },
    {
      "cell_type": "code",
      "metadata": {
        "id": "XlIT0poNXLxH",
        "colab": {
          "base_uri": "https://localhost:8080/",
          "height": 479
        },
        "outputId": "f271b3d0-1a8f-48e0-b435-b872a7ff88bc"
      },
      "source": [
        "image, truth, prediction, _ = get_prediction(model_geo, geo_test)\n",
        "cam, _, _, _ = grad_cam(image, model_geo)\n",
        "\n",
        "show_image(image, mnist_shape)\n",
        "show_heatmap(image, cam, mnist_shape)"
      ],
      "execution_count": 39,
      "outputs": [
        {
          "output_type": "display_data",
          "data": {
            "image/png": "[encoded data removed]",
            "text/plain": [
              "<Figure size 432x288 with 1 Axes>"
            ]
          },
          "metadata": {
            "tags": []
          }
        },
        {
          "output_type": "display_data",
          "data": {
            "image/png": "[encoded data removed]",
            "text/plain": [
              "<Figure size 432x288 with 1 Axes>"
            ]
          },
          "metadata": {
            "tags": []
          }
        }
      ]
    },
    {
      "cell_type": "markdown",
      "metadata": {
        "id": "2qfZh1ixKzXR"
      },
      "source": [
        "# Transfer-learning\n"
      ]
    },
    {
      "cell_type": "code",
      "metadata": {
        "colab": {
          "base_uri": "https://localhost:8080/",
          "height": 1000
        },
        "id": "IPmhUSmV4Gox",
        "outputId": "fdaa6ed8-bbf9-42e2-9baf-1b338be7d7f0"
      },
      "source": [
        "mnist_model_copy = copy_model(model_mnist, True)\n",
        "mnist_model_layers = get_cam_layers(mnist_model_copy)\n",
        "geo_model_copy = copy_model(model_geo, False)\n",
        "input = geo_model_copy.input\n",
        "geo_last, geo2_last, last = input, None, None\n",
        "\n",
        "# GEO - 1\n",
        "for layer in get_cam_layers(geo_model_copy)[0]:\n",
        "  layer.trainable = False\n",
        "  # print(f\"{layer.name} - {layer.input_shape}:{layer.output_shape}\")\n",
        "  geo_last = layer(geo_last)\n",
        "\n",
        "# MNIST - 1\n",
        "mnist_first_cnn = last = layers.Conv2D(filters=128, kernel_size=(3, 3), padding=\"same\", activation=\"relu\", name=\"mnist_first_conv\")(geo_last)\n",
        "last = layers.Conv2D(filters=64, kernel_size=(3, 3), padding=\"same\", activation=\"relu\")(last)\n",
        "last = layers.Conv2D(filters=32, kernel_size=(3, 3), padding=\"same\", activation=\"relu\", name=\"mnist_last_conv\")(last)\n",
        "\n",
        "# mnist_first_cnn = last = layers.Conv2D(filters=32, kernel_size=(3, 3), padding=\"same\", activation=\"relu\", name=\"mnist_first_conv\")(geo_last)\n",
        "# last = layers.Conv2D(filters=64, kernel_size=(3, 3), padding=\"same\", activation=\"relu\")(last)\n",
        "# last = layers.MaxPooling2D(pool_size=(2, 2), strides=(2,2))(last)\n",
        "# last = layers.Dropout(0.4)(last)\n",
        "# last = layers.Conv2D(filters=128, kernel_size=(3, 3), padding=\"same\", activation=\"relu\")(last)\n",
        "# last = layers.Conv2D(filters=64, kernel_size=(3, 3), padding=\"same\", activation=\"relu\")(last)\n",
        "# last = layers.Conv2D(filters=32, kernel_size=(3, 3), padding=\"same\", activation=\"relu\", name=\"mnist_last_conv\")(last)\n",
        "\n",
        "# MNIST - 2\n",
        "last = layers.Flatten()(last)\n",
        "last = layers.Dense(mnist_num_classes, activation=\"softmax\", name=\"mnist_output\")(last)\n",
        "\n",
        "# CONNECTION\n",
        "connection = geo_last\n",
        "\n",
        "# GEO - 2\n",
        "for layer in get_cam_layers(geo_model_copy)[1]:\n",
        "  layer.trainable = False\n",
        "  geo2_last = layer(connection) if geo2_last is None else layer(geo2_last)\n",
        "\n",
        "# MODEL\n",
        "model_gcm = Model(inputs=input, outputs=last)\n",
        "model_gcm_complete = Model(inputs=input, outputs=[last, geo2_last])\n",
        "\n",
        "opt = keras.optimizers.Adam(learning_rate=0.004)\n",
        "model_gcm.compile(loss=\"categorical_crossentropy\", optimizer=opt, metrics=[\"accuracy\"])\n",
        "\n",
        "# display\n",
        "print(model_gcm_complete.summary())\n",
        "\n",
        "display(keras.utils.plot_model(model_gcm_complete, show_shapes=True, dpi=72))\n",
        "\n",
        "# train\n",
        "start_time = time.perf_counter()\n",
        "history_geocam = model_gcm.fit(mnist_train[0], mnist_train[1], batch_size=128, epochs=5, validation_split=0.2)\n",
        "print(\"Training took: %.2f seconds\" % (time.perf_counter() - start_time))\n",
        "\n",
        "# evaluate\n",
        "score_gcm = model_gcm.evaluate(mnist_test[0], mnist_test[1], verbose=0)\n",
        "plot_model_score(score_gcm, history_geocam.history)"
      ],
      "execution_count": 40,
      "outputs": [
        {
          "output_type": "stream",
          "text": [
            "Model: \"model_3\"\n",
            "__________________________________________________________________________________________________\n",
            "Layer (type)                    Output Shape         Param #     Connected to                     \n",
            "==================================================================================================\n",
            "input_2 (InputLayer)            [(None, 28, 28, 1)]  0                                            \n",
            "__________________________________________________________________________________________________\n",
            "geo_first_conv (Conv2D)         (None, 28, 28, 32)   320         input_2[0][0]                    \n",
            "__________________________________________________________________________________________________\n",
            "max_pooling2d (MaxPooling2D)    (None, 14, 14, 32)   0           geo_first_conv[1][0]             \n",
            "__________________________________________________________________________________________________\n",
            "dropout (Dropout)               (None, 14, 14, 32)   0           max_pooling2d[1][0]              \n",
            "__________________________________________________________________________________________________\n",
            "conv2d_2 (Conv2D)               (None, 14, 14, 64)   18496       dropout[1][0]                    \n",
            "__________________________________________________________________________________________________\n",
            "geo_last_conv (Conv2D)          (None, 14, 14, 128)  73856       conv2d_2[1][0]                   \n",
            "__________________________________________________________________________________________________\n",
            "mnist_first_conv (Conv2D)       (None, 14, 14, 128)  147584      geo_last_conv[1][0]              \n",
            "__________________________________________________________________________________________________\n",
            "conv2d_3 (Conv2D)               (None, 14, 14, 64)   73792       mnist_first_conv[0][0]           \n",
            "__________________________________________________________________________________________________\n",
            "mnist_last_conv (Conv2D)        (None, 14, 14, 32)   18464       conv2d_3[0][0]                   \n",
            "__________________________________________________________________________________________________\n",
            "flatten_2 (Flatten)             (None, 6272)         0           mnist_last_conv[0][0]            \n",
            "__________________________________________________________________________________________________\n",
            "flatten_1 (Flatten)             (None, 25088)        0           geo_last_conv[1][0]              \n",
            "__________________________________________________________________________________________________\n",
            "mnist_output (Dense)            (None, 10)           62730       flatten_2[0][0]                  \n",
            "__________________________________________________________________________________________________\n",
            "geo_output (Dense)              (None, 9)            225801      flatten_1[1][0]                  \n",
            "==================================================================================================\n",
            "Total params: 621,043\n",
            "Trainable params: 302,570\n",
            "Non-trainable params: 318,473\n",
            "__________________________________________________________________________________________________\n",
            "None\n"
          ],
          "name": "stdout"
        },
        {
          "output_type": "display_data",
          "data": {
            "image/png": "[encoded data removed]",
            "text/plain": [
              "<IPython.core.display.Image object>"
            ]
          },
          "metadata": {
            "tags": []
          }
        },
        {
          "output_type": "stream",
          "text": [
            "Epoch 1/5\n",
            "375/375 [==============================] - 5s 12ms/step - loss: 0.2132 - accuracy: 0.9347 - val_loss: 0.0726 - val_accuracy: 0.9778\n",
            "Epoch 2/5\n",
            "375/375 [==============================] - 4s 11ms/step - loss: 0.0815 - accuracy: 0.9753 - val_loss: 0.0783 - val_accuracy: 0.9773\n",
            "Epoch 3/5\n",
            "375/375 [==============================] - 4s 11ms/step - loss: 0.0690 - accuracy: 0.9786 - val_loss: 0.0773 - val_accuracy: 0.9779\n",
            "Epoch 4/5\n",
            "375/375 [==============================] - 4s 11ms/step - loss: 0.0643 - accuracy: 0.9806 - val_loss: 0.0642 - val_accuracy: 0.9803\n",
            "Epoch 5/5\n",
            "375/375 [==============================] - 4s 11ms/step - loss: 0.0598 - accuracy: 0.9807 - val_loss: 0.0852 - val_accuracy: 0.9733\n",
            "Training took: 21.64 seconds\n"
          ],
          "name": "stdout"
        },
        {
          "output_type": "display_data",
          "data": {
            "image/png": "[encoded data removed]",
            "text/plain": [
              "<Figure size 432x288 with 1 Axes>"
            ]
          },
          "metadata": {
            "tags": []
          }
        }
      ]
    },
    {
      "cell_type": "code",
      "metadata": {
        "colab": {
          "base_uri": "https://localhost:8080/",
          "height": 264
        },
        "id": "Jy79YFHxXRNN",
        "outputId": "3179d01f-c495-4a5b-e5e6-a8c847e59f49"
      },
      "source": [
        "image, label, prediction, _ = get_prediction(model_gcm, mnist_test)\n",
        "show_prediction(image, label, prediction)"
      ],
      "execution_count": 41,
      "outputs": [
        {
          "output_type": "display_data",
          "data": {
            "image/png": "[encoded data removed]",
            "text/plain": [
              "<Figure size 432x288 with 1 Axes>"
            ]
          },
          "metadata": {
            "tags": []
          }
        }
      ]
    },
    {
      "cell_type": "markdown",
      "metadata": {
        "id": "p3GGM8ykJbxL"
      },
      "source": [
        "# Experiments"
      ]
    },
    {
      "cell_type": "code",
      "metadata": {
        "id": "MO53XzTGx2X9"
      },
      "source": [
        "def get_experiment_cam_predictions(test_image, kdn, pdn,\n",
        "                                   use_mask=False,\n",
        "                                   cam_method=grad_cam_m, \n",
        "                                   threshold=0.8, \n",
        "                                   shape=mnist_shape):\n",
        "  centers = dict()\n",
        "  grid_pos = dict()\n",
        "  geo_cam = dict()\n",
        "  cam_thresh = dict()\n",
        "\n",
        "  geo_cam_maxes = []\n",
        "  attenuated_geo_cam_maxes = []\n",
        "\n",
        "  test_image_bb = get_boundingbox(test_image)\n",
        "\n",
        "  # pd branch\n",
        "  cam, _, predictions, _ = cam_method(test_image, pdn['model'], -1, pdn['output_branch'])\n",
        "  _, _, cam = normalize_cam(cam)\n",
        "  pd_cam = np.copy(cam)\n",
        "\n",
        "  # kd branch\n",
        "  for category in range(kdn['num_classes']):\n",
        "    cam, _, _, _  = cam_method(test_image, kdn['model'], category, kdn['output_branch'])\n",
        "    min, max, cam = normalize_cam(cam)\n",
        "\n",
        "    geo_cam[category] = np.copy(cam)\n",
        "    geo_cam_maxes.append(max)\n",
        "\n",
        "  # attenuated cam\n",
        "  for category in range(kdn['num_classes']):\n",
        "    modulation = safe_divide(geo_cam_maxes[category], np.max(geo_cam_maxes), abs=False) # modulation\n",
        "    if use_mask: # use main model as mask\n",
        "      cam = geo_cam[category] - (geo_cam[category] * (1 - pd_cam))\n",
        "    else:\n",
        "      cam = geo_cam[category]\n",
        "    # cam = cam * modulation\n",
        "    # print(f\"min: {np.min(cam)}, max: {np.max(cam)}\")\n",
        "    attenuated_geo_cam_maxes.append(np.max(cam) * modulation)\n",
        "    geo_cam[category] = np.copy(cam)\n",
        "\n",
        "  # threshorld and centers\n",
        "  for category in range(kdn['num_classes']):\n",
        "    cam = geo_cam[category]\n",
        "    # cam = (cam >= threshold) * threshold\n",
        "    cam = resize_image(cam, shape)\n",
        "\n",
        "    _, cam = cv2.threshold(cam, np.max(cam) * threshold, np.max(cam), cv2.THRESH_BINARY)\n",
        "    \n",
        "    cam_thresh[category] = cam\n",
        "\n",
        "    cv_img = np.array(cam * 255, dtype = np.uint8)\n",
        "    contours, _ = cv2.findContours(cv_img, cv2.RETR_LIST, cv2.CHAIN_APPROX_NONE)\n",
        "\n",
        "    centers[category] = []\n",
        "    grid_pos[category] = set()\n",
        "\n",
        "    for i in range(len(contours)):\n",
        "      moments = cv2.moments(contours[i])\n",
        "      if moments['m00'] > 0:\n",
        "        center = (safe_divide(moments['m10'], moments['m00']), safe_divide(moments['m01'], moments['m00']))\n",
        "        grid_position = get_grid_position(center, shape, boundingbox=test_image_bb)\n",
        "        \n",
        "        centers[category].append(center)\n",
        "        grid_pos[category].add(grid_position)\n",
        "  \n",
        "  extra_infos = dict()\n",
        "  extra_infos['order'] = np.flip(np.argsort(attenuated_geo_cam_maxes), 0)\n",
        "  extra_infos['maxes'] = attenuated_geo_cam_maxes\n",
        "  extra_infos['thresholds'] = cam_thresh\n",
        "  extra_infos['geo_cams'] = geo_cam\n",
        "  extra_infos['pd_cam'] = pd_cam\n",
        "  extra_infos['predictions'] = np.argmax(predictions)\n",
        "  extra_infos['centers'] = centers\n",
        "  extra_infos['grid_pos'] = grid_pos\n",
        "\n",
        "  return geo_cam, extra_infos\n",
        "\n",
        "def get_experiment_cam_predictions_short(test_image, settings):\n",
        "  return get_experiment_cam_predictions(test_image, settings['kdn'], settings['pdn'],\n",
        "                                              use_mask=settings['use_mask'],\n",
        "                                              cam_method=settings['cam_method'], \n",
        "                                              threshold=settings['threshold'], \n",
        "                                              shape=settings['shape'])"
      ],
      "execution_count": 42,
      "outputs": []
    },
    {
      "cell_type": "markdown",
      "metadata": {
        "id": "eCW4_oEk9ZJ3"
      },
      "source": [
        "# Validating"
      ]
    },
    {
      "cell_type": "code",
      "metadata": {
        "id": "vGY5fSS03WnL"
      },
      "source": [
        "# Functional models\n",
        "model_geocam = Model([model_geo.inputs], [get_layer(model_geo, \"geo_last_conv\").get_output_at(0), model_geo.output])\n",
        "model_mnistcam = Model([model_mnist.inputs], [get_layer(model_mnist, \"mnist_last_conv\").get_output_at(0), model_mnist.output])\n",
        "\n",
        "model_gcmcam_mnist_first = Model([model_gcm_complete.inputs], \n",
        "                     [get_layer(model_gcm_complete, \"mnist_first_conv\").get_output_at(0), \n",
        "                      model_gcm_complete.output])\n",
        "\n",
        "model_gcmcam_mnist_last = Model([model_gcm_complete.inputs], \n",
        "                     [get_layer(model_gcm_complete, \"mnist_last_conv\").get_output_at(0), \n",
        "                      model_gcm_complete.output])\n",
        "\n",
        "model_gcmcam_geo = Model([model_gcm_complete.inputs], \n",
        "                     [get_layer(model_gcm_complete, \"geo_last_conv\").get_output_at(1), \n",
        "                      model_gcm_complete.output])\n",
        "\n",
        "# Basic values\n",
        "nr_top_prediction_considered = 2\n",
        "common_threshold = 0.8\n",
        "common_cam_method = grad_cam_m\n",
        "\n",
        "# Isolated KDN CAM\n",
        "isolated_geo_settings = {'kdn':{'model':model_geocam, 'num_classes': len(dataset_labels), 'output_branch':0}, \n",
        "                       'pdn':{'model':model_mnistcam, 'num_classes': mnist_num_classes, 'output_branch':0},\n",
        "                       'use_mask':False, 'cam_method':common_cam_method, 'threshold':common_threshold, 'shape':mnist_shape}\n",
        "\n",
        "# Masked KDN CAM\n",
        "masked_settings = {'kdn':{'model':model_gcmcam_geo, 'num_classes': len(dataset_labels), 'output_branch':1}, \n",
        "                   'pdn':{'model':model_gcmcam_mnist_last, 'num_classes': mnist_num_classes, 'output_branch':0},\n",
        "                   'use_mask':True, 'cam_method':common_cam_method, 'threshold':common_threshold, 'shape':mnist_shape}\n",
        "\n",
        "####### BEING TESTED #####\n",
        "experiment_settings = masked_settings"
      ],
      "execution_count": 96,
      "outputs": []
    },
    {
      "cell_type": "markdown",
      "metadata": {
        "id": "dYdBJYcHpEir"
      },
      "source": [
        "## Evaluation Metrics\n"
      ]
    },
    {
      "cell_type": "code",
      "metadata": {
        "id": "0QSGfUG-pCI2",
        "colab": {
          "base_uri": "https://localhost:8080/"
        },
        "outputId": "4632809d-96e7-4e2d-b939-92f496787df3"
      },
      "source": [
        "vertical = 0\n",
        "horizontal = 1 \n",
        "fwd_diagonal = 2\n",
        "ellipse = 4\n",
        "greather_than = 5\n",
        "lower_than = 6\n",
        "\n",
        "digits_descriptions = [\n",
        "  [dataset_labels[ellipse]], #0\n",
        "  [dataset_labels[vertical], dataset_labels[fwd_diagonal]], #1\n",
        "  [dataset_labels[horizontal], dataset_labels[fwd_diagonal], dataset_labels[ellipse]], #2\n",
        "  [dataset_labels[greather_than], dataset_labels[lower_than], dataset_labels[ellipse]], #3\n",
        "  [dataset_labels[vertical], dataset_labels[horizontal]], #4\n",
        "  [dataset_labels[greather_than], dataset_labels[ellipse], dataset_labels[vertical], dataset_labels[horizontal]], #5\n",
        "  [dataset_labels[fwd_diagonal], dataset_labels[vertical], dataset_labels[ellipse]], #6\n",
        "  [dataset_labels[fwd_diagonal], dataset_labels[vertical], dataset_labels[horizontal]], #7\n",
        "  [dataset_labels[ellipse]], #8\n",
        "  [dataset_labels[ellipse], dataset_labels[fwd_diagonal], dataset_labels[vertical]], #9\n",
        "]\n",
        "\n",
        "samples = 100\n",
        "metrics, y_true, y_pred = dict(), dict(), dict()\n",
        "\n",
        "with tqdm(total=(samples * mnist_num_classes), position=0, leave=True) as pbar:\n",
        "  for mnist_category in range(mnist_num_classes):\n",
        "    metrics[mnist_category] = dict()\n",
        "    \n",
        "    decomposed_category = np.zeros(shape=(mnist_num_classes))\n",
        "    decomposed_category[mnist_category] = 1\n",
        "    \n",
        "    y_true[mnist_category] = np.ones(shape=(samples))\n",
        "    y_pred[mnist_category] = np.zeros(shape=(samples))\n",
        "\n",
        "    for i in range(samples):\n",
        "      validation_idx = random.choice(np.argwhere(np.equal(mnist_test[1], decomposed_category).all(1)))[0]\n",
        "      test_image = mnist_test[0][validation_idx]\n",
        "\n",
        "      # geo cam\n",
        "      cam, extras = get_experiment_cam_predictions_short(test_image, experiment_settings)\n",
        "\n",
        "      # prediction\n",
        "      for p in range(nr_top_prediction_considered):\n",
        "        y_pred[mnist_category][i] = int(dataset_labels[extras['order'][p]] in digits_descriptions[mnist_category]) or y_pred[mnist_category][i]\n",
        "\n",
        "      pbar.update()\n",
        "\n",
        "    # metrics per category\n",
        "    metrics[mnist_category]['accuracy']   = accuracy_score(y_true[mnist_category], y_pred[mnist_category])\n",
        "    metrics[mnist_category]['precision']  = precision_score(y_true[mnist_category], y_pred[mnist_category], average='weighted', zero_division=0)\n",
        "    metrics[mnist_category]['recall']     = recall_score(y_true[mnist_category], y_pred[mnist_category], average='weighted', zero_division=0)\n",
        "    metrics[mnist_category]['f1']         = f1_score(y_true[mnist_category], y_pred[mnist_category], average='weighted', zero_division=0)\n",
        "\n",
        "# out\n",
        "print(\"\\n\\nMETRICS:\")\n",
        "\n",
        "# macro metrics\n",
        "print(\"\\nMacro:\")\n",
        "macro_metrics = dict()\n",
        "for cat in metrics:\n",
        "  for key in metrics[cat]:\n",
        "    macro_metrics[key] = macro_metrics.get(key) or []\n",
        "    macro_metrics[key].append(metrics[cat][key])\n",
        "  \n",
        "for key in macro_metrics:\n",
        "  print(f\"- {key}: {np.average(macro_metrics[key]):.2f}\")\n",
        "\n",
        "# micro metrics\n",
        "print(\"\\nMicro:\")\n",
        "for cat in metrics:\n",
        "  all_metrics = ', '.join([f\"{key}:{np.average(metrics[cat][key]):.2f}\" for key in metrics[cat]])\n",
        "  print(f\"- {cat}: {all_metrics}\")"
      ],
      "execution_count": 97,
      "outputs": [
        {
          "output_type": "stream",
          "text": [
            "100%|██████████| 1000/1000 [01:25<00:00, 11.75it/s]"
          ],
          "name": "stderr"
        },
        {
          "output_type": "stream",
          "text": [
            "\n",
            "\n",
            "METRICS:\n",
            "\n",
            "Macro:\n",
            "- accuracy: 0.89\n",
            "- precision: 1.00\n",
            "- recall: 0.89\n",
            "- f1: 0.92\n",
            "\n",
            "Micro:\n",
            "- 0: accuracy:1.00, precision:1.00, recall:1.00, f1:1.00\n",
            "- 1: accuracy:1.00, precision:1.00, recall:1.00, f1:1.00\n",
            "- 2: accuracy:0.99, precision:1.00, recall:0.99, f1:0.99\n",
            "- 3: accuracy:1.00, precision:1.00, recall:1.00, f1:1.00\n",
            "- 4: accuracy:0.28, precision:1.00, recall:0.28, f1:0.44\n",
            "- 5: accuracy:1.00, precision:1.00, recall:1.00, f1:1.00\n",
            "- 6: accuracy:1.00, precision:1.00, recall:1.00, f1:1.00\n",
            "- 7: accuracy:0.68, precision:1.00, recall:0.68, f1:0.81\n",
            "- 8: accuracy:1.00, precision:1.00, recall:1.00, f1:1.00\n",
            "- 9: accuracy:0.98, precision:1.00, recall:0.98, f1:0.99\n"
          ],
          "name": "stdout"
        },
        {
          "output_type": "stream",
          "text": [
            "\n"
          ],
          "name": "stderr"
        }
      ]
    },
    {
      "cell_type": "code",
      "metadata": {
        "colab": {
          "base_uri": "https://localhost:8080/",
          "height": 164
        },
        "id": "VUj1olY48HYT",
        "outputId": "456ab169-45bc-42f0-d13b-5bf0a1d3a6a0"
      },
      "source": [
        "raise Exception('do not run any further')"
      ],
      "execution_count": 98,
      "outputs": [
        {
          "output_type": "error",
          "ename": "Exception",
          "evalue": "ignored",
          "traceback": [
            "\u001b[0;31m---------------------------------------------------------------------------\u001b[0m",
            "\u001b[0;31mException\u001b[0m                                 Traceback (most recent call last)",
            "\u001b[0;32m<ipython-input-98-838d3209bb38>\u001b[0m in \u001b[0;36m<module>\u001b[0;34m()\u001b[0m\n\u001b[0;32m----> 1\u001b[0;31m \u001b[0;32mraise\u001b[0m \u001b[0mException\u001b[0m\u001b[0;34m(\u001b[0m\u001b[0;34m'do not run any further'\u001b[0m\u001b[0;34m)\u001b[0m\u001b[0;34m\u001b[0m\u001b[0;34m\u001b[0m\u001b[0m\n\u001b[0m",
            "\u001b[0;31mException\u001b[0m: do not run any further"
          ]
        }
      ]
    },
    {
      "cell_type": "markdown",
      "metadata": {
        "id": "14-_pbBz9uxX"
      },
      "source": [
        "## Validation Average"
      ]
    },
    {
      "cell_type": "code",
      "metadata": {
        "id": "YJ2NvUuEGNXo"
      },
      "source": [
        "samples = 100\n",
        "descriptions = dict()\n",
        "\n",
        "with tqdm(total=(samples * mnist_num_classes), position=0, leave=True) as pbar:\n",
        "  for mnist_category in range(mnist_num_classes):\n",
        "      descriptions[mnist_category] = dict()\n",
        "      decomposed_category = np.zeros(shape=(mnist_num_classes))\n",
        "      decomposed_category[mnist_category] = 1\n",
        "\n",
        "      for geo_class in range(len(dataset_labels)):\n",
        "          descriptions[mnist_category][geo_class] = []\n",
        "\n",
        "      for i in range(samples):\n",
        "        validation_idx = random.choice(np.argwhere(np.equal(mnist_test[1], decomposed_category).all(1)))[0]\n",
        "        test_image = mnist_test[0][validation_idx]\n",
        "        test_image_bb = get_boundingbox(test_image)\n",
        "\n",
        "        # geo cam\n",
        "        cam, extras = get_experiment_cam_predictions_short(test_image, experiment_settings)\n",
        "\n",
        "        for i in range(nr_top_prediction_considered):\n",
        "          geo_category_key = extras['order'][i]\n",
        "\n",
        "          for grid_position in extras['grid_pos'][geo_category_key]:\n",
        "            descriptions[mnist_category][geo_category_key].append(grid_position)\n",
        "\n",
        "        pbar.update()"
      ],
      "execution_count": null,
      "outputs": []
    },
    {
      "cell_type": "markdown",
      "metadata": {
        "id": "OOPpXAmB99Cn"
      },
      "source": [
        "### Category Description"
      ]
    },
    {
      "cell_type": "code",
      "metadata": {
        "id": "Rz9ceWnBtHcD"
      },
      "source": [
        "for category in range(mnist_num_classes):\n",
        "  print(f\"\\n{category}\")\n",
        "\n",
        "  for description_position in descriptions[category]:\n",
        "    verbose_positions = set()\n",
        "    grid_position = descriptions[category][description_position]\n",
        "    aggregated_amount = len(grid_position)\n",
        "    \n",
        "    for k in grid_position:\n",
        "      verbose_positions.add(get_verbose_grid_position(*k))\n",
        "    \n",
        "    print(f\"└ {dataset_labels[description_position]}: {aggregated_amount} = {verbose_positions}\")"
      ],
      "execution_count": null,
      "outputs": []
    },
    {
      "cell_type": "code",
      "metadata": {
        "id": "43ZCkfoVBnFo"
      },
      "source": [
        "# latex table\n",
        "rows = dict()\n",
        "\n",
        "for geo_class in dataset_labels:\n",
        "  rows[geo_class] = np.zeros(mnist_num_classes)\n",
        "\n",
        "for category in range(mnist_num_classes):\n",
        "  for description_position in descriptions[category]:\n",
        "    geo_class = dataset_labels[description_position]\n",
        "    rows[geo_class][category] = len(descriptions[category][description_position])\n",
        "\n",
        "highlight_latex= \"\\cellcolor[gray]{.9}\"\n",
        "\n",
        "print(\"DGD Class & \" + ' & '.join(str(x) for x in range(mnist_num_classes)) + \" \\\\\\\\\\hline\\hline\")\n",
        "for row in rows:\n",
        "  threshold = np.int0(np.max(rows[row]) * .7)\n",
        "  print(row + \" & \" + ' & '.join((highlight_latex if y >= threshold else '') + str(y) for y in rows[row]) + \" \\\\\\\\\")"
      ],
      "execution_count": null,
      "outputs": []
    },
    {
      "cell_type": "markdown",
      "metadata": {
        "id": "xX2jOlXu9z5P"
      },
      "source": [
        "### Category Representation"
      ]
    },
    {
      "cell_type": "code",
      "metadata": {
        "id": "cZs_VldQsP8U"
      },
      "source": [
        "image_idx = 0\n",
        "fig = plt.figure(figsize=(56, 56))\n",
        "grid = ImageGrid(fig, 111, nrows_ncols=(2, mnist_num_classes), axes_pad=0.3, label_mode=\"1\", direction='column')\n",
        "\n",
        "for category in range(mnist_num_classes):\n",
        "  heightmap = np.zeros((3, 3))\n",
        "  geo_category = descriptions[category]\n",
        "  index = 0\n",
        "  \n",
        "  for geo_cat in sorted(geo_category, key=lambda k: len(geo_category[k]), reverse=True):\n",
        "    title = f\"{category} index:{index} -> {dataset_labels[geo_cat]}\"\n",
        "\n",
        "    for grid_position in geo_category[geo_cat]:\n",
        "      heightmap[grid_position] += 1\n",
        "    \n",
        "    heigthmap = get_heatmap(heightmap, mnist_shape, True)\n",
        "    show_image(heigthmap, mnist_shape, title, ax=grid[image_idx], cmap='jet')\n",
        "    image_idx += 1\n",
        "\n",
        "    if index < 1: \n",
        "      index += 1\n",
        "    else:\n",
        "      break\n",
        "\n",
        "plt.show()"
      ],
      "execution_count": null,
      "outputs": []
    },
    {
      "cell_type": "markdown",
      "metadata": {
        "id": "TsEEWhCK9c6b"
      },
      "source": [
        "## Visualizing"
      ]
    },
    {
      "cell_type": "code",
      "metadata": {
        "id": "TJmpP2R3apuX"
      },
      "source": [
        "warnings.simplefilter('ignore', UserWarning)\n",
        "\n",
        "# prediction based on conv output (5056, 6146, 2365, 2587, 5310, 6638, 1195)\n",
        "test_image, test_label, test_idx = get_sample(mnist_test)\n",
        "mnist_gcm_predictions = predict(model_gcm, test_image)\n",
        "mnist_gcm_prediction = np.argmax(mnist_gcm_predictions)\n",
        "\n",
        "assert test_label == mnist_gcm_prediction, \"Missmatched ids. Wanted %d, received %d\" % (test_label, mnist_gcm_prediction)\n",
        "\n",
        "# start plotting\n",
        "image_idx = 0\n",
        "fig = plt.figure(figsize=(56, 56))\n",
        "grid = ImageGrid(fig, 111, nrows_ncols=(5, len(dataset_labels)), axes_pad=0.3, label_mode=\"1\")\n",
        "\n",
        "# images\n",
        "for category in range(len(dataset_labels)):\n",
        "  title = f\"{dataset_labels[category]} - idx: {test_idx}\"\n",
        "  show_image(test_image, mnist_shape, title, ax=grid[image_idx])\n",
        "  image_idx += 1\n",
        "\n",
        "# geocam\n",
        "cam_activations, cam_extra = get_experiment_cam_predictions_short(test_image, experiment_settings)\n",
        "\n",
        "# geo cam\n",
        "for category in range(len(dataset_labels)):\n",
        "  cam = cam_extra['geo_cams'][category]\n",
        "  title = f\"GEO CAM - max_cam: {np.max(cam)}\"\n",
        "  show_heatmap(test_image, cam, mnist_shape, True, title, ax=grid[image_idx])\n",
        "  image_idx += 1\n",
        "\n",
        "# minist cam\n",
        "cam = cam_extra['pd_cam']\n",
        "for category in range(len(dataset_labels)):\n",
        "  title = f\"MNIST CAM - max_cam: {np.max(cam)}\"\n",
        "  show_heatmap(test_image, cam, mnist_shape, True, title, ax=grid[image_idx])\n",
        "  image_idx += 1\n",
        "\n",
        "# geocam cam\n",
        "for category in range(len(dataset_labels)):\n",
        "  cam = cam_activations[category]\n",
        "  title = f\"GEO CAM - max_cam: {np.max(cam)}\"\n",
        "  show_heatmap(test_image, cam, mnist_shape, True, title, ax=grid[image_idx])\n",
        "  image_idx += 1\n",
        "\n",
        "# geocam areas\n",
        "for category in range(len(dataset_labels)):\n",
        "  camt = cam_extra['thresholds'][category]\n",
        "  grid[image_idx].imshow(camt, cmap='Greys')\n",
        "\n",
        "  camp = cam_extra['centers'][category]\n",
        "  for center_idx in range(len(camp)):\n",
        "    camp_center = camp[center_idx]\n",
        "    grid[image_idx].add_patch(plt.Circle(camp_center, 0.2, color='r'))\n",
        "\n",
        "  image_idx += 1\n",
        "\n",
        "plt.show()"
      ],
      "execution_count": null,
      "outputs": []
    },
    {
      "cell_type": "markdown",
      "metadata": {
        "id": "34Wc29d49pa4"
      },
      "source": [
        "## Adhoc Explanation"
      ]
    },
    {
      "cell_type": "code",
      "metadata": {
        "id": "Ocrq7XI6P-hp"
      },
      "source": [
        "test_image, test_label, test_idx = get_sample(mnist_test)\n",
        "\n",
        "cam, extras = get_experiment_cam_predictions_short(test_image, experiment_settings)\n",
        "\n",
        "first_pred = extras['order'][0]\n",
        "sec_pred = extras['order'][1]\n",
        "\n",
        "print(f\"total order: {extras['order']}\")\n",
        "\n",
        "show_image_in_grid(np.array([\n",
        "                             [\n",
        "                              {'img': test_image, 'cmap':'Greys', 'title':f\"{dataset_labels[first_pred]} ({extras['maxes'][first_pred]:.2f})\"},\n",
        "                              {'img': extras['geo_cams'][first_pred], 'cmap':'jet', 'title':'geo'},\n",
        "                              {'img': extras['pd_cam'], 'cmap':'jet', 'title':'mnist'},\n",
        "                              {'img': cam[first_pred], 'cmap':'jet', 'title':'geo-cam'},\n",
        "                              extras['thresholds'][first_pred],\n",
        "                              ],\n",
        "                             [\n",
        "                              {'img': test_image, 'cmap':'Greys', 'title':f\"{dataset_labels[sec_pred]} ({extras['maxes'][sec_pred]:.2f})\"},\n",
        "                              {'img': extras['geo_cams'][sec_pred], 'cmap':'jet'},\n",
        "                              {'img': extras['pd_cam'], 'cmap':'jet'},\n",
        "                              {'img': cam[sec_pred], 'cmap':'jet'},\n",
        "                              extras['thresholds'][sec_pred],\n",
        "                              ]\n",
        "                             ]), mnist_shape, figsize=(12, 12))\n",
        "\n",
        "explanation = \"\"\n",
        "\n",
        "for idx in range(2):\n",
        "  order = extras['order'][idx]\n",
        "  verbose_key = dataset_labels[order]\n",
        "\n",
        "  grid_positions = extras['grid_pos'][idx]\n",
        "\n",
        "  if len(grid_positions) > 0:\n",
        "    if len(explanation) > 0:\n",
        "      explanation += \" and\"\n",
        "    explanation += f\" a(n) {verbose_key} on the\"\n",
        "\n",
        "  for grid_position in grid_positions:\n",
        "    verbose_grid_pos = get_verbose_grid_position(*grid_position)\n",
        "    explanation += f\" {verbose_grid_pos[0]}-{verbose_grid_pos[1]}\"\n",
        "\n",
        "print(f\"The number {extras['predictions']} can be explained by having{explanation}.\")"
      ],
      "execution_count": null,
      "outputs": []
    },
    {
      "cell_type": "markdown",
      "metadata": {
        "id": "5BYUdVoAvDu9"
      },
      "source": [
        "# Archive"
      ]
    },
    {
      "cell_type": "code",
      "metadata": {
        "id": "YD5ZqeOJyJzv"
      },
      "source": [
        "raise Exception('do not run any further')"
      ],
      "execution_count": null,
      "outputs": []
    },
    {
      "cell_type": "code",
      "metadata": {
        "id": "ELfpuZtIB7f2"
      },
      "source": [
        "def get_cam_predictions(test_image, model, classes, cam_method=grad_cam_m, threshold=180):\n",
        "  cam_predictions = dict()\n",
        "  cam_activations = dict()\n",
        "  cam_thresholds = dict()\n",
        "  min_cam_activation, max_cam_activation = 0, 0\n",
        "\n",
        "  for category in range(classes):\n",
        "    cam, _, _, _ = cam_method(test_image, model, category, 1)\n",
        "    cam_activations[category] = cam\n",
        "    min, max = np.min(cam), np.max(cam)\n",
        "    min_cam_activation = np.minimum(min, min_cam_activation)\n",
        "    max_cam_activation = np.maximum(max, max_cam_activation)\n",
        "\n",
        "  for category in range(classes):\n",
        "    cam = cam_activations[category]\n",
        "    perc = safe_divide(cam - min_cam_activation, max_cam_activation - min_cam_activation, abs=False)\n",
        "    \n",
        "    cam = resize_image(perc, mnist_shape) * 255\n",
        "    _, cam = cv2.threshold(cam, threshold, 255, cv2.THRESH_BINARY)\n",
        "    cam_thresholds[category] = cam\n",
        "    cv_img = np.array(cam, dtype = np.uint8)\n",
        "    contours, _ = cv2.findContours(cv_img, cv2.RETR_TREE, cv2.CHAIN_APPROX_SIMPLE)\n",
        "\n",
        "    cam_predictions[category] = (np.max(perc), [])\n",
        "\n",
        "    for i in range(len(contours)):\n",
        "      moments = cv2.moments(contours[i])\n",
        "      if moments['m00'] > 0:\n",
        "        center = (safe_divide(moments['m10'], moments['m00']), safe_divide(moments['m01'], moments['m00']))\n",
        "        cam_predictions[category][1].append(center)\n",
        "  \n",
        "  return cam_activations, cam_thresholds, cam_predictions"
      ],
      "execution_count": null,
      "outputs": []
    },
    {
      "cell_type": "code",
      "metadata": {
        "id": "ukBsf-Eddp_y"
      },
      "source": [
        "# Predictions\n",
        "_, predictions = model_gcmcam(np.expand_dims(test_image, 0))\n",
        "sorted_indexes = np.flip(np.argsort(predictions[1][0]))\n",
        "percentages = np.round(predictions[1][0] / predictions[1][0][sorted_indexes[0]], 5)\n",
        "\n",
        "print(f\"1st : {dataset_labels[sorted_indexes[0]]} ({percentages[sorted_indexes[0]] * 100:.2f}%)\")\n",
        "print(f\"2nd : {dataset_labels[sorted_indexes[1]]} ({percentages[sorted_indexes[1]] * 100:.2f}%)\")\n",
        "print(f\"3rd : {dataset_labels[sorted_indexes[2]]} ({percentages[sorted_indexes[2]] * 100:.2f}%)\")"
      ],
      "execution_count": null,
      "outputs": []
    },
    {
      "cell_type": "code",
      "metadata": {
        "id": "a6bEplHdK_v1"
      },
      "source": [
        "# verifying transfer learning\n",
        "print(f\"geo conv weights: {hashlib.sha256(get_layer(model_geo, 'geo_last_conv').get_weights()[0]).hexdigest().upper()}\")\n",
        "print(f\"gcm1 conv weights: {hashlib.sha256(get_layer(model_gcm, 'geo_last_conv').get_weights()[0]).hexdigest().upper()}\")\n",
        "print(f\"gcm2 conv weights: {hashlib.sha256(get_layer(model_gcm_complete, 'geo_last_conv').get_weights()[0]).hexdigest().upper()}\")\n",
        "\n",
        "print(f\"geo conv biases: {hashlib.sha256(get_layer(model_geo, 'geo_last_conv').get_weights()[1]).hexdigest().upper()}\")\n",
        "print(f\"gcm1 conv biases: {hashlib.sha256(get_layer(model_gcm, 'geo_last_conv').get_weights()[1]).hexdigest().upper()}\")\n",
        "print(f\"gcm2 conv biases: {hashlib.sha256(get_layer(model_gcm_complete, 'geo_last_conv').get_weights()[1]).hexdigest().upper()}\")\n",
        "\n",
        "test_image, test_label, test_idx = get_sample(mnist_test)\n",
        "test_geo = Model([model_geo.inputs], [get_layer(model_geo, 'geo_last_conv').get_output_at(0), model_geo.output])\n",
        "test_gcm = Model([model_gcm_complete.inputs], [get_layer(model_gcm_complete, 'geo_last_conv').get_output_at(1), \n",
        "                                               get_layer(model_gcm_complete, \"geo_output\").get_output_at(0)])\n",
        "test_gcm_ = Model([model_gcm_complete.inputs], [get_layer(model_gcm_complete, 'gcm_mnist_first_conv').get_output_at(0), \n",
        "                                               get_layer(model_gcm_complete, \"geo_output\").get_output_at(0)])\n",
        "\n",
        "print(f\"geo conv activations: {hashlib.sha256(test_geo(np.expand_dims(test_image, 0))[0]).hexdigest().upper()}\")\n",
        "print(f\"gcm conv activations: {hashlib.sha256(test_gcm(np.expand_dims(test_image, 0))[0]).hexdigest().upper()}\")\n",
        "print(f\"gcm alterate conv activations: {hashlib.sha256(test_gcm_(np.expand_dims(test_image, 0))[0]).hexdigest().upper()}\")"
      ],
      "execution_count": null,
      "outputs": []
    },
    {
      "cell_type": "code",
      "metadata": {
        "id": "729HVndavJ2t"
      },
      "source": [
        "# debugging cams and values\n",
        "test_ids = {\n",
        "        \"1\": 3455,\n",
        "        \"4\": 6195,\n",
        "        \"0\": 3710,\n",
        "        \"6\": 6187,\n",
        "        \"7\": 6606,\n",
        "        \"5\": 6148,\n",
        "        \"9\": 5622,\n",
        "    }\n",
        "\n",
        "test_idx = 6\n",
        "test_mnist_idx = test_ids[f\"{test_idx}\"]\n",
        "test_mnist_image = mnist_test[0][test_mnist_idx]\n",
        "# show_image(test_mnist_image)\n",
        "\n",
        "# GCM (Transfer learned network - init geo, end mnist)\n",
        "# gcm_mnist_image, _, prediction, test_img_idx = get_prediction(model_gcm, mnist_test, test_idx)\n",
        "# gcm_prediction_idx = np.argmax(prediction)\n",
        "gcm_mnist_cam, gcm_conv_output, gcm_mnist_prediction, _ = grad_cam_pp(test_mnist_image, model_gcm, -3)\n",
        "print(f\"conv output hash: {hashlib.sha256(gcm_conv_output.numpy()).hexdigest().upper()}\")\n",
        "\n",
        "title = f\"MNIST prediction: {gcm_mnist_prediction} (truth: {test_idx})\"\n",
        "show_heatmap(test_mnist_image, gcm_mnist_cam, mnist_shape, True, title)\n",
        "\n",
        "assert test_idx == gcm_mnist_prediction, \"Missmatched ids. Wanted %d, received %d\" % (test_idx, gcm_mnist_prediction)"
      ],
      "execution_count": null,
      "outputs": []
    },
    {
      "cell_type": "code",
      "metadata": {
        "id": "ZWitfX7fvMld"
      },
      "source": [
        "# 1) prediction based on conv output\n",
        "test_image, test_label = get_sample(mnist_test)\n",
        "\n",
        "cam_layer = get_cam_layer(model_gcm, \"conv2d_5\")\n",
        "cam_model = Model([model_gcm.inputs], [cam_layer.get_output_at(1), model_gcm.output])\n",
        "gcm_mnist_cam, gcm_conv_output, gcm_mnist_prediction, _ = grad_cam_pp_m(test_image, cam_model)\n",
        "# print(f\"conv output hash: {hashlib.sha256(gcm_conv_output.numpy()).hexdigest().upper()}\")\n",
        "assert test_label == gcm_mnist_prediction, \"Missmatched ids. Wanted %d, received %d\" % (test_idx, test_label)\n",
        "\n",
        "# Prediction\n",
        "gcg_predictions = model_geo_2.predict(gcm_conv_output)\n",
        "sorted_indexes = np.flip(np.argsort(gcg_predictions[0]))\n",
        "percentages = gcg_predictions[0] / gcg_predictions[0][sorted_indexes[0]]\n",
        "\n",
        "print(f\"1st : {dataset_labels[sorted_indexes[0]]} ({percentages[sorted_indexes[0]] * 100:.2f}%)\")\n",
        "print(f\"2nd : {dataset_labels[sorted_indexes[1]]} ({percentages[sorted_indexes[1]] * 100:.2f}%)\")\n",
        "print(f\"3rd : {dataset_labels[sorted_indexes[2]]} ({percentages[sorted_indexes[2]] * 100:.2f}%)\")\n",
        "\n",
        "# Debug (CAM projection)\n",
        "gcg_mnist_cam = cam_1(model_geo, gcm_conv_output, sorted_indexes[0])\n",
        "show_heatmap(test_image, gcg_mnist_cam, mnist_shape, True)"
      ],
      "execution_count": null,
      "outputs": []
    },
    {
      "cell_type": "code",
      "metadata": {
        "id": "GeUw_Q2EvFcF"
      },
      "source": [
        "# 2) prediction based on cam heatmap (SHOULD NOT WORK)\n",
        "\n",
        "test_image, test_label = get_sample(mnist_test, 6187)\n",
        "gcm_mnist_cam, gcm_conv_output, gcm_mnist_prediction, _ = grad_cam_pp(test_image, model_gcm)\n",
        "heatmap = get_heatmap(gcm_mnist_cam, mnist_shape).reshape(*mnist_shape, 1) * 255\n",
        "prediction = predict(model_geo, heatmap)\n",
        "\n",
        "show_image(heatmap)\n",
        "\n",
        "sorted_indexes = np.flip(np.argsort(prediction[0]))\n",
        "percentages = prediction[0] / prediction[0][sorted_indexes[0]]\n",
        "\n",
        "print(f\"1st : {dataset_labels[sorted_indexes[0]]} ({percentages[sorted_indexes[0]] * 100:.2f}%)\")\n",
        "print(f\"2nd : {dataset_labels[sorted_indexes[1]]} ({percentages[sorted_indexes[1]] * 100:.2f}%)\")\n",
        "print(f\"3rd : {dataset_labels[sorted_indexes[2]]} ({percentages[sorted_indexes[2]] * 100:.2f}%)\")\n",
        "\n",
        "plt.figure(facecolor='white')\n",
        "ax = plt.gca()\n",
        "ax.set_xticklabels([])\n",
        "ax.set_yticklabels([])\n",
        "plt.imshow(test_image.reshape(*mnist_shape), alpha=0.5, cmap='Greys')\n",
        "plt.imshow(heatmap.reshape(*mnist_shape), cmap='jet', alpha=0.5)\n",
        "plt.show()  "
      ],
      "execution_count": null,
      "outputs": []
    },
    {
      "cell_type": "code",
      "metadata": {
        "id": "4ud0Ha1Hzkkf"
      },
      "source": [
        "test_image, test_label, test_idx = get_sample(mnist_test)\n",
        "\n",
        "# geo2 (sliced) model (from model_gcm - transfer learning) for cam prediction\n",
        "model_geocam = Model([model_geo.inputs], [get_layer(model_geo, \"geo_last_conv\").get_output_at(0), model_geo.output])\n",
        "\n",
        "model_gcmcam_1 = Model([model_gcm_complete.inputs], \n",
        "                     [get_layer(model_gcm_complete, \"mnist_last_conv\").get_output_at(0), \n",
        "                      model_gcm_complete.output])\n",
        "\n",
        "model_gcmcam = Model([model_gcm_complete.inputs], \n",
        "                     [get_layer(model_gcm_complete, \"geo_last_conv\").get_output_at(0), \n",
        "                      model_gcm_complete.output])\n",
        "\n",
        "cam_threshold = 0.7\n",
        "cam_method = grad_cam_m\n",
        "\n",
        "def get_maskedcam_predictions(test_image, classes, cam_method=grad_cam_m, threshold=0.8):  \n",
        "  centers = dict()\n",
        "  grid_pos = dict()\n",
        "  geo_cam = dict()\n",
        "  masked_geo_cam = dict()\n",
        "  masked_geo_thresh = dict()\n",
        "\n",
        "  geo_cam_maxes = []\n",
        "  masked_geo_cam_maxes = []\n",
        "\n",
        "  test_image_bb = get_boundingbox(test_image)\n",
        "\n",
        "  # minist cam mask\n",
        "  cam, _, mnist_predictions, _ = cam_method(test_image, model_gcmcam_1)\n",
        "  _, _, cam = normalize_cam(cam)\n",
        "  mnist_cam = np.copy(cam)\n",
        "\n",
        "  # geo branch\n",
        "  for category in range(classes):\n",
        "    cam = cam_method(test_image, model_geocam, category)[0]\n",
        "    # print(cam)\n",
        "    min, max, cam = normalize_cam(cam)\n",
        "\n",
        "    geo_cam[category] = np.copy(cam)\n",
        "    geo_cam_maxes.append(max)\n",
        "\n",
        "  # mask (geo - mnist)\n",
        "  for category in range(classes):\n",
        "    modulation = safe_divide(geo_cam_maxes[category], np.max(geo_cam_maxes), abs=False) # modulation\n",
        "    cam = geo_cam[category] - (geo_cam[category] * (1 - mnist_cam)) # mask\n",
        "    # cam = cam * modulation\n",
        "    # print(f\"min: {np.min(cam)}, max: {np.max(cam)}\")\n",
        "    masked_geo_cam_maxes.append(np.max(cam) * modulation)\n",
        "    masked_geo_cam[category] = np.copy(cam)\n",
        "\n",
        "  # threshorld and centers\n",
        "  for category in range(classes):\n",
        "    cam = masked_geo_cam[category]\n",
        "    # cam = (cam >= threshold) * threshold\n",
        "    cam = resize_image(cam, mnist_shape)\n",
        "\n",
        "    _, cam = cv2.threshold(cam, np.max(cam) * threshold, np.max(cam), cv2.THRESH_BINARY)\n",
        "    \n",
        "    masked_geo_thresh[category] = cam\n",
        "\n",
        "    cv_img = np.array(cam * 255, dtype = np.uint8)\n",
        "    contours, _ = cv2.findContours(cv_img, cv2.RETR_LIST, cv2.CHAIN_APPROX_NONE)\n",
        "\n",
        "    centers[category] = []\n",
        "    grid_pos[category] = set()\n",
        "\n",
        "    for i in range(len(contours)):\n",
        "      moments = cv2.moments(contours[i])\n",
        "      if moments['m00'] > 0:\n",
        "        center = (safe_divide(moments['m10'], moments['m00']), safe_divide(moments['m01'], moments['m00']))\n",
        "        grid_position = get_grid_position(center, mnist_shape, boundingbox=test_image_bb)\n",
        "        \n",
        "        centers[category].append(center)\n",
        "        grid_pos[category].add(grid_position)\n",
        "  \n",
        "  extra_infos = dict()\n",
        "  extra_infos['order'] = np.flip(np.argsort(masked_geo_cam_maxes), 0)\n",
        "  extra_infos['maxes'] = masked_geo_cam_maxes\n",
        "  extra_infos['thresholds'] = masked_geo_thresh\n",
        "  extra_infos['geo_cams'] = geo_cam\n",
        "  extra_infos['mnist_cam'] = mnist_cam\n",
        "  extra_infos['mnist_pred'] = np.argmax(mnist_predictions)\n",
        "  extra_infos['centers'] = centers\n",
        "  extra_infos['grid_pos'] = grid_pos\n",
        "\n",
        "  return masked_geo_cam, extra_infos\n",
        "\n",
        "# cam, extras = get_maskedcam_predictions(test_image, len(dataset_labels))\n",
        "\n",
        "# first_pred = extras['order'][0]\n",
        "\n",
        "# print(f\"first: {dataset_labels[first_pred]} - total order: {extras['order']}\")\n",
        "# print(extras['grid_pos'][first_pred])\n",
        "\n",
        "# show_image_in_grid(np.array([\n",
        "#                              [\n",
        "#                               test_image, \n",
        "#                               {'img': extras['geo_cams'][first_pred], 'cmap':'jet', 'title':'geo'},\n",
        "#                               {'img': extras['mnist_cam'], 'cmap':'jet', 'title':'mnist'},\n",
        "#                               {'img': cam[first_pred], 'cmap':'jet', 'title':'geo-cam'},\n",
        "#                               extras['thresholds'][first_pred],\n",
        "#                               ]\n",
        "#                              ]), mnist_shape)"
      ],
      "execution_count": null,
      "outputs": []
    }
  ]
}