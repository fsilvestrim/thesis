{
  "nbformat": 4,
  "nbformat_minor": 0,
  "metadata": {
    "colab": {
      "name": "Geo-Cam.ipynb",
      "provenance": [],
      "collapsed_sections": [],
      "toc_visible": true,
      "authorship_tag": "ABX9TyPmhz4b17o5+09Xk0W5TqHT",
      "include_colab_link": true
    },
    "kernelspec": {
      "name": "python3",
      "display_name": "Python 3"
    },
    "accelerator": "GPU"
  },
  "cells": [
    {
      "cell_type": "markdown",
      "metadata": {
        "id": "view-in-github",
        "colab_type": "text"
      },
      "source": [
        "<a href=\"https://colab.research.google.com/github/fsilvestrim/thesis/blob/master/Geo_Cam.ipynb\" target=\"_parent\"><img src=\"https://colab.research.google.com/assets/colab-badge.svg\" alt=\"Open In Colab\"/></a>"
      ]
    },
    {
      "cell_type": "markdown",
      "metadata": {
        "id": "cB_AS_K_X5J0"
      },
      "source": [
        "# Utils"
      ]
    },
    {
      "cell_type": "code",
      "metadata": {
        "id": "W2x-VCBnFz5h"
      },
      "source": [
        "import re\n",
        "import time\n",
        "import random\n",
        "import numpy as np\n",
        "import scipy as sp\n",
        "import pickle\n",
        "import cv2\n",
        "\n",
        "from matplotlib import cm\n",
        "import matplotlib.pyplot as plt\n",
        "import matplotlib.image as mpimg\n",
        "import matplotlib.pyplot as plt\n",
        "\n",
        "%matplotlib inline"
      ],
      "execution_count": 26,
      "outputs": []
    },
    {
      "cell_type": "code",
      "metadata": {
        "colab": {
          "base_uri": "https://localhost:8080/"
        },
        "id": "BvhCa24vLZ--",
        "outputId": "dfe75d6c-66e1-4622-c8f3-549e4461e4b3"
      },
      "source": [
        "#%tensorflow_version 2.x\n",
        "\n",
        "import tensorflow as tf\n",
        "print(tf.__version__)\n",
        "from tensorflow import keras\n",
        "from keras import backend as K\n",
        "from tensorflow.keras import layers\n",
        "from tensorflow.keras.models import Model\n",
        "from tensorflow.python.framework.ops import disable_eager_execution\n",
        "from tensorflow.python.framework.ops import enable_eager_execution\n",
        "\n",
        "#disable_eager_execution()\n",
        "enable_eager_execution()\n",
        "print('Eager mode: %s' % tf.executing_eagerly())\n",
        "\n",
        "device_name = tf.test.gpu_device_name()\n",
        "\n",
        "if device_name != '/device:GPU:0':\n",
        "  raise SystemError('GPU device not found')\n",
        "\n",
        "print('Found GPU at: {}'.format(device_name))"
      ],
      "execution_count": 2,
      "outputs": [
        {
          "output_type": "stream",
          "text": [
            "2.4.1\n",
            "Eager mode: True\n",
            "Found GPU at: /device:GPU:0\n"
          ],
          "name": "stdout"
        }
      ]
    },
    {
      "cell_type": "code",
      "metadata": {
        "id": "TrovwQHTWrlB"
      },
      "source": [
        "def show_prediction(image, label, prediction):\n",
        "  plt.figure(facecolor='white')\n",
        "  ax = plt.gca()\n",
        "  ax.set_xticklabels([])\n",
        "  ax.set_yticklabels([])\n",
        "  plt.imshow(image.reshape(28, 28), cmap='Greys')\n",
        "  plt.title(\"Prediction: %s / Truth: %s\" % (np.argmax(prediction), label))\n",
        "  plt.show()"
      ],
      "execution_count": 3,
      "outputs": []
    },
    {
      "cell_type": "code",
      "metadata": {
        "id": "LNQAoOL5jlVC"
      },
      "source": [
        "def get_heatmap(cam, size, resize=True):\n",
        "  heatmap = cam / np.max(cam)\n",
        " \n",
        "  if resize:\n",
        "    height_zoom = size[1] / cam.shape[0]\n",
        "    width_zoom = size[0] / cam.shape[1]\n",
        "    heatmap = sp.ndimage.zoom(cam, (height_zoom, width_zoom), order=2)\n",
        " \n",
        "  return heatmap"
      ],
      "execution_count": 4,
      "outputs": []
    },
    {
      "cell_type": "code",
      "metadata": {
        "id": "Ya25j5pbZoq2"
      },
      "source": [
        "def show_heatmap(img, cam, size, resize=True, title=None):\n",
        "  img = img.reshape(size[0], size[1])\n",
        "  heatmap = get_heatmap(cam, size, resize)\n",
        "\n",
        "  # plot\n",
        "  plt.figure(facecolor='white')\n",
        "  ax = plt.gca()\n",
        "  ax.set_xticklabels([])\n",
        "  ax.set_yticklabels([])\n",
        "  plt.imshow(img, alpha=0.5, cmap='Greys')\n",
        "  plt.imshow(heatmap, cmap='jet', alpha=0.5)\n",
        "  \n",
        "  if title is not None:\n",
        "    plt.title(title)\n",
        "  \n",
        "  plt.show()  "
      ],
      "execution_count": 5,
      "outputs": []
    },
    {
      "cell_type": "code",
      "metadata": {
        "id": "LF2nobFe76jK"
      },
      "source": [
        "def plot_model_score(score, history):\n",
        "  plt.figure(facecolor='white')\n",
        "  plt.plot(history['loss'])\n",
        "  plt.plot(history['val_loss'])\n",
        "  plt.ylabel('Loss')\n",
        "  plt.xlabel('Epoch')\n",
        "  plt.legend(['Train', 'Validation'], loc='upper left')\n",
        "  plt.title(\"Loss: %.5f vs. Accuracy: %.5f\" % (score[0], score[1]))\n",
        "  plt.show() "
      ],
      "execution_count": 6,
      "outputs": []
    },
    {
      "cell_type": "code",
      "metadata": {
        "id": "PARsNtG47nUc"
      },
      "source": [
        "def load_model(name):\n",
        "  model = keras.models.load_model(\"saved_model_%s\" % name)\n",
        "  history = pickle.load(open('saved_model_%s/history' % name, \"rb\"))\n",
        "\n",
        "  return model, history"
      ],
      "execution_count": 7,
      "outputs": []
    },
    {
      "cell_type": "code",
      "metadata": {
        "id": "eQiN2YfH66oZ"
      },
      "source": [
        "def save_model(model, history, name):\n",
        "  model.save(\"saved_model_%s\" % name)\n",
        "\n",
        "  with open('saved_model_%s/history' % name, 'wb') as file_pi:\n",
        "    pickle.dump(history.history, file_pi)"
      ],
      "execution_count": 8,
      "outputs": []
    },
    {
      "cell_type": "code",
      "metadata": {
        "id": "9y0SKay9zUyh"
      },
      "source": [
        "def get_cam_layers(model):\n",
        "  last_conv_layer = None\n",
        "  last_layers = []\n",
        "  conv_layers = []\n",
        "  for layer in reversed(model.layers):\n",
        "      # check to see if the layer has a 4D output\n",
        "      if len(layer.output_shape) == 4 and last_conv_layer is None:\n",
        "        last_conv_layer = layer\n",
        "        # print(\"Last Conv Layer: %s, filters %s\" % (layer.name, layer.filters))\n",
        "\n",
        "      if last_conv_layer is not None:\n",
        "        conv_layers.insert(0, layer)\n",
        "      else:\n",
        "        last_layers.insert(0, layer)\n",
        "\n",
        "  return conv_layers, last_layers"
      ],
      "execution_count": 9,
      "outputs": []
    },
    {
      "cell_type": "code",
      "metadata": {
        "id": "CfQxjWHqzuoI"
      },
      "source": [
        "def get_prediction(model, test, idx=-1):\n",
        "  if idx < 0:\n",
        "    idx = random.randint(0, len(test[0]))\n",
        "\n",
        "  image = test[0][idx]\n",
        "  label = np.argmax(test[1][idx])\n",
        "  prediction = model.predict(np.expand_dims(image, 0))\n",
        "\n",
        "  return image, label, prediction, idx"
      ],
      "execution_count": 10,
      "outputs": []
    },
    {
      "cell_type": "code",
      "metadata": {
        "id": "wIXXoT0p0I3M"
      },
      "source": [
        "def format_dataset(num_classes, train, test):\n",
        "  (x_train, y_train), (x_test, y_test) = train, test\n",
        "\n",
        "  print(x_train[0].shape)\n",
        "  print(y_train[0])\n",
        "\n",
        "  # Scale images to the [0, 1] range\n",
        "  x_train = x_train.astype(\"float32\") / 255\n",
        "  x_test = x_test.astype(\"float32\") / 255\n",
        "\n",
        "  # Make sure images have shape (28, 28, 1)\n",
        "  x_train = np.expand_dims(x_train, -1)\n",
        "  x_test = np.expand_dims(x_test, -1)\n",
        "\n",
        "  print(\"x_train shape:\", x_train.shape)\n",
        "  print(x_train.shape[0], \"train samples\")\n",
        "  print(x_test.shape[0], \"test samples\")\n",
        "\n",
        "  # convert class vectors to binary class matrices\n",
        "  y_train = keras.utils.to_categorical(y_train, num_classes)\n",
        "  y_test = keras.utils.to_categorical(y_test, num_classes)\n",
        "\n",
        "  return (x_train, y_train), (x_test, y_test)"
      ],
      "execution_count": 11,
      "outputs": []
    },
    {
      "cell_type": "markdown",
      "metadata": {
        "id": "Okm2rbgeJNSD"
      },
      "source": [
        "#MNIST"
      ]
    },
    {
      "cell_type": "code",
      "metadata": {
        "id": "rTNjOPRWJRz1",
        "colab": {
          "base_uri": "https://localhost:8080/"
        },
        "outputId": "bc5bbbc5-1199-4a74-8fd7-b133f4563815"
      },
      "source": [
        "mnist_train, mnist_test = keras.datasets.mnist.load_data()\n",
        "mnist_train, mnist_test = format_dataset(10, mnist_train, mnist_test)\n",
        "\n",
        "def create_mnist_model(name, input_shape, num_classes, train=None):\n",
        "  model = keras.Sequential(\n",
        "      [\n",
        "          keras.Input(shape=input_shape),\n",
        "      \n",
        "          layers.Conv2D(filters=32, kernel_size=(3, 3), activation=\"relu\"),\n",
        "          layers.MaxPooling2D(pool_size=(2, 2), strides=(2,2)),\n",
        "      \n",
        "          layers.Conv2D(filters=64, kernel_size=(3, 3), activation=\"relu\"),\n",
        "          layers.MaxPooling2D(pool_size=(2, 2), strides=(2,2)),\n",
        "          layers.Dropout(0.5),\n",
        "      \n",
        "          layers.Conv2D(filters=128, kernel_size=(3, 3), activation=\"relu\"),\n",
        "          layers.GlobalAveragePooling2D(),\n",
        "          \n",
        "          layers.Dense(num_classes, activation=\"softmax\"),\n",
        "      ]\n",
        "  )\n",
        "\n",
        "  model.compile(loss=\"categorical_crossentropy\", optimizer=\"adam\", metrics=[\"accuracy\"])\n",
        "\n",
        "  return model"
      ],
      "execution_count": 12,
      "outputs": [
        {
          "output_type": "stream",
          "text": [
            "Downloading data from https://storage.googleapis.com/tensorflow/tf-keras-datasets/mnist.npz\n",
            "11493376/11490434 [==============================] - 0s 0us/step\n",
            "(28, 28)\n",
            "5\n",
            "x_train shape: (60000, 28, 28, 1)\n",
            "60000 train samples\n",
            "10000 test samples\n"
          ],
          "name": "stdout"
        }
      ]
    },
    {
      "cell_type": "code",
      "metadata": {
        "colab": {
          "base_uri": "https://localhost:8080/",
          "height": 1000
        },
        "id": "_UUVTSfOKsh2",
        "outputId": "c8d2d59d-6925-4e8f-c378-17ef4513a9b0"
      },
      "source": [
        "model_mnist = create_mnist_model(\"gap_shallow\", (28, 28, 1), 10, mnist_train)\n",
        "\n",
        "# model_mnist, history_mnist = load_model(\"gap_shallow\")\n",
        "start_time = time.clock()\n",
        "history_mnist = model_mnist.fit(mnist_train[0], mnist_train[1], batch_size=128, epochs=15, validation_split=0.1)\n",
        "print(\"Training took: %.2f seconds\" % (time.clock() - start_time))\n",
        "# save_model(model_mnist, history_mnist, \"gap_shallow\")\n",
        "\n",
        "model_mnist.summary()\n",
        "score_mnist = model_mnist.evaluate(mnist_test[0], mnist_test[1], verbose=0)\n",
        "\n",
        "plot_model_score(score_mnist, history_mnist.history)"
      ],
      "execution_count": 13,
      "outputs": [
        {
          "output_type": "stream",
          "text": [
            "/usr/local/lib/python3.7/dist-packages/ipykernel_launcher.py:4: DeprecationWarning: time.clock has been deprecated in Python 3.3 and will be removed from Python 3.8: use time.perf_counter or time.process_time instead\n",
            "  after removing the cwd from sys.path.\n"
          ],
          "name": "stderr"
        },
        {
          "output_type": "stream",
          "text": [
            "Epoch 1/15\n",
            "422/422 [==============================] - 36s 7ms/step - loss: 0.9410 - accuracy: 0.7070 - val_loss: 0.1239 - val_accuracy: 0.9638\n",
            "Epoch 2/15\n",
            "422/422 [==============================] - 2s 5ms/step - loss: 0.1882 - accuracy: 0.9423 - val_loss: 0.0902 - val_accuracy: 0.9742\n",
            "Epoch 3/15\n",
            "422/422 [==============================] - 2s 5ms/step - loss: 0.1336 - accuracy: 0.9586 - val_loss: 0.0662 - val_accuracy: 0.9808\n",
            "Epoch 4/15\n",
            "422/422 [==============================] - 2s 5ms/step - loss: 0.1035 - accuracy: 0.9679 - val_loss: 0.0605 - val_accuracy: 0.9828\n",
            "Epoch 5/15\n",
            "422/422 [==============================] - 2s 5ms/step - loss: 0.0926 - accuracy: 0.9708 - val_loss: 0.0533 - val_accuracy: 0.9828\n",
            "Epoch 6/15\n",
            "422/422 [==============================] - 2s 5ms/step - loss: 0.0748 - accuracy: 0.9765 - val_loss: 0.0502 - val_accuracy: 0.9847\n",
            "Epoch 7/15\n",
            "422/422 [==============================] - 2s 5ms/step - loss: 0.0734 - accuracy: 0.9762 - val_loss: 0.0399 - val_accuracy: 0.9892\n",
            "Epoch 8/15\n",
            "422/422 [==============================] - 2s 5ms/step - loss: 0.0604 - accuracy: 0.9811 - val_loss: 0.0469 - val_accuracy: 0.9867\n",
            "Epoch 9/15\n",
            "422/422 [==============================] - 2s 5ms/step - loss: 0.0582 - accuracy: 0.9810 - val_loss: 0.0358 - val_accuracy: 0.9888\n",
            "Epoch 10/15\n",
            "422/422 [==============================] - 2s 5ms/step - loss: 0.0493 - accuracy: 0.9838 - val_loss: 0.0368 - val_accuracy: 0.9898\n",
            "Epoch 11/15\n",
            "422/422 [==============================] - 2s 5ms/step - loss: 0.0498 - accuracy: 0.9845 - val_loss: 0.0325 - val_accuracy: 0.9908\n",
            "Epoch 12/15\n",
            "422/422 [==============================] - 2s 5ms/step - loss: 0.0449 - accuracy: 0.9856 - val_loss: 0.0347 - val_accuracy: 0.9882\n",
            "Epoch 13/15\n",
            "422/422 [==============================] - 2s 5ms/step - loss: 0.0424 - accuracy: 0.9868 - val_loss: 0.0323 - val_accuracy: 0.9905\n",
            "Epoch 14/15\n",
            "422/422 [==============================] - 2s 5ms/step - loss: 0.0394 - accuracy: 0.9873 - val_loss: 0.0290 - val_accuracy: 0.9918\n",
            "Epoch 15/15\n",
            "422/422 [==============================] - 2s 6ms/step - loss: 0.0363 - accuracy: 0.9885 - val_loss: 0.0260 - val_accuracy: 0.9928\n",
            "Training took: 43.64 seconds\n",
            "Model: \"sequential\"\n",
            "_________________________________________________________________\n",
            "Layer (type)                 Output Shape              Param #   \n",
            "=================================================================\n",
            "conv2d (Conv2D)              (None, 26, 26, 32)        320       \n",
            "_________________________________________________________________\n",
            "max_pooling2d (MaxPooling2D) (None, 13, 13, 32)        0         \n",
            "_________________________________________________________________\n",
            "conv2d_1 (Conv2D)            (None, 11, 11, 64)        18496     \n",
            "_________________________________________________________________\n",
            "max_pooling2d_1 (MaxPooling2 (None, 5, 5, 64)          0         \n",
            "_________________________________________________________________\n",
            "dropout (Dropout)            (None, 5, 5, 64)          0         \n",
            "_________________________________________________________________\n",
            "conv2d_2 (Conv2D)            (None, 3, 3, 128)         73856     \n",
            "_________________________________________________________________\n",
            "global_average_pooling2d (Gl (None, 128)               0         \n",
            "_________________________________________________________________\n",
            "dense (Dense)                (None, 10)                1290      \n",
            "=================================================================\n",
            "Total params: 93,962\n",
            "Trainable params: 93,962\n",
            "Non-trainable params: 0\n",
            "_________________________________________________________________\n"
          ],
          "name": "stdout"
        },
        {
          "output_type": "stream",
          "text": [
            "/usr/local/lib/python3.7/dist-packages/ipykernel_launcher.py:6: DeprecationWarning: time.clock has been deprecated in Python 3.3 and will be removed from Python 3.8: use time.perf_counter or time.process_time instead\n",
            "  \n"
          ],
          "name": "stderr"
        },
        {
          "output_type": "display_data",
          "data": {
            "image/png": "[encoded data removed]",
            "text/plain": [
              "<Figure size 432x288 with 1 Axes>"
            ]
          },
          "metadata": {
            "tags": []
          }
        }
      ]
    },
    {
      "cell_type": "code",
      "metadata": {
        "colab": {
          "base_uri": "https://localhost:8080/",
          "height": 268
        },
        "id": "--_Cb0cwMTsl",
        "outputId": "68706ac6-93ee-4a7d-8d1c-f91a2182a066"
      },
      "source": [
        "image, label, prediction, _ = get_prediction(model_mnist, mnist_test)\n",
        "show_prediction(image, label, prediction)"
      ],
      "execution_count": 14,
      "outputs": [
        {
          "output_type": "display_data",
          "data": {
            "image/png": "[encoded data removed]",
            "text/plain": [
              "<Figure size 432x288 with 1 Axes>"
            ]
          },
          "metadata": {
            "tags": []
          }
        }
      ]
    },
    {
      "cell_type": "markdown",
      "metadata": {
        "id": "ZAVIlq5GvHoU"
      },
      "source": [
        "#GEO"
      ]
    },
    {
      "cell_type": "code",
      "metadata": {
        "id": "fknmrIpWvKQJ"
      },
      "source": [
        "geo_dataset_proto = (\"proto\", \"https://geo-cam.s3-eu-west-1.amazonaws.com/geocam.npz\", 3)\n",
        "geo_dataset_simple = (\"simple\", \"https://geo-cam.s3-eu-west-1.amazonaws.com/simpledataset_dataset.npz\", 6)\n",
        "geo_dataset_round = (\"round\", \"https://geo-cam.s3-eu-west-1.amazonaws.com/rounddataset_dataset.npz\", 6)\n",
        "geo_dataset_threesixty = (\"threesixty\", \"https://geo-cam.s3-eu-west-1.amazonaws.com/threesixtydataset_dataset.npz\", 18)\n",
        "\n",
        "def get_geo_dataset(name, filepath):\n",
        "  path = tf.keras.utils.get_file(name, filepath)\n",
        "  with np.load(path, allow_pickle=True) as f:\n",
        "    x_train, y_train = f['x_train'], f['y_train']\n",
        "    x_test, y_test = f['x_test'], f['y_test']\n",
        "\n",
        "    return (x_train, y_train), (x_test, y_test)"
      ],
      "execution_count": 31,
      "outputs": []
    },
    {
      "cell_type": "code",
      "metadata": {
        "id": "IAZ-zvCO7eQO"
      },
      "source": [
        "def create_geo_model(name, input_shape, num_classes):\n",
        "  model = keras.Sequential(\n",
        "      [\n",
        "          keras.Input(shape=input_shape),\n",
        "      \n",
        "          layers.Conv2D(filters=32, kernel_size=(3, 3), padding=\"same\", activation=\"relu\"),\n",
        "          # layers.MaxPooling2D(pool_size=(2, 2), strides=(2,2)),\n",
        "      \n",
        "          layers.Conv2D(filters=64, kernel_size=(3, 3), padding=\"same\", activation=\"relu\"),\n",
        "       \n",
        "          # layers.MaxPooling2D(pool_size=(2, 2), strides=(2,2)),\n",
        "          layers.Dropout(0.3),\n",
        "      \n",
        "          layers.Conv2D(filters=128, kernel_size=(3, 3), padding=\"same\", activation=\"relu\"),\n",
        "          layers.GlobalAveragePooling2D(),\n",
        "          \n",
        "          layers.Dense(num_classes, activation=\"softmax\"),\n",
        "      ]\n",
        "  )\n",
        "\n",
        "  model.compile(loss=\"categorical_crossentropy\", optimizer=\"adam\", metrics=[\"accuracy\"])\n",
        "\n",
        "  return model"
      ],
      "execution_count": 30,
      "outputs": []
    },
    {
      "cell_type": "code",
      "metadata": {
        "colab": {
          "base_uri": "https://localhost:8080/",
          "height": 1000
        },
        "id": "fi-GBD6n70bH",
        "outputId": "d03d0d83-a5b6-4632-8993-7132604ec5e8"
      },
      "source": [
        "dataset = geo_dataset_simple\n",
        "geo_train, geo_test = get_geo_dataset(dataset[0], dataset[1])\n",
        "geo_train, geo_test = format_dataset(dataset[2], geo_train, geo_test)\n",
        "model_geo = create_geo_model(\"geocam\", (28, 28, 1), dataset[2])\n",
        "# model_geo, history_geo = load_model(\"geo\")\n",
        "\n",
        "start_time = time.clock()\n",
        "history_geo = model_geo.fit(geo_train[0], geo_train[1], batch_size=128, epochs=15, validation_split=0.1)\n",
        "print(\"Training took: %.2f seconds\" % (time.clock() - start_time))\n",
        "# save_model(model_geo, history_geo, \"geo\")\n",
        "\n",
        "model_geo.summary()\n",
        "score_geo = model_geo.evaluate(geo_test[0], geo_test[1], verbose=0)\n",
        "\n",
        "plot_model_score(score_geo, history_geo.history)"
      ],
      "execution_count": 32,
      "outputs": [
        {
          "output_type": "stream",
          "text": [
            "Downloading data from https://geo-cam.s3-eu-west-1.amazonaws.com/simpledataset_dataset.npz\n",
            "18841600/18841002 [==============================] - 1s 0us/step\n",
            "(28, 28)\n",
            "1\n",
            "x_train shape: (4200, 28, 28, 1)\n",
            "4200 train samples\n",
            "1800 test samples\n",
            "Epoch 1/15\n"
          ],
          "name": "stdout"
        },
        {
          "output_type": "stream",
          "text": [
            "/usr/local/lib/python3.7/dist-packages/ipykernel_launcher.py:7: DeprecationWarning: time.clock has been deprecated in Python 3.3 and will be removed from Python 3.8: use time.perf_counter or time.process_time instead\n",
            "  import sys\n"
          ],
          "name": "stderr"
        },
        {
          "output_type": "stream",
          "text": [
            "30/30 [==============================] - 2s 37ms/step - loss: 1.7617 - accuracy: 0.1688 - val_loss: 1.6372 - val_accuracy: 0.2405\n",
            "Epoch 2/15\n",
            "30/30 [==============================] - 1s 21ms/step - loss: 1.5038 - accuracy: 0.4539 - val_loss: 0.9704 - val_accuracy: 0.7738\n",
            "Epoch 3/15\n",
            "30/30 [==============================] - 1s 21ms/step - loss: 0.8972 - accuracy: 0.7175 - val_loss: 0.6332 - val_accuracy: 0.8500\n",
            "Epoch 4/15\n",
            "30/30 [==============================] - 1s 20ms/step - loss: 0.6280 - accuracy: 0.8228 - val_loss: 0.4894 - val_accuracy: 0.8548\n",
            "Epoch 5/15\n",
            "30/30 [==============================] - 1s 21ms/step - loss: 0.5170 - accuracy: 0.8310 - val_loss: 0.4005 - val_accuracy: 0.9190\n",
            "Epoch 6/15\n",
            "30/30 [==============================] - 1s 21ms/step - loss: 0.4408 - accuracy: 0.8655 - val_loss: 0.3447 - val_accuracy: 0.9071\n",
            "Epoch 7/15\n",
            "30/30 [==============================] - 1s 21ms/step - loss: 0.3724 - accuracy: 0.8947 - val_loss: 0.2852 - val_accuracy: 0.9381\n",
            "Epoch 8/15\n",
            "30/30 [==============================] - 1s 21ms/step - loss: 0.3079 - accuracy: 0.9124 - val_loss: 0.2557 - val_accuracy: 0.9381\n",
            "Epoch 9/15\n",
            "30/30 [==============================] - 1s 20ms/step - loss: 0.2919 - accuracy: 0.9108 - val_loss: 0.2172 - val_accuracy: 0.9452\n",
            "Epoch 10/15\n",
            "30/30 [==============================] - 1s 21ms/step - loss: 0.2423 - accuracy: 0.9291 - val_loss: 0.1896 - val_accuracy: 0.9429\n",
            "Epoch 11/15\n",
            "30/30 [==============================] - 1s 21ms/step - loss: 0.2181 - accuracy: 0.9336 - val_loss: 0.1702 - val_accuracy: 0.9524\n",
            "Epoch 12/15\n",
            "30/30 [==============================] - 1s 21ms/step - loss: 0.1908 - accuracy: 0.9383 - val_loss: 0.1583 - val_accuracy: 0.9476\n",
            "Epoch 13/15\n",
            "30/30 [==============================] - 1s 21ms/step - loss: 0.1891 - accuracy: 0.9339 - val_loss: 0.1350 - val_accuracy: 0.9643\n",
            "Epoch 14/15\n",
            "30/30 [==============================] - 1s 20ms/step - loss: 0.1466 - accuracy: 0.9543 - val_loss: 0.1284 - val_accuracy: 0.9643\n",
            "Epoch 15/15\n",
            "30/30 [==============================] - 1s 21ms/step - loss: 0.1530 - accuracy: 0.9523 - val_loss: 0.1103 - val_accuracy: 0.9738\n",
            "Training took: 8.65 seconds\n",
            "Model: \"sequential_4\"\n",
            "_________________________________________________________________\n",
            "Layer (type)                 Output Shape              Param #   \n",
            "=================================================================\n",
            "conv2d_9 (Conv2D)            (None, 28, 28, 32)        320       \n",
            "_________________________________________________________________\n",
            "conv2d_10 (Conv2D)           (None, 28, 28, 64)        18496     \n",
            "_________________________________________________________________\n",
            "dropout_3 (Dropout)          (None, 28, 28, 64)        0         \n",
            "_________________________________________________________________\n",
            "conv2d_11 (Conv2D)           (None, 28, 28, 128)       73856     \n",
            "_________________________________________________________________\n",
            "global_average_pooling2d_3 ( (None, 128)               0         \n",
            "_________________________________________________________________\n",
            "dense_3 (Dense)              (None, 6)                 774       \n",
            "=================================================================\n",
            "Total params: 93,446\n",
            "Trainable params: 93,446\n",
            "Non-trainable params: 0\n",
            "_________________________________________________________________\n"
          ],
          "name": "stdout"
        },
        {
          "output_type": "stream",
          "text": [
            "/usr/local/lib/python3.7/dist-packages/ipykernel_launcher.py:9: DeprecationWarning: time.clock has been deprecated in Python 3.3 and will be removed from Python 3.8: use time.perf_counter or time.process_time instead\n",
            "  if __name__ == '__main__':\n"
          ],
          "name": "stderr"
        },
        {
          "output_type": "display_data",
          "data": {
            "image/png": "[encoded data removed]",
            "text/plain": [
              "<Figure size 432x288 with 1 Axes>"
            ]
          },
          "metadata": {
            "tags": []
          }
        }
      ]
    },
    {
      "cell_type": "code",
      "metadata": {
        "colab": {
          "base_uri": "https://localhost:8080/",
          "height": 268
        },
        "id": "Io6EtCTU-Gwn",
        "outputId": "4fd6ef60-daeb-4c4f-cafe-d9f52630a3db"
      },
      "source": [
        "image, label, prediction, _ = get_prediction(model_geo, geo_test)\n",
        "show_prediction(image, label, prediction)"
      ],
      "execution_count": 33,
      "outputs": [
        {
          "output_type": "display_data",
          "data": {
            "image/png": "[encoded data removed]",
            "text/plain": [
              "<Figure size 432x288 with 1 Axes>"
            ]
          },
          "metadata": {
            "tags": []
          }
        }
      ]
    },
    {
      "cell_type": "markdown",
      "metadata": {
        "id": "2qfZh1ixKzXR"
      },
      "source": [
        "#Prototype\n"
      ]
    },
    {
      "cell_type": "markdown",
      "metadata": {
        "id": "uiNBarmhHqai"
      },
      "source": [
        "## GCM"
      ]
    },
    {
      "cell_type": "code",
      "metadata": {
        "colab": {
          "base_uri": "https://localhost:8080/"
        },
        "id": "IPmhUSmV4Gox",
        "outputId": "5293e26e-8898-4054-bf4a-d4f341fe837d"
      },
      "source": [
        "geo_layers = get_cam_layers(keras.models.clone_model(model_geo))\n",
        "mnist_layers = get_cam_layers(keras.models.clone_model(model_mnist))\n",
        "\n",
        "model_gcm = keras.Sequential()\n",
        "\n",
        "for layer in geo_layers[0]:\n",
        "  layer.trainable = False\n",
        "  model_gcm.add(layer)\n",
        "\n",
        "model_gcm.add(layers.Dropout(0.3))\n",
        "model_gcm.add(layers.Conv2D(filters=128, kernel_size=(3, 3), padding=\"same\", activation=\"relu\"))\n",
        "model_gcm.add(layers.Conv2D(filters=512, kernel_size=(3, 3), padding=\"same\", activation=\"relu\"))\n",
        "model_gcm.add(layers.Conv2D(filters=128, kernel_size=(3, 3), padding=\"same\", activation=\"relu\"))\n",
        "model_gcm.add(layers.GlobalAveragePooling2D())\n",
        "model_gcm.add(layers.Dense(10, activation=\"softmax\"))\n",
        "\n",
        "# for layer in mnist_layers[1]:\n",
        "  # model_gcm.add(layer)\n",
        "\n",
        "opt = keras.optimizers.Adam(learning_rate=0.002)\n",
        "model_gcm.compile(loss=\"categorical_crossentropy\", optimizer=opt, metrics=[\"accuracy\"])\n",
        "\n",
        "start_time = time.clock()\n",
        "history_geocam = model_gcm.fit(mnist_train[0], mnist_train[1], batch_size=128, epochs=20, validation_split=0.2)\n",
        "print(\"Training took: %.2f seconds\" % (time.clock() - start_time))\n",
        "\n",
        "score_gcm = model_gcm.evaluate(mnist_test[0], mnist_test[1], verbose=0)\n",
        "model_gcm.summary()\n",
        "plot_model_score(score_gcm, history_geocam.history)"
      ],
      "execution_count": null,
      "outputs": [
        {
          "output_type": "stream",
          "text": [
            "/usr/local/lib/python3.7/dist-packages/ipykernel_launcher.py:23: DeprecationWarning: time.clock has been deprecated in Python 3.3 and will be removed from Python 3.8: use time.perf_counter or time.process_time instead\n"
          ],
          "name": "stderr"
        },
        {
          "output_type": "stream",
          "text": [
            "Epoch 1/20\n",
            "375/375 [==============================] - 39s 102ms/step - loss: 2.0118 - accuracy: 0.2323 - val_loss: 1.6903 - val_accuracy: 0.3735\n",
            "Epoch 2/20\n",
            "375/375 [==============================] - 38s 100ms/step - loss: 1.0782 - accuracy: 0.6339 - val_loss: 1.1232 - val_accuracy: 0.6208\n",
            "Epoch 3/20\n",
            "375/375 [==============================] - 38s 101ms/step - loss: 0.6902 - accuracy: 0.7789 - val_loss: 0.7830 - val_accuracy: 0.7197\n",
            "Epoch 4/20\n",
            "375/375 [==============================] - 38s 100ms/step - loss: 0.5211 - accuracy: 0.8380 - val_loss: 0.7442 - val_accuracy: 0.7258\n",
            "Epoch 5/20\n",
            "375/375 [==============================] - 38s 100ms/step - loss: 0.4390 - accuracy: 0.8645 - val_loss: 0.5109 - val_accuracy: 0.8277\n",
            "Epoch 6/20\n",
            "375/375 [==============================] - 38s 100ms/step - loss: 0.3928 - accuracy: 0.8796 - val_loss: 0.4613 - val_accuracy: 0.8432\n",
            "Epoch 7/20\n",
            "375/375 [==============================] - 38s 100ms/step - loss: 0.3445 - accuracy: 0.8933 - val_loss: 0.4122 - val_accuracy: 0.8640\n",
            "Epoch 8/20\n",
            "375/375 [==============================] - 38s 101ms/step - loss: 0.3321 - accuracy: 0.8984 - val_loss: 0.3302 - val_accuracy: 0.8945\n",
            "Epoch 9/20\n",
            "133/375 [=========>....................] - ETA: 22s - loss: 0.2887 - accuracy: 0.9135"
          ],
          "name": "stdout"
        }
      ]
    },
    {
      "cell_type": "markdown",
      "metadata": {
        "id": "DCz5iiaJH5r2"
      },
      "source": [
        "##GEO-CAM"
      ]
    },
    {
      "cell_type": "code",
      "metadata": {
        "id": "w48VD7M3J2_g"
      },
      "source": [
        "# geo_layers = get_cam_layers(keras.models.clone_model(model_geo))\n",
        "gcm_layers = get_cam_layers(keras.models.clone_model(model_gcm))\n",
        "\n",
        "model_gcg = keras.Sequential()\n",
        "\n",
        "for layer in geo_layers[1]:\n",
        "  layer.trainable = False\n",
        "  model_gcg.add(layer)\n",
        "\n",
        "# model_gcg = Model([gcm_gap_layer.input], [gcm_gap_layer.output, model_gcm.output])"
      ],
      "execution_count": 20,
      "outputs": []
    },
    {
      "cell_type": "code",
      "metadata": {
        "id": "3IKNZaIoWJWg"
      },
      "source": [
        "def grad_cam_pp(image, model, prediction_idx=-1):\n",
        "  cam_layers = get_cam_layers(model)\n",
        "  heatmap_model = Model([model.inputs], [cam_layers[0][-1].get_output_at(0), model.output])\n",
        "\n",
        "  with tf.GradientTape() as tape1:\n",
        "      with tf.GradientTape() as tape2:\n",
        "          with tf.GradientTape() as tape3:\n",
        "              conv_output, predictions = heatmap_model(np.expand_dims(image, 0))\n",
        "              prediction_idx = np.argmax(predictions) if prediction_idx < 0 else prediction_idx\n",
        "              output = predictions[:, prediction_idx]\n",
        "              conv_first_grad = tape3.gradient(output, conv_output)\n",
        "          conv_second_grad = tape2.gradient(conv_first_grad, conv_output)\n",
        "      conv_third_grad = tape1.gradient(conv_second_grad, conv_output)\n",
        "\n",
        "  global_sum = np.sum(conv_output, axis=(0, 1, 2))\n",
        "\n",
        "  alpha_num = conv_second_grad[0]\n",
        "  alpha_denom = conv_second_grad[0]*2.0 + conv_third_grad[0]*global_sum\n",
        "  alpha_denom = np.where(alpha_denom != 0.0, alpha_denom, 1e-10)\n",
        "\n",
        "  alphas = alpha_num/alpha_denom\n",
        "  alpha_normalization_constant = np.sum(alphas, axis=(0,1))\n",
        "  alphas /= alpha_normalization_constant\n",
        "\n",
        "  weights = np.maximum(conv_first_grad[0], 0.0)\n",
        "\n",
        "  deep_linearization_weights = np.sum(weights*alphas, axis=(0,1))\n",
        "  cam = np.sum(deep_linearization_weights*conv_output[0], axis=2)\n",
        "\n",
        "  return cam, conv_output, (conv_first_grad, conv_second_grad, conv_third_grad)"
      ],
      "execution_count": 21,
      "outputs": []
    },
    {
      "cell_type": "code",
      "metadata": {
        "id": "y_iMKQkCUdG-"
      },
      "source": [
        "def cam_1(model, conv_outputs, prediction_idx):\n",
        "  cam_layers = get_cam_layers(model)\n",
        "  class_weights = cam_layers[1][-1].get_weights()[0]\n",
        "  conv_outputs = conv_outputs[0, :, :, :]\n",
        "  cam = np.zeros(dtype=np.float32, shape=conv_outputs.shape[0:2])\n",
        "  for index, weight in enumerate(class_weights[:, prediction_idx]):\n",
        "    cam += weight * conv_outputs[:, :, index]\n",
        "\n",
        "  return cam"
      ],
      "execution_count": 22,
      "outputs": []
    },
    {
      "cell_type": "code",
      "metadata": {
        "colab": {
          "base_uri": "https://localhost:8080/",
          "height": 268
        },
        "id": "Olk8UDOBSIWy",
        "outputId": "af47f032-d96f-4d85-9aec-e15d93a84b32"
      },
      "source": [
        "# 1 - 3455\n",
        "# 4 - 6195\n",
        "# 0 - 3710\n",
        "# 6 - 6187\n",
        "# 7 - 6606\n",
        "# 5 - 6148\n",
        "# 9 - 5622\n",
        "test_img_idx = 6187\n",
        "\n",
        "# GCM\n",
        "gcm_mnist_image, _, prediction, test_img_idx = get_prediction(model_gcm, mnist_test, test_img_idx)\n",
        "gcm_prediction_idx = np.argmax(prediction)\n",
        "gcm_mnist_cam, gcm_conv_output, gcm_grads = grad_cam_pp(gcm_mnist_image, model_gcm, gcm_prediction_idx)\n",
        "\n",
        "# GCG\n",
        "gcg_prediction_idx = 2#np.argmax(model_gcg(gcm_conv_output))\n",
        "gcg_mnist_cam = cam_1(model_geo, gcm_conv_output, gcg_prediction_idx)\n",
        "gcg_mnist_cam_max = np.max(gcg_mnist_cam)\n",
        "\n",
        "geo_labels = [\"vertical\", \"diagonal\", \"ellipse\"]\n",
        "title = \"P/T=%i/%i | GEO-CAM=%s/%.2f\" % (gcm_prediction_idx, np.argmax(mnist_test[1][test_img_idx]), geo_labels[gcg_prediction_idx], gcg_mnist_cam_max)\n",
        "show_heatmap(gcm_mnist_image, gcg_mnist_cam, (28, 28, 1), True, title)"
      ],
      "execution_count": 23,
      "outputs": [
        {
          "output_type": "display_data",
          "data": {
            "image/png": "[encoded data removed]",
            "text/plain": [
              "<Figure size 432x288 with 1 Axes>"
            ]
          },
          "metadata": {
            "tags": []
          }
        }
      ]
    }
  ]
}