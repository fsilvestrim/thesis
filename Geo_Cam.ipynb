{
  "nbformat": 4,
  "nbformat_minor": 0,
  "metadata": {
    "colab": {
      "name": "Geo-Cam.ipynb",
      "provenance": [],
      "collapsed_sections": [],
      "toc_visible": true,
      "authorship_tag": "ABX9TyNia31upZl7qaRevisUHuaB",
      "include_colab_link": true
    },
    "kernelspec": {
      "name": "python3",
      "display_name": "Python 3"
    },
    "accelerator": "GPU"
  },
  "cells": [
    {
      "cell_type": "markdown",
      "metadata": {
        "id": "view-in-github",
        "colab_type": "text"
      },
      "source": [
        "<a href=\"https://colab.research.google.com/github/fsilvestrim/thesis/blob/master/Geo_Cam.ipynb\" target=\"_parent\"><img src=\"https://colab.research.google.com/assets/colab-badge.svg\" alt=\"Open In Colab\"/></a>"
      ]
    },
    {
      "cell_type": "markdown",
      "metadata": {
        "id": "cB_AS_K_X5J0"
      },
      "source": [
        "# Utils"
      ]
    },
    {
      "cell_type": "code",
      "metadata": {
        "id": "W2x-VCBnFz5h"
      },
      "source": [
        "import re\n",
        "import time\n",
        "import random\n",
        "import numpy as np\n",
        "import scipy as sp\n",
        "import pickle\n",
        "import cv2\n",
        "import hashlib\n",
        "\n",
        "from matplotlib import cm\n",
        "import matplotlib.pyplot as plt\n",
        "import matplotlib.image as mpimg\n",
        "import matplotlib.pyplot as plt\n",
        "\n",
        "%matplotlib inline"
      ],
      "execution_count": 1,
      "outputs": []
    },
    {
      "cell_type": "code",
      "metadata": {
        "colab": {
          "base_uri": "https://localhost:8080/"
        },
        "id": "BvhCa24vLZ--",
        "outputId": "e0df3136-3017-452a-cb89-636c875585a7"
      },
      "source": [
        "#%tensorflow_version 2.x\n",
        "\n",
        "import tensorflow as tf\n",
        "print(tf.__version__)\n",
        "from tensorflow import keras\n",
        "from keras import backend as K\n",
        "from tensorflow.keras import layers\n",
        "from tensorflow.keras.models import Model\n",
        "from tensorflow.python.framework.ops import disable_eager_execution\n",
        "from tensorflow.python.framework.ops import enable_eager_execution\n",
        "\n",
        "#disable_eager_execution()\n",
        "enable_eager_execution()\n",
        "print('Eager mode: %s' % tf.executing_eagerly())\n",
        "\n",
        "device_name = tf.test.gpu_device_name()\n",
        "\n",
        "if device_name != '/device:GPU:0':\n",
        "  raise SystemError('GPU device not found')\n",
        "\n",
        "print('Found GPU at: {}'.format(device_name))"
      ],
      "execution_count": 2,
      "outputs": [
        {
          "output_type": "stream",
          "text": [
            "2.4.1\n",
            "Eager mode: True\n",
            "Found GPU at: /device:GPU:0\n"
          ],
          "name": "stdout"
        }
      ]
    },
    {
      "cell_type": "code",
      "metadata": {
        "id": "DfU8rMxdffJD"
      },
      "source": [
        "def show_image(image, title=None):\n",
        "  plt.figure(facecolor='white')\n",
        "  ax = plt.gca()\n",
        "  ax.set_xticklabels([])\n",
        "  ax.set_yticklabels([])\n",
        "  plt.imshow(image.reshape(28, 28), cmap='Greys')\n",
        "  if title is not None:\n",
        "    plt.title(title)\n",
        "  plt.show()"
      ],
      "execution_count": 3,
      "outputs": []
    },
    {
      "cell_type": "code",
      "metadata": {
        "id": "TrovwQHTWrlB"
      },
      "source": [
        "def show_prediction(image, truth, prediction, label_descriptions=None):\n",
        "  prediction = np.argmax(prediction)\n",
        "  prediction = prediction if label_descriptions is None else label_descriptions[prediction]\n",
        "  truth = truth if label_descriptions is None else label_descriptions[truth]\n",
        "  title = f\"Prediction: {prediction} / Truth: {truth}\"\n",
        "  show_image(image, title)"
      ],
      "execution_count": 4,
      "outputs": []
    },
    {
      "cell_type": "code",
      "metadata": {
        "id": "LNQAoOL5jlVC"
      },
      "source": [
        "def get_heatmap(cam, size, resize=True):\n",
        "  heatmap = cam / np.max(cam)\n",
        " \n",
        "  if resize:\n",
        "    height_zoom = size[1] / cam.shape[0]\n",
        "    width_zoom = size[0] / cam.shape[1]\n",
        "    heatmap = sp.ndimage.zoom(cam, (height_zoom, width_zoom), order=2)\n",
        " \n",
        "  return heatmap"
      ],
      "execution_count": 5,
      "outputs": []
    },
    {
      "cell_type": "code",
      "metadata": {
        "id": "Ya25j5pbZoq2"
      },
      "source": [
        "def show_heatmap(img, cam, size, resize=True, title=None):\n",
        "  img = img.reshape(size[0], size[1])\n",
        "  heatmap = get_heatmap(cam, size, resize)\n",
        "\n",
        "  # plot\n",
        "  plt.figure(facecolor='white')\n",
        "  ax = plt.gca()\n",
        "  ax.set_xticklabels([])\n",
        "  ax.set_yticklabels([])\n",
        "  plt.imshow(img, alpha=0.5, cmap='Greys')\n",
        "  plt.imshow(heatmap, cmap='jet', alpha=0.5)\n",
        "  \n",
        "  if title is not None:\n",
        "    plt.title(title)\n",
        "  \n",
        "  plt.show()  "
      ],
      "execution_count": 6,
      "outputs": []
    },
    {
      "cell_type": "code",
      "metadata": {
        "id": "LF2nobFe76jK"
      },
      "source": [
        "def plot_model_score(score, history):\n",
        "  plt.figure(facecolor='white')\n",
        "  plt.plot(history['loss'])\n",
        "  plt.plot(history['val_loss'])\n",
        "  plt.ylabel('Loss')\n",
        "  plt.xlabel('Epoch')\n",
        "  plt.legend(['Train', 'Validation'], loc='upper left')\n",
        "  plt.title(\"Loss: %.5f vs. Accuracy: %.5f\" % (score[0], score[1]))\n",
        "  plt.show() "
      ],
      "execution_count": 7,
      "outputs": []
    },
    {
      "cell_type": "code",
      "metadata": {
        "id": "PARsNtG47nUc"
      },
      "source": [
        "def load_model(name):\n",
        "  model = keras.models.load_model(\"saved_model_%s\" % name)\n",
        "  history = pickle.load(open('saved_model_%s/history' % name, \"rb\"))\n",
        "\n",
        "  return model, history"
      ],
      "execution_count": 8,
      "outputs": []
    },
    {
      "cell_type": "code",
      "metadata": {
        "id": "eQiN2YfH66oZ"
      },
      "source": [
        "def save_model(model, history, name):\n",
        "  model.save(\"saved_model_%s\" % name)\n",
        "\n",
        "  with open('saved_model_%s/history' % name, 'wb') as file_pi:\n",
        "    pickle.dump(history.history, file_pi)"
      ],
      "execution_count": 9,
      "outputs": []
    },
    {
      "cell_type": "code",
      "metadata": {
        "id": "9y0SKay9zUyh"
      },
      "source": [
        "def get_cam_layers(model):\n",
        "  last_conv_layer = None\n",
        "  last_layers = []\n",
        "  conv_layers = []\n",
        "  for layer in reversed(model.layers):\n",
        "      # check to see if the layer has a 4D output\n",
        "      if len(layer.output_shape) == 4 and last_conv_layer is None:\n",
        "        last_conv_layer = layer\n",
        "        # print(\"Last Conv Layer: %s, filters %s\" % (layer.name, layer.filters))\n",
        "\n",
        "      if last_conv_layer is not None:\n",
        "        conv_layers.insert(0, layer)\n",
        "      else:\n",
        "        last_layers.insert(0, layer)\n",
        "\n",
        "  return conv_layers, last_layers"
      ],
      "execution_count": 10,
      "outputs": []
    },
    {
      "cell_type": "code",
      "metadata": {
        "id": "Ea6P7fJtpgeL"
      },
      "source": [
        "def get_cam_layer(model, layer_name):\n",
        "  for layer in model.layers:\n",
        "    if layer.name == layer_name:\n",
        "      return layer\n",
        "\n",
        "  return None"
      ],
      "execution_count": 11,
      "outputs": []
    },
    {
      "cell_type": "code",
      "metadata": {
        "id": "JBpsHZ8HJ9ZP"
      },
      "source": [
        "def get_sample(test_set, idx=-1):\n",
        "  test_idx = random.randint(0, len(test_set[0])) if idx < 0 else idx\n",
        "  test_image = test_set[0][test_idx]\n",
        "  test_label = np.argmax(test_set[1][test_idx])\n",
        "\n",
        "  return test_image, test_label, test_idx"
      ],
      "execution_count": 12,
      "outputs": []
    },
    {
      "cell_type": "code",
      "metadata": {
        "id": "DLP3omNp6B1z"
      },
      "source": [
        "def predict(model, image):\n",
        "  return model.predict(np.expand_dims(image, 0))"
      ],
      "execution_count": 13,
      "outputs": []
    },
    {
      "cell_type": "code",
      "metadata": {
        "id": "CfQxjWHqzuoI"
      },
      "source": [
        "def get_prediction(model, test_set, idx=-1):\n",
        "  x, y, idx = get_sample(test_set, idx)\n",
        "  prediction = predict(model, x)\n",
        "\n",
        "  return x, y, prediction, idx"
      ],
      "execution_count": 14,
      "outputs": []
    },
    {
      "cell_type": "code",
      "metadata": {
        "id": "wIXXoT0p0I3M"
      },
      "source": [
        "def format_dataset(num_classes, train, test):\n",
        "  (x_train, y_train), (x_test, y_test) = train, test\n",
        "\n",
        "  print(x_train[0].shape)\n",
        "  print(y_train[0])\n",
        "\n",
        "  # Scale images to the [0, 1] range\n",
        "  x_train = x_train.astype(\"float32\") / 255\n",
        "  x_test = x_test.astype(\"float32\") / 255\n",
        "\n",
        "  # Make sure images have shape (28, 28, 1)\n",
        "  x_train = np.expand_dims(x_train, -1)\n",
        "  x_test = np.expand_dims(x_test, -1)\n",
        "\n",
        "  print(\"x_train shape:\", x_train.shape)\n",
        "  print(x_train.shape[0], \"train samples\")\n",
        "  print(x_test.shape[0], \"test samples\")\n",
        "\n",
        "  # convert class vectors to binary class matrices\n",
        "  y_train = keras.utils.to_categorical(y_train, num_classes)\n",
        "  y_test = keras.utils.to_categorical(y_test, num_classes)\n",
        "\n",
        "  return (x_train, y_train), (x_test, y_test)"
      ],
      "execution_count": 15,
      "outputs": []
    },
    {
      "cell_type": "code",
      "metadata": {
        "id": "zX6zWUrLQQJ0"
      },
      "source": [
        "def copy_model(original_model, trainable=False):\n",
        "  new_model = keras.models.clone_model(original_model)\n",
        "  new_model.set_weights(original_model.get_weights())\n",
        "  new_model.trainable = trainable\n",
        "  return new_model"
      ],
      "execution_count": 16,
      "outputs": []
    },
    {
      "cell_type": "markdown",
      "metadata": {
        "id": "Okm2rbgeJNSD"
      },
      "source": [
        "#MNIST"
      ]
    },
    {
      "cell_type": "code",
      "metadata": {
        "id": "rTNjOPRWJRz1",
        "colab": {
          "base_uri": "https://localhost:8080/"
        },
        "outputId": "4dd5870e-be54-4b0f-e484-39967a699601"
      },
      "source": [
        "mnist_num_classes = 10\n",
        "mnist_train, mnist_test = keras.datasets.mnist.load_data()\n",
        "mnist_train, mnist_test = format_dataset(mnist_num_classes, mnist_train, mnist_test)\n",
        "\n",
        "def create_mnist_model(name, input_shape, num_classes, train=None):\n",
        "  model = keras.Sequential(\n",
        "      [\n",
        "          keras.Input(shape=input_shape),\n",
        "      \n",
        "          layers.Conv2D(filters=32, kernel_size=(3, 3), activation=\"relu\"),\n",
        "          layers.MaxPooling2D(pool_size=(2, 2), strides=(2,2)),\n",
        "      \n",
        "          layers.Conv2D(filters=64, kernel_size=(3, 3), activation=\"relu\"),\n",
        "          layers.MaxPooling2D(pool_size=(2, 2), strides=(2,2)),\n",
        "          layers.Dropout(0.5),\n",
        "      \n",
        "          layers.Conv2D(filters=128, kernel_size=(3, 3), activation=\"relu\"),\n",
        "          \n",
        "          # layers.GlobalAveragePooling2D(),\n",
        "          layers.Flatten(),\n",
        "          layers.Dense(num_classes, activation=\"softmax\"),\n",
        "      ]\n",
        "  )\n",
        "\n",
        "  model.compile(loss=\"categorical_crossentropy\", optimizer=\"adam\", metrics=[\"accuracy\"])\n",
        "\n",
        "  return model"
      ],
      "execution_count": 17,
      "outputs": [
        {
          "output_type": "stream",
          "text": [
            "Downloading data from https://storage.googleapis.com/tensorflow/tf-keras-datasets/mnist.npz\n",
            "11493376/11490434 [==============================] - 0s 0us/step\n",
            "(28, 28)\n",
            "5\n",
            "x_train shape: (60000, 28, 28, 1)\n",
            "60000 train samples\n",
            "10000 test samples\n"
          ],
          "name": "stdout"
        }
      ]
    },
    {
      "cell_type": "code",
      "metadata": {
        "colab": {
          "base_uri": "https://localhost:8080/",
          "height": 1000
        },
        "id": "_UUVTSfOKsh2",
        "outputId": "62a9b4ba-24c3-432d-a8c5-63cdedc16a1b"
      },
      "source": [
        "model_mnist = create_mnist_model(\"gap_shallow\", (28, 28, 1), mnist_num_classes, mnist_train)\n",
        "\n",
        "# model_mnist, history_mnist = load_model(\"gap_shallow\")\n",
        "start_time = time.clock()\n",
        "history_mnist = model_mnist.fit(mnist_train[0], mnist_train[1], batch_size=128, epochs=15, validation_split=0.1)\n",
        "print(\"Training took: %.2f seconds\" % (time.clock() - start_time))\n",
        "# save_model(model_mnist, history_mnist, \"gap_shallow\")\n",
        "\n",
        "model_mnist.summary()\n",
        "score_mnist = model_mnist.evaluate(mnist_test[0], mnist_test[1], verbose=0)\n",
        "\n",
        "plot_model_score(score_mnist, history_mnist.history)"
      ],
      "execution_count": 18,
      "outputs": [
        {
          "output_type": "stream",
          "text": [
            "/usr/local/lib/python3.7/dist-packages/ipykernel_launcher.py:4: DeprecationWarning: time.clock has been deprecated in Python 3.3 and will be removed from Python 3.8: use time.perf_counter or time.process_time instead\n",
            "  after removing the cwd from sys.path.\n"
          ],
          "name": "stderr"
        },
        {
          "output_type": "stream",
          "text": [
            "Epoch 1/15\n",
            "422/422 [==============================] - 34s 11ms/step - loss: 0.6717 - accuracy: 0.7892 - val_loss: 0.0699 - val_accuracy: 0.9793\n",
            "Epoch 2/15\n",
            "422/422 [==============================] - 4s 10ms/step - loss: 0.1036 - accuracy: 0.9675 - val_loss: 0.0455 - val_accuracy: 0.9873\n",
            "Epoch 3/15\n",
            "422/422 [==============================] - 4s 10ms/step - loss: 0.0689 - accuracy: 0.9780 - val_loss: 0.0409 - val_accuracy: 0.9882\n",
            "Epoch 4/15\n",
            "422/422 [==============================] - 4s 10ms/step - loss: 0.0552 - accuracy: 0.9826 - val_loss: 0.0342 - val_accuracy: 0.9905\n",
            "Epoch 5/15\n",
            "422/422 [==============================] - 4s 10ms/step - loss: 0.0451 - accuracy: 0.9854 - val_loss: 0.0385 - val_accuracy: 0.9885\n",
            "Epoch 6/15\n",
            "422/422 [==============================] - 4s 10ms/step - loss: 0.0412 - accuracy: 0.9872 - val_loss: 0.0316 - val_accuracy: 0.9907\n",
            "Epoch 7/15\n",
            "422/422 [==============================] - 4s 10ms/step - loss: 0.0365 - accuracy: 0.9874 - val_loss: 0.0323 - val_accuracy: 0.9915\n",
            "Epoch 8/15\n",
            "422/422 [==============================] - 4s 10ms/step - loss: 0.0311 - accuracy: 0.9899 - val_loss: 0.0276 - val_accuracy: 0.9922\n",
            "Epoch 9/15\n",
            "422/422 [==============================] - 4s 10ms/step - loss: 0.0285 - accuracy: 0.9905 - val_loss: 0.0272 - val_accuracy: 0.9938\n",
            "Epoch 10/15\n",
            "422/422 [==============================] - 4s 10ms/step - loss: 0.0255 - accuracy: 0.9920 - val_loss: 0.0277 - val_accuracy: 0.9932\n",
            "Epoch 11/15\n",
            "422/422 [==============================] - 4s 10ms/step - loss: 0.0266 - accuracy: 0.9907 - val_loss: 0.0276 - val_accuracy: 0.9920\n",
            "Epoch 12/15\n",
            "422/422 [==============================] - 4s 10ms/step - loss: 0.0240 - accuracy: 0.9916 - val_loss: 0.0241 - val_accuracy: 0.9935\n",
            "Epoch 13/15\n",
            "422/422 [==============================] - 4s 10ms/step - loss: 0.0208 - accuracy: 0.9928 - val_loss: 0.0283 - val_accuracy: 0.9928\n",
            "Epoch 14/15\n",
            "422/422 [==============================] - 4s 10ms/step - loss: 0.0210 - accuracy: 0.9928 - val_loss: 0.0257 - val_accuracy: 0.9922\n",
            "Epoch 15/15\n",
            "422/422 [==============================] - 4s 10ms/step - loss: 0.0186 - accuracy: 0.9940 - val_loss: 0.0285 - val_accuracy: 0.9928\n",
            "Training took: 63.52 seconds\n",
            "Model: \"sequential\"\n",
            "_________________________________________________________________\n",
            "Layer (type)                 Output Shape              Param #   \n",
            "=================================================================\n",
            "conv2d (Conv2D)              (None, 26, 26, 32)        320       \n",
            "_________________________________________________________________\n",
            "max_pooling2d (MaxPooling2D) (None, 13, 13, 32)        0         \n",
            "_________________________________________________________________\n",
            "conv2d_1 (Conv2D)            (None, 11, 11, 64)        18496     \n",
            "_________________________________________________________________\n",
            "max_pooling2d_1 (MaxPooling2 (None, 5, 5, 64)          0         \n",
            "_________________________________________________________________\n",
            "dropout (Dropout)            (None, 5, 5, 64)          0         \n",
            "_________________________________________________________________\n",
            "conv2d_2 (Conv2D)            (None, 3, 3, 128)         73856     \n",
            "_________________________________________________________________\n",
            "flatten (Flatten)            (None, 1152)              0         \n",
            "_________________________________________________________________\n",
            "dense (Dense)                (None, 10)                11530     \n",
            "=================================================================\n",
            "Total params: 104,202\n",
            "Trainable params: 104,202\n",
            "Non-trainable params: 0\n",
            "_________________________________________________________________\n"
          ],
          "name": "stdout"
        },
        {
          "output_type": "stream",
          "text": [
            "/usr/local/lib/python3.7/dist-packages/ipykernel_launcher.py:6: DeprecationWarning: time.clock has been deprecated in Python 3.3 and will be removed from Python 3.8: use time.perf_counter or time.process_time instead\n",
            "  \n"
          ],
          "name": "stderr"
        },
        {
          "output_type": "display_data",
          "data": {
            "image/png": "[encoded data removed]",
            "text/plain": [
              "<Figure size 432x288 with 1 Axes>"
            ]
          },
          "metadata": {
            "tags": []
          }
        }
      ]
    },
    {
      "cell_type": "code",
      "metadata": {
        "colab": {
          "base_uri": "https://localhost:8080/",
          "height": 268
        },
        "id": "--_Cb0cwMTsl",
        "outputId": "7d5bb95b-188f-4efc-eb9c-99f6cc66671f"
      },
      "source": [
        "image, label, prediction, _ = get_prediction(model_mnist, mnist_test)\n",
        "show_prediction(image, label, prediction)"
      ],
      "execution_count": 19,
      "outputs": [
        {
          "output_type": "display_data",
          "data": {
            "image/png": "[encoded data removed]",
            "text/plain": [
              "<Figure size 432x288 with 1 Axes>"
            ]
          },
          "metadata": {
            "tags": []
          }
        }
      ]
    },
    {
      "cell_type": "markdown",
      "metadata": {
        "id": "ZAVIlq5GvHoU"
      },
      "source": [
        "#GEO"
      ]
    },
    {
      "cell_type": "code",
      "metadata": {
        "id": "fknmrIpWvKQJ"
      },
      "source": [
        "geo_dataset_proto = (\"proto\", \"https://geo-cam.s3-eu-west-1.amazonaws.com/geocam.npz\", [\"vertical\", \"diagonal\", \"ellipse\"])\n",
        "geo_dataset_simple = (\"simple\", \"https://geo-cam.s3-eu-west-1.amazonaws.com/simpledataset_dataset.npz\", [\"vertical\", \"horizontal\", \"diagonal\", \"ellipse\", \"greather_than\", \"lower_than\"])\n",
        "geo_dataset_round = (\"round\", \"https://geo-cam.s3-eu-west-1.amazonaws.com/rounddataset_dataset.npz\", [\"vertical\", \"horizontal\", \"diagonal\", \"ellipse\", \"greather_than\", \"lower_than\"])\n",
        "geo_dataset_threesixty = (\"threesixty\", \"https://geo-cam.s3-eu-west-1.amazonaws.com/threesixtydataset_dataset.npz\", [\"10\", \"20\", \"30\", \"40\", \"50\", \"60\", \"70\", \"80\", \"90\", \"100\", \"110\", \"120\", \"130\", \"140\", \"150\", \"160\", \"170\", \"180\"])\n",
        "\n",
        "def get_geo_dataset(name, filepath):\n",
        "  path = tf.keras.utils.get_file(name, filepath)\n",
        "  with np.load(path, allow_pickle=True) as f:\n",
        "    x_train, y_train = f['x_train'], f['y_train']\n",
        "    x_test, y_test = f['x_test'], f['y_test']\n",
        "\n",
        "    return (x_train, y_train), (x_test, y_test)"
      ],
      "execution_count": 20,
      "outputs": []
    },
    {
      "cell_type": "code",
      "metadata": {
        "id": "IAZ-zvCO7eQO"
      },
      "source": [
        "def create_geo_model(name, input_shape, num_classes):\n",
        "  model = keras.Sequential(\n",
        "      [\n",
        "          keras.Input(shape=input_shape),\n",
        "      \n",
        "          layers.Conv2D(filters=32, kernel_size=(3, 3), padding=\"same\", activation=\"relu\"),\n",
        "          layers.MaxPooling2D(pool_size=(2, 2), strides=(2,2)),\n",
        "          layers.Dropout(0.4),\n",
        "          layers.Conv2D(filters=64, kernel_size=(3, 3), padding=\"same\", activation=\"relu\"),\n",
        "          # layers.MaxPooling2D(pool_size=(2, 2), strides=(2,2)),\n",
        "          \n",
        "          layers.Conv2D(filters=128, kernel_size=(3, 3), padding=\"same\", activation=\"relu\"),\n",
        "          # layers.GlobalAveragePooling2D(),\n",
        "          layers.Flatten(),\n",
        "          layers.Dense(num_classes, activation=\"softmax\"),\n",
        "      ]\n",
        "  )\n",
        "\n",
        "  opt = keras.optimizers.Adam(learning_rate=0.001)\n",
        "  model.compile(loss=\"categorical_crossentropy\", optimizer=opt, metrics=[\"accuracy\"])\n",
        "\n",
        "  return model"
      ],
      "execution_count": 169,
      "outputs": []
    },
    {
      "cell_type": "code",
      "metadata": {
        "colab": {
          "base_uri": "https://localhost:8080/",
          "height": 1000
        },
        "id": "fi-GBD6n70bH",
        "outputId": "79bd6f4e-317d-4974-dd79-133445e5a83b"
      },
      "source": [
        "dataset = geo_dataset_simple\n",
        "geo_train, geo_test = get_geo_dataset(dataset[0], dataset[1])\n",
        "geo_train, geo_test = format_dataset(len(dataset[2]), geo_train, geo_test)\n",
        "model_geo = create_geo_model(\"geocam\", (28, 28, 1), len(dataset[2]))\n",
        "# model_geo, history_geo = load_model(\"geo\")\n",
        "\n",
        "start_time = time.clock()\n",
        "history_geo = model_geo.fit(geo_train[0], geo_train[1], batch_size=128, epochs=15, validation_split=0.25)\n",
        "print(\"Training took: %.2f seconds\" % (time.clock() - start_time))\n",
        "# save_model(model_geo, history_geo, \"geo\")\n",
        "\n",
        "model_geo.summary()\n",
        "score_geo = model_geo.evaluate(geo_test[0], geo_test[1], verbose=0)\n",
        "\n",
        "plot_model_score(score_geo, history_geo.history)"
      ],
      "execution_count": 170,
      "outputs": [
        {
          "output_type": "stream",
          "text": [
            "(28, 28)\n",
            "1\n",
            "x_train shape: (4200, 28, 28, 1)\n",
            "4200 train samples\n",
            "1800 test samples\n",
            "Epoch 1/15\n"
          ],
          "name": "stdout"
        },
        {
          "output_type": "stream",
          "text": [
            "/usr/local/lib/python3.7/dist-packages/ipykernel_launcher.py:7: DeprecationWarning: time.clock has been deprecated in Python 3.3 and will be removed from Python 3.8: use time.perf_counter or time.process_time instead\n",
            "  import sys\n"
          ],
          "name": "stderr"
        },
        {
          "output_type": "stream",
          "text": [
            "25/25 [==============================] - 1s 30ms/step - loss: 1.5277 - accuracy: 0.3826 - val_loss: 1.0122 - val_accuracy: 0.6286\n",
            "Epoch 2/15\n",
            "25/25 [==============================] - 0s 20ms/step - loss: 0.8336 - accuracy: 0.7073 - val_loss: 0.4242 - val_accuracy: 0.8352\n",
            "Epoch 3/15\n",
            "25/25 [==============================] - 0s 18ms/step - loss: 0.3325 - accuracy: 0.8819 - val_loss: 0.2545 - val_accuracy: 0.9105\n",
            "Epoch 4/15\n",
            "25/25 [==============================] - 0s 18ms/step - loss: 0.2448 - accuracy: 0.9107 - val_loss: 0.2297 - val_accuracy: 0.9095\n",
            "Epoch 5/15\n",
            "25/25 [==============================] - 0s 17ms/step - loss: 0.1921 - accuracy: 0.9275 - val_loss: 0.1898 - val_accuracy: 0.9200\n",
            "Epoch 6/15\n",
            "25/25 [==============================] - 0s 17ms/step - loss: 0.1356 - accuracy: 0.9471 - val_loss: 0.1513 - val_accuracy: 0.9438\n",
            "Epoch 7/15\n",
            "25/25 [==============================] - 0s 17ms/step - loss: 0.1101 - accuracy: 0.9615 - val_loss: 0.1335 - val_accuracy: 0.9486\n",
            "Epoch 8/15\n",
            "25/25 [==============================] - 0s 17ms/step - loss: 0.0915 - accuracy: 0.9687 - val_loss: 0.1351 - val_accuracy: 0.9400\n",
            "Epoch 9/15\n",
            "25/25 [==============================] - 0s 17ms/step - loss: 0.0739 - accuracy: 0.9745 - val_loss: 0.1395 - val_accuracy: 0.9495\n",
            "Epoch 10/15\n",
            "25/25 [==============================] - 0s 17ms/step - loss: 0.0694 - accuracy: 0.9743 - val_loss: 0.1434 - val_accuracy: 0.9429\n",
            "Epoch 11/15\n",
            "25/25 [==============================] - 0s 17ms/step - loss: 0.0665 - accuracy: 0.9742 - val_loss: 0.1285 - val_accuracy: 0.9476\n",
            "Epoch 12/15\n",
            "25/25 [==============================] - 0s 18ms/step - loss: 0.0693 - accuracy: 0.9748 - val_loss: 0.1025 - val_accuracy: 0.9533\n",
            "Epoch 13/15\n",
            "25/25 [==============================] - 0s 17ms/step - loss: 0.0408 - accuracy: 0.9877 - val_loss: 0.1167 - val_accuracy: 0.9543\n",
            "Epoch 14/15\n",
            "25/25 [==============================] - 0s 17ms/step - loss: 0.0428 - accuracy: 0.9867 - val_loss: 0.1033 - val_accuracy: 0.9610\n",
            "Epoch 15/15\n",
            "25/25 [==============================] - 0s 17ms/step - loss: 0.0366 - accuracy: 0.9867 - val_loss: 0.1029 - val_accuracy: 0.9571\n",
            "Training took: 6.88 seconds\n",
            "Model: \"sequential_4\"\n",
            "_________________________________________________________________\n",
            "Layer (type)                 Output Shape              Param #   \n",
            "=================================================================\n",
            "conv2d_18 (Conv2D)           (None, 28, 28, 32)        320       \n",
            "_________________________________________________________________\n",
            "max_pooling2d_9 (MaxPooling2 (None, 14, 14, 32)        0         \n",
            "_________________________________________________________________\n",
            "dropout_8 (Dropout)          (None, 14, 14, 32)        0         \n",
            "_________________________________________________________________\n",
            "conv2d_19 (Conv2D)           (None, 14, 14, 64)        18496     \n",
            "_________________________________________________________________\n",
            "conv2d_20 (Conv2D)           (None, 14, 14, 128)       73856     \n",
            "_________________________________________________________________\n",
            "flatten_6 (Flatten)          (None, 25088)             0         \n",
            "_________________________________________________________________\n",
            "dense_8 (Dense)              (None, 6)                 150534    \n",
            "=================================================================\n",
            "Total params: 243,206\n",
            "Trainable params: 243,206\n",
            "Non-trainable params: 0\n",
            "_________________________________________________________________\n"
          ],
          "name": "stdout"
        },
        {
          "output_type": "stream",
          "text": [
            "/usr/local/lib/python3.7/dist-packages/ipykernel_launcher.py:9: DeprecationWarning: time.clock has been deprecated in Python 3.3 and will be removed from Python 3.8: use time.perf_counter or time.process_time instead\n",
            "  if __name__ == '__main__':\n"
          ],
          "name": "stderr"
        },
        {
          "output_type": "display_data",
          "data": {
            "image/png": "[encoded data removed]",
            "text/plain": [
              "<Figure size 432x288 with 1 Axes>"
            ]
          },
          "metadata": {
            "tags": []
          }
        }
      ]
    },
    {
      "cell_type": "code",
      "metadata": {
        "colab": {
          "base_uri": "https://localhost:8080/",
          "height": 268
        },
        "id": "Io6EtCTU-Gwn",
        "outputId": "94d2f938-9afa-44ec-95c5-c720fc1fdb41"
      },
      "source": [
        "image, truth, prediction, _ = get_prediction(model_geo, geo_test)\n",
        "show_prediction(image, truth, prediction, dataset[2])"
      ],
      "execution_count": 173,
      "outputs": [
        {
          "output_type": "display_data",
          "data": {
            "image/png": "[encoded data removed]",
            "text/plain": [
              "<Figure size 432x288 with 1 Axes>"
            ]
          },
          "metadata": {
            "tags": []
          }
        }
      ]
    },
    {
      "cell_type": "markdown",
      "metadata": {
        "id": "2qfZh1ixKzXR"
      },
      "source": [
        "# Transfer-learning\n"
      ]
    },
    {
      "cell_type": "code",
      "metadata": {
        "colab": {
          "base_uri": "https://localhost:8080/",
          "height": 1000
        },
        "id": "IPmhUSmV4Gox",
        "outputId": "d2b2e146-2dd2-4a51-93ae-412b2d7d1046"
      },
      "source": [
        "geo_model_copy = copy_model(model_geo, False)\n",
        "\n",
        "input = geo_model_copy.input\n",
        "last = None\n",
        "\n",
        "for layer in geo_model_copy.layers:\n",
        "  layer.trainable = False\n",
        "  last = layer(input) if last is None else layer(last)\n",
        "  \n",
        "merged_input = layers.Add()([last, input])\n",
        "last = layers.Dense(784, activation='relu')(merged_input)\n",
        "last = layers.Reshape((28,28,784))(last)\n",
        "last = layers.Conv2D(filters=32, kernel_size=(3, 3), padding=\"same\", activation=\"relu\")(last)\n",
        "last = layers.MaxPooling2D(pool_size=(2, 2), strides=(2,2))(last)\n",
        "last = layers.Dropout(0.4)(last)\n",
        "last = layers.Conv2D(filters=64, kernel_size=(3, 3), padding=\"same\", activation=\"relu\")(last)\n",
        "last = layers.MaxPooling2D(pool_size=(2, 2), strides=(2,2))(last)\n",
        "last = layers.Dropout(0.4)(last)\n",
        "last = layers.Conv2D(filters=128, kernel_size=(3, 3), padding=\"same\", activation=\"relu\")(last)\n",
        "last = layers.Flatten()(last)\n",
        "last = layers.Dense(mnist_num_classes, activation=\"softmax\")(last)\n",
        "\n",
        "model_gcm = Model(inputs=input, outputs=last)\n",
        "\n",
        "opt = keras.optimizers.Adam(learning_rate=0.004)\n",
        "model_gcm.compile(loss=\"categorical_crossentropy\", optimizer=opt, metrics=[\"accuracy\"])\n",
        "\n",
        "start_time = time.clock()\n",
        "history_geocam = model_gcm.fit(mnist_train[0], mnist_train[1], batch_size=128, epochs=5, validation_split=0.2)\n",
        "print(\"Training took: %.2f seconds\" % (time.clock() - start_time))\n",
        "\n",
        "score_gcm = model_gcm.evaluate(mnist_test[0], mnist_test[1], verbose=0)\n",
        "model_gcm.summary()\n",
        "plot_model_score(score_gcm, history_geocam.history)"
      ],
      "execution_count": 174,
      "outputs": [
        {
          "output_type": "stream",
          "text": [
            "/usr/local/lib/python3.7/dist-packages/ipykernel_launcher.py:28: DeprecationWarning: time.clock has been deprecated in Python 3.3 and will be removed from Python 3.8: use time.perf_counter or time.process_time instead\n"
          ],
          "name": "stderr"
        },
        {
          "output_type": "stream",
          "text": [
            "Epoch 1/5\n",
            "375/375 [==============================] - 44s 116ms/step - loss: 1.5738 - accuracy: 0.4318 - val_loss: 0.1943 - val_accuracy: 0.9444\n",
            "Epoch 2/5\n",
            "375/375 [==============================] - 43s 114ms/step - loss: 0.2470 - accuracy: 0.9206 - val_loss: 0.1270 - val_accuracy: 0.9621\n",
            "Epoch 3/5\n",
            "375/375 [==============================] - 43s 115ms/step - loss: 0.1843 - accuracy: 0.9421 - val_loss: 0.1032 - val_accuracy: 0.9681\n",
            "Epoch 4/5\n",
            "375/375 [==============================] - 43s 114ms/step - loss: 0.1581 - accuracy: 0.9483 - val_loss: 0.0949 - val_accuracy: 0.9712\n",
            "Epoch 5/5\n",
            "375/375 [==============================] - 43s 114ms/step - loss: 0.1426 - accuracy: 0.9540 - val_loss: 0.0844 - val_accuracy: 0.9762\n",
            "Training took: 199.12 seconds\n"
          ],
          "name": "stdout"
        },
        {
          "output_type": "stream",
          "text": [
            "/usr/local/lib/python3.7/dist-packages/ipykernel_launcher.py:30: DeprecationWarning: time.clock has been deprecated in Python 3.3 and will be removed from Python 3.8: use time.perf_counter or time.process_time instead\n"
          ],
          "name": "stderr"
        },
        {
          "output_type": "stream",
          "text": [
            "Model: \"model_15824\"\n",
            "__________________________________________________________________________________________________\n",
            "Layer (type)                    Output Shape         Param #     Connected to                     \n",
            "==================================================================================================\n",
            "input_5 (InputLayer)            [(None, 28, 28, 1)]  0                                            \n",
            "__________________________________________________________________________________________________\n",
            "conv2d_18 (Conv2D)              (None, 28, 28, 32)   320         input_5[0][0]                    \n",
            "__________________________________________________________________________________________________\n",
            "max_pooling2d_9 (MaxPooling2D)  (None, 14, 14, 32)   0           conv2d_18[1][0]                  \n",
            "__________________________________________________________________________________________________\n",
            "dropout_8 (Dropout)             (None, 14, 14, 32)   0           max_pooling2d_9[1][0]            \n",
            "__________________________________________________________________________________________________\n",
            "conv2d_19 (Conv2D)              (None, 14, 14, 64)   18496       dropout_8[1][0]                  \n",
            "__________________________________________________________________________________________________\n",
            "conv2d_20 (Conv2D)              (None, 14, 14, 128)  73856       conv2d_19[1][0]                  \n",
            "__________________________________________________________________________________________________\n",
            "flatten_6 (Flatten)             (None, 25088)        0           conv2d_20[1][0]                  \n",
            "__________________________________________________________________________________________________\n",
            "dense_8 (Dense)                 (None, 6)            150534      flatten_6[1][0]                  \n",
            "__________________________________________________________________________________________________\n",
            "add_2 (Add)                     (None, 28, 28, 6)    0           dense_8[1][0]                    \n",
            "                                                                 input_5[0][0]                    \n",
            "__________________________________________________________________________________________________\n",
            "dense_9 (Dense)                 (None, 28, 28, 784)  5488        add_2[0][0]                      \n",
            "__________________________________________________________________________________________________\n",
            "reshape_2 (Reshape)             (None, 28, 28, 784)  0           dense_9[0][0]                    \n",
            "__________________________________________________________________________________________________\n",
            "conv2d_21 (Conv2D)              (None, 28, 28, 32)   225824      reshape_2[0][0]                  \n",
            "__________________________________________________________________________________________________\n",
            "max_pooling2d_10 (MaxPooling2D) (None, 14, 14, 32)   0           conv2d_21[0][0]                  \n",
            "__________________________________________________________________________________________________\n",
            "dropout_9 (Dropout)             (None, 14, 14, 32)   0           max_pooling2d_10[0][0]           \n",
            "__________________________________________________________________________________________________\n",
            "conv2d_22 (Conv2D)              (None, 14, 14, 64)   18496       dropout_9[0][0]                  \n",
            "__________________________________________________________________________________________________\n",
            "max_pooling2d_11 (MaxPooling2D) (None, 7, 7, 64)     0           conv2d_22[0][0]                  \n",
            "__________________________________________________________________________________________________\n",
            "dropout_10 (Dropout)            (None, 7, 7, 64)     0           max_pooling2d_11[0][0]           \n",
            "__________________________________________________________________________________________________\n",
            "conv2d_23 (Conv2D)              (None, 7, 7, 128)    73856       dropout_10[0][0]                 \n",
            "__________________________________________________________________________________________________\n",
            "flatten_7 (Flatten)             (None, 6272)         0           conv2d_23[0][0]                  \n",
            "__________________________________________________________________________________________________\n",
            "dense_10 (Dense)                (None, 10)           62730       flatten_7[0][0]                  \n",
            "==================================================================================================\n",
            "Total params: 629,600\n",
            "Trainable params: 386,394\n",
            "Non-trainable params: 243,206\n",
            "__________________________________________________________________________________________________\n"
          ],
          "name": "stdout"
        },
        {
          "output_type": "display_data",
          "data": {
            "image/png": "[encoded data removed]",
            "text/plain": [
              "<Figure size 432x288 with 1 Axes>"
            ]
          },
          "metadata": {
            "tags": []
          }
        }
      ]
    },
    {
      "cell_type": "code",
      "metadata": {
        "colab": {
          "base_uri": "https://localhost:8080/",
          "height": 268
        },
        "id": "Jy79YFHxXRNN",
        "outputId": "aed3c805-cf59-4b2b-963f-54a088fb33a6"
      },
      "source": [
        "image, label, prediction, _ = get_prediction(model_gcm, mnist_test)\n",
        "show_prediction(image, label, prediction)"
      ],
      "execution_count": 175,
      "outputs": [
        {
          "output_type": "display_data",
          "data": {
            "image/png": "[encoded data removed]",
            "text/plain": [
              "<Figure size 432x288 with 1 Axes>"
            ]
          },
          "metadata": {
            "tags": []
          }
        }
      ]
    },
    {
      "cell_type": "markdown",
      "metadata": {
        "id": "DCz5iiaJH5r2"
      },
      "source": [
        "# CAMs"
      ]
    },
    {
      "cell_type": "code",
      "metadata": {
        "id": "y_iMKQkCUdG-"
      },
      "source": [
        "def cam(model, conv_outputs, prediction_idx):\n",
        "  cam_layers = get_cam_layers(model)\n",
        "  class_weights = cam_layers[1][-1].get_weights()[0]\n",
        "  conv_outputs = conv_outputs[0, :, :, :]\n",
        "  cam = np.zeros(dtype=np.float32, shape=conv_outputs.shape[0:2])\n",
        "  for index, weight in enumerate(class_weights[:, prediction_idx]):\n",
        "    cam += weight * conv_outputs[:, :, index]\n",
        "\n",
        "  return cam"
      ],
      "execution_count": 26,
      "outputs": []
    },
    {
      "cell_type": "code",
      "metadata": {
        "id": "sSFN06vaJwKH"
      },
      "source": [
        "def grad_cam_m(image, cam_model, prediction_idx=-1):\n",
        "  with tf.GradientTape() as tape:\n",
        "    conv_output, predictions = cam_model(np.expand_dims(image, 0))\n",
        "    prediction_idx = np.argmax(predictions) if prediction_idx < 0 else prediction_idx\n",
        "    output = predictions[:, prediction_idx]\n",
        "\n",
        "  grads = tape.gradient(output, conv_output)\n",
        "  pooled_grads = tf.reduce_mean(grads, axis=(0, 1, 2))\n",
        "\n",
        "  conv_output = conv_output.numpy()[0]\n",
        "  pooled_grads = pooled_grads.numpy()\n",
        "\n",
        "  for i in range(pooled_grads.shape[-1]):\n",
        "    conv_output[:, :, i] *= pooled_grads[i]\n",
        "\n",
        "  cam = np.mean(conv_output, axis=-1)\n",
        "\n",
        "  return cam\n",
        "\n",
        "def grad_cam(image, model, con_layer_idx=-1, prediction_idx=-1):\n",
        "  cam_layers = get_cam_layers(model)\n",
        "  conv_layer = cam_layers[0][con_layer_idx]\n",
        "  cam_model = Model([model.inputs], [conv_layer.get_output_at(0), model.output])\n",
        "\n",
        "  return grad_cam_m(image, cam_model, prediction_idx)"
      ],
      "execution_count": 27,
      "outputs": []
    },
    {
      "cell_type": "code",
      "metadata": {
        "id": "3IKNZaIoWJWg"
      },
      "source": [
        "def grad_cam_pp_m(image, cam_model, prediction_idx=-1):\n",
        "  with tf.GradientTape() as tape1:\n",
        "      with tf.GradientTape() as tape2:\n",
        "          with tf.GradientTape() as tape3:\n",
        "              conv_output, predictions = cam_model(np.expand_dims(image, 0))\n",
        "              prediction_idx = np.argmax(predictions) if prediction_idx < 0 else prediction_idx\n",
        "              output = predictions[:, prediction_idx]\n",
        "              conv_first_grad = tape3.gradient(output, conv_output)\n",
        "          conv_second_grad = tape2.gradient(conv_first_grad, conv_output)\n",
        "      conv_third_grad = tape1.gradient(conv_second_grad, conv_output)\n",
        "\n",
        "  global_sum = np.sum(conv_output, axis=(0, 1, 2))\n",
        "\n",
        "  alpha_num = conv_second_grad[0]\n",
        "  alpha_denom = conv_second_grad[0]*2.0 + conv_third_grad[0]*global_sum\n",
        "  alpha_denom = np.where(alpha_denom != 0.0, alpha_denom, 1e-10)\n",
        "\n",
        "  alphas = alpha_num/alpha_denom\n",
        "  alpha_normalization_constant = np.sum(alphas, axis=(0,1))\n",
        "  alphas /= alpha_normalization_constant\n",
        "\n",
        "  weights = np.maximum(conv_first_grad[0], 0.0)\n",
        "\n",
        "  deep_linearization_weights = np.sum(weights*alphas, axis=(0,1))\n",
        "  cam = np.sum(deep_linearization_weights*conv_output[0], axis=2)\n",
        "\n",
        "  return cam, conv_output, predictions, (conv_first_grad, conv_second_grad, conv_third_grad)\n",
        "\n",
        "def grad_cam_pp(image, model, con_layer_idx=-1, prediction_idx=-1):\n",
        "  cam_layers = get_cam_layers(model)\n",
        "  conv_layer = cam_layers[0][con_layer_idx]\n",
        "  cam_model = Model([model.inputs], [conv_layer.get_output_at(0), model.output])\n",
        "\n",
        "  return grad_cam_pp_m(image, cam_model, prediction_idx)"
      ],
      "execution_count": 33,
      "outputs": []
    },
    {
      "cell_type": "markdown",
      "metadata": {
        "id": "p3GGM8ykJbxL"
      },
      "source": [
        "# Experiments"
      ]
    },
    {
      "cell_type": "code",
      "metadata": {
        "id": "8Axwlm5K17Xx"
      },
      "source": [
        "# geo2 (sliced) model (from model_gcm - transfer learning) for cam prediction\n",
        "geocam_gcm_model = Model([model_gcm.inputs], [get_cam_layer(model_gcm, \"conv2d_20\").get_output_at(1), get_cam_layer(model_gcm, \"dense_8\").get_output_at(1)])"
      ],
      "execution_count": 176,
      "outputs": []
    },
    {
      "cell_type": "code",
      "metadata": {
        "colab": {
          "base_uri": "https://localhost:8080/",
          "height": 320
        },
        "id": "TJmpP2R3apuX",
        "outputId": "dd9dab71-35e1-4a04-f69f-1642577ec43f"
      },
      "source": [
        "# prediction based on conv output\n",
        "test_image, test_label, test_idx = get_sample(mnist_test)\n",
        "mnist_gcm_predictions = predict(model_gcm, test_image)\n",
        "mnist_gcm_prediction = np.argmax(mnist_gcm_predictions)\n",
        "print(test_idx)\n",
        "\n",
        "# cam (geo)\n",
        "geocam_gcm_cam, geocam_gcm_cam_conv_output, geocam_gcm_cam_predictions, _ = grad_cam_pp_m(test_image, geocam_gcm_model)\n",
        "\n",
        "assert test_label == mnist_gcm_prediction, \"Missmatched ids. Wanted %d, received %d\" % (test_label, mnist_gcm_prediction)\n",
        "\n",
        "# Prediction\n",
        "labels = dataset[2]\n",
        "sorted_indexes = np.flip(np.argsort(geocam_gcm_cam_predictions[0]))\n",
        "percentages = np.round(geocam_gcm_cam_predictions[0] / geocam_gcm_cam_predictions[0][sorted_indexes[0]], 5)\n",
        "\n",
        "print(f\"1st : {labels[sorted_indexes[0]]} ({percentages[sorted_indexes[0]] * 100:.2f}%)\")\n",
        "print(f\"2nd : {labels[sorted_indexes[1]]} ({percentages[sorted_indexes[1]] * 100:.2f}%)\")\n",
        "print(f\"3rd : {labels[sorted_indexes[2]]} ({percentages[sorted_indexes[2]] * 100:.2f}%)\")\n",
        "\n",
        "# Debug (CAM projection)\n",
        "show_heatmap(test_image, geocam_gcm_cam, (28, 28, 1), True)"
      ],
      "execution_count": 177,
      "outputs": [
        {
          "output_type": "stream",
          "text": [
            "6433\n",
            "1st : diagonal (100.00%)\n",
            "2nd : lower_than (0.03%)\n",
            "3rd : ellipse (0.00%)\n"
          ],
          "name": "stdout"
        },
        {
          "output_type": "display_data",
          "data": {
            "image/png": "[encoded data removed]",
            "text/plain": [
              "<Figure size 432x288 with 1 Axes>"
            ]
          },
          "metadata": {
            "tags": []
          }
        }
      ]
    },
    {
      "cell_type": "code",
      "metadata": {
        "id": "6zUebSjz3q8J"
      },
      "source": [
        "#localization"
      ],
      "execution_count": null,
      "outputs": []
    },
    {
      "cell_type": "markdown",
      "metadata": {
        "id": "dYdBJYcHpEir"
      },
      "source": [
        "# Metrics"
      ]
    },
    {
      "cell_type": "code",
      "metadata": {
        "id": "0QSGfUG-pCI2",
        "colab": {
          "base_uri": "https://localhost:8080/"
        },
        "outputId": "9805c495-5fcc-438a-d77e-fd0f1dcb1252"
      },
      "source": [
        "from sklearn.metrics import precision_recall_curve\n",
        "from sklearn.metrics import accuracy_score\n",
        "from sklearn.metrics import precision_score\n",
        "from sklearn.metrics import recall_score\n",
        "from sklearn.metrics import f1_score\n",
        "from tqdm import tqdm \n",
        "\n",
        "digit_decomposition_categories = [\"vertical\", \"horizontal\", \"diagonal\", \"ellipse\", \"greather_than\", \"lower_than\"]\n",
        "digits_descriptions = [\n",
        "  [\"ellipse\"], #0\n",
        "  [\"vertical\", \"diagonal\"], #1\n",
        "  [\"horizontal\", \"diagonal\"], #2\n",
        "  [\"greather_than\", \"lower_than\", \"ellipse\"], #3\n",
        "  [\"vertical\", \"horizontal\"], #4\n",
        "  [\"greather_than\", \"ellipse\", \"vertical\", \"horizontal\"], #5\n",
        "  [\"diagonal\", \"vertical\", \"ellipse\"], #6\n",
        "  [\"diagonal\", \"vertical\", \"horizontal\"], #7\n",
        "  [\"ellipse\"], #8\n",
        "  [\"ellipse\", \"diagonal\", \"vertical\"], #9\n",
        "]\n",
        "\n",
        "validation_amount_per_category = 100\n",
        "metrics, y_true, y_pred = dict(), dict(), dict()\n",
        "\n",
        "with tqdm(total=(validation_amount_per_category * mnist_num_classes), position=0, leave=True) as pbar:\n",
        "  for category in range(mnist_num_classes):\n",
        "    metrics[category] = dict()\n",
        "    \n",
        "    decomposed_category = np.zeros(shape=(mnist_num_classes))\n",
        "    decomposed_category[category] = 1\n",
        "    \n",
        "    y_true[category] = np.zeros(shape=(validation_amount_per_category))\n",
        "    y_pred[category] = np.zeros(shape=(validation_amount_per_category))\n",
        "\n",
        "    for i in range(validation_amount_per_category):\n",
        "      validation_idx = random.choice(np.argwhere(np.equal(mnist_test[1], decomposed_category).all(1)))[0]\n",
        "\n",
        "      # cam\n",
        "      test_mnist_image = mnist_test[0][validation_idx]\n",
        "      geocam_gcm_cam, geocam_gcm_cam_conv_output, geocam_gcm_cam_predictions, _ = grad_cam_pp_m(test_mnist_image, geocam_gcm_model)\n",
        "      \n",
        "      # prediction\n",
        "      possible_decomposition_labels = digits_descriptions[category]\n",
        "      prediction_label = dataset[2][np.argmax(geocam_gcm_cam_predictions)]\n",
        "      acceptable = prediction_label in possible_decomposition_labels\n",
        "      y_pred[category][i] = np.int0(acceptable)\n",
        "\n",
        "      pbar.update()\n",
        "\n",
        "    # metrics per category\n",
        "    metrics[category]['accuracy']   = accuracy_score(y_true[category], y_pred[category])\n",
        "    metrics[category]['precision']  = precision_score(y_true[category], y_pred[category], average='weighted', zero_division=0)\n",
        "    metrics[category]['recall']     = recall_score(y_true[category], y_pred[category], average='weighted', zero_division=0)\n",
        "    metrics[category]['f1']         = f1_score(y_true[category], y_pred[category], average='weighted', zero_division=0)\n",
        "\n",
        "# out\n",
        "print(\"\\n\\nMETRICS:\")\n",
        "\n",
        "# macro metrics\n",
        "print(\"\\nMacro:\")\n",
        "macro_metrics = dict()\n",
        "for cat in metrics:\n",
        "  for key in metrics[cat]:\n",
        "    macro_metrics[key] = macro_metrics.get(key) or []\n",
        "    macro_metrics[key].append(metrics[cat][key])\n",
        "  \n",
        "for key in macro_metrics:\n",
        "  print(f\"- {key}: {np.average(macro_metrics[key]):.2f}\")\n",
        "\n",
        "# micro metrics\n",
        "print(\"\\nMicro:\")\n",
        "for cat in metrics:\n",
        "  all_metrics = ', '.join([f\"{key}:{np.average(metrics[cat][key]):.2f}\" for key in metrics[cat]])\n",
        "  print(f\"- {cat}: {all_metrics}\")"
      ],
      "execution_count": 179,
      "outputs": [
        {
          "output_type": "stream",
          "text": [
            "100%|██████████| 1000/1000 [00:24<00:00, 41.10it/s]"
          ],
          "name": "stderr"
        },
        {
          "output_type": "stream",
          "text": [
            "\n",
            "\n",
            "METRICS:\n",
            "\n",
            "Macro:\n",
            "- accuracy: 0.41\n",
            "- precision: 1.00\n",
            "- recall: 0.41\n",
            "- f1: 0.55\n",
            "\n",
            "Micro:\n",
            "- 0: accuracy:0.55, precision:1.00, recall:0.55, f1:0.71\n",
            "- 1: accuracy:0.03, precision:1.00, recall:0.03, f1:0.06\n",
            "- 2: accuracy:0.48, precision:1.00, recall:0.48, f1:0.65\n",
            "- 3: accuracy:0.18, precision:1.00, recall:0.18, f1:0.31\n",
            "- 4: accuracy:0.81, precision:1.00, recall:0.81, f1:0.90\n",
            "- 5: accuracy:0.27, precision:1.00, recall:0.27, f1:0.43\n",
            "- 6: accuracy:0.31, precision:1.00, recall:0.31, f1:0.47\n",
            "- 7: accuracy:0.49, precision:1.00, recall:0.49, f1:0.66\n",
            "- 8: accuracy:0.55, precision:1.00, recall:0.55, f1:0.71\n",
            "- 9: accuracy:0.46, precision:1.00, recall:0.46, f1:0.63\n"
          ],
          "name": "stdout"
        },
        {
          "output_type": "stream",
          "text": [
            "\n"
          ],
          "name": "stderr"
        }
      ]
    },
    {
      "cell_type": "markdown",
      "metadata": {
        "id": "5BYUdVoAvDu9"
      },
      "source": [
        "# Archive"
      ]
    },
    {
      "cell_type": "code",
      "metadata": {
        "colab": {
          "base_uri": "https://localhost:8080/",
          "height": 164
        },
        "id": "YD5ZqeOJyJzv",
        "outputId": "9118c4e4-3859-4c16-dec5-54b5b2f56d88"
      },
      "source": [
        "raise Exception('do not run any further')"
      ],
      "execution_count": 143,
      "outputs": [
        {
          "output_type": "error",
          "ename": "Exception",
          "evalue": "ignored",
          "traceback": [
            "\u001b[0;31m---------------------------------------------------------------------------\u001b[0m",
            "\u001b[0;31mException\u001b[0m                                 Traceback (most recent call last)",
            "\u001b[0;32m<ipython-input-143-838d3209bb38>\u001b[0m in \u001b[0;36m<module>\u001b[0;34m()\u001b[0m\n\u001b[0;32m----> 1\u001b[0;31m \u001b[0;32mraise\u001b[0m \u001b[0mException\u001b[0m\u001b[0;34m(\u001b[0m\u001b[0;34m'do not run any further'\u001b[0m\u001b[0;34m)\u001b[0m\u001b[0;34m\u001b[0m\u001b[0;34m\u001b[0m\u001b[0m\n\u001b[0m",
            "\u001b[0;31mException\u001b[0m: do not run any further"
          ]
        }
      ]
    },
    {
      "cell_type": "code",
      "metadata": {
        "id": "729HVndavJ2t",
        "colab": {
          "base_uri": "https://localhost:8080/",
          "height": 600
        },
        "outputId": "645c9337-9100-4c98-e663-b0a7164e6b2d"
      },
      "source": [
        "# debugging cams and values\n",
        "test_ids = {\n",
        "        \"1\": 3455,\n",
        "        \"4\": 6195,\n",
        "        \"0\": 3710,\n",
        "        \"6\": 6187,\n",
        "        \"7\": 6606,\n",
        "        \"5\": 6148,\n",
        "        \"9\": 5622,\n",
        "    }\n",
        "\n",
        "test_idx = 6\n",
        "test_mnist_idx = test_ids[f\"{test_idx}\"]\n",
        "test_mnist_image = mnist_test[0][test_mnist_idx]\n",
        "# show_image(test_mnist_image)\n",
        "\n",
        "# GCM (Transfer learned network - init geo, end mnist)\n",
        "# gcm_mnist_image, _, prediction, test_img_idx = get_prediction(model_gcm, mnist_test, test_idx)\n",
        "# gcm_prediction_idx = np.argmax(prediction)\n",
        "gcm_mnist_cam, gcm_conv_output, gcm_mnist_prediction, _ = grad_cam_pp(test_mnist_image, model_gcm, -3)\n",
        "print(f\"conv output hash: {hashlib.sha256(gcm_conv_output.numpy()).hexdigest().upper()}\")\n",
        "\n",
        "title = f\"MNIST prediction: {gcm_mnist_prediction} (truth: {test_idx})\"\n",
        "show_heatmap(test_mnist_image, gcm_mnist_cam, (28, 28, 1), True, title)\n",
        "\n",
        "assert test_idx == gcm_mnist_prediction, \"Missmatched ids. Wanted %d, received %d\" % (test_idx, gcm_mnist_prediction)"
      ],
      "execution_count": 141,
      "outputs": [
        {
          "output_type": "stream",
          "text": [
            "conv output hash: 2D4EBA6069DE5C2BBCAC9A709C2500025427D6358B5FE2A51BF92D9D5AB496EF\n"
          ],
          "name": "stdout"
        },
        {
          "output_type": "display_data",
          "data": {
            "image/png": "[encoded data removed]",
            "text/plain": [
              "<Figure size 432x288 with 1 Axes>"
            ]
          },
          "metadata": {
            "tags": []
          }
        },
        {
          "output_type": "error",
          "ename": "ValueError",
          "evalue": "ignored",
          "traceback": [
            "\u001b[0;31m---------------------------------------------------------------------------\u001b[0m",
            "\u001b[0;31mValueError\u001b[0m                                Traceback (most recent call last)",
            "\u001b[0;32m<ipython-input-141-6bc8e5b21638>\u001b[0m in \u001b[0;36m<module>\u001b[0;34m()\u001b[0m\n\u001b[1;32m     24\u001b[0m \u001b[0mshow_heatmap\u001b[0m\u001b[0;34m(\u001b[0m\u001b[0mtest_mnist_image\u001b[0m\u001b[0;34m,\u001b[0m \u001b[0mgcm_mnist_cam\u001b[0m\u001b[0;34m,\u001b[0m \u001b[0;34m(\u001b[0m\u001b[0;36m28\u001b[0m\u001b[0;34m,\u001b[0m \u001b[0;36m28\u001b[0m\u001b[0;34m,\u001b[0m \u001b[0;36m1\u001b[0m\u001b[0;34m)\u001b[0m\u001b[0;34m,\u001b[0m \u001b[0;32mTrue\u001b[0m\u001b[0;34m,\u001b[0m \u001b[0mtitle\u001b[0m\u001b[0;34m)\u001b[0m\u001b[0;34m\u001b[0m\u001b[0;34m\u001b[0m\u001b[0m\n\u001b[1;32m     25\u001b[0m \u001b[0;34m\u001b[0m\u001b[0m\n\u001b[0;32m---> 26\u001b[0;31m \u001b[0;32massert\u001b[0m \u001b[0mtest_idx\u001b[0m \u001b[0;34m==\u001b[0m \u001b[0mgcm_mnist_prediction\u001b[0m\u001b[0;34m,\u001b[0m \u001b[0;34m\"Missmatched ids. Wanted %d, received %d\"\u001b[0m \u001b[0;34m%\u001b[0m \u001b[0;34m(\u001b[0m\u001b[0mtest_idx\u001b[0m\u001b[0;34m,\u001b[0m \u001b[0mgcm_mnist_prediction\u001b[0m\u001b[0;34m)\u001b[0m\u001b[0;34m\u001b[0m\u001b[0;34m\u001b[0m\u001b[0m\n\u001b[0m",
            "\u001b[0;32m/usr/local/lib/python3.7/dist-packages/tensorflow/python/framework/ops.py\u001b[0m in \u001b[0;36m__bool__\u001b[0;34m(self)\u001b[0m\n\u001b[1;32m    990\u001b[0m \u001b[0;34m\u001b[0m\u001b[0m\n\u001b[1;32m    991\u001b[0m   \u001b[0;32mdef\u001b[0m \u001b[0m__bool__\u001b[0m\u001b[0;34m(\u001b[0m\u001b[0mself\u001b[0m\u001b[0;34m)\u001b[0m\u001b[0;34m:\u001b[0m\u001b[0;34m\u001b[0m\u001b[0;34m\u001b[0m\u001b[0m\n\u001b[0;32m--> 992\u001b[0;31m     \u001b[0;32mreturn\u001b[0m \u001b[0mbool\u001b[0m\u001b[0;34m(\u001b[0m\u001b[0mself\u001b[0m\u001b[0;34m.\u001b[0m\u001b[0m_numpy\u001b[0m\u001b[0;34m(\u001b[0m\u001b[0;34m)\u001b[0m\u001b[0;34m)\u001b[0m\u001b[0;34m\u001b[0m\u001b[0;34m\u001b[0m\u001b[0m\n\u001b[0m\u001b[1;32m    993\u001b[0m \u001b[0;34m\u001b[0m\u001b[0m\n\u001b[1;32m    994\u001b[0m   \u001b[0m__nonzero__\u001b[0m \u001b[0;34m=\u001b[0m \u001b[0m__bool__\u001b[0m\u001b[0;34m\u001b[0m\u001b[0;34m\u001b[0m\u001b[0m\n",
            "\u001b[0;31mValueError\u001b[0m: The truth value of an array with more than one element is ambiguous. Use a.any() or a.all()"
          ]
        }
      ]
    },
    {
      "cell_type": "code",
      "metadata": {
        "id": "ZWitfX7fvMld",
        "colab": {
          "base_uri": "https://localhost:8080/",
          "height": 232
        },
        "outputId": "a4012ba7-c8f2-4921-a75a-2248779ae3f4"
      },
      "source": [
        "# 1) prediction based on conv output\n",
        "test_image, test_label = get_sample(mnist_test)\n",
        "\n",
        "cam_layer = get_cam_layer(model_gcm, \"conv2d_5\")\n",
        "cam_model = Model([model_gcm.inputs], [cam_layer.get_output_at(1), model_gcm.output])\n",
        "gcm_mnist_cam, gcm_conv_output, gcm_mnist_prediction, _ = grad_cam_pp_m(test_image, cam_model)\n",
        "# print(f\"conv output hash: {hashlib.sha256(gcm_conv_output.numpy()).hexdigest().upper()}\")\n",
        "assert test_label == gcm_mnist_prediction, \"Missmatched ids. Wanted %d, received %d\" % (test_idx, test_label)\n",
        "\n",
        "# Prediction\n",
        "labels = dataset[2]\n",
        "gcg_predictions = model_geo_2.predict(gcm_conv_output)\n",
        "sorted_indexes = np.flip(np.argsort(gcg_predictions[0]))\n",
        "percentages = gcg_predictions[0] / gcg_predictions[0][sorted_indexes[0]]\n",
        "\n",
        "print(f\"1st : {labels[sorted_indexes[0]]} ({percentages[sorted_indexes[0]] * 100:.2f}%)\")\n",
        "print(f\"2nd : {labels[sorted_indexes[1]]} ({percentages[sorted_indexes[1]] * 100:.2f}%)\")\n",
        "print(f\"3rd : {labels[sorted_indexes[2]]} ({percentages[sorted_indexes[2]] * 100:.2f}%)\")\n",
        "\n",
        "# Debug (CAM projection)\n",
        "gcg_mnist_cam = cam_1(model_geo, gcm_conv_output, sorted_indexes[0])\n",
        "show_heatmap(test_image, gcg_mnist_cam, (28, 28, 1), True)"
      ],
      "execution_count": 142,
      "outputs": [
        {
          "output_type": "error",
          "ename": "ValueError",
          "evalue": "ignored",
          "traceback": [
            "\u001b[0;31m---------------------------------------------------------------------------\u001b[0m",
            "\u001b[0;31mValueError\u001b[0m                                Traceback (most recent call last)",
            "\u001b[0;32m<ipython-input-142-52e0116e82c8>\u001b[0m in \u001b[0;36m<module>\u001b[0;34m()\u001b[0m\n\u001b[1;32m      1\u001b[0m \u001b[0;31m# 1) prediction based on conv output\u001b[0m\u001b[0;34m\u001b[0m\u001b[0;34m\u001b[0m\u001b[0;34m\u001b[0m\u001b[0m\n\u001b[0;32m----> 2\u001b[0;31m \u001b[0mtest_image\u001b[0m\u001b[0;34m,\u001b[0m \u001b[0mtest_label\u001b[0m \u001b[0;34m=\u001b[0m \u001b[0mget_sample\u001b[0m\u001b[0;34m(\u001b[0m\u001b[0mmnist_test\u001b[0m\u001b[0;34m)\u001b[0m\u001b[0;34m\u001b[0m\u001b[0;34m\u001b[0m\u001b[0m\n\u001b[0m\u001b[1;32m      3\u001b[0m \u001b[0;34m\u001b[0m\u001b[0m\n\u001b[1;32m      4\u001b[0m \u001b[0mcam_layer\u001b[0m \u001b[0;34m=\u001b[0m \u001b[0mget_cam_layer\u001b[0m\u001b[0;34m(\u001b[0m\u001b[0mmodel_gcm\u001b[0m\u001b[0;34m,\u001b[0m \u001b[0;34m\"conv2d_5\"\u001b[0m\u001b[0;34m)\u001b[0m\u001b[0;34m\u001b[0m\u001b[0;34m\u001b[0m\u001b[0m\n\u001b[1;32m      5\u001b[0m \u001b[0mcam_model\u001b[0m \u001b[0;34m=\u001b[0m \u001b[0mModel\u001b[0m\u001b[0;34m(\u001b[0m\u001b[0;34m[\u001b[0m\u001b[0mmodel_gcm\u001b[0m\u001b[0;34m.\u001b[0m\u001b[0minputs\u001b[0m\u001b[0;34m]\u001b[0m\u001b[0;34m,\u001b[0m \u001b[0;34m[\u001b[0m\u001b[0mcam_layer\u001b[0m\u001b[0;34m.\u001b[0m\u001b[0mget_output_at\u001b[0m\u001b[0;34m(\u001b[0m\u001b[0;36m1\u001b[0m\u001b[0;34m)\u001b[0m\u001b[0;34m,\u001b[0m \u001b[0mmodel_gcm\u001b[0m\u001b[0;34m.\u001b[0m\u001b[0moutput\u001b[0m\u001b[0;34m]\u001b[0m\u001b[0;34m)\u001b[0m\u001b[0;34m\u001b[0m\u001b[0;34m\u001b[0m\u001b[0m\n",
            "\u001b[0;31mValueError\u001b[0m: too many values to unpack (expected 2)"
          ]
        }
      ]
    },
    {
      "cell_type": "code",
      "metadata": {
        "id": "GeUw_Q2EvFcF"
      },
      "source": [
        "# 2) prediction based on cam heatmap (SHOULD NOT WORK)\n",
        "\n",
        "test_image, test_label = get_sample(mnist_test, 6187)\n",
        "gcm_mnist_cam, gcm_conv_output, gcm_mnist_prediction, _ = grad_cam_pp(test_image, model_gcm)\n",
        "heatmap = get_heatmap(gcm_mnist_cam, (28, 28)).reshape(28, 28, 1) * 255\n",
        "prediction = predict(model_geo, heatmap)\n",
        "\n",
        "show_image(heatmap)\n",
        "\n",
        "labels = dataset[2]\n",
        "sorted_indexes = np.flip(np.argsort(prediction[0]))\n",
        "percentages = prediction[0] / prediction[0][sorted_indexes[0]]\n",
        "\n",
        "print(f\"1st : {labels[sorted_indexes[0]]} ({percentages[sorted_indexes[0]] * 100:.2f}%)\")\n",
        "print(f\"2nd : {labels[sorted_indexes[1]]} ({percentages[sorted_indexes[1]] * 100:.2f}%)\")\n",
        "print(f\"3rd : {labels[sorted_indexes[2]]} ({percentages[sorted_indexes[2]] * 100:.2f}%)\")\n",
        "\n",
        "plt.figure(facecolor='white')\n",
        "ax = plt.gca()\n",
        "ax.set_xticklabels([])\n",
        "ax.set_yticklabels([])\n",
        "plt.imshow(test_image.reshape(28, 28), alpha=0.5, cmap='Greys')\n",
        "plt.imshow(heatmap.reshape(28, 28), cmap='jet', alpha=0.5)\n",
        "plt.show()  "
      ],
      "execution_count": null,
      "outputs": []
    }
  ]
}