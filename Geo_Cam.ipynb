{
  "nbformat": 4,
  "nbformat_minor": 0,
  "metadata": {
    "colab": {
      "name": "Geo-Cam.ipynb",
      "provenance": [],
      "collapsed_sections": [],
      "toc_visible": true,
      "authorship_tag": "ABX9TyPvzEBEU3hwfMM3+EVVZ6Pm",
      "include_colab_link": true
    },
    "kernelspec": {
      "name": "python3",
      "display_name": "Python 3"
    },
    "accelerator": "GPU"
  },
  "cells": [
    {
      "cell_type": "markdown",
      "metadata": {
        "id": "view-in-github",
        "colab_type": "text"
      },
      "source": [
        "<a href=\"https://colab.research.google.com/github/fsilvestrim/thesis/blob/master/Geo_Cam.ipynb\" target=\"_parent\"><img src=\"https://colab.research.google.com/assets/colab-badge.svg\" alt=\"Open In Colab\"/></a>"
      ]
    },
    {
      "cell_type": "markdown",
      "metadata": {
        "id": "cB_AS_K_X5J0"
      },
      "source": [
        "# Utils"
      ]
    },
    {
      "cell_type": "code",
      "metadata": {
        "id": "W2x-VCBnFz5h"
      },
      "source": [
        "import re\n",
        "import time\n",
        "import random\n",
        "import numpy as np\n",
        "import scipy as sp\n",
        "import pickle\n",
        "import cv2\n",
        "import hashlib\n",
        "\n",
        "from matplotlib import cm\n",
        "import matplotlib.pyplot as plt\n",
        "import matplotlib.image as mpimg\n",
        "import matplotlib.pyplot as plt\n",
        "\n",
        "%matplotlib inline"
      ],
      "execution_count": 1,
      "outputs": []
    },
    {
      "cell_type": "code",
      "metadata": {
        "colab": {
          "base_uri": "https://localhost:8080/"
        },
        "id": "BvhCa24vLZ--",
        "outputId": "52408f32-dcb0-4a5a-8645-09c6dadede66"
      },
      "source": [
        "#%tensorflow_version 2.x\n",
        "\n",
        "import tensorflow as tf\n",
        "print(tf.__version__)\n",
        "from tensorflow import keras\n",
        "from keras import backend as K\n",
        "from tensorflow.keras import layers\n",
        "from tensorflow.keras.models import Model\n",
        "from tensorflow.python.framework.ops import disable_eager_execution\n",
        "from tensorflow.python.framework.ops import enable_eager_execution\n",
        "\n",
        "#disable_eager_execution()\n",
        "enable_eager_execution()\n",
        "print('Eager mode: %s' % tf.executing_eagerly())\n",
        "\n",
        "device_name = tf.test.gpu_device_name()\n",
        "\n",
        "if device_name != '/device:GPU:0':\n",
        "  raise SystemError('GPU device not found')\n",
        "\n",
        "print('Found GPU at: {}'.format(device_name))"
      ],
      "execution_count": 2,
      "outputs": [
        {
          "output_type": "stream",
          "text": [
            "2.4.1\n",
            "Eager mode: True\n",
            "Found GPU at: /device:GPU:0\n"
          ],
          "name": "stdout"
        }
      ]
    },
    {
      "cell_type": "code",
      "metadata": {
        "id": "DfU8rMxdffJD"
      },
      "source": [
        "def show_image(image, title=None):\n",
        "  plt.figure(facecolor='white')\n",
        "  ax = plt.gca()\n",
        "  ax.set_xticklabels([])\n",
        "  ax.set_yticklabels([])\n",
        "  plt.imshow(image.reshape(28, 28), cmap='Greys')\n",
        "  if title is not None:\n",
        "    plt.title(title)\n",
        "  plt.show()"
      ],
      "execution_count": 3,
      "outputs": []
    },
    {
      "cell_type": "code",
      "metadata": {
        "id": "TrovwQHTWrlB"
      },
      "source": [
        "def show_prediction(image, truth, prediction, label_descriptions=None):\n",
        "  prediction = np.argmax(prediction)\n",
        "  prediction = prediction if label_descriptions is None else label_descriptions[prediction]\n",
        "  truth = truth if label_descriptions is None else label_descriptions[truth]\n",
        "  title = f\"Prediction: {prediction} / Truth: {truth}\"\n",
        "  show_image(image, title)"
      ],
      "execution_count": 4,
      "outputs": []
    },
    {
      "cell_type": "code",
      "metadata": {
        "id": "LNQAoOL5jlVC"
      },
      "source": [
        "def get_heatmap(cam, size, resize=True):\n",
        "  heatmap = cam / np.max(cam)\n",
        " \n",
        "  if resize:\n",
        "    height_zoom = size[1] / cam.shape[0]\n",
        "    width_zoom = size[0] / cam.shape[1]\n",
        "    heatmap = sp.ndimage.zoom(cam, (height_zoom, width_zoom), order=2)\n",
        " \n",
        "  return heatmap"
      ],
      "execution_count": 5,
      "outputs": []
    },
    {
      "cell_type": "code",
      "metadata": {
        "id": "Ya25j5pbZoq2"
      },
      "source": [
        "def show_heatmap(img, cam, size, resize=True, title=None):\n",
        "  img = img.reshape(size[0], size[1])\n",
        "  heatmap = get_heatmap(cam, size, resize)\n",
        "\n",
        "  # plot\n",
        "  plt.figure(facecolor='white')\n",
        "  ax = plt.gca()\n",
        "  ax.set_xticklabels([])\n",
        "  ax.set_yticklabels([])\n",
        "  plt.imshow(img, alpha=0.5, cmap='Greys')\n",
        "  plt.imshow(heatmap, cmap='jet', alpha=0.5)\n",
        "  \n",
        "  if title is not None:\n",
        "    plt.title(title)\n",
        "  \n",
        "  plt.show()  "
      ],
      "execution_count": 6,
      "outputs": []
    },
    {
      "cell_type": "code",
      "metadata": {
        "id": "LF2nobFe76jK"
      },
      "source": [
        "def plot_model_score(score, history):\n",
        "  plt.figure(facecolor='white')\n",
        "  plt.plot(history['loss'])\n",
        "  plt.plot(history['val_loss'])\n",
        "  plt.ylabel('Loss')\n",
        "  plt.xlabel('Epoch')\n",
        "  plt.legend(['Train', 'Validation'], loc='upper left')\n",
        "  plt.title(\"Loss: %.5f vs. Accuracy: %.5f\" % (score[0], score[1]))\n",
        "  plt.show() "
      ],
      "execution_count": 7,
      "outputs": []
    },
    {
      "cell_type": "code",
      "metadata": {
        "id": "PARsNtG47nUc"
      },
      "source": [
        "def load_model(name):\n",
        "  model = keras.models.load_model(\"saved_model_%s\" % name)\n",
        "  history = pickle.load(open('saved_model_%s/history' % name, \"rb\"))\n",
        "\n",
        "  return model, history"
      ],
      "execution_count": 8,
      "outputs": []
    },
    {
      "cell_type": "code",
      "metadata": {
        "id": "eQiN2YfH66oZ"
      },
      "source": [
        "def save_model(model, history, name):\n",
        "  model.save(\"saved_model_%s\" % name)\n",
        "\n",
        "  with open('saved_model_%s/history' % name, 'wb') as file_pi:\n",
        "    pickle.dump(history.history, file_pi)"
      ],
      "execution_count": 9,
      "outputs": []
    },
    {
      "cell_type": "code",
      "metadata": {
        "id": "9y0SKay9zUyh"
      },
      "source": [
        "def get_cam_layers(model):\n",
        "  last_conv_layer = None\n",
        "  last_layers = []\n",
        "  conv_layers = []\n",
        "  for layer in reversed(model.layers):\n",
        "      # check to see if the layer has a 4D output\n",
        "      if len(layer.output_shape) == 4 and last_conv_layer is None:\n",
        "        last_conv_layer = layer\n",
        "        # print(\"Last Conv Layer: %s, filters %s\" % (layer.name, layer.filters))\n",
        "\n",
        "      if last_conv_layer is not None:\n",
        "        conv_layers.insert(0, layer)\n",
        "      else:\n",
        "        last_layers.insert(0, layer)\n",
        "\n",
        "  return conv_layers, last_layers"
      ],
      "execution_count": 10,
      "outputs": []
    },
    {
      "cell_type": "code",
      "metadata": {
        "id": "Ea6P7fJtpgeL"
      },
      "source": [
        "def get_cam_layer(model, layer_name):\n",
        "  for layer in model.layers:\n",
        "    if layer.name == layer_name:\n",
        "      return layer\n",
        "\n",
        "  return None"
      ],
      "execution_count": 50,
      "outputs": []
    },
    {
      "cell_type": "code",
      "metadata": {
        "id": "JBpsHZ8HJ9ZP"
      },
      "source": [
        "def get_sample(test_set, idx=-1):\n",
        "  test_idx = random.randint(0, len(test_set[0])) if idx < 0 else idx\n",
        "  test_image = test_set[0][test_idx]\n",
        "  test_label = np.argmax(test_set[1][test_idx])\n",
        "\n",
        "  return test_image, test_label, test_idx"
      ],
      "execution_count": 82,
      "outputs": []
    },
    {
      "cell_type": "code",
      "metadata": {
        "id": "DLP3omNp6B1z"
      },
      "source": [
        "def predict(model, image):\n",
        "  return model.predict(np.expand_dims(image, 0))"
      ],
      "execution_count": 12,
      "outputs": []
    },
    {
      "cell_type": "code",
      "metadata": {
        "id": "CfQxjWHqzuoI"
      },
      "source": [
        "def get_prediction(model, test_set, idx=-1):\n",
        "  x, y = get_sample(test_set, idx)\n",
        "  prediction = predict(model, x)\n",
        "\n",
        "  return x, y, prediction, idx"
      ],
      "execution_count": 13,
      "outputs": []
    },
    {
      "cell_type": "code",
      "metadata": {
        "id": "wIXXoT0p0I3M"
      },
      "source": [
        "def format_dataset(num_classes, train, test):\n",
        "  (x_train, y_train), (x_test, y_test) = train, test\n",
        "\n",
        "  print(x_train[0].shape)\n",
        "  print(y_train[0])\n",
        "\n",
        "  # Scale images to the [0, 1] range\n",
        "  x_train = x_train.astype(\"float32\") / 255\n",
        "  x_test = x_test.astype(\"float32\") / 255\n",
        "\n",
        "  # Make sure images have shape (28, 28, 1)\n",
        "  x_train = np.expand_dims(x_train, -1)\n",
        "  x_test = np.expand_dims(x_test, -1)\n",
        "\n",
        "  print(\"x_train shape:\", x_train.shape)\n",
        "  print(x_train.shape[0], \"train samples\")\n",
        "  print(x_test.shape[0], \"test samples\")\n",
        "\n",
        "  # convert class vectors to binary class matrices\n",
        "  y_train = keras.utils.to_categorical(y_train, num_classes)\n",
        "  y_test = keras.utils.to_categorical(y_test, num_classes)\n",
        "\n",
        "  return (x_train, y_train), (x_test, y_test)"
      ],
      "execution_count": 14,
      "outputs": []
    },
    {
      "cell_type": "code",
      "metadata": {
        "id": "zX6zWUrLQQJ0"
      },
      "source": [
        "def copy_model(original_model, trainable=False):\n",
        "  new_model = keras.models.clone_model(original_model)\n",
        "  new_model.set_weights(original_model.get_weights())\n",
        "  new_model.trainable = trainable\n",
        "  return new_model"
      ],
      "execution_count": 15,
      "outputs": []
    },
    {
      "cell_type": "markdown",
      "metadata": {
        "id": "Okm2rbgeJNSD"
      },
      "source": [
        "#MNIST"
      ]
    },
    {
      "cell_type": "code",
      "metadata": {
        "id": "rTNjOPRWJRz1",
        "colab": {
          "base_uri": "https://localhost:8080/"
        },
        "outputId": "224fbf6f-a0ee-434a-acb7-444826534136"
      },
      "source": [
        "mnist_num_classes = 10\n",
        "mnist_train, mnist_test = keras.datasets.mnist.load_data()\n",
        "mnist_train, mnist_test = format_dataset(mnist_num_classes, mnist_train, mnist_test)\n",
        "\n",
        "def create_mnist_model(name, input_shape, num_classes, train=None):\n",
        "  model = keras.Sequential(\n",
        "      [\n",
        "          keras.Input(shape=input_shape),\n",
        "      \n",
        "          layers.Conv2D(filters=32, kernel_size=(3, 3), activation=\"relu\"),\n",
        "          layers.MaxPooling2D(pool_size=(2, 2), strides=(2,2)),\n",
        "      \n",
        "          layers.Conv2D(filters=64, kernel_size=(3, 3), activation=\"relu\"),\n",
        "          layers.MaxPooling2D(pool_size=(2, 2), strides=(2,2)),\n",
        "          layers.Dropout(0.5),\n",
        "      \n",
        "          layers.Conv2D(filters=128, kernel_size=(3, 3), activation=\"relu\"),\n",
        "          \n",
        "          # layers.GlobalAveragePooling2D(),\n",
        "          layers.Flatten(),\n",
        "          layers.Dense(num_classes, activation=\"softmax\"),\n",
        "      ]\n",
        "  )\n",
        "\n",
        "  model.compile(loss=\"categorical_crossentropy\", optimizer=\"adam\", metrics=[\"accuracy\"])\n",
        "\n",
        "  return model"
      ],
      "execution_count": 16,
      "outputs": [
        {
          "output_type": "stream",
          "text": [
            "Downloading data from https://storage.googleapis.com/tensorflow/tf-keras-datasets/mnist.npz\n",
            "11493376/11490434 [==============================] - 0s 0us/step\n",
            "(28, 28)\n",
            "5\n",
            "x_train shape: (60000, 28, 28, 1)\n",
            "60000 train samples\n",
            "10000 test samples\n"
          ],
          "name": "stdout"
        }
      ]
    },
    {
      "cell_type": "code",
      "metadata": {
        "colab": {
          "base_uri": "https://localhost:8080/",
          "height": 1000
        },
        "id": "_UUVTSfOKsh2",
        "outputId": "2eb11954-de5b-4ebd-a72c-a78eb72ae27c"
      },
      "source": [
        "model_mnist = create_mnist_model(\"gap_shallow\", (28, 28, 1), mnist_num_classes, mnist_train)\n",
        "\n",
        "# model_mnist, history_mnist = load_model(\"gap_shallow\")\n",
        "start_time = time.clock()\n",
        "history_mnist = model_mnist.fit(mnist_train[0], mnist_train[1], batch_size=128, epochs=15, validation_split=0.1)\n",
        "print(\"Training took: %.2f seconds\" % (time.clock() - start_time))\n",
        "# save_model(model_mnist, history_mnist, \"gap_shallow\")\n",
        "\n",
        "model_mnist.summary()\n",
        "score_mnist = model_mnist.evaluate(mnist_test[0], mnist_test[1], verbose=0)\n",
        "\n",
        "plot_model_score(score_mnist, history_mnist.history)"
      ],
      "execution_count": 17,
      "outputs": [
        {
          "output_type": "stream",
          "text": [
            "/usr/local/lib/python3.7/dist-packages/ipykernel_launcher.py:4: DeprecationWarning: time.clock has been deprecated in Python 3.3 and will be removed from Python 3.8: use time.perf_counter or time.process_time instead\n",
            "  after removing the cwd from sys.path.\n"
          ],
          "name": "stderr"
        },
        {
          "output_type": "stream",
          "text": [
            "Epoch 1/15\n",
            "422/422 [==============================] - 35s 7ms/step - loss: 0.6529 - accuracy: 0.7960 - val_loss: 0.0638 - val_accuracy: 0.9822\n",
            "Epoch 2/15\n",
            "422/422 [==============================] - 2s 5ms/step - loss: 0.0916 - accuracy: 0.9722 - val_loss: 0.0551 - val_accuracy: 0.9848\n",
            "Epoch 3/15\n",
            "422/422 [==============================] - 2s 5ms/step - loss: 0.0656 - accuracy: 0.9791 - val_loss: 0.0405 - val_accuracy: 0.9887\n",
            "Epoch 4/15\n",
            "422/422 [==============================] - 2s 5ms/step - loss: 0.0539 - accuracy: 0.9828 - val_loss: 0.0345 - val_accuracy: 0.9903\n",
            "Epoch 5/15\n",
            "422/422 [==============================] - 2s 5ms/step - loss: 0.0445 - accuracy: 0.9858 - val_loss: 0.0304 - val_accuracy: 0.9918\n",
            "Epoch 6/15\n",
            "422/422 [==============================] - 2s 5ms/step - loss: 0.0375 - accuracy: 0.9880 - val_loss: 0.0308 - val_accuracy: 0.9915\n",
            "Epoch 7/15\n",
            "422/422 [==============================] - 2s 5ms/step - loss: 0.0325 - accuracy: 0.9893 - val_loss: 0.0304 - val_accuracy: 0.9920\n",
            "Epoch 8/15\n",
            "422/422 [==============================] - 2s 6ms/step - loss: 0.0303 - accuracy: 0.9899 - val_loss: 0.0282 - val_accuracy: 0.9925\n",
            "Epoch 9/15\n",
            "422/422 [==============================] - 2s 5ms/step - loss: 0.0287 - accuracy: 0.9908 - val_loss: 0.0278 - val_accuracy: 0.9923\n",
            "Epoch 10/15\n",
            "422/422 [==============================] - 2s 5ms/step - loss: 0.0260 - accuracy: 0.9916 - val_loss: 0.0287 - val_accuracy: 0.9927\n",
            "Epoch 11/15\n",
            "422/422 [==============================] - 2s 5ms/step - loss: 0.0244 - accuracy: 0.9920 - val_loss: 0.0266 - val_accuracy: 0.9930\n",
            "Epoch 12/15\n",
            "422/422 [==============================] - 2s 5ms/step - loss: 0.0201 - accuracy: 0.9935 - val_loss: 0.0260 - val_accuracy: 0.9938\n",
            "Epoch 13/15\n",
            "422/422 [==============================] - 2s 5ms/step - loss: 0.0203 - accuracy: 0.9930 - val_loss: 0.0250 - val_accuracy: 0.9943\n",
            "Epoch 14/15\n",
            "422/422 [==============================] - 2s 5ms/step - loss: 0.0186 - accuracy: 0.9940 - val_loss: 0.0262 - val_accuracy: 0.9945\n",
            "Epoch 15/15\n",
            "422/422 [==============================] - 2s 5ms/step - loss: 0.0166 - accuracy: 0.9943 - val_loss: 0.0256 - val_accuracy: 0.9945\n",
            "Training took: 41.86 seconds\n",
            "Model: \"sequential\"\n",
            "_________________________________________________________________\n",
            "Layer (type)                 Output Shape              Param #   \n",
            "=================================================================\n",
            "conv2d (Conv2D)              (None, 26, 26, 32)        320       \n",
            "_________________________________________________________________\n",
            "max_pooling2d (MaxPooling2D) (None, 13, 13, 32)        0         \n",
            "_________________________________________________________________\n",
            "conv2d_1 (Conv2D)            (None, 11, 11, 64)        18496     \n",
            "_________________________________________________________________\n",
            "max_pooling2d_1 (MaxPooling2 (None, 5, 5, 64)          0         \n",
            "_________________________________________________________________\n",
            "dropout (Dropout)            (None, 5, 5, 64)          0         \n",
            "_________________________________________________________________\n",
            "conv2d_2 (Conv2D)            (None, 3, 3, 128)         73856     \n",
            "_________________________________________________________________\n",
            "flatten (Flatten)            (None, 1152)              0         \n",
            "_________________________________________________________________\n",
            "dense (Dense)                (None, 10)                11530     \n",
            "=================================================================\n",
            "Total params: 104,202\n",
            "Trainable params: 104,202\n",
            "Non-trainable params: 0\n",
            "_________________________________________________________________\n"
          ],
          "name": "stdout"
        },
        {
          "output_type": "stream",
          "text": [
            "/usr/local/lib/python3.7/dist-packages/ipykernel_launcher.py:6: DeprecationWarning: time.clock has been deprecated in Python 3.3 and will be removed from Python 3.8: use time.perf_counter or time.process_time instead\n",
            "  \n"
          ],
          "name": "stderr"
        },
        {
          "output_type": "display_data",
          "data": {
            "image/png": "[encoded data removed]",
            "text/plain": [
              "<Figure size 432x288 with 1 Axes>"
            ]
          },
          "metadata": {
            "tags": []
          }
        }
      ]
    },
    {
      "cell_type": "code",
      "metadata": {
        "colab": {
          "base_uri": "https://localhost:8080/",
          "height": 268
        },
        "id": "--_Cb0cwMTsl",
        "outputId": "eb15a60c-534f-459d-c0f4-70afdbcb651a"
      },
      "source": [
        "image, label, prediction, _ = get_prediction(model_mnist, mnist_test)\n",
        "show_prediction(image, label, prediction)"
      ],
      "execution_count": 18,
      "outputs": [
        {
          "output_type": "display_data",
          "data": {
            "image/png": "[encoded data removed]",
            "text/plain": [
              "<Figure size 432x288 with 1 Axes>"
            ]
          },
          "metadata": {
            "tags": []
          }
        }
      ]
    },
    {
      "cell_type": "markdown",
      "metadata": {
        "id": "ZAVIlq5GvHoU"
      },
      "source": [
        "#GEO"
      ]
    },
    {
      "cell_type": "code",
      "metadata": {
        "id": "fknmrIpWvKQJ"
      },
      "source": [
        "geo_dataset_proto = (\"proto\", \"https://geo-cam.s3-eu-west-1.amazonaws.com/geocam.npz\", [\"vertical\", \"diagonal\", \"ellipse\"])\n",
        "geo_dataset_simple = (\"simple\", \"https://geo-cam.s3-eu-west-1.amazonaws.com/simpledataset_dataset.npz\", [\"vertical\", \"horizontal\", \"diagonal\", \"ellipse\", \"greather_than\", \"lower_than\"])\n",
        "geo_dataset_round = (\"round\", \"https://geo-cam.s3-eu-west-1.amazonaws.com/rounddataset_dataset.npz\", [\"vertical\", \"horizontal\", \"diagonal\", \"ellipse\", \"greather_than\", \"lower_than\"])\n",
        "geo_dataset_threesixty = (\"threesixty\", \"https://geo-cam.s3-eu-west-1.amazonaws.com/threesixtydataset_dataset.npz\", [\"10\", \"20\", \"30\", \"40\", \"50\", \"60\", \"70\", \"80\", \"90\", \"100\", \"110\", \"120\", \"130\", \"140\", \"150\", \"160\", \"170\", \"180\"])\n",
        "\n",
        "def get_geo_dataset(name, filepath):\n",
        "  path = tf.keras.utils.get_file(name, filepath)\n",
        "  with np.load(path, allow_pickle=True) as f:\n",
        "    x_train, y_train = f['x_train'], f['y_train']\n",
        "    x_test, y_test = f['x_test'], f['y_test']\n",
        "\n",
        "    return (x_train, y_train), (x_test, y_test)"
      ],
      "execution_count": 19,
      "outputs": []
    },
    {
      "cell_type": "code",
      "metadata": {
        "id": "IAZ-zvCO7eQO"
      },
      "source": [
        "def create_geo_model(name, input_shape, num_classes):\n",
        "  model = keras.Sequential(\n",
        "      [\n",
        "          keras.Input(shape=input_shape),\n",
        "      \n",
        "          layers.Conv2D(filters=32, kernel_size=(3, 3), padding=\"same\", activation=\"relu\"),\n",
        "          # layers.MaxPooling2D(pool_size=(2, 2), strides=(2,2)),\n",
        "          layers.Dropout(0.4),\n",
        "          layers.Conv2D(filters=64, kernel_size=(3, 3), padding=\"same\", activation=\"relu\"),\n",
        "          # layers.MaxPooling2D(pool_size=(2, 2), strides=(2,2)),\n",
        "          \n",
        "          layers.Conv2D(filters=128, kernel_size=(3, 3), padding=\"same\", activation=\"relu\"),\n",
        "          # layers.GlobalAveragePooling2D(),\n",
        "          layers.Flatten(),\n",
        "          layers.Dense(num_classes, activation=\"softmax\"),\n",
        "      ]\n",
        "  )\n",
        "\n",
        "  opt = keras.optimizers.Adam(learning_rate=0.001)\n",
        "  model.compile(loss=\"categorical_crossentropy\", optimizer=opt, metrics=[\"accuracy\"])\n",
        "\n",
        "  return model"
      ],
      "execution_count": 20,
      "outputs": []
    },
    {
      "cell_type": "code",
      "metadata": {
        "colab": {
          "base_uri": "https://localhost:8080/",
          "height": 1000
        },
        "id": "fi-GBD6n70bH",
        "outputId": "89614638-ad16-4471-f0fa-35f63f5c0e75"
      },
      "source": [
        "dataset = geo_dataset_simple\n",
        "geo_train, geo_test = get_geo_dataset(dataset[0], dataset[1])\n",
        "geo_train, geo_test = format_dataset(len(dataset[2]), geo_train, geo_test)\n",
        "model_geo = create_geo_model(\"geocam\", (28, 28, 1), len(dataset[2]))\n",
        "# model_geo, history_geo = load_model(\"geo\")\n",
        "\n",
        "start_time = time.clock()\n",
        "history_geo = model_geo.fit(geo_train[0], geo_train[1], batch_size=128, epochs=15, validation_split=0.25)\n",
        "print(\"Training took: %.2f seconds\" % (time.clock() - start_time))\n",
        "# save_model(model_geo, history_geo, \"geo\")\n",
        "\n",
        "model_geo.summary()\n",
        "score_geo = model_geo.evaluate(geo_test[0], geo_test[1], verbose=0)\n",
        "\n",
        "plot_model_score(score_geo, history_geo.history)"
      ],
      "execution_count": 21,
      "outputs": [
        {
          "output_type": "stream",
          "text": [
            "Downloading data from https://geo-cam.s3-eu-west-1.amazonaws.com/simpledataset_dataset.npz\n",
            "18841600/18841002 [==============================] - 2s 0us/step\n",
            "(28, 28)\n",
            "1\n",
            "x_train shape: (4200, 28, 28, 1)\n",
            "4200 train samples\n",
            "1800 test samples\n",
            "Epoch 1/15\n"
          ],
          "name": "stdout"
        },
        {
          "output_type": "stream",
          "text": [
            "/usr/local/lib/python3.7/dist-packages/ipykernel_launcher.py:7: DeprecationWarning: time.clock has been deprecated in Python 3.3 and will be removed from Python 3.8: use time.perf_counter or time.process_time instead\n",
            "  import sys\n"
          ],
          "name": "stderr"
        },
        {
          "output_type": "stream",
          "text": [
            "25/25 [==============================] - 2s 39ms/step - loss: 1.4862 - accuracy: 0.4327 - val_loss: 0.9360 - val_accuracy: 0.7029\n",
            "Epoch 2/15\n",
            "25/25 [==============================] - 1s 22ms/step - loss: 0.7399 - accuracy: 0.7571 - val_loss: 0.3877 - val_accuracy: 0.8733\n",
            "Epoch 3/15\n",
            "25/25 [==============================] - 1s 21ms/step - loss: 0.3299 - accuracy: 0.8804 - val_loss: 0.2573 - val_accuracy: 0.9029\n",
            "Epoch 4/15\n",
            "25/25 [==============================] - 1s 22ms/step - loss: 0.1692 - accuracy: 0.9420 - val_loss: 0.2378 - val_accuracy: 0.9200\n",
            "Epoch 5/15\n",
            "25/25 [==============================] - 1s 22ms/step - loss: 0.1252 - accuracy: 0.9531 - val_loss: 0.1995 - val_accuracy: 0.9305\n",
            "Epoch 6/15\n",
            "25/25 [==============================] - 1s 22ms/step - loss: 0.0791 - accuracy: 0.9726 - val_loss: 0.2276 - val_accuracy: 0.9333\n",
            "Epoch 7/15\n",
            "25/25 [==============================] - 1s 22ms/step - loss: 0.0717 - accuracy: 0.9742 - val_loss: 0.1980 - val_accuracy: 0.9390\n",
            "Epoch 8/15\n",
            "25/25 [==============================] - 1s 22ms/step - loss: 0.0607 - accuracy: 0.9784 - val_loss: 0.2000 - val_accuracy: 0.9371\n",
            "Epoch 9/15\n",
            "25/25 [==============================] - 1s 22ms/step - loss: 0.0310 - accuracy: 0.9904 - val_loss: 0.2211 - val_accuracy: 0.9419\n",
            "Epoch 10/15\n",
            "25/25 [==============================] - 1s 22ms/step - loss: 0.0269 - accuracy: 0.9935 - val_loss: 0.1996 - val_accuracy: 0.9390\n",
            "Epoch 11/15\n",
            "25/25 [==============================] - 1s 21ms/step - loss: 0.0203 - accuracy: 0.9946 - val_loss: 0.2572 - val_accuracy: 0.9333\n",
            "Epoch 12/15\n",
            "25/25 [==============================] - 1s 22ms/step - loss: 0.0321 - accuracy: 0.9887 - val_loss: 0.2180 - val_accuracy: 0.9448\n",
            "Epoch 13/15\n",
            "25/25 [==============================] - 1s 22ms/step - loss: 0.0219 - accuracy: 0.9948 - val_loss: 0.2150 - val_accuracy: 0.9352\n",
            "Epoch 14/15\n",
            "25/25 [==============================] - 1s 21ms/step - loss: 0.0161 - accuracy: 0.9953 - val_loss: 0.2637 - val_accuracy: 0.9419\n",
            "Epoch 15/15\n",
            "25/25 [==============================] - 1s 22ms/step - loss: 0.0128 - accuracy: 0.9970 - val_loss: 0.2812 - val_accuracy: 0.9438\n",
            "Training took: 7.99 seconds\n",
            "Model: \"sequential_1\"\n",
            "_________________________________________________________________\n",
            "Layer (type)                 Output Shape              Param #   \n",
            "=================================================================\n",
            "conv2d_3 (Conv2D)            (None, 28, 28, 32)        320       \n",
            "_________________________________________________________________\n",
            "dropout_1 (Dropout)          (None, 28, 28, 32)        0         \n",
            "_________________________________________________________________\n",
            "conv2d_4 (Conv2D)            (None, 28, 28, 64)        18496     \n",
            "_________________________________________________________________\n",
            "conv2d_5 (Conv2D)            (None, 28, 28, 128)       73856     \n",
            "_________________________________________________________________\n",
            "flatten_1 (Flatten)          (None, 100352)            0         \n",
            "_________________________________________________________________\n",
            "dense_1 (Dense)              (None, 6)                 602118    \n",
            "=================================================================\n",
            "Total params: 694,790\n",
            "Trainable params: 694,790\n",
            "Non-trainable params: 0\n",
            "_________________________________________________________________\n"
          ],
          "name": "stdout"
        },
        {
          "output_type": "stream",
          "text": [
            "/usr/local/lib/python3.7/dist-packages/ipykernel_launcher.py:9: DeprecationWarning: time.clock has been deprecated in Python 3.3 and will be removed from Python 3.8: use time.perf_counter or time.process_time instead\n",
            "  if __name__ == '__main__':\n"
          ],
          "name": "stderr"
        },
        {
          "output_type": "display_data",
          "data": {
            "image/png": "[encoded data removed]",
            "text/plain": [
              "<Figure size 432x288 with 1 Axes>"
            ]
          },
          "metadata": {
            "tags": []
          }
        }
      ]
    },
    {
      "cell_type": "code",
      "metadata": {
        "colab": {
          "base_uri": "https://localhost:8080/",
          "height": 268
        },
        "id": "Io6EtCTU-Gwn",
        "outputId": "11bc32bf-8724-4392-abb5-c0ba7f03a6ba"
      },
      "source": [
        "image, truth, prediction, _ = get_prediction(model_geo, geo_test)\n",
        "show_prediction(image, truth, prediction, dataset[2])"
      ],
      "execution_count": 22,
      "outputs": [
        {
          "output_type": "display_data",
          "data": {
            "image/png": "[encoded data removed]",
            "text/plain": [
              "<Figure size 432x288 with 1 Axes>"
            ]
          },
          "metadata": {
            "tags": []
          }
        }
      ]
    },
    {
      "cell_type": "markdown",
      "metadata": {
        "id": "2qfZh1ixKzXR"
      },
      "source": [
        "# Transfer-learning\n"
      ]
    },
    {
      "cell_type": "code",
      "metadata": {
        "colab": {
          "base_uri": "https://localhost:8080/",
          "height": 1000
        },
        "id": "IPmhUSmV4Gox",
        "outputId": "766129e0-fbb9-4683-b625-27f6442d5063"
      },
      "source": [
        "geo_model_copy = copy_model(model_geo, False)\n",
        "\n",
        "input = geo_model_copy.input\n",
        "last = None\n",
        "\n",
        "for layer in geo_model_copy.layers:\n",
        "  layer.trainable = False\n",
        "  last = layer(input) if last is None else layer(last)\n",
        "  \n",
        "merged_input = layers.Add()([last, input])\n",
        "last = layers.Dense(784, activation='relu')(merged_input)\n",
        "last = layers.Reshape((28,28,784))(last)\n",
        "last = layers.Conv2D(filters=32, kernel_size=(3, 3), padding=\"same\", activation=\"relu\")(last)\n",
        "last = layers.MaxPooling2D(pool_size=(2, 2), strides=(2,2))(last)\n",
        "last = layers.Dropout(0.4)(last)\n",
        "last = layers.Conv2D(filters=64, kernel_size=(3, 3), padding=\"same\", activation=\"relu\")(last)\n",
        "last = layers.MaxPooling2D(pool_size=(2, 2), strides=(2,2))(last)\n",
        "last = layers.Dropout(0.4)(last)\n",
        "last = layers.Conv2D(filters=128, kernel_size=(3, 3), padding=\"same\", activation=\"relu\")(last)\n",
        "last = layers.Flatten()(last)\n",
        "last = layers.Dense(mnist_num_classes, activation=\"softmax\")(last)\n",
        "\n",
        "model_gcm = Model(inputs=input, outputs=last)\n",
        "\n",
        "opt = keras.optimizers.Adam(learning_rate=0.004)\n",
        "model_gcm.compile(loss=\"categorical_crossentropy\", optimizer=opt, metrics=[\"accuracy\"])\n",
        "\n",
        "start_time = time.clock()\n",
        "history_geocam = model_gcm.fit(mnist_train[0], mnist_train[1], batch_size=128, epochs=5, validation_split=0.2)\n",
        "print(\"Training took: %.2f seconds\" % (time.clock() - start_time))\n",
        "\n",
        "score_gcm = model_gcm.evaluate(mnist_test[0], mnist_test[1], verbose=0)\n",
        "model_gcm.summary()\n",
        "plot_model_score(score_gcm, history_geocam.history)"
      ],
      "execution_count": 49,
      "outputs": [
        {
          "output_type": "stream",
          "text": [
            "conv2d_3\n",
            "dropout_1\n",
            "conv2d_4\n",
            "conv2d_5\n",
            "flatten_1\n",
            "dense_1\n",
            "Epoch 1/5\n"
          ],
          "name": "stdout"
        },
        {
          "output_type": "stream",
          "text": [
            "/usr/local/lib/python3.7/dist-packages/ipykernel_launcher.py:27: DeprecationWarning: time.clock has been deprecated in Python 3.3 and will be removed from Python 3.8: use time.perf_counter or time.process_time instead\n"
          ],
          "name": "stderr"
        },
        {
          "output_type": "stream",
          "text": [
            "375/375 [==============================] - 26s 68ms/step - loss: 1.6327 - accuracy: 0.4025 - val_loss: 0.2354 - val_accuracy: 0.9431\n",
            "Epoch 2/5\n",
            "375/375 [==============================] - 25s 66ms/step - loss: 0.2690 - accuracy: 0.9144 - val_loss: 0.1681 - val_accuracy: 0.9545\n",
            "Epoch 3/5\n",
            "375/375 [==============================] - 25s 66ms/step - loss: 0.2083 - accuracy: 0.9325 - val_loss: 0.1249 - val_accuracy: 0.9658\n",
            "Epoch 4/5\n",
            "375/375 [==============================] - 25s 66ms/step - loss: 0.1877 - accuracy: 0.9401 - val_loss: 0.1065 - val_accuracy: 0.9665\n",
            "Epoch 5/5\n",
            "375/375 [==============================] - 25s 66ms/step - loss: 0.1697 - accuracy: 0.9462 - val_loss: 0.1058 - val_accuracy: 0.9708\n",
            "Training took: 116.23 seconds\n"
          ],
          "name": "stdout"
        },
        {
          "output_type": "stream",
          "text": [
            "/usr/local/lib/python3.7/dist-packages/ipykernel_launcher.py:29: DeprecationWarning: time.clock has been deprecated in Python 3.3 and will be removed from Python 3.8: use time.perf_counter or time.process_time instead\n"
          ],
          "name": "stderr"
        },
        {
          "output_type": "stream",
          "text": [
            "Model: \"model_2\"\n",
            "__________________________________________________________________________________________________\n",
            "Layer (type)                    Output Shape         Param #     Connected to                     \n",
            "==================================================================================================\n",
            "input_2 (InputLayer)            [(None, 28, 28, 1)]  0                                            \n",
            "__________________________________________________________________________________________________\n",
            "conv2d_3 (Conv2D)               (None, 28, 28, 32)   320         input_2[0][0]                    \n",
            "__________________________________________________________________________________________________\n",
            "dropout_1 (Dropout)             (None, 28, 28, 32)   0           conv2d_3[1][0]                   \n",
            "__________________________________________________________________________________________________\n",
            "conv2d_4 (Conv2D)               (None, 28, 28, 64)   18496       dropout_1[1][0]                  \n",
            "__________________________________________________________________________________________________\n",
            "conv2d_5 (Conv2D)               (None, 28, 28, 128)  73856       conv2d_4[1][0]                   \n",
            "__________________________________________________________________________________________________\n",
            "flatten_1 (Flatten)             (None, 100352)       0           conv2d_5[1][0]                   \n",
            "__________________________________________________________________________________________________\n",
            "dense_1 (Dense)                 (None, 6)            602118      flatten_1[1][0]                  \n",
            "__________________________________________________________________________________________________\n",
            "add_3 (Add)                     (None, 28, 28, 6)    0           dense_1[1][0]                    \n",
            "                                                                 input_2[0][0]                    \n",
            "__________________________________________________________________________________________________\n",
            "dense_39 (Dense)                (None, 28, 28, 784)  5488        add_3[0][0]                      \n",
            "__________________________________________________________________________________________________\n",
            "reshape_11 (Reshape)            (None, 28, 28, 784)  0           dense_39[0][0]                   \n",
            "__________________________________________________________________________________________________\n",
            "conv2d_40 (Conv2D)              (None, 28, 28, 32)   225824      reshape_11[0][0]                 \n",
            "__________________________________________________________________________________________________\n",
            "max_pooling2d_16 (MaxPooling2D) (None, 14, 14, 32)   0           conv2d_40[0][0]                  \n",
            "__________________________________________________________________________________________________\n",
            "dropout_16 (Dropout)            (None, 14, 14, 32)   0           max_pooling2d_16[0][0]           \n",
            "__________________________________________________________________________________________________\n",
            "conv2d_41 (Conv2D)              (None, 14, 14, 64)   18496       dropout_16[0][0]                 \n",
            "__________________________________________________________________________________________________\n",
            "max_pooling2d_17 (MaxPooling2D) (None, 7, 7, 64)     0           conv2d_41[0][0]                  \n",
            "__________________________________________________________________________________________________\n",
            "dropout_17 (Dropout)            (None, 7, 7, 64)     0           max_pooling2d_17[0][0]           \n",
            "__________________________________________________________________________________________________\n",
            "conv2d_42 (Conv2D)              (None, 7, 7, 128)    73856       dropout_17[0][0]                 \n",
            "__________________________________________________________________________________________________\n",
            "flatten_24 (Flatten)            (None, 6272)         0           conv2d_42[0][0]                  \n",
            "__________________________________________________________________________________________________\n",
            "dense_40 (Dense)                (None, 10)           62730       flatten_24[0][0]                 \n",
            "==================================================================================================\n",
            "Total params: 1,081,184\n",
            "Trainable params: 386,394\n",
            "Non-trainable params: 694,790\n",
            "__________________________________________________________________________________________________\n"
          ],
          "name": "stdout"
        },
        {
          "output_type": "display_data",
          "data": {
            "image/png": "[encoded data removed]",
            "text/plain": [
              "<Figure size 432x288 with 1 Axes>"
            ]
          },
          "metadata": {
            "tags": []
          }
        }
      ]
    },
    {
      "cell_type": "code",
      "metadata": {
        "colab": {
          "base_uri": "https://localhost:8080/",
          "height": 268
        },
        "id": "Jy79YFHxXRNN",
        "outputId": "ffe828b0-6f7b-4a96-df3c-4ef7107216c6"
      },
      "source": [
        "image, label, prediction, _ = get_prediction(model_gcm, mnist_test)\n",
        "show_prediction(image, label, prediction)"
      ],
      "execution_count": 59,
      "outputs": [
        {
          "output_type": "display_data",
          "data": {
            "image/png": "[encoded data removed]",
            "text/plain": [
              "<Figure size 432x288 with 1 Axes>"
            ]
          },
          "metadata": {
            "tags": []
          }
        }
      ]
    },
    {
      "cell_type": "markdown",
      "metadata": {
        "id": "DCz5iiaJH5r2"
      },
      "source": [
        "# CAMs"
      ]
    },
    {
      "cell_type": "code",
      "metadata": {
        "id": "y_iMKQkCUdG-"
      },
      "source": [
        "def cam(model, conv_outputs, prediction_idx):\n",
        "  cam_layers = get_cam_layers(model)\n",
        "  class_weights = cam_layers[1][-1].get_weights()[0]\n",
        "  conv_outputs = conv_outputs[0, :, :, :]\n",
        "  cam = np.zeros(dtype=np.float32, shape=conv_outputs.shape[0:2])\n",
        "  for index, weight in enumerate(class_weights[:, prediction_idx]):\n",
        "    cam += weight * conv_outputs[:, :, index]\n",
        "\n",
        "  return cam"
      ],
      "execution_count": null,
      "outputs": []
    },
    {
      "cell_type": "code",
      "metadata": {
        "id": "sSFN06vaJwKH"
      },
      "source": [
        "def grad_cam_m(image, cam_model, prediction_idx=-1):\n",
        "  with tf.GradientTape() as tape:\n",
        "    conv_output, predictions = cam_model(np.expand_dims(image, 0))\n",
        "    prediction_idx = np.argmax(predictions) if prediction_idx < 0 else prediction_idx\n",
        "    output = predictions[:, prediction_idx]\n",
        "\n",
        "  grads = tape.gradient(output, conv_output)\n",
        "  pooled_grads = tf.reduce_mean(grads, axis=(0, 1, 2))\n",
        "\n",
        "  conv_output = conv_output.numpy()[0]\n",
        "  pooled_grads = pooled_grads.numpy()\n",
        "\n",
        "  for i in range(pooled_grads.shape[-1]):\n",
        "    conv_output[:, :, i] *= pooled_grads[i]\n",
        "\n",
        "  cam = np.mean(conv_output, axis=-1)\n",
        "\n",
        "  return cam\n",
        "\n",
        "def grad_cam(image, model, con_layer_idx=-1, prediction_idx=-1):\n",
        "  cam_layers = get_cam_layers(model)\n",
        "  conv_layer = cam_layers[0][con_layer_idx]\n",
        "  cam_model = Model([model.inputs], [conv_layer.get_output_at(0), model.output])\n",
        "\n",
        "  return grad_cam_m(image, cam_model, prediction_idx)"
      ],
      "execution_count": 80,
      "outputs": []
    },
    {
      "cell_type": "code",
      "metadata": {
        "id": "3IKNZaIoWJWg"
      },
      "source": [
        "def grad_cam_pp_m(image, cam_model, prediction_idx=-1):\n",
        "  with tf.GradientTape() as tape1:\n",
        "      with tf.GradientTape() as tape2:\n",
        "          with tf.GradientTape() as tape3:\n",
        "              conv_output, predictions = cam_model(np.expand_dims(image, 0))\n",
        "              prediction_idx = np.argmax(predictions) if prediction_idx < 0 else prediction_idx\n",
        "              output = predictions[:, prediction_idx]\n",
        "              conv_first_grad = tape3.gradient(output, conv_output)\n",
        "          conv_second_grad = tape2.gradient(conv_first_grad, conv_output)\n",
        "      conv_third_grad = tape1.gradient(conv_second_grad, conv_output)\n",
        "\n",
        "  global_sum = np.sum(conv_output, axis=(0, 1, 2))\n",
        "\n",
        "  alpha_num = conv_second_grad[0]\n",
        "  alpha_denom = conv_second_grad[0]*2.0 + conv_third_grad[0]*global_sum\n",
        "  alpha_denom = np.where(alpha_denom != 0.0, alpha_denom, 1e-10)\n",
        "\n",
        "  alphas = alpha_num/alpha_denom\n",
        "  alpha_normalization_constant = np.sum(alphas, axis=(0,1))\n",
        "  alphas /= alpha_normalization_constant\n",
        "\n",
        "  weights = np.maximum(conv_first_grad[0], 0.0)\n",
        "\n",
        "  deep_linearization_weights = np.sum(weights*alphas, axis=(0,1))\n",
        "  cam = np.sum(deep_linearization_weights*conv_output[0], axis=2)\n",
        "\n",
        "  return cam, conv_output, prediction_idx, (conv_first_grad, conv_second_grad, conv_third_grad)\n",
        "\n",
        "def grad_cam_pp(image, model, con_layer_idx=-1, prediction_idx=-1):\n",
        "  cam_layers = get_cam_layers(model)\n",
        "  conv_layer = cam_layers[0][con_layer_idx]\n",
        "  cam_model = Model([model.inputs], [conv_layer.get_output_at(0), model.output])\n",
        "\n",
        "  return grad_cam_pp_m(image, cam_model, prediction_idx)"
      ],
      "execution_count": 77,
      "outputs": []
    },
    {
      "cell_type": "markdown",
      "metadata": {
        "id": "p3GGM8ykJbxL"
      },
      "source": [
        "# Experiments"
      ]
    },
    {
      "cell_type": "code",
      "metadata": {
        "colab": {
          "base_uri": "https://localhost:8080/",
          "height": 409
        },
        "id": "TJmpP2R3apuX",
        "outputId": "45f7ec24-7bc9-43d5-e493-a003e7054b96"
      },
      "source": [
        "# 3) prediction based on conv output\n",
        "test_image, test_label, test_idx = get_sample(mnist_test)\n",
        "\n",
        "cam_layer = get_cam_layer(model_gcm, \"conv2d_5\")\n",
        "\n",
        "cam_model = Model([model_gcm.inputs], [cam_layer.get_output_at(1), model_gcm.output])\n",
        "geo2_model = Model([layers.Input((28, 28, 128))], [cam_layer.get_output_at(1), model_geo.output])\n",
        "\n",
        "\n",
        "cam, cam_conv_output, cam_prediction, _ = grad_cam_pp_m(test_image, cam_model)\n",
        "geo2_prediction = np.argmax(model_geo_2.predict(cam_conv_output))\n",
        "\n",
        "assert test_label == geo2_prediction, \"Missmatched ids. Wanted %d, received %d\" % (test_label, geo2_prediction)\n",
        "\n",
        "# Prediction\n",
        "labels = dataset[2]\n",
        "gcg_predictions = model_geo_2.predict(gcm_conv_output)\n",
        "sorted_indexes = np.flip(np.argsort(gcg_predictions[0]))\n",
        "percentages = gcg_predictions[0] / gcg_predictions[0][sorted_indexes[0]]\n",
        "\n",
        "print(f\"1st : {labels[sorted_indexes[0]]} ({percentages[sorted_indexes[0]] * 100:.2f}%)\")\n",
        "print(f\"2nd : {labels[sorted_indexes[1]]} ({percentages[sorted_indexes[1]] * 100:.2f}%)\")\n",
        "print(f\"3rd : {labels[sorted_indexes[2]]} ({percentages[sorted_indexes[2]] * 100:.2f}%)\")\n",
        "\n",
        "# Debug (CAM projection)\n",
        "gcg_mnist_cam = cam_1(model_geo, gcm_conv_output, sorted_indexes[0])\n",
        "show_heatmap(test_image, gcg_mnist_cam, (28, 28, 1), True)"
      ],
      "execution_count": 95,
      "outputs": [
        {
          "output_type": "error",
          "ename": "ValueError",
          "evalue": "ignored",
          "traceback": [
            "\u001b[0;31m---------------------------------------------------------------------------\u001b[0m",
            "\u001b[0;31mValueError\u001b[0m                                Traceback (most recent call last)",
            "\u001b[0;32m<ipython-input-95-a2b46a066dab>\u001b[0m in \u001b[0;36m<module>\u001b[0;34m()\u001b[0m\n\u001b[1;32m      5\u001b[0m \u001b[0;34m\u001b[0m\u001b[0m\n\u001b[1;32m      6\u001b[0m \u001b[0mcam_model\u001b[0m \u001b[0;34m=\u001b[0m \u001b[0mModel\u001b[0m\u001b[0;34m(\u001b[0m\u001b[0;34m[\u001b[0m\u001b[0mmodel_gcm\u001b[0m\u001b[0;34m.\u001b[0m\u001b[0minputs\u001b[0m\u001b[0;34m]\u001b[0m\u001b[0;34m,\u001b[0m \u001b[0;34m[\u001b[0m\u001b[0mcam_layer\u001b[0m\u001b[0;34m.\u001b[0m\u001b[0mget_output_at\u001b[0m\u001b[0;34m(\u001b[0m\u001b[0;36m1\u001b[0m\u001b[0;34m)\u001b[0m\u001b[0;34m,\u001b[0m \u001b[0mmodel_gcm\u001b[0m\u001b[0;34m.\u001b[0m\u001b[0moutput\u001b[0m\u001b[0;34m]\u001b[0m\u001b[0;34m)\u001b[0m\u001b[0;34m\u001b[0m\u001b[0;34m\u001b[0m\u001b[0m\n\u001b[0;32m----> 7\u001b[0;31m \u001b[0mgeo2_model\u001b[0m \u001b[0;34m=\u001b[0m \u001b[0mModel\u001b[0m\u001b[0;34m(\u001b[0m\u001b[0;34m[\u001b[0m\u001b[0mlayers\u001b[0m\u001b[0;34m.\u001b[0m\u001b[0mInput\u001b[0m\u001b[0;34m(\u001b[0m\u001b[0;34m(\u001b[0m\u001b[0;36m28\u001b[0m\u001b[0;34m,\u001b[0m \u001b[0;36m28\u001b[0m\u001b[0;34m,\u001b[0m \u001b[0;36m128\u001b[0m\u001b[0;34m)\u001b[0m\u001b[0;34m)\u001b[0m\u001b[0;34m]\u001b[0m\u001b[0;34m,\u001b[0m \u001b[0;34m[\u001b[0m\u001b[0mcam_layer\u001b[0m\u001b[0;34m.\u001b[0m\u001b[0mget_output_at\u001b[0m\u001b[0;34m(\u001b[0m\u001b[0;36m1\u001b[0m\u001b[0;34m)\u001b[0m\u001b[0;34m,\u001b[0m \u001b[0mmodel_geo\u001b[0m\u001b[0;34m.\u001b[0m\u001b[0moutput\u001b[0m\u001b[0;34m]\u001b[0m\u001b[0;34m)\u001b[0m\u001b[0;34m\u001b[0m\u001b[0;34m\u001b[0m\u001b[0m\n\u001b[0m\u001b[1;32m      8\u001b[0m \u001b[0;34m\u001b[0m\u001b[0m\n\u001b[1;32m      9\u001b[0m \u001b[0;34m\u001b[0m\u001b[0m\n",
            "\u001b[0;32m/usr/local/lib/python3.7/dist-packages/tensorflow/python/training/tracking/base.py\u001b[0m in \u001b[0;36m_method_wrapper\u001b[0;34m(self, *args, **kwargs)\u001b[0m\n\u001b[1;32m    515\u001b[0m     \u001b[0mself\u001b[0m\u001b[0;34m.\u001b[0m\u001b[0m_self_setattr_tracking\u001b[0m \u001b[0;34m=\u001b[0m \u001b[0;32mFalse\u001b[0m  \u001b[0;31m# pylint: disable=protected-access\u001b[0m\u001b[0;34m\u001b[0m\u001b[0;34m\u001b[0m\u001b[0m\n\u001b[1;32m    516\u001b[0m     \u001b[0;32mtry\u001b[0m\u001b[0;34m:\u001b[0m\u001b[0;34m\u001b[0m\u001b[0;34m\u001b[0m\u001b[0m\n\u001b[0;32m--> 517\u001b[0;31m       \u001b[0mresult\u001b[0m \u001b[0;34m=\u001b[0m \u001b[0mmethod\u001b[0m\u001b[0;34m(\u001b[0m\u001b[0mself\u001b[0m\u001b[0;34m,\u001b[0m \u001b[0;34m*\u001b[0m\u001b[0margs\u001b[0m\u001b[0;34m,\u001b[0m \u001b[0;34m**\u001b[0m\u001b[0mkwargs\u001b[0m\u001b[0;34m)\u001b[0m\u001b[0;34m\u001b[0m\u001b[0;34m\u001b[0m\u001b[0m\n\u001b[0m\u001b[1;32m    518\u001b[0m     \u001b[0;32mfinally\u001b[0m\u001b[0;34m:\u001b[0m\u001b[0;34m\u001b[0m\u001b[0;34m\u001b[0m\u001b[0m\n\u001b[1;32m    519\u001b[0m       \u001b[0mself\u001b[0m\u001b[0;34m.\u001b[0m\u001b[0m_self_setattr_tracking\u001b[0m \u001b[0;34m=\u001b[0m \u001b[0mprevious_value\u001b[0m  \u001b[0;31m# pylint: disable=protected-access\u001b[0m\u001b[0;34m\u001b[0m\u001b[0;34m\u001b[0m\u001b[0m\n",
            "\u001b[0;32m/usr/local/lib/python3.7/dist-packages/tensorflow/python/keras/engine/functional.py\u001b[0m in \u001b[0;36m__init__\u001b[0;34m(self, inputs, outputs, name, trainable, **kwargs)\u001b[0m\n\u001b[1;32m    118\u001b[0m     \u001b[0mgeneric_utils\u001b[0m\u001b[0;34m.\u001b[0m\u001b[0mvalidate_kwargs\u001b[0m\u001b[0;34m(\u001b[0m\u001b[0mkwargs\u001b[0m\u001b[0;34m,\u001b[0m \u001b[0;34m{\u001b[0m\u001b[0;34m}\u001b[0m\u001b[0;34m)\u001b[0m\u001b[0;34m\u001b[0m\u001b[0;34m\u001b[0m\u001b[0m\n\u001b[1;32m    119\u001b[0m     \u001b[0msuper\u001b[0m\u001b[0;34m(\u001b[0m\u001b[0mFunctional\u001b[0m\u001b[0;34m,\u001b[0m \u001b[0mself\u001b[0m\u001b[0;34m)\u001b[0m\u001b[0;34m.\u001b[0m\u001b[0m__init__\u001b[0m\u001b[0;34m(\u001b[0m\u001b[0mname\u001b[0m\u001b[0;34m=\u001b[0m\u001b[0mname\u001b[0m\u001b[0;34m,\u001b[0m \u001b[0mtrainable\u001b[0m\u001b[0;34m=\u001b[0m\u001b[0mtrainable\u001b[0m\u001b[0;34m)\u001b[0m\u001b[0;34m\u001b[0m\u001b[0;34m\u001b[0m\u001b[0m\n\u001b[0;32m--> 120\u001b[0;31m     \u001b[0mself\u001b[0m\u001b[0;34m.\u001b[0m\u001b[0m_init_graph_network\u001b[0m\u001b[0;34m(\u001b[0m\u001b[0minputs\u001b[0m\u001b[0;34m,\u001b[0m \u001b[0moutputs\u001b[0m\u001b[0;34m)\u001b[0m\u001b[0;34m\u001b[0m\u001b[0;34m\u001b[0m\u001b[0m\n\u001b[0m\u001b[1;32m    121\u001b[0m \u001b[0;34m\u001b[0m\u001b[0m\n\u001b[1;32m    122\u001b[0m   \u001b[0;34m@\u001b[0m\u001b[0mtrackable\u001b[0m\u001b[0;34m.\u001b[0m\u001b[0mno_automatic_dependency_tracking\u001b[0m\u001b[0;34m\u001b[0m\u001b[0;34m\u001b[0m\u001b[0m\n",
            "\u001b[0;32m/usr/local/lib/python3.7/dist-packages/tensorflow/python/training/tracking/base.py\u001b[0m in \u001b[0;36m_method_wrapper\u001b[0;34m(self, *args, **kwargs)\u001b[0m\n\u001b[1;32m    515\u001b[0m     \u001b[0mself\u001b[0m\u001b[0;34m.\u001b[0m\u001b[0m_self_setattr_tracking\u001b[0m \u001b[0;34m=\u001b[0m \u001b[0;32mFalse\u001b[0m  \u001b[0;31m# pylint: disable=protected-access\u001b[0m\u001b[0;34m\u001b[0m\u001b[0;34m\u001b[0m\u001b[0m\n\u001b[1;32m    516\u001b[0m     \u001b[0;32mtry\u001b[0m\u001b[0;34m:\u001b[0m\u001b[0;34m\u001b[0m\u001b[0;34m\u001b[0m\u001b[0m\n\u001b[0;32m--> 517\u001b[0;31m       \u001b[0mresult\u001b[0m \u001b[0;34m=\u001b[0m \u001b[0mmethod\u001b[0m\u001b[0;34m(\u001b[0m\u001b[0mself\u001b[0m\u001b[0;34m,\u001b[0m \u001b[0;34m*\u001b[0m\u001b[0margs\u001b[0m\u001b[0;34m,\u001b[0m \u001b[0;34m**\u001b[0m\u001b[0mkwargs\u001b[0m\u001b[0;34m)\u001b[0m\u001b[0;34m\u001b[0m\u001b[0;34m\u001b[0m\u001b[0m\n\u001b[0m\u001b[1;32m    518\u001b[0m     \u001b[0;32mfinally\u001b[0m\u001b[0;34m:\u001b[0m\u001b[0;34m\u001b[0m\u001b[0;34m\u001b[0m\u001b[0m\n\u001b[1;32m    519\u001b[0m       \u001b[0mself\u001b[0m\u001b[0;34m.\u001b[0m\u001b[0m_self_setattr_tracking\u001b[0m \u001b[0;34m=\u001b[0m \u001b[0mprevious_value\u001b[0m  \u001b[0;31m# pylint: disable=protected-access\u001b[0m\u001b[0;34m\u001b[0m\u001b[0;34m\u001b[0m\u001b[0m\n",
            "\u001b[0;32m/usr/local/lib/python3.7/dist-packages/tensorflow/python/keras/engine/functional.py\u001b[0m in \u001b[0;36m_init_graph_network\u001b[0;34m(self, inputs, outputs)\u001b[0m\n\u001b[1;32m    202\u001b[0m     \u001b[0;31m# Keep track of the network's nodes and layers.\u001b[0m\u001b[0;34m\u001b[0m\u001b[0;34m\u001b[0m\u001b[0;34m\u001b[0m\u001b[0m\n\u001b[1;32m    203\u001b[0m     nodes, nodes_by_depth, layers, _ = _map_graph_network(\n\u001b[0;32m--> 204\u001b[0;31m         self.inputs, self.outputs)\n\u001b[0m\u001b[1;32m    205\u001b[0m     \u001b[0mself\u001b[0m\u001b[0;34m.\u001b[0m\u001b[0m_network_nodes\u001b[0m \u001b[0;34m=\u001b[0m \u001b[0mnodes\u001b[0m\u001b[0;34m\u001b[0m\u001b[0;34m\u001b[0m\u001b[0m\n\u001b[1;32m    206\u001b[0m     \u001b[0mself\u001b[0m\u001b[0;34m.\u001b[0m\u001b[0m_nodes_by_depth\u001b[0m \u001b[0;34m=\u001b[0m \u001b[0mnodes_by_depth\u001b[0m\u001b[0;34m\u001b[0m\u001b[0;34m\u001b[0m\u001b[0m\n",
            "\u001b[0;32m/usr/local/lib/python3.7/dist-packages/tensorflow/python/keras/engine/functional.py\u001b[0m in \u001b[0;36m_map_graph_network\u001b[0;34m(inputs, outputs)\u001b[0m\n\u001b[1;32m    988\u001b[0m                              \u001b[0;34m'The following previous layers '\u001b[0m\u001b[0;34m\u001b[0m\u001b[0;34m\u001b[0m\u001b[0m\n\u001b[1;32m    989\u001b[0m                              \u001b[0;34m'were accessed without issue: '\u001b[0m \u001b[0;34m+\u001b[0m\u001b[0;34m\u001b[0m\u001b[0;34m\u001b[0m\u001b[0m\n\u001b[0;32m--> 990\u001b[0;31m                              str(layers_with_complete_input))\n\u001b[0m\u001b[1;32m    991\u001b[0m         \u001b[0;32mfor\u001b[0m \u001b[0mx\u001b[0m \u001b[0;32min\u001b[0m \u001b[0mnest\u001b[0m\u001b[0;34m.\u001b[0m\u001b[0mflatten\u001b[0m\u001b[0;34m(\u001b[0m\u001b[0mnode\u001b[0m\u001b[0;34m.\u001b[0m\u001b[0moutputs\u001b[0m\u001b[0;34m)\u001b[0m\u001b[0;34m:\u001b[0m\u001b[0;34m\u001b[0m\u001b[0;34m\u001b[0m\u001b[0m\n\u001b[1;32m    992\u001b[0m           \u001b[0mcomputable_tensors\u001b[0m\u001b[0;34m.\u001b[0m\u001b[0madd\u001b[0m\u001b[0;34m(\u001b[0m\u001b[0mid\u001b[0m\u001b[0;34m(\u001b[0m\u001b[0mx\u001b[0m\u001b[0;34m)\u001b[0m\u001b[0;34m)\u001b[0m\u001b[0;34m\u001b[0m\u001b[0;34m\u001b[0m\u001b[0m\n",
            "\u001b[0;31mValueError\u001b[0m: Graph disconnected: cannot obtain value for tensor KerasTensor(type_spec=TensorSpec(shape=(None, 28, 28, 1), dtype=tf.float32, name='input_2'), name='input_2', description=\"created by layer 'input_2'\") at layer \"conv2d_3\". The following previous layers were accessed without issue: []"
          ]
        }
      ]
    },
    {
      "cell_type": "markdown",
      "metadata": {
        "id": "dYdBJYcHpEir"
      },
      "source": [
        "# Metrics"
      ]
    },
    {
      "cell_type": "code",
      "metadata": {
        "id": "0QSGfUG-pCI2"
      },
      "source": [
        "from sklearn.metrics import precision_recall_curve\n",
        "from sklearn.metrics import accuracy_score\n",
        "from sklearn.metrics import precision_score\n",
        "from sklearn.metrics import recall_score\n",
        "from sklearn.metrics import f1_score\n",
        "from tqdm import tqdm \n",
        "\n",
        "digit_decomposition_categories = [\"vertical\", \"horizontal\", \"diagonal\", \"ellipse\", \"greather_than\", \"lower_than\"]\n",
        "digits_descriptions = [\n",
        "  [\"ellipse\"], #0\n",
        "  [\"vertical\", \"diagonal\"], #1\n",
        "  [\"horizontal\", \"diagonal\"], #2\n",
        "  [\"lower_than\", \"horizontal\"], #3\n",
        "  [\"vertical\", \"horizontal\"], #4\n",
        "  [\"greather_than\", \"vertical\", \"horizontal\"], #5\n",
        "  [\"diagonal\", \"ellipse\"], #6\n",
        "  [\"diagonal\", \"horizontal\"], #7\n",
        "  [\"ellipse\"], #8\n",
        "  [\"ellipse\", \"diagonal\"], #9\n",
        "]\n",
        "\n",
        "validation_amount = 100\n",
        "validation_idxs = np.random.choice(validation_amount, len(mnist_test[0]))\n",
        "\n",
        "y_true, y_pred = [], []\n",
        "precision, recall = dict(), dict()\n",
        "with tqdm(total=validation_amount, position=0, leave=True) as pbar:\n",
        "  for i in range(validation_amount):\n",
        "    validation_idx = validation_idxs[i]\n",
        "    \n",
        "    # true\n",
        "    true_mnist_label = np.argmax(mnist_test[1][validation_idx])\n",
        "    true_digit_decomposition_label = digits_descriptions[true_mnist_label][0]\n",
        "    true_digit_decomposition_idx = digit_decomposition_categories.index(true_digit_decomposition_label)\n",
        "    y_true.append(true_digit_decomposition_idx)\n",
        "\n",
        "    # prediction\n",
        "    test_mnist_image = mnist_test[0][validation_idx]\n",
        "    gcm_mnist_cam, gcm_conv_output, _, _ = grad_cam_pp(test_mnist_image, model_gcm, -1)\n",
        "    \n",
        "    # cam map based prediction\n",
        "    # image = get_heatmap(gcm_mnist_cam, (28, 28)).reshape(28, 28, 1) * 255\n",
        "    # prediction = predict(model_geo, image)\n",
        "\n",
        "    # conv output based prediction\n",
        "    prediction = model_geo_2.predict(gcm_conv_output)\n",
        "\n",
        "    score_digit_decomposition_idx = digit_decomposition_categories.index(dataset[2][np.argmax(prediction)])\n",
        "    y_pred.append(score_digit_decomposition_idx)\n",
        "\n",
        "    pbar.update()\n",
        "\n",
        "y_true, y_pred = np.array(y_true), np.array(y_pred)\n",
        "\n",
        "# metrics\n",
        "print(\"\\n\\nMETRICS:\")\n",
        "print(f\"- Accuracy: {accuracy_score(y_true, y_pred):.2f}\")\n",
        "print(f\"- Precision: {precision_score(y_true, y_pred, average='weighted'):.2f}\")\n",
        "print(f\"- Recall: {recall_score(y_true, y_pred, average='weighted'):.2f}\")\n",
        "print(f\"- F1 score: {f1_score(y_true, y_pred, average='weighted', labels=np.unique(y_pred), zero_division=0):.2f}\")"
      ],
      "execution_count": null,
      "outputs": []
    },
    {
      "cell_type": "markdown",
      "metadata": {
        "id": "5BYUdVoAvDu9"
      },
      "source": [
        "# Archive"
      ]
    },
    {
      "cell_type": "code",
      "metadata": {
        "id": "729HVndavJ2t"
      },
      "source": [
        "# debugging cams and values\n",
        "test_ids = {\n",
        "        \"1\": 3455,\n",
        "        \"4\": 6195,\n",
        "        \"0\": 3710,\n",
        "        \"6\": 6187,\n",
        "        \"7\": 6606,\n",
        "        \"5\": 6148,\n",
        "        \"9\": 5622,\n",
        "    }\n",
        "\n",
        "test_idx = 6\n",
        "test_mnist_idx = test_ids[f\"{test_idx}\"]\n",
        "test_mnist_image = mnist_test[0][test_mnist_idx]\n",
        "# show_image(test_mnist_image)\n",
        "\n",
        "# GCM (Transfer learned network - init geo, end mnist)\n",
        "# gcm_mnist_image, _, prediction, test_img_idx = get_prediction(model_gcm, mnist_test, test_idx)\n",
        "# gcm_prediction_idx = np.argmax(prediction)\n",
        "gcm_mnist_cam, gcm_conv_output, gcm_mnist_prediction, _ = grad_cam_pp(test_mnist_image, model_gcm, -3)\n",
        "print(f\"conv output hash: {hashlib.sha256(gcm_conv_output.numpy()).hexdigest().upper()}\")\n",
        "\n",
        "title = f\"MNIST prediction: {gcm_mnist_prediction} (truth: {test_idx})\"\n",
        "show_heatmap(test_mnist_image, gcm_mnist_cam, (28, 28, 1), True, title)\n",
        "\n",
        "assert test_idx == gcm_mnist_prediction, \"Missmatched ids. Wanted %d, received %d\" % (test_idx, gcm_mnist_prediction)"
      ],
      "execution_count": null,
      "outputs": []
    },
    {
      "cell_type": "code",
      "metadata": {
        "id": "ZWitfX7fvMld"
      },
      "source": [
        "# 1) prediction based on conv output\n",
        "test_image, test_label = get_sample(mnist_test)\n",
        "\n",
        "cam_layer = get_cam_layer(model_gcm, \"conv2d_5\")\n",
        "cam_model = Model([model_gcm.inputs], [cam_layer.get_output_at(1), model_gcm.output])\n",
        "gcm_mnist_cam, gcm_conv_output, gcm_mnist_prediction, _ = grad_cam_pp_m(test_image, cam_model)\n",
        "# print(f\"conv output hash: {hashlib.sha256(gcm_conv_output.numpy()).hexdigest().upper()}\")\n",
        "assert test_label == gcm_mnist_prediction, \"Missmatched ids. Wanted %d, received %d\" % (test_idx, test_label)\n",
        "\n",
        "# Prediction\n",
        "labels = dataset[2]\n",
        "gcg_predictions = model_geo_2.predict(gcm_conv_output)\n",
        "sorted_indexes = np.flip(np.argsort(gcg_predictions[0]))\n",
        "percentages = gcg_predictions[0] / gcg_predictions[0][sorted_indexes[0]]\n",
        "\n",
        "print(f\"1st : {labels[sorted_indexes[0]]} ({percentages[sorted_indexes[0]] * 100:.2f}%)\")\n",
        "print(f\"2nd : {labels[sorted_indexes[1]]} ({percentages[sorted_indexes[1]] * 100:.2f}%)\")\n",
        "print(f\"3rd : {labels[sorted_indexes[2]]} ({percentages[sorted_indexes[2]] * 100:.2f}%)\")\n",
        "\n",
        "# Debug (CAM projection)\n",
        "gcg_mnist_cam = cam_1(model_geo, gcm_conv_output, sorted_indexes[0])\n",
        "show_heatmap(test_image, gcg_mnist_cam, (28, 28, 1), True)"
      ],
      "execution_count": null,
      "outputs": []
    },
    {
      "cell_type": "code",
      "metadata": {
        "id": "GeUw_Q2EvFcF"
      },
      "source": [
        "# 2) prediction based on cam heatmap (SHOULD NOT WORK)\n",
        "\n",
        "test_image, test_label = get_sample(mnist_test, 6187)\n",
        "gcm_mnist_cam, gcm_conv_output, gcm_mnist_prediction, _ = grad_cam_pp(test_image, model_gcm)\n",
        "heatmap = get_heatmap(gcm_mnist_cam, (28, 28)).reshape(28, 28, 1) * 255\n",
        "prediction = predict(model_geo, heatmap)\n",
        "\n",
        "show_image(heatmap)\n",
        "\n",
        "labels = dataset[2]\n",
        "sorted_indexes = np.flip(np.argsort(prediction[0]))\n",
        "percentages = prediction[0] / prediction[0][sorted_indexes[0]]\n",
        "\n",
        "print(f\"1st : {labels[sorted_indexes[0]]} ({percentages[sorted_indexes[0]] * 100:.2f}%)\")\n",
        "print(f\"2nd : {labels[sorted_indexes[1]]} ({percentages[sorted_indexes[1]] * 100:.2f}%)\")\n",
        "print(f\"3rd : {labels[sorted_indexes[2]]} ({percentages[sorted_indexes[2]] * 100:.2f}%)\")\n",
        "\n",
        "plt.figure(facecolor='white')\n",
        "ax = plt.gca()\n",
        "ax.set_xticklabels([])\n",
        "ax.set_yticklabels([])\n",
        "plt.imshow(test_image.reshape(28, 28), alpha=0.5, cmap='Greys')\n",
        "plt.imshow(heatmap.reshape(28, 28), cmap='jet', alpha=0.5)\n",
        "plt.show()  "
      ],
      "execution_count": null,
      "outputs": []
    }
  ]
}