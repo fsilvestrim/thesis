{
  "nbformat": 4,
  "nbformat_minor": 0,
  "metadata": {
    "colab": {
      "name": "Geo-Cam.ipynb",
      "provenance": [],
      "collapsed_sections": [],
      "toc_visible": true,
      "authorship_tag": "ABX9TyN0E5MSq+iBXchaImYttcyH",
      "include_colab_link": true
    },
    "kernelspec": {
      "name": "python3",
      "display_name": "Python 3"
    },
    "accelerator": "GPU"
  },
  "cells": [
    {
      "cell_type": "markdown",
      "metadata": {
        "id": "view-in-github",
        "colab_type": "text"
      },
      "source": [
        "<a href=\"https://colab.research.google.com/github/fsilvestrim/thesis/blob/master/Geo_Cam.ipynb\" target=\"_parent\"><img src=\"https://colab.research.google.com/assets/colab-badge.svg\" alt=\"Open In Colab\"/></a>"
      ]
    },
    {
      "cell_type": "markdown",
      "metadata": {
        "id": "cB_AS_K_X5J0"
      },
      "source": [
        "# Utils"
      ]
    },
    {
      "cell_type": "code",
      "metadata": {
        "id": "W2x-VCBnFz5h"
      },
      "source": [
        "import re\n",
        "import time\n",
        "import random\n",
        "import numpy as np\n",
        "import scipy as sp\n",
        "import pickle\n",
        "import cv2\n",
        "import hashlib\n",
        "\n",
        "from matplotlib import cm\n",
        "import matplotlib.pyplot as plt\n",
        "import matplotlib.image as mpimg\n",
        "import matplotlib.pyplot as plt\n",
        "\n",
        "%matplotlib inline"
      ],
      "execution_count": 2,
      "outputs": []
    },
    {
      "cell_type": "code",
      "metadata": {
        "colab": {
          "base_uri": "https://localhost:8080/"
        },
        "id": "BvhCa24vLZ--",
        "outputId": "063cf737-e6c4-49ca-e589-347297dd90c2"
      },
      "source": [
        "#%tensorflow_version 2.x\n",
        "\n",
        "import tensorflow as tf\n",
        "print(tf.__version__)\n",
        "from tensorflow import keras\n",
        "from keras import backend as K\n",
        "from tensorflow.keras import layers\n",
        "from tensorflow.keras.models import Model\n",
        "from tensorflow.python.framework.ops import disable_eager_execution\n",
        "from tensorflow.python.framework.ops import enable_eager_execution\n",
        "\n",
        "#disable_eager_execution()\n",
        "enable_eager_execution()\n",
        "print('Eager mode: %s' % tf.executing_eagerly())\n",
        "\n",
        "device_name = tf.test.gpu_device_name()\n",
        "\n",
        "if device_name != '/device:GPU:0':\n",
        "  raise SystemError('GPU device not found')\n",
        "\n",
        "print('Found GPU at: {}'.format(device_name))"
      ],
      "execution_count": 3,
      "outputs": [
        {
          "output_type": "stream",
          "text": [
            "2.4.1\n",
            "Eager mode: True\n",
            "Found GPU at: /device:GPU:0\n"
          ],
          "name": "stdout"
        }
      ]
    },
    {
      "cell_type": "code",
      "metadata": {
        "id": "DfU8rMxdffJD"
      },
      "source": [
        "def show_image(image, title=None):\n",
        "  plt.figure(facecolor='white')\n",
        "  ax = plt.gca()\n",
        "  ax.set_xticklabels([])\n",
        "  ax.set_yticklabels([])\n",
        "  plt.imshow(image.reshape(28, 28), cmap='Greys')\n",
        "  if title is not None:\n",
        "    plt.title(title)\n",
        "  plt.show()"
      ],
      "execution_count": 4,
      "outputs": []
    },
    {
      "cell_type": "code",
      "metadata": {
        "id": "TrovwQHTWrlB"
      },
      "source": [
        "def show_prediction(image, label, prediction):\n",
        "  title = \"Prediction: %s / Truth: %s\" % (np.argmax(prediction), label)\n",
        "  show_image(image, title)"
      ],
      "execution_count": 5,
      "outputs": []
    },
    {
      "cell_type": "code",
      "metadata": {
        "id": "LNQAoOL5jlVC"
      },
      "source": [
        "def get_heatmap(cam, size, resize=True):\n",
        "  heatmap = cam / np.max(cam)\n",
        " \n",
        "  if resize:\n",
        "    height_zoom = size[1] / cam.shape[0]\n",
        "    width_zoom = size[0] / cam.shape[1]\n",
        "    heatmap = sp.ndimage.zoom(cam, (height_zoom, width_zoom), order=2)\n",
        " \n",
        "  return heatmap"
      ],
      "execution_count": 6,
      "outputs": []
    },
    {
      "cell_type": "code",
      "metadata": {
        "id": "Ya25j5pbZoq2"
      },
      "source": [
        "def show_heatmap(img, cam, size, resize=True, title=None):\n",
        "  img = img.reshape(size[0], size[1])\n",
        "  heatmap = get_heatmap(cam, size, resize)\n",
        "\n",
        "  # plot\n",
        "  plt.figure(facecolor='white')\n",
        "  ax = plt.gca()\n",
        "  ax.set_xticklabels([])\n",
        "  ax.set_yticklabels([])\n",
        "  plt.imshow(img, alpha=0.5, cmap='Greys')\n",
        "  plt.imshow(heatmap, cmap='jet', alpha=0.5)\n",
        "  \n",
        "  if title is not None:\n",
        "    plt.title(title)\n",
        "  \n",
        "  plt.show()  "
      ],
      "execution_count": 7,
      "outputs": []
    },
    {
      "cell_type": "code",
      "metadata": {
        "id": "LF2nobFe76jK"
      },
      "source": [
        "def plot_model_score(score, history):\n",
        "  plt.figure(facecolor='white')\n",
        "  plt.plot(history['loss'])\n",
        "  plt.plot(history['val_loss'])\n",
        "  plt.ylabel('Loss')\n",
        "  plt.xlabel('Epoch')\n",
        "  plt.legend(['Train', 'Validation'], loc='upper left')\n",
        "  plt.title(\"Loss: %.5f vs. Accuracy: %.5f\" % (score[0], score[1]))\n",
        "  plt.show() "
      ],
      "execution_count": 8,
      "outputs": []
    },
    {
      "cell_type": "code",
      "metadata": {
        "id": "PARsNtG47nUc"
      },
      "source": [
        "def load_model(name):\n",
        "  model = keras.models.load_model(\"saved_model_%s\" % name)\n",
        "  history = pickle.load(open('saved_model_%s/history' % name, \"rb\"))\n",
        "\n",
        "  return model, history"
      ],
      "execution_count": 9,
      "outputs": []
    },
    {
      "cell_type": "code",
      "metadata": {
        "id": "eQiN2YfH66oZ"
      },
      "source": [
        "def save_model(model, history, name):\n",
        "  model.save(\"saved_model_%s\" % name)\n",
        "\n",
        "  with open('saved_model_%s/history' % name, 'wb') as file_pi:\n",
        "    pickle.dump(history.history, file_pi)"
      ],
      "execution_count": 10,
      "outputs": []
    },
    {
      "cell_type": "code",
      "metadata": {
        "id": "9y0SKay9zUyh"
      },
      "source": [
        "def get_cam_layers(model):\n",
        "  last_conv_layer = None\n",
        "  last_layers = []\n",
        "  conv_layers = []\n",
        "  for layer in reversed(model.layers):\n",
        "      # check to see if the layer has a 4D output\n",
        "      if len(layer.output_shape) == 4 and last_conv_layer is None:\n",
        "        last_conv_layer = layer\n",
        "        # print(\"Last Conv Layer: %s, filters %s\" % (layer.name, layer.filters))\n",
        "\n",
        "      if last_conv_layer is not None:\n",
        "        conv_layers.insert(0, layer)\n",
        "      else:\n",
        "        last_layers.insert(0, layer)\n",
        "\n",
        "  return conv_layers, last_layers"
      ],
      "execution_count": 11,
      "outputs": []
    },
    {
      "cell_type": "code",
      "metadata": {
        "id": "DLP3omNp6B1z"
      },
      "source": [
        "def predict(model, image):\n",
        "  return model.predict(np.expand_dims(image, 0))"
      ],
      "execution_count": 71,
      "outputs": []
    },
    {
      "cell_type": "code",
      "metadata": {
        "id": "CfQxjWHqzuoI"
      },
      "source": [
        "def get_prediction(model, test, idx=-1):\n",
        "  if idx < 0:\n",
        "    idx = random.randint(0, len(test[0]))\n",
        "\n",
        "  image = test[0][idx]\n",
        "  label = np.argmax(test[1][idx])\n",
        "  prediction = predict(model, image)\n",
        "\n",
        "  return image, label, prediction, idx"
      ],
      "execution_count": 73,
      "outputs": []
    },
    {
      "cell_type": "code",
      "metadata": {
        "id": "wIXXoT0p0I3M"
      },
      "source": [
        "def format_dataset(num_classes, train, test):\n",
        "  (x_train, y_train), (x_test, y_test) = train, test\n",
        "\n",
        "  print(x_train[0].shape)\n",
        "  print(y_train[0])\n",
        "\n",
        "  # Scale images to the [0, 1] range\n",
        "  x_train = x_train.astype(\"float32\") / 255\n",
        "  x_test = x_test.astype(\"float32\") / 255\n",
        "\n",
        "  # Make sure images have shape (28, 28, 1)\n",
        "  x_train = np.expand_dims(x_train, -1)\n",
        "  x_test = np.expand_dims(x_test, -1)\n",
        "\n",
        "  print(\"x_train shape:\", x_train.shape)\n",
        "  print(x_train.shape[0], \"train samples\")\n",
        "  print(x_test.shape[0], \"test samples\")\n",
        "\n",
        "  # convert class vectors to binary class matrices\n",
        "  y_train = keras.utils.to_categorical(y_train, num_classes)\n",
        "  y_test = keras.utils.to_categorical(y_test, num_classes)\n",
        "\n",
        "  return (x_train, y_train), (x_test, y_test)"
      ],
      "execution_count": 13,
      "outputs": []
    },
    {
      "cell_type": "markdown",
      "metadata": {
        "id": "Okm2rbgeJNSD"
      },
      "source": [
        "#MNIST"
      ]
    },
    {
      "cell_type": "code",
      "metadata": {
        "id": "rTNjOPRWJRz1",
        "colab": {
          "base_uri": "https://localhost:8080/"
        },
        "outputId": "d3e9c1aa-00d1-4921-9b8a-6bf5bca521b0"
      },
      "source": [
        "mnist_train, mnist_test = keras.datasets.mnist.load_data()\n",
        "mnist_train, mnist_test = format_dataset(10, mnist_train, mnist_test)\n",
        "\n",
        "def create_mnist_model(name, input_shape, num_classes, train=None):\n",
        "  model = keras.Sequential(\n",
        "      [\n",
        "          keras.Input(shape=input_shape),\n",
        "      \n",
        "          layers.Conv2D(filters=32, kernel_size=(3, 3), activation=\"relu\"),\n",
        "          layers.MaxPooling2D(pool_size=(2, 2), strides=(2,2)),\n",
        "      \n",
        "          layers.Conv2D(filters=64, kernel_size=(3, 3), activation=\"relu\"),\n",
        "          layers.MaxPooling2D(pool_size=(2, 2), strides=(2,2)),\n",
        "          layers.Dropout(0.5),\n",
        "      \n",
        "          layers.Conv2D(filters=128, kernel_size=(3, 3), activation=\"relu\"),\n",
        "          layers.GlobalAveragePooling2D(),\n",
        "          \n",
        "          layers.Dense(num_classes, activation=\"softmax\"),\n",
        "      ]\n",
        "  )\n",
        "\n",
        "  model.compile(loss=\"categorical_crossentropy\", optimizer=\"adam\", metrics=[\"accuracy\"])\n",
        "\n",
        "  return model"
      ],
      "execution_count": 14,
      "outputs": [
        {
          "output_type": "stream",
          "text": [
            "Downloading data from https://storage.googleapis.com/tensorflow/tf-keras-datasets/mnist.npz\n",
            "11493376/11490434 [==============================] - 0s 0us/step\n",
            "(28, 28)\n",
            "5\n",
            "x_train shape: (60000, 28, 28, 1)\n",
            "60000 train samples\n",
            "10000 test samples\n"
          ],
          "name": "stdout"
        }
      ]
    },
    {
      "cell_type": "code",
      "metadata": {
        "colab": {
          "base_uri": "https://localhost:8080/",
          "height": 1000
        },
        "id": "_UUVTSfOKsh2",
        "outputId": "cef7a23b-b763-4d49-f534-e41c3dce4ff3"
      },
      "source": [
        "model_mnist = create_mnist_model(\"gap_shallow\", (28, 28, 1), 10, mnist_train)\n",
        "\n",
        "# model_mnist, history_mnist = load_model(\"gap_shallow\")\n",
        "start_time = time.clock()\n",
        "history_mnist = model_mnist.fit(mnist_train[0], mnist_train[1], batch_size=128, epochs=15, validation_split=0.1)\n",
        "print(\"Training took: %.2f seconds\" % (time.clock() - start_time))\n",
        "# save_model(model_mnist, history_mnist, \"gap_shallow\")\n",
        "\n",
        "model_mnist.summary()\n",
        "score_mnist = model_mnist.evaluate(mnist_test[0], mnist_test[1], verbose=0)\n",
        "\n",
        "plot_model_score(score_mnist, history_mnist.history)"
      ],
      "execution_count": 15,
      "outputs": [
        {
          "output_type": "stream",
          "text": [
            "/usr/local/lib/python3.7/dist-packages/ipykernel_launcher.py:4: DeprecationWarning: time.clock has been deprecated in Python 3.3 and will be removed from Python 3.8: use time.perf_counter or time.process_time instead\n",
            "  after removing the cwd from sys.path.\n"
          ],
          "name": "stderr"
        },
        {
          "output_type": "stream",
          "text": [
            "Epoch 1/15\n",
            "422/422 [==============================] - 35s 6ms/step - loss: 0.9801 - accuracy: 0.6773 - val_loss: 0.1343 - val_accuracy: 0.9598\n",
            "Epoch 2/15\n",
            "422/422 [==============================] - 2s 5ms/step - loss: 0.1919 - accuracy: 0.9406 - val_loss: 0.0851 - val_accuracy: 0.9740\n",
            "Epoch 3/15\n",
            "422/422 [==============================] - 2s 5ms/step - loss: 0.1263 - accuracy: 0.9611 - val_loss: 0.0648 - val_accuracy: 0.9808\n",
            "Epoch 4/15\n",
            "422/422 [==============================] - 2s 5ms/step - loss: 0.0934 - accuracy: 0.9708 - val_loss: 0.0503 - val_accuracy: 0.9853\n",
            "Epoch 5/15\n",
            "422/422 [==============================] - 2s 5ms/step - loss: 0.0817 - accuracy: 0.9733 - val_loss: 0.0423 - val_accuracy: 0.9868\n",
            "Epoch 6/15\n",
            "422/422 [==============================] - 2s 5ms/step - loss: 0.0721 - accuracy: 0.9772 - val_loss: 0.0530 - val_accuracy: 0.9832\n",
            "Epoch 7/15\n",
            "422/422 [==============================] - 2s 5ms/step - loss: 0.0603 - accuracy: 0.9810 - val_loss: 0.0334 - val_accuracy: 0.9905\n",
            "Epoch 8/15\n",
            "422/422 [==============================] - 2s 5ms/step - loss: 0.0592 - accuracy: 0.9823 - val_loss: 0.0322 - val_accuracy: 0.9905\n",
            "Epoch 9/15\n",
            "422/422 [==============================] - 2s 5ms/step - loss: 0.0535 - accuracy: 0.9830 - val_loss: 0.0324 - val_accuracy: 0.9912\n",
            "Epoch 10/15\n",
            "422/422 [==============================] - 2s 5ms/step - loss: 0.0507 - accuracy: 0.9841 - val_loss: 0.0296 - val_accuracy: 0.9913\n",
            "Epoch 11/15\n",
            "422/422 [==============================] - 2s 5ms/step - loss: 0.0456 - accuracy: 0.9853 - val_loss: 0.0284 - val_accuracy: 0.9908\n",
            "Epoch 12/15\n",
            "422/422 [==============================] - 2s 5ms/step - loss: 0.0426 - accuracy: 0.9865 - val_loss: 0.0279 - val_accuracy: 0.9920\n",
            "Epoch 13/15\n",
            "422/422 [==============================] - 2s 5ms/step - loss: 0.0386 - accuracy: 0.9873 - val_loss: 0.0283 - val_accuracy: 0.9918\n",
            "Epoch 14/15\n",
            "422/422 [==============================] - 2s 5ms/step - loss: 0.0394 - accuracy: 0.9874 - val_loss: 0.0264 - val_accuracy: 0.9920\n",
            "Epoch 15/15\n",
            "422/422 [==============================] - 2s 5ms/step - loss: 0.0351 - accuracy: 0.9889 - val_loss: 0.0267 - val_accuracy: 0.9913\n",
            "Training took: 43.11 seconds\n",
            "Model: \"sequential\"\n",
            "_________________________________________________________________\n",
            "Layer (type)                 Output Shape              Param #   \n",
            "=================================================================\n",
            "conv2d (Conv2D)              (None, 26, 26, 32)        320       \n",
            "_________________________________________________________________\n",
            "max_pooling2d (MaxPooling2D) (None, 13, 13, 32)        0         \n",
            "_________________________________________________________________\n",
            "conv2d_1 (Conv2D)            (None, 11, 11, 64)        18496     \n",
            "_________________________________________________________________\n",
            "max_pooling2d_1 (MaxPooling2 (None, 5, 5, 64)          0         \n",
            "_________________________________________________________________\n",
            "dropout (Dropout)            (None, 5, 5, 64)          0         \n",
            "_________________________________________________________________\n",
            "conv2d_2 (Conv2D)            (None, 3, 3, 128)         73856     \n",
            "_________________________________________________________________\n",
            "global_average_pooling2d (Gl (None, 128)               0         \n",
            "_________________________________________________________________\n",
            "dense (Dense)                (None, 10)                1290      \n",
            "=================================================================\n",
            "Total params: 93,962\n",
            "Trainable params: 93,962\n",
            "Non-trainable params: 0\n",
            "_________________________________________________________________\n"
          ],
          "name": "stdout"
        },
        {
          "output_type": "stream",
          "text": [
            "/usr/local/lib/python3.7/dist-packages/ipykernel_launcher.py:6: DeprecationWarning: time.clock has been deprecated in Python 3.3 and will be removed from Python 3.8: use time.perf_counter or time.process_time instead\n",
            "  \n"
          ],
          "name": "stderr"
        },
        {
          "output_type": "display_data",
          "data": {
            "image/png": "[encoded data removed]",
            "text/plain": [
              "<Figure size 432x288 with 1 Axes>"
            ]
          },
          "metadata": {
            "tags": []
          }
        }
      ]
    },
    {
      "cell_type": "code",
      "metadata": {
        "colab": {
          "base_uri": "https://localhost:8080/",
          "height": 268
        },
        "id": "--_Cb0cwMTsl",
        "outputId": "5fd987ef-d32d-4190-ce1e-c0f184aa488d"
      },
      "source": [
        "image, label, prediction, _ = get_prediction(model_mnist, mnist_test)\n",
        "show_prediction(image, label, prediction)"
      ],
      "execution_count": 16,
      "outputs": [
        {
          "output_type": "display_data",
          "data": {
            "image/png": "[encoded data removed]",
            "text/plain": [
              "<Figure size 432x288 with 1 Axes>"
            ]
          },
          "metadata": {
            "tags": []
          }
        }
      ]
    },
    {
      "cell_type": "markdown",
      "metadata": {
        "id": "ZAVIlq5GvHoU"
      },
      "source": [
        "#GEO"
      ]
    },
    {
      "cell_type": "code",
      "metadata": {
        "id": "fknmrIpWvKQJ"
      },
      "source": [
        "geo_dataset_proto = (\"proto\", \"https://geo-cam.s3-eu-west-1.amazonaws.com/geocam.npz\", [\"vertical\", \"diagonal\", \"ellipse\"])\n",
        "geo_dataset_simple = (\"simple\", \"https://geo-cam.s3-eu-west-1.amazonaws.com/simpledataset_dataset.npz\", [\"vertical\", \"horizontal\", \"diagonal\", \"ellipse\", \"greather_than\", \"lower_than\"])\n",
        "geo_dataset_round = (\"round\", \"https://geo-cam.s3-eu-west-1.amazonaws.com/rounddataset_dataset.npz\", [\"vertical\", \"horizontal\", \"diagonal\", \"ellipse\", \"greather_than\", \"lower_than\"])\n",
        "geo_dataset_threesixty = (\"threesixty\", \"https://geo-cam.s3-eu-west-1.amazonaws.com/threesixtydataset_dataset.npz\", [\"10\", \"20\", \"30\", \"40\", \"50\", \"60\", \"70\", \"80\", \"90\", \"100\", \"110\", \"120\", \"130\", \"140\", \"150\", \"160\", \"170\", \"180\"])\n",
        "\n",
        "def get_geo_dataset(name, filepath):\n",
        "  path = tf.keras.utils.get_file(name, filepath)\n",
        "  with np.load(path, allow_pickle=True) as f:\n",
        "    x_train, y_train = f['x_train'], f['y_train']\n",
        "    x_test, y_test = f['x_test'], f['y_test']\n",
        "\n",
        "    return (x_train, y_train), (x_test, y_test)"
      ],
      "execution_count": 17,
      "outputs": []
    },
    {
      "cell_type": "code",
      "metadata": {
        "id": "IAZ-zvCO7eQO"
      },
      "source": [
        "def create_geo_model(name, input_shape, num_classes):\n",
        "  model = keras.Sequential(\n",
        "      [\n",
        "          keras.Input(shape=input_shape),\n",
        "      \n",
        "          layers.Conv2D(filters=32, kernel_size=(3, 3), padding=\"same\", activation=\"relu\"),\n",
        "          # layers.MaxPooling2D(pool_size=(2, 2), strides=(2,2)),\n",
        "      \n",
        "          layers.Conv2D(filters=64, kernel_size=(3, 3), padding=\"same\", activation=\"relu\"),\n",
        "       \n",
        "          # layers.MaxPooling2D(pool_size=(2, 2), strides=(2,2)),\n",
        "          layers.Dropout(0.3),\n",
        "      \n",
        "          layers.Conv2D(filters=128, kernel_size=(3, 3), padding=\"same\", activation=\"relu\"),\n",
        "          layers.GlobalAveragePooling2D(),\n",
        "          \n",
        "          layers.Dense(num_classes, activation=\"softmax\"),\n",
        "      ]\n",
        "  )\n",
        "\n",
        "  model.compile(loss=\"categorical_crossentropy\", optimizer=\"adam\", metrics=[\"accuracy\"])\n",
        "\n",
        "  return model"
      ],
      "execution_count": 18,
      "outputs": []
    },
    {
      "cell_type": "code",
      "metadata": {
        "colab": {
          "base_uri": "https://localhost:8080/",
          "height": 1000
        },
        "id": "fi-GBD6n70bH",
        "outputId": "c1fa4391-0f3b-4ca5-dacd-d214078c98d8"
      },
      "source": [
        "dataset = geo_dataset_simple\n",
        "geo_train, geo_test = get_geo_dataset(dataset[0], dataset[1])\n",
        "geo_train, geo_test = format_dataset(len(dataset[2]), geo_train, geo_test)\n",
        "model_geo = create_geo_model(\"geocam\", (28, 28, 1), len(dataset[2]))\n",
        "# model_geo, history_geo = load_model(\"geo\")\n",
        "\n",
        "start_time = time.clock()\n",
        "history_geo = model_geo.fit(geo_train[0], geo_train[1], batch_size=128, epochs=15, validation_split=0.1)\n",
        "print(\"Training took: %.2f seconds\" % (time.clock() - start_time))\n",
        "# save_model(model_geo, history_geo, \"geo\")\n",
        "\n",
        "model_geo.summary()\n",
        "score_geo = model_geo.evaluate(geo_test[0], geo_test[1], verbose=0)\n",
        "\n",
        "plot_model_score(score_geo, history_geo.history)"
      ],
      "execution_count": 19,
      "outputs": [
        {
          "output_type": "stream",
          "text": [
            "Downloading data from https://geo-cam.s3-eu-west-1.amazonaws.com/simpledataset_dataset.npz\n",
            "18841600/18841002 [==============================] - 2s 0us/step\n",
            "(28, 28)\n",
            "1\n",
            "x_train shape: (4200, 28, 28, 1)\n",
            "4200 train samples\n",
            "1800 test samples\n",
            "Epoch 1/15\n"
          ],
          "name": "stdout"
        },
        {
          "output_type": "stream",
          "text": [
            "/usr/local/lib/python3.7/dist-packages/ipykernel_launcher.py:7: DeprecationWarning: time.clock has been deprecated in Python 3.3 and will be removed from Python 3.8: use time.perf_counter or time.process_time instead\n",
            "  import sys\n"
          ],
          "name": "stderr"
        },
        {
          "output_type": "stream",
          "text": [
            "30/30 [==============================] - 2s 34ms/step - loss: 1.7654 - accuracy: 0.1684 - val_loss: 1.6812 - val_accuracy: 0.1452\n",
            "Epoch 2/15\n",
            "30/30 [==============================] - 1s 20ms/step - loss: 1.5696 - accuracy: 0.2888 - val_loss: 1.0535 - val_accuracy: 0.7095\n",
            "Epoch 3/15\n",
            "30/30 [==============================] - 1s 21ms/step - loss: 0.9412 - accuracy: 0.7093 - val_loss: 0.6430 - val_accuracy: 0.8500\n",
            "Epoch 4/15\n",
            "30/30 [==============================] - 1s 20ms/step - loss: 0.6476 - accuracy: 0.8132 - val_loss: 0.4999 - val_accuracy: 0.8500\n",
            "Epoch 5/15\n",
            "30/30 [==============================] - 1s 20ms/step - loss: 0.5049 - accuracy: 0.8436 - val_loss: 0.4086 - val_accuracy: 0.9143\n",
            "Epoch 6/15\n",
            "30/30 [==============================] - 1s 20ms/step - loss: 0.4313 - accuracy: 0.8570 - val_loss: 0.3573 - val_accuracy: 0.9024\n",
            "Epoch 7/15\n",
            "30/30 [==============================] - 1s 20ms/step - loss: 0.3758 - accuracy: 0.8884 - val_loss: 0.2808 - val_accuracy: 0.9333\n",
            "Epoch 8/15\n",
            "30/30 [==============================] - 1s 20ms/step - loss: 0.3027 - accuracy: 0.9142 - val_loss: 0.2889 - val_accuracy: 0.8905\n",
            "Epoch 9/15\n",
            "30/30 [==============================] - 1s 20ms/step - loss: 0.2925 - accuracy: 0.9048 - val_loss: 0.2298 - val_accuracy: 0.9286\n",
            "Epoch 10/15\n",
            "30/30 [==============================] - 1s 20ms/step - loss: 0.2456 - accuracy: 0.9244 - val_loss: 0.1941 - val_accuracy: 0.9429\n",
            "Epoch 11/15\n",
            "30/30 [==============================] - 1s 20ms/step - loss: 0.2143 - accuracy: 0.9348 - val_loss: 0.1712 - val_accuracy: 0.9452\n",
            "Epoch 12/15\n",
            "30/30 [==============================] - 1s 21ms/step - loss: 0.1919 - accuracy: 0.9362 - val_loss: 0.1907 - val_accuracy: 0.9357\n",
            "Epoch 13/15\n",
            "30/30 [==============================] - 1s 20ms/step - loss: 0.1817 - accuracy: 0.9402 - val_loss: 0.1468 - val_accuracy: 0.9690\n",
            "Epoch 14/15\n",
            "30/30 [==============================] - 1s 20ms/step - loss: 0.1722 - accuracy: 0.9538 - val_loss: 0.1402 - val_accuracy: 0.9643\n",
            "Epoch 15/15\n",
            "30/30 [==============================] - 1s 21ms/step - loss: 0.1457 - accuracy: 0.9597 - val_loss: 0.1210 - val_accuracy: 0.9690\n",
            "Training took: 8.80 seconds\n",
            "Model: \"sequential_1\"\n",
            "_________________________________________________________________\n",
            "Layer (type)                 Output Shape              Param #   \n",
            "=================================================================\n",
            "conv2d_3 (Conv2D)            (None, 28, 28, 32)        320       \n",
            "_________________________________________________________________\n",
            "conv2d_4 (Conv2D)            (None, 28, 28, 64)        18496     \n",
            "_________________________________________________________________\n",
            "dropout_1 (Dropout)          (None, 28, 28, 64)        0         \n",
            "_________________________________________________________________\n",
            "conv2d_5 (Conv2D)            (None, 28, 28, 128)       73856     \n",
            "_________________________________________________________________\n",
            "global_average_pooling2d_1 ( (None, 128)               0         \n",
            "_________________________________________________________________\n",
            "dense_1 (Dense)              (None, 6)                 774       \n",
            "=================================================================\n",
            "Total params: 93,446\n",
            "Trainable params: 93,446\n",
            "Non-trainable params: 0\n",
            "_________________________________________________________________\n"
          ],
          "name": "stdout"
        },
        {
          "output_type": "stream",
          "text": [
            "/usr/local/lib/python3.7/dist-packages/ipykernel_launcher.py:9: DeprecationWarning: time.clock has been deprecated in Python 3.3 and will be removed from Python 3.8: use time.perf_counter or time.process_time instead\n",
            "  if __name__ == '__main__':\n"
          ],
          "name": "stderr"
        },
        {
          "output_type": "display_data",
          "data": {
            "image/png": "[encoded data removed]",
            "text/plain": [
              "<Figure size 432x288 with 1 Axes>"
            ]
          },
          "metadata": {
            "tags": []
          }
        }
      ]
    },
    {
      "cell_type": "code",
      "metadata": {
        "colab": {
          "base_uri": "https://localhost:8080/",
          "height": 268
        },
        "id": "Io6EtCTU-Gwn",
        "outputId": "61143f22-d0ec-4148-c333-07b54e8dee2b"
      },
      "source": [
        "image, label, prediction, _ = get_prediction(model_geo, geo_test)\n",
        "show_prediction(image, label, prediction)"
      ],
      "execution_count": 81,
      "outputs": [
        {
          "output_type": "display_data",
          "data": {
            "image/png": "[encoded data removed]",
            "text/plain": [
              "<Figure size 432x288 with 1 Axes>"
            ]
          },
          "metadata": {
            "tags": []
          }
        }
      ]
    },
    {
      "cell_type": "markdown",
      "metadata": {
        "id": "2qfZh1ixKzXR"
      },
      "source": [
        "# Transfer-learning\n"
      ]
    },
    {
      "cell_type": "code",
      "metadata": {
        "colab": {
          "base_uri": "https://localhost:8080/",
          "height": 1000
        },
        "id": "IPmhUSmV4Gox",
        "outputId": "e693240c-5126-46ad-824f-dd68c08c2094"
      },
      "source": [
        "geo_layers = get_cam_layers(keras.models.clone_model(model_geo))\n",
        "mnist_layers = get_cam_layers(keras.models.clone_model(model_mnist))\n",
        "\n",
        "model_gcm = keras.Sequential()\n",
        "\n",
        "for layer in geo_layers[0]:\n",
        "  layer.trainable = False\n",
        "  model_gcm.add(layer)\n",
        "\n",
        "model_gcm.add(layers.Conv2D(filters=128, kernel_size=(3, 3), padding=\"same\", activation=\"relu\"))\n",
        "model_gcm.add(layers.Dropout(0.4))\n",
        "# model_gcm.add(layers.Conv2D(filters=512, kernel_size=(3, 3), padding=\"same\", activation=\"relu\"))\n",
        "model_gcm.add(layers.Conv2D(filters=128, kernel_size=(3, 3), padding=\"same\", activation=\"relu\"))\n",
        "model_gcm.add(layers.GlobalAveragePooling2D())\n",
        "model_gcm.add(layers.Dense(10, activation=\"softmax\"))\n",
        "\n",
        "# for layer in mnist_layers[1]:\n",
        "  # model_gcm.add(layer)\n",
        "\n",
        "opt = keras.optimizers.Adam(learning_rate=0.002)\n",
        "model_gcm.compile(loss=\"categorical_crossentropy\", optimizer=opt, metrics=[\"accuracy\"])\n",
        "\n",
        "start_time = time.clock()\n",
        "history_geocam = model_gcm.fit(mnist_train[0], mnist_train[1], batch_size=128, epochs=20, validation_split=0.1)\n",
        "print(\"Training took: %.2f seconds\" % (time.clock() - start_time))\n",
        "\n",
        "score_gcm = model_gcm.evaluate(mnist_test[0], mnist_test[1], verbose=0)\n",
        "model_gcm.summary()\n",
        "plot_model_score(score_gcm, history_geocam.history)"
      ],
      "execution_count": 46,
      "outputs": [
        {
          "output_type": "stream",
          "text": [
            "/usr/local/lib/python3.7/dist-packages/ipykernel_launcher.py:23: DeprecationWarning: time.clock has been deprecated in Python 3.3 and will be removed from Python 3.8: use time.perf_counter or time.process_time instead\n"
          ],
          "name": "stderr"
        },
        {
          "output_type": "stream",
          "text": [
            "Epoch 1/20\n",
            "422/422 [==============================] - 15s 33ms/step - loss: 1.8809 - accuracy: 0.3059 - val_loss: 2.1099 - val_accuracy: 0.2785\n",
            "Epoch 2/20\n",
            "422/422 [==============================] - 14s 33ms/step - loss: 0.9391 - accuracy: 0.7117 - val_loss: 1.0411 - val_accuracy: 0.5817\n",
            "Epoch 3/20\n",
            "422/422 [==============================] - 14s 33ms/step - loss: 0.6061 - accuracy: 0.8158 - val_loss: 0.8194 - val_accuracy: 0.6902\n",
            "Epoch 4/20\n",
            "422/422 [==============================] - 14s 33ms/step - loss: 0.4886 - accuracy: 0.8487 - val_loss: 0.6391 - val_accuracy: 0.7588\n",
            "Epoch 5/20\n",
            "422/422 [==============================] - 14s 33ms/step - loss: 0.4287 - accuracy: 0.8697 - val_loss: 0.6424 - val_accuracy: 0.7577\n",
            "Epoch 6/20\n",
            "422/422 [==============================] - 14s 33ms/step - loss: 0.3782 - accuracy: 0.8832 - val_loss: 0.7590 - val_accuracy: 0.7085\n",
            "Epoch 7/20\n",
            "422/422 [==============================] - 14s 33ms/step - loss: 0.3498 - accuracy: 0.8941 - val_loss: 0.4861 - val_accuracy: 0.8293\n",
            "Epoch 8/20\n",
            "422/422 [==============================] - 14s 33ms/step - loss: 0.3427 - accuracy: 0.8948 - val_loss: 0.5437 - val_accuracy: 0.8025\n",
            "Epoch 9/20\n",
            "422/422 [==============================] - 14s 33ms/step - loss: 0.3138 - accuracy: 0.9038 - val_loss: 0.5006 - val_accuracy: 0.8305\n",
            "Epoch 10/20\n",
            "422/422 [==============================] - 14s 33ms/step - loss: 0.2756 - accuracy: 0.9156 - val_loss: 0.4343 - val_accuracy: 0.8537\n",
            "Epoch 11/20\n",
            "422/422 [==============================] - 14s 33ms/step - loss: 0.2688 - accuracy: 0.9186 - val_loss: 0.3639 - val_accuracy: 0.8822\n",
            "Epoch 12/20\n",
            "422/422 [==============================] - 14s 33ms/step - loss: 0.2592 - accuracy: 0.9224 - val_loss: 0.2797 - val_accuracy: 0.9167\n",
            "Epoch 13/20\n",
            "422/422 [==============================] - 14s 33ms/step - loss: 0.2462 - accuracy: 0.9244 - val_loss: 0.3934 - val_accuracy: 0.8693\n",
            "Epoch 14/20\n",
            "422/422 [==============================] - 14s 33ms/step - loss: 0.2259 - accuracy: 0.9327 - val_loss: 0.3342 - val_accuracy: 0.8933\n",
            "Epoch 15/20\n",
            "422/422 [==============================] - 14s 33ms/step - loss: 0.2098 - accuracy: 0.9387 - val_loss: 0.3057 - val_accuracy: 0.9037\n",
            "Epoch 16/20\n",
            "422/422 [==============================] - 14s 33ms/step - loss: 0.2153 - accuracy: 0.9378 - val_loss: 0.2310 - val_accuracy: 0.9320\n",
            "Epoch 17/20\n",
            "422/422 [==============================] - 14s 33ms/step - loss: 0.2006 - accuracy: 0.9388 - val_loss: 0.2935 - val_accuracy: 0.9103\n",
            "Epoch 18/20\n",
            "422/422 [==============================] - 14s 33ms/step - loss: 0.1878 - accuracy: 0.9449 - val_loss: 0.2265 - val_accuracy: 0.9312\n",
            "Epoch 19/20\n",
            "422/422 [==============================] - 14s 33ms/step - loss: 0.1803 - accuracy: 0.9460 - val_loss: 0.2754 - val_accuracy: 0.9147\n",
            "Epoch 20/20\n",
            "422/422 [==============================] - 14s 33ms/step - loss: 0.1716 - accuracy: 0.9485 - val_loss: 0.1512 - val_accuracy: 0.9555\n",
            "Training took: 176.19 seconds\n"
          ],
          "name": "stdout"
        },
        {
          "output_type": "stream",
          "text": [
            "/usr/local/lib/python3.7/dist-packages/ipykernel_launcher.py:25: DeprecationWarning: time.clock has been deprecated in Python 3.3 and will be removed from Python 3.8: use time.perf_counter or time.process_time instead\n"
          ],
          "name": "stderr"
        },
        {
          "output_type": "stream",
          "text": [
            "Model: \"sequential_18\"\n",
            "_________________________________________________________________\n",
            "Layer (type)                 Output Shape              Param #   \n",
            "=================================================================\n",
            "conv2d_3 (Conv2D)            (None, 28, 28, 32)        320       \n",
            "_________________________________________________________________\n",
            "conv2d_4 (Conv2D)            (None, 28, 28, 64)        18496     \n",
            "_________________________________________________________________\n",
            "dropout_1 (Dropout)          (None, 28, 28, 64)        0         \n",
            "_________________________________________________________________\n",
            "conv2d_5 (Conv2D)            (None, 28, 28, 128)       73856     \n",
            "_________________________________________________________________\n",
            "conv2d_13 (Conv2D)           (None, 28, 28, 128)       147584    \n",
            "_________________________________________________________________\n",
            "dropout_5 (Dropout)          (None, 28, 28, 128)       0         \n",
            "_________________________________________________________________\n",
            "conv2d_14 (Conv2D)           (None, 28, 28, 128)       147584    \n",
            "_________________________________________________________________\n",
            "global_average_pooling2d_5 ( (None, 128)               0         \n",
            "_________________________________________________________________\n",
            "dense_5 (Dense)              (None, 10)                1290      \n",
            "=================================================================\n",
            "Total params: 389,130\n",
            "Trainable params: 296,458\n",
            "Non-trainable params: 92,672\n",
            "_________________________________________________________________\n"
          ],
          "name": "stdout"
        },
        {
          "output_type": "display_data",
          "data": {
            "image/png": "[encoded data removed]",
            "text/plain": [
              "<Figure size 432x288 with 1 Axes>"
            ]
          },
          "metadata": {
            "tags": []
          }
        }
      ]
    },
    {
      "cell_type": "code",
      "metadata": {
        "colab": {
          "base_uri": "https://localhost:8080/",
          "height": 268
        },
        "id": "Jy79YFHxXRNN",
        "outputId": "17005f97-aa7e-4eb9-848c-1c8420d15018"
      },
      "source": [
        "image, label, prediction, _ = get_prediction(model_gcm, mnist_test)\n",
        "show_prediction(image, label, prediction)"
      ],
      "execution_count": 44,
      "outputs": [
        {
          "output_type": "display_data",
          "data": {
            "image/png": "[encoded data removed]",
            "text/plain": [
              "<Figure size 432x288 with 1 Axes>"
            ]
          },
          "metadata": {
            "tags": []
          }
        }
      ]
    },
    {
      "cell_type": "markdown",
      "metadata": {
        "id": "DCz5iiaJH5r2"
      },
      "source": [
        "# CAMs"
      ]
    },
    {
      "cell_type": "code",
      "metadata": {
        "id": "3IKNZaIoWJWg"
      },
      "source": [
        "def grad_cam_pp(image, model, con_layer_idx=-1, prediction_idx=-1):\n",
        "  cam_layers = get_cam_layers(model)\n",
        "  heatmap_model = Model([model.inputs], [cam_layers[0][con_layer_idx].get_output_at(0), model.output])\n",
        "\n",
        "  with tf.GradientTape() as tape1:\n",
        "      with tf.GradientTape() as tape2:\n",
        "          with tf.GradientTape() as tape3:\n",
        "              conv_output, predictions = heatmap_model(np.expand_dims(image, 0))\n",
        "              prediction_idx = np.argmax(predictions) if prediction_idx < 0 else prediction_idx\n",
        "              output = predictions[:, prediction_idx]\n",
        "              conv_first_grad = tape3.gradient(output, conv_output)\n",
        "          conv_second_grad = tape2.gradient(conv_first_grad, conv_output)\n",
        "      conv_third_grad = tape1.gradient(conv_second_grad, conv_output)\n",
        "\n",
        "  global_sum = np.sum(conv_output, axis=(0, 1, 2))\n",
        "\n",
        "  alpha_num = conv_second_grad[0]\n",
        "  alpha_denom = conv_second_grad[0]*2.0 + conv_third_grad[0]*global_sum\n",
        "  alpha_denom = np.where(alpha_denom != 0.0, alpha_denom, 1e-10)\n",
        "\n",
        "  alphas = alpha_num/alpha_denom\n",
        "  alpha_normalization_constant = np.sum(alphas, axis=(0,1))\n",
        "  alphas /= alpha_normalization_constant\n",
        "\n",
        "  weights = np.maximum(conv_first_grad[0], 0.0)\n",
        "\n",
        "  deep_linearization_weights = np.sum(weights*alphas, axis=(0,1))\n",
        "  cam = np.sum(deep_linearization_weights*conv_output[0], axis=2)\n",
        "\n",
        "  return cam, conv_output, prediction_idx, (conv_first_grad, conv_second_grad, conv_third_grad)"
      ],
      "execution_count": 23,
      "outputs": []
    },
    {
      "cell_type": "code",
      "metadata": {
        "id": "y_iMKQkCUdG-"
      },
      "source": [
        "def cam_1(model, conv_outputs, prediction_idx):\n",
        "  cam_layers = get_cam_layers(model)\n",
        "  class_weights = cam_layers[1][-1].get_weights()[0]\n",
        "  conv_outputs = conv_outputs[0, :, :, :]\n",
        "  cam = np.zeros(dtype=np.float32, shape=conv_outputs.shape[0:2])\n",
        "  for index, weight in enumerate(class_weights[:, prediction_idx]):\n",
        "    cam += weight * conv_outputs[:, :, index]\n",
        "\n",
        "  return cam"
      ],
      "execution_count": 24,
      "outputs": []
    },
    {
      "cell_type": "code",
      "metadata": {
        "colab": {
          "base_uri": "https://localhost:8080/",
          "height": 285
        },
        "id": "Olk8UDOBSIWy",
        "outputId": "2d27a26f-e0a1-4dbf-e719-1c9c70c8317f"
      },
      "source": [
        "test_ids = {\n",
        "        \"1\": 3455,\n",
        "        \"4\": 6195,\n",
        "        \"0\": 3710,\n",
        "        \"6\": 6187,\n",
        "        \"7\": 6606,\n",
        "        \"5\": 6148,\n",
        "        \"9\": 5622,\n",
        "    }\n",
        "\n",
        "test_idx = 6\n",
        "test_mnist_idx = test_ids[f\"{test_idx}\"]\n",
        "test_mnist_image = mnist_test[0][test_mnist_idx]\n",
        "# show_image(test_mnist_image)\n",
        "\n",
        "# GCM (Transfer learned network - init geo, end mnist)\n",
        "# gcm_mnist_image, _, prediction, test_img_idx = get_prediction(model_gcm, mnist_test, test_idx)\n",
        "# gcm_prediction_idx = np.argmax(prediction)\n",
        "gcm_mnist_cam, gcm_conv_output, gcm_mnist_prediction, _ = grad_cam_pp(test_mnist_image, model_gcm, -3)\n",
        "conv_output_hash = hashlib.sha256(gcm_conv_output.numpy()).hexdigest().upper()\n",
        "\n",
        "print(f\"conv output hash: {conv_output_hash}\")\n",
        "title = f\"MNIST prediction: {gcm_mnist_prediction} (truth: {test_idx})\"\n",
        "show_heatmap(test_mnist_image, gcm_mnist_cam, (28, 28, 1), True, title)\n",
        "\n",
        "assert test_idx == gcm_mnist_prediction, \"Missmatched ids. Wanted %d, received %d\" % (test_idx, gcm_mnist_prediction)"
      ],
      "execution_count": 169,
      "outputs": [
        {
          "output_type": "stream",
          "text": [
            "conv output hash: BD57E0213BD3C63D07C19181FA78DFF2A6475FCFF57C2DE3C52EC0363B9A26A0\n"
          ],
          "name": "stdout"
        },
        {
          "output_type": "display_data",
          "data": {
            "image/png": "[encoded data removed]",
            "text/plain": [
              "<Figure size 432x288 with 1 Axes>"
            ]
          },
          "metadata": {
            "tags": []
          }
        }
      ]
    },
    {
      "cell_type": "code",
      "metadata": {
        "colab": {
          "base_uri": "https://localhost:8080/",
          "height": 337
        },
        "id": "08Eub8uu5kre",
        "outputId": "6d72cb3f-7f51-4929-a6f2-413bdede0e4f"
      },
      "source": [
        "image = get_heatmap(gcm_mnist_cam, (28, 28)).reshape(28, 28, 1) * 255\n",
        "prediction = predict(model_geo, image)\n",
        "\n",
        "labels = dataset[2]\n",
        "sorted_indexes = np.flip(np.argsort(prediction[0]))\n",
        "percentages = prediction[0] / prediction[0][sorted_indexes[0]]\n",
        "\n",
        "print(percentages)\n",
        "print(sorted_indexes)\n",
        "\n",
        "print(f\"1st : {labels[sorted_indexes[0]]} ({percentages[sorted_indexes[0]] * 100:.2f}%)\")\n",
        "print(f\"2nd : {labels[sorted_indexes[1]]} ({percentages[sorted_indexes[1]] * 100:.2f}%)\")\n",
        "print(f\"3rd : {labels[sorted_indexes[2]]} ({percentages[sorted_indexes[2]] * 100:.2f}%)\")\n",
        "\n",
        "show_image(image)"
      ],
      "execution_count": 170,
      "outputs": [
        {
          "output_type": "stream",
          "text": [
            "[0.50323564 0.9870464  1.         0.9128068  0.6101653  0.52237815]\n",
            "[2 1 3 4 5 0]\n",
            "1st : diagonal (100.00%)\n",
            "2nd : horizontal (98.70%)\n",
            "3rd : ellipse (91.28%)\n"
          ],
          "name": "stdout"
        },
        {
          "output_type": "display_data",
          "data": {
            "image/png": "[encoded data removed]",
            "text/plain": [
              "<Figure size 432x288 with 1 Axes>"
            ]
          },
          "metadata": {
            "tags": []
          }
        }
      ]
    },
    {
      "cell_type": "code",
      "metadata": {
        "colab": {
          "base_uri": "https://localhost:8080/",
          "height": 285
        },
        "id": "TJmpP2R3apuX",
        "outputId": "140e35d1-17c7-41bf-baeb-02380dc5078d"
      },
      "source": [
        "# CAM for GEO NN (Knowledge Domain Network)\n",
        "geo_layers = get_cam_layers(keras.models.clone_model(model_geo))\n",
        "model_gcg = keras.Sequential()\n",
        "for layer in geo_layers[1]:\n",
        "  model_gcg.add(layer)\n",
        "\n",
        "# Prediction\n",
        "gcg_predictions = model_gcg(gcm_conv_output)\n",
        "gcg_prediction_idx = np.argmax(gcg_predictions)\n",
        "geo_prediction_label = dataset[2][gcg_prediction_idx]\n",
        "print(f\"GEO prediction: {geo_prediction_label} (idx: {gcg_prediction_idx})\")\n",
        "\n",
        "# CAM projection\n",
        "gcg_mnist_cam = cam_1(model_geo, gcm_conv_output, gcg_prediction_idx)\n",
        "gcg_mnist_cam_max = np.max(gcg_mnist_cam)\n",
        "\n",
        "# Debug\n",
        "title = \"GEO-CAM=%s/%.2f\" % (geo_prediction_label, gcg_mnist_cam_max)\n",
        "show_heatmap(test_mnist_image, gcg_mnist_cam, (28, 28, 1), True, title)"
      ],
      "execution_count": 64,
      "outputs": [
        {
          "output_type": "stream",
          "text": [
            "GEO prediction: lower_than (idx: 5)\n"
          ],
          "name": "stdout"
        },
        {
          "output_type": "display_data",
          "data": {
            "image/png": "[encoded data removed]",
            "text/plain": [
              "<Figure size 432x288 with 1 Axes>"
            ]
          },
          "metadata": {
            "tags": []
          }
        }
      ]
    }
  ]
}